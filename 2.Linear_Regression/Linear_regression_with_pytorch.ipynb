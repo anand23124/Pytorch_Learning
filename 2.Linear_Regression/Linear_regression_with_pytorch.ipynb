{
  "nbformat": 4,
  "nbformat_minor": 0,
  "metadata": {
    "colab": {
      "provenance": []
    },
    "kernelspec": {
      "name": "python3",
      "display_name": "Python 3"
    },
    "language_info": {
      "name": "python"
    }
  },
  "cells": [
    {
      "cell_type": "code",
      "execution_count": null,
      "metadata": {
        "id": "FcZlgAyxGxo0"
      },
      "outputs": [],
      "source": [
        "import torch\n",
        "torch.__version__"
      ]
    },
    {
      "cell_type": "markdown",
      "source": [
        "# Linear Regression using Pytorch"
      ],
      "metadata": {
        "id": "gfOf8N6xIhOH"
      }
    },
    {
      "cell_type": "markdown",
      "source": [
        "## Flow of program\n",
        "0. Import Important libraries\n",
        "1. Get dataset ready (turn into tensor and batches)\n",
        "2. Build Linear Regression\n",
        "3. Pick a loss Function and Optimizer\n",
        "4. Build a training Loop\n",
        "5. Evaluate Model\n",
        "6. Test model with a new data point\n",
        "7. Save Model"
      ],
      "metadata": {
        "id": "hOaVdZiqI3Xp"
      }
    },
    {
      "cell_type": "markdown",
      "source": [
        "###**0. Importing Important Libraries**"
      ],
      "metadata": {
        "id": "V1AOZz1rJscs"
      }
    },
    {
      "cell_type": "code",
      "source": [
        "import torch\n",
        "import torch.nn as nn\n",
        "import numpy as np\n",
        "import matplotlib.pyplot as plt\n",
        "from torch.utils.data import DataLoader\n",
        "from torchvision import datasets,transforms"
      ],
      "metadata": {
        "id": "eBZuKviVI2ju"
      },
      "execution_count": null,
      "outputs": []
    },
    {
      "cell_type": "markdown",
      "source": [
        "###**1. Get dataset ready (turn into tensor and batches)**"
      ],
      "metadata": {
        "id": "tSSwfVKAKuJ8"
      }
    },
    {
      "cell_type": "code",
      "source": [
        "x_train = np.array([[3.3], [4.4], [5.5], [6.71], [6.93], [4.168],\n",
        "                    [9.779], [6.182], [7.59], [2.167], [7.042],\n",
        "                    [10.791], [5.313], [7.997], [3.1]], dtype=np.float32)\n",
        "\n",
        "y_train = np.array([[1.7], [2.76], [2.09], [3.19], [1.694], [1.573],\n",
        "                    [3.366], [2.596], [2.53], [1.221], [2.827],\n",
        "                    [3.465], [1.65], [2.904], [1.3]], dtype=np.float32)"
      ],
      "metadata": {
        "id": "vEZ6ejgdKXmo"
      },
      "execution_count": null,
      "outputs": []
    },
    {
      "cell_type": "code",
      "source": [
        "x_train,y_train"
      ],
      "metadata": {
        "colab": {
          "base_uri": "https://localhost:8080/"
        },
        "id": "Xg4rEnsEakw-",
        "outputId": "b44ad775-06a4-435b-9e42-b63b369b5145"
      },
      "execution_count": null,
      "outputs": [
        {
          "output_type": "execute_result",
          "data": {
            "text/plain": [
              "(array([[ 3.3  ],\n",
              "        [ 4.4  ],\n",
              "        [ 5.5  ],\n",
              "        [ 6.71 ],\n",
              "        [ 6.93 ],\n",
              "        [ 4.168],\n",
              "        [ 9.779],\n",
              "        [ 6.182],\n",
              "        [ 7.59 ],\n",
              "        [ 2.167],\n",
              "        [ 7.042],\n",
              "        [10.791],\n",
              "        [ 5.313],\n",
              "        [ 7.997],\n",
              "        [ 3.1  ]], dtype=float32),\n",
              " array([[1.7  ],\n",
              "        [2.76 ],\n",
              "        [2.09 ],\n",
              "        [3.19 ],\n",
              "        [1.694],\n",
              "        [1.573],\n",
              "        [3.366],\n",
              "        [2.596],\n",
              "        [2.53 ],\n",
              "        [1.221],\n",
              "        [2.827],\n",
              "        [3.465],\n",
              "        [1.65 ],\n",
              "        [2.904],\n",
              "        [1.3  ]], dtype=float32))"
            ]
          },
          "metadata": {},
          "execution_count": 4
        }
      ]
    },
    {
      "cell_type": "code",
      "source": [
        "fig = plt.figure(figsize=(10,5))\n",
        "plt.plot(x_train,y_train,'bs',label='Original Data')\n",
        "plt.xlabel('Hours of Study')\n",
        "plt.ylabel('Scores')\n",
        "plt.legend()\n",
        "plt.title('Exam Score Prediction')\n",
        "plt.show()"
      ],
      "metadata": {
        "colab": {
          "base_uri": "https://localhost:8080/"
        },
        "id": "JPQ98RQearCw",
        "outputId": "cc5490fc-7286-4537-990f-7337e7e5a7ac"
      },
      "execution_count": null,
      "outputs": [
        {
          "output_type": "display_data",
          "data": {
            "text/plain": [
              "<Figure size 1000x500 with 1 Axes>"
            ],
            "image/png": "[encoded data removed]"
          },
          "metadata": {}
        }
      ]
    },
    {
      "cell_type": "markdown",
      "source": [
        "x_train we will train our model , we will test our model with new data point 8 hour"
      ],
      "metadata": {
        "id": "m3GXJcceb1Ki"
      }
    },
    {
      "cell_type": "code",
      "source": [
        "x_train = torch.from_numpy(x_train)\n",
        "y_train = torch.from_numpy(y_train)\n",
        "x_train,y_train"
      ],
      "metadata": {
        "colab": {
          "base_uri": "https://localhost:8080/"
        },
        "id": "nhiKi0q4cDns",
        "outputId": "c2299829-314b-43ae-8d66-5945e88cb8c5"
      },
      "execution_count": null,
      "outputs": [
        {
          "output_type": "execute_result",
          "data": {
            "text/plain": [
              "(tensor([[ 3.3000],\n",
              "         [ 4.4000],\n",
              "         [ 5.5000],\n",
              "         [ 6.7100],\n",
              "         [ 6.9300],\n",
              "         [ 4.1680],\n",
              "         [ 9.7790],\n",
              "         [ 6.1820],\n",
              "         [ 7.5900],\n",
              "         [ 2.1670],\n",
              "         [ 7.0420],\n",
              "         [10.7910],\n",
              "         [ 5.3130],\n",
              "         [ 7.9970],\n",
              "         [ 3.1000]]),\n",
              " tensor([[1.7000],\n",
              "         [2.7600],\n",
              "         [2.0900],\n",
              "         [3.1900],\n",
              "         [1.6940],\n",
              "         [1.5730],\n",
              "         [3.3660],\n",
              "         [2.5960],\n",
              "         [2.5300],\n",
              "         [1.2210],\n",
              "         [2.8270],\n",
              "         [3.4650],\n",
              "         [1.6500],\n",
              "         [2.9040],\n",
              "         [1.3000]]))"
            ]
          },
          "metadata": {},
          "execution_count": 6
        }
      ]
    },
    {
      "cell_type": "code",
      "source": [
        "x_train.shape,y_train.shape"
      ],
      "metadata": {
        "colab": {
          "base_uri": "https://localhost:8080/"
        },
        "id": "cyKlvL77cSHb",
        "outputId": "e09e54ea-24f2-407a-dabc-5fc173c4019c"
      },
      "execution_count": null,
      "outputs": [
        {
          "output_type": "execute_result",
          "data": {
            "text/plain": [
              "(torch.Size([15, 1]), torch.Size([15, 1]))"
            ]
          },
          "metadata": {},
          "execution_count": 7
        }
      ]
    },
    {
      "cell_type": "markdown",
      "source": [
        "###**2. Build Linear Regression Model**"
      ],
      "metadata": {
        "id": "bfAc_iWnME0k"
      }
    },
    {
      "cell_type": "code",
      "source": [
        "class LinearRegression(nn.Module):\n",
        "  def __init__(self):\n",
        "    super().__init__()\n",
        "    self.linear=nn.Linear(1,1)\n",
        "\n",
        "  def forward(self,x):\n",
        "    out=self.linear(x)\n",
        "    return out"
      ],
      "metadata": {
        "id": "B-0Zl4dSMC-O"
      },
      "execution_count": null,
      "outputs": []
    },
    {
      "cell_type": "code",
      "source": [
        "model = LinearRegression()"
      ],
      "metadata": {
        "id": "QYuOMmFwdkhZ"
      },
      "execution_count": null,
      "outputs": []
    },
    {
      "cell_type": "code",
      "source": [
        "model"
      ],
      "metadata": {
        "colab": {
          "base_uri": "https://localhost:8080/"
        },
        "id": "Cz22R_rLdoO7",
        "outputId": "c0a67985-748d-4e6c-a995-90da79061413"
      },
      "execution_count": null,
      "outputs": [
        {
          "output_type": "execute_result",
          "data": {
            "text/plain": [
              "LinearRegression(\n",
              "  (linear): Linear(in_features=1, out_features=1, bias=True)\n",
              ")"
            ]
          },
          "metadata": {},
          "execution_count": 10
        }
      ]
    },
    {
      "cell_type": "code",
      "source": [
        "list(model.parameters())"
      ],
      "metadata": {
        "colab": {
          "base_uri": "https://localhost:8080/"
        },
        "id": "H8ssmneXeUi0",
        "outputId": "908f8343-7d06-42eb-b0b0-502140332098"
      },
      "execution_count": null,
      "outputs": [
        {
          "output_type": "execute_result",
          "data": {
            "text/plain": [
              "[Parameter containing:\n",
              " tensor([[-0.6073]], requires_grad=True),\n",
              " Parameter containing:\n",
              " tensor([-0.5396], requires_grad=True)]"
            ]
          },
          "metadata": {},
          "execution_count": 12
        }
      ]
    },
    {
      "cell_type": "markdown",
      "source": [
        "###**3. Pick a loss Function and Optimizer**"
      ],
      "metadata": {
        "id": "LdEdy_Ged5-v"
      }
    },
    {
      "cell_type": "code",
      "source": [
        "criterion = nn.MSELoss()\n",
        "optimizer = torch.optim.Adam(model.parameters(),lr=0.01) #0.0001\n"
      ],
      "metadata": {
        "id": "PUspjdSReJng"
      },
      "execution_count": null,
      "outputs": []
    },
    {
      "cell_type": "markdown",
      "source": [
        "###**4.Build a Training loop**"
      ],
      "metadata": {
        "id": "KBkUtoHCelrL"
      }
    },
    {
      "cell_type": "code",
      "source": [
        "num_epochs=1000"
      ],
      "metadata": {
        "id": "c_WURVBResQS"
      },
      "execution_count": null,
      "outputs": []
    },
    {
      "cell_type": "code",
      "source": [
        "for epoch in range(num_epochs):\n",
        "  model.train()\n",
        "  out = model(x_train)\n",
        "  loss = criterion(out,y_train)\n",
        "  optimizer.zero_grad()\n",
        "  loss.backward()\n",
        "  optimizer.step()\n",
        "  if (epoch+1) % 200 == 0:\n",
        "    print(f\"Epoch: [{epoch+1}/{num_epochs}] , Loss:{loss.item():.6f}\")\n"
      ],
      "metadata": {
        "colab": {
          "base_uri": "https://localhost:8080/"
        },
        "id": "m03qucvJe0Hk",
        "outputId": "cada56f9-85bf-4196-b0fc-3763bdfd1b7b"
      },
      "execution_count": null,
      "outputs": [
        {
          "output_type": "stream",
          "name": "stdout",
          "text": [
            "Epoch: [200/1000] , Loss:0.209848\n",
            "Epoch: [400/1000] , Loss:0.176110\n",
            "Epoch: [600/1000] , Loss:0.169566\n",
            "Epoch: [800/1000] , Loss:0.168946\n",
            "Epoch: [1000/1000] , Loss:0.168916\n"
          ]
        }
      ]
    },
    {
      "cell_type": "markdown",
      "source": [
        "###**5. Evaluate a model**"
      ],
      "metadata": {
        "id": "tFUMxlikgZhD"
      }
    },
    {
      "cell_type": "code",
      "source": [
        "model.eval()\n",
        "with torch.no_grad():\n",
        "  predicted = model(x_train)\n",
        "predicted.data.numpy()"
      ],
      "metadata": {
        "colab": {
          "base_uri": "https://localhost:8080/"
        },
        "id": "VQqJ5md5fqzq",
        "outputId": "16d8985e-1511-49b6-e51a-12fe12b7dc67"
      },
      "execution_count": null,
      "outputs": [
        {
          "output_type": "execute_result",
          "data": {
            "text/plain": [
              "array([[1.6044157],\n",
              "       [1.8907801],\n",
              "       [2.1771443],\n",
              "       [2.492145 ],\n",
              "       [2.549418 ],\n",
              "       [1.8303833],\n",
              "       [3.2911015],\n",
              "       [2.35469  ],\n",
              "       [2.7212365],\n",
              "       [1.3094606],\n",
              "       [2.578575 ],\n",
              "       [3.5545566],\n",
              "       [2.1284623],\n",
              "       [2.8271914],\n",
              "       [1.5523496]], dtype=float32)"
            ]
          },
          "metadata": {},
          "execution_count": 35
        }
      ]
    },
    {
      "cell_type": "code",
      "source": [
        "y_train"
      ],
      "metadata": {
        "colab": {
          "base_uri": "https://localhost:8080/"
        },
        "id": "kDsKBVPqizNf",
        "outputId": "cb68b27a-0c45-42d5-ffdc-7f54bdd816d0"
      },
      "execution_count": null,
      "outputs": [
        {
          "output_type": "execute_result",
          "data": {
            "text/plain": [
              "tensor([[1.7000],\n",
              "        [2.7600],\n",
              "        [2.0900],\n",
              "        [3.1900],\n",
              "        [1.6940],\n",
              "        [1.5730],\n",
              "        [3.3660],\n",
              "        [2.5960],\n",
              "        [2.5300],\n",
              "        [1.2210],\n",
              "        [2.8270],\n",
              "        [3.4650],\n",
              "        [1.6500],\n",
              "        [2.9040],\n",
              "        [1.3000]])"
            ]
          },
          "metadata": {},
          "execution_count": 36
        }
      ]
    },
    {
      "cell_type": "code",
      "source": [
        "fig = plt.figure(figsize=(10,5))\n",
        "plt.plot(x_train.numpy(),y_train.numpy(),'ro',label='Original Data')\n",
        "plt.plot(x_train.numpy(),predicted,label='Fitted_line')\n",
        "plt.xlabel('Hours Studied')\n",
        "plt.ylabel('Exam Score')\n",
        "plt.legend()\n",
        "plt.title('Exam Score Prediction')\n",
        "plt.show()"
      ],
      "metadata": {
        "colab": {
          "base_uri": "https://localhost:8080/"
        },
        "id": "-AC1zmH8i10C",
        "outputId": "9d89b257-0ae2-4514-f993-f25883367454"
      },
      "execution_count": null,
      "outputs": [
        {
          "output_type": "display_data",
          "data": {
            "text/plain": [
              "<Figure size 1000x500 with 1 Axes>"
            ],
            "image/png": "[encoded data removed]"
          },
          "metadata": {}
        }
      ]
    },
    {
      "cell_type": "code",
      "source": [
        "model.state_dict()"
      ],
      "metadata": {
        "colab": {
          "base_uri": "https://localhost:8080/"
        },
        "id": "r_LFXUf9kBJv",
        "outputId": "2a5d8f23-94fb-41dc-fa9d-8bdacb396dae"
      },
      "execution_count": null,
      "outputs": [
        {
          "output_type": "execute_result",
          "data": {
            "text/plain": [
              "OrderedDict([('linear.weight', tensor([[0.2603]])),\n",
              "             ('linear.bias', tensor([0.7453]))])"
            ]
          },
          "metadata": {},
          "execution_count": 38
        }
      ]
    },
    {
      "cell_type": "markdown",
      "source": [
        "###**6. Test model with new data point**"
      ],
      "metadata": {
        "id": "yI9psc7XkdRN"
      }
    },
    {
      "cell_type": "code",
      "source": [
        "new_hours_studied = 8.0\n",
        "new_hours_tensor = torch.tensor([[new_hours_studied]],dtype=torch.float32)"
      ],
      "metadata": {
        "id": "K1RsL-fYkGo-"
      },
      "execution_count": null,
      "outputs": []
    },
    {
      "cell_type": "code",
      "source": [
        "model.eval()\n",
        "with torch.no_grad():\n",
        "  new_exam_score = model(new_hours_tensor)\n",
        "\n",
        "print(f\"New Exam Score  for a student studeing {new_hours_studied} : {new_exam_score.item()}\")"
      ],
      "metadata": {
        "colab": {
          "base_uri": "https://localhost:8080/"
        },
        "id": "irYxNaBTk5xu",
        "outputId": "cbe4cb27-d98e-4208-c005-f996ade79c80"
      },
      "execution_count": null,
      "outputs": [
        {
          "output_type": "stream",
          "name": "stdout",
          "text": [
            "New Exam Score  for a student studeing 8.0 : 2.827972173690796\n"
          ]
        }
      ]
    },
    {
      "cell_type": "code",
      "source": [
        "fig = plt.figure(figsize=(10,5))\n",
        "plt.plot(x_train.numpy(),y_train.numpy(),'ro',label='Original Data')\n",
        "plt.plot(x_train.numpy(),predicted,label='Fitted Line')\n",
        "plt.scatter([new_hours_studied],[new_exam_score.item()],color='blue',label='New Data')\n",
        "plt.xlabel(\"Hours Studied\")\n",
        "plt.ylabel(\"Exam Score\")\n",
        "plt.title(\"Exam Score Prediction\")\n",
        "plt.legend()\n",
        "plt.show()"
      ],
      "metadata": {
        "colab": {
          "base_uri": "https://localhost:8080/"
        },
        "id": "bq5tBty1lasI",
        "outputId": "3a23a447-907f-4977-9adf-9a8938a33d9f"
      },
      "execution_count": null,
      "outputs": [
        {
          "output_type": "display_data",
          "data": {
            "text/plain": [
              "<Figure size 1000x500 with 1 Axes>"
            ],
            "image/png": "[encoded data removed]"
          },
          "metadata": {}
        }
      ]
    },
    {
      "cell_type": "markdown",
      "source": [
        "###**7. Save Model**"
      ],
      "metadata": {
        "id": "DS0BEcKImfyJ"
      }
    },
    {
      "cell_type": "code",
      "source": [
        "model.state_dict()"
      ],
      "metadata": {
        "colab": {
          "base_uri": "https://localhost:8080/"
        },
        "id": "8eTRhx34mXy8",
        "outputId": "bdd6d1cd-efb6-4760-ca7c-684697fc9fd0"
      },
      "execution_count": null,
      "outputs": [
        {
          "output_type": "execute_result",
          "data": {
            "text/plain": [
              "OrderedDict([('linear.weight', tensor([[0.2603]])),\n",
              "             ('linear.bias', tensor([0.7453]))])"
            ]
          },
          "metadata": {},
          "execution_count": 43
        }
      ]
    },
    {
      "cell_type": "code",
      "source": [
        "torch.save(model.state_dict,'./LinearRegression.pth')"
      ],
      "metadata": {
        "id": "i_J95XRgmuHx"
      },
      "execution_count": null,
      "outputs": []
    },
    {
      "cell_type": "code",
      "source": [],
      "metadata": {
        "id": "yYD603uBm4hy"
      },
      "execution_count": null,
      "outputs": []
    }
  ]
}