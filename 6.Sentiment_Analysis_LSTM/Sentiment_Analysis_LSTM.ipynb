{
  "cells": [
    {
      "cell_type": "markdown",
      "metadata": {
        "id": "S6j9EwI5bNtn"
      },
      "source": [
        "#Sentiment Analysis for LSTM"
      ]
    },
    {
      "cell_type": "markdown",
      "metadata": {
        "id": "nKq3Q9JebScc"
      },
      "source": [
        "##Flow of program\n",
        "0. Import Important Libraries\n",
        "1. prepare data\n",
        "2. Build LSTM model\n",
        "3. Pick loss and optimizer\n",
        "4. Training and Evaluation Loop\n",
        "5. Start tarining loop /Visualize Model\n",
        "6. Test model with new Sentence(Sentiment Analysis)"
      ]
    },
    {
      "cell_type": "markdown",
      "metadata": {
        "id": "eHURhU-Ub2n_"
      },
      "source": [
        "###0. Import Important Libraries"
      ]
    },
    {
      "cell_type": "code",
      "execution_count": 1,
      "metadata": {
        "colab": {
          "base_uri": "https://localhost:8080/"
        },
        "id": "gtAUXk4yaOE3",
        "outputId": "fcac3ed8-7bfe-43a1-b9b9-0264266c8a17"
      },
      "outputs": [
        {
          "output_type": "stream",
          "name": "stdout",
          "text": [
            "Collecting datasets\n",
            "  Downloading datasets-3.0.2-py3-none-any.whl.metadata (20 kB)\n",
            "Requirement already satisfied: filelock in /usr/local/lib/python3.10/dist-packages (from datasets) (3.16.1)\n",
            "Requirement already satisfied: numpy>=1.17 in /usr/local/lib/python3.10/dist-packages (from datasets) (1.26.4)\n",
            "Requirement already satisfied: pyarrow>=15.0.0 in /usr/local/lib/python3.10/dist-packages (from datasets) (16.1.0)\n",
            "Collecting dill<0.3.9,>=0.3.0 (from datasets)\n",
            "  Downloading dill-0.3.8-py3-none-any.whl.metadata (10 kB)\n",
            "Requirement already satisfied: pandas in /usr/local/lib/python3.10/dist-packages (from datasets) (2.2.2)\n",
            "Requirement already satisfied: requests>=2.32.2 in /usr/local/lib/python3.10/dist-packages (from datasets) (2.32.3)\n",
            "Requirement already satisfied: tqdm>=4.66.3 in /usr/local/lib/python3.10/dist-packages (from datasets) (4.66.5)\n",
            "Collecting xxhash (from datasets)\n",
            "  Downloading xxhash-3.5.0-cp310-cp310-manylinux_2_17_x86_64.manylinux2014_x86_64.whl.metadata (12 kB)\n",
            "Collecting multiprocess<0.70.17 (from datasets)\n",
            "  Downloading multiprocess-0.70.16-py310-none-any.whl.metadata (7.2 kB)\n",
            "Requirement already satisfied: fsspec<=2024.9.0,>=2023.1.0 in /usr/local/lib/python3.10/dist-packages (from fsspec[http]<=2024.9.0,>=2023.1.0->datasets) (2024.6.1)\n",
            "Requirement already satisfied: aiohttp in /usr/local/lib/python3.10/dist-packages (from datasets) (3.10.10)\n",
            "Requirement already satisfied: huggingface-hub>=0.23.0 in /usr/local/lib/python3.10/dist-packages (from datasets) (0.24.7)\n",
            "Requirement already satisfied: packaging in /usr/local/lib/python3.10/dist-packages (from datasets) (24.1)\n",
            "Requirement already satisfied: pyyaml>=5.1 in /usr/local/lib/python3.10/dist-packages (from datasets) (6.0.2)\n",
            "Requirement already satisfied: aiohappyeyeballs>=2.3.0 in /usr/local/lib/python3.10/dist-packages (from aiohttp->datasets) (2.4.3)\n",
            "Requirement already satisfied: aiosignal>=1.1.2 in /usr/local/lib/python3.10/dist-packages (from aiohttp->datasets) (1.3.1)\n",
            "Requirement already satisfied: attrs>=17.3.0 in /usr/local/lib/python3.10/dist-packages (from aiohttp->datasets) (24.2.0)\n",
            "Requirement already satisfied: frozenlist>=1.1.1 in /usr/local/lib/python3.10/dist-packages (from aiohttp->datasets) (1.4.1)\n",
            "Requirement already satisfied: multidict<7.0,>=4.5 in /usr/local/lib/python3.10/dist-packages (from aiohttp->datasets) (6.1.0)\n",
            "Requirement already satisfied: yarl<2.0,>=1.12.0 in /usr/local/lib/python3.10/dist-packages (from aiohttp->datasets) (1.16.0)\n",
            "Requirement already satisfied: async-timeout<5.0,>=4.0 in /usr/local/lib/python3.10/dist-packages (from aiohttp->datasets) (4.0.3)\n",
            "Requirement already satisfied: typing-extensions>=3.7.4.3 in /usr/local/lib/python3.10/dist-packages (from huggingface-hub>=0.23.0->datasets) (4.12.2)\n",
            "Requirement already satisfied: charset-normalizer<4,>=2 in /usr/local/lib/python3.10/dist-packages (from requests>=2.32.2->datasets) (3.4.0)\n",
            "Requirement already satisfied: idna<4,>=2.5 in /usr/local/lib/python3.10/dist-packages (from requests>=2.32.2->datasets) (3.10)\n",
            "Requirement already satisfied: urllib3<3,>=1.21.1 in /usr/local/lib/python3.10/dist-packages (from requests>=2.32.2->datasets) (2.2.3)\n",
            "Requirement already satisfied: certifi>=2017.4.17 in /usr/local/lib/python3.10/dist-packages (from requests>=2.32.2->datasets) (2024.8.30)\n",
            "Requirement already satisfied: python-dateutil>=2.8.2 in /usr/local/lib/python3.10/dist-packages (from pandas->datasets) (2.8.2)\n",
            "Requirement already satisfied: pytz>=2020.1 in /usr/local/lib/python3.10/dist-packages (from pandas->datasets) (2024.2)\n",
            "Requirement already satisfied: tzdata>=2022.7 in /usr/local/lib/python3.10/dist-packages (from pandas->datasets) (2024.2)\n",
            "Requirement already satisfied: six>=1.5 in /usr/local/lib/python3.10/dist-packages (from python-dateutil>=2.8.2->pandas->datasets) (1.16.0)\n",
            "Requirement already satisfied: propcache>=0.2.0 in /usr/local/lib/python3.10/dist-packages (from yarl<2.0,>=1.12.0->aiohttp->datasets) (0.2.0)\n",
            "Downloading datasets-3.0.2-py3-none-any.whl (472 kB)\n",
            "\u001b[2K   \u001b[90m━━━━━━━━━━━━━━━━━━━━━━━━━━━━━━━━━━━━━━━━\u001b[0m \u001b[32m472.7/472.7 kB\u001b[0m \u001b[31m14.8 MB/s\u001b[0m eta \u001b[36m0:00:00\u001b[0m\n",
            "\u001b[?25hDownloading dill-0.3.8-py3-none-any.whl (116 kB)\n",
            "\u001b[2K   \u001b[90m━━━━━━━━━━━━━━━━━━━━━━━━━━━━━━━━━━━━━━━━\u001b[0m \u001b[32m116.3/116.3 kB\u001b[0m \u001b[31m11.5 MB/s\u001b[0m eta \u001b[36m0:00:00\u001b[0m\n",
            "\u001b[?25hDownloading multiprocess-0.70.16-py310-none-any.whl (134 kB)\n",
            "\u001b[2K   \u001b[90m━━━━━━━━━━━━━━━━━━━━━━━━━━━━━━━━━━━━━━━━\u001b[0m \u001b[32m134.8/134.8 kB\u001b[0m \u001b[31m15.2 MB/s\u001b[0m eta \u001b[36m0:00:00\u001b[0m\n",
            "\u001b[?25hDownloading xxhash-3.5.0-cp310-cp310-manylinux_2_17_x86_64.manylinux2014_x86_64.whl (194 kB)\n",
            "\u001b[2K   \u001b[90m━━━━━━━━━━━━━━━━━━━━━━━━━━━━━━━━━━━━━━━━\u001b[0m \u001b[32m194.1/194.1 kB\u001b[0m \u001b[31m16.7 MB/s\u001b[0m eta \u001b[36m0:00:00\u001b[0m\n",
            "\u001b[?25hInstalling collected packages: xxhash, dill, multiprocess, datasets\n",
            "Successfully installed datasets-3.0.2 dill-0.3.8 multiprocess-0.70.16 xxhash-3.5.0\n"
          ]
        }
      ],
      "source": [
        "!pip install datasets"
      ]
    },
    {
      "cell_type": "code",
      "execution_count": 2,
      "metadata": {
        "colab": {
          "base_uri": "https://localhost:8080/"
        },
        "id": "FfPtmoVpB0IC",
        "outputId": "e0e0cc22-b84d-40ce-cbd0-2879b2d99b96"
      },
      "outputs": [
        {
          "output_type": "stream",
          "name": "stdout",
          "text": [
            "Looking in indexes: https://download.pytorch.org/whl/cu118\n",
            "Collecting torchtext==0.15.0\n",
            "  Downloading https://download.pytorch.org/whl/torchtext-0.15.0%2Bcpu-cp310-cp310-linux_x86_64.whl (2.0 MB)\n",
            "\u001b[2K     \u001b[90m━━━━━━━━━━━━━━━━━━━━━━━━━━━━━━━━━━━━━━━━\u001b[0m \u001b[32m2.0/2.0 MB\u001b[0m \u001b[31m36.7 MB/s\u001b[0m eta \u001b[36m0:00:00\u001b[0m\n",
            "\u001b[?25hRequirement already satisfied: tqdm in /usr/local/lib/python3.10/dist-packages (from torchtext==0.15.0) (4.66.5)\n",
            "Requirement already satisfied: requests in /usr/local/lib/python3.10/dist-packages (from torchtext==0.15.0) (2.32.3)\n",
            "Collecting torch==2.0.0 (from torchtext==0.15.0)\n",
            "  Downloading https://download.pytorch.org/whl/cu118/torch-2.0.0%2Bcu118-cp310-cp310-linux_x86_64.whl (2267.3 MB)\n",
            "\u001b[2K     \u001b[90m━━━━━━━━━━━━━━━━━━━━━━━━━━━━━━━━━━━━━━━━\u001b[0m \u001b[32m2.3/2.3 GB\u001b[0m \u001b[31m506.3 kB/s\u001b[0m eta \u001b[36m0:00:00\u001b[0m\n",
            "\u001b[?25hRequirement already satisfied: numpy in /usr/local/lib/python3.10/dist-packages (from torchtext==0.15.0) (1.26.4)\n",
            "Collecting torchdata==0.6.0 (from torchtext==0.15.0)\n",
            "  Downloading https://download.pytorch.org/whl/torchdata-0.6.0-cp310-cp310-manylinux_2_17_x86_64.manylinux2014_x86_64.whl (4.6 MB)\n",
            "\u001b[2K     \u001b[90m━━━━━━━━━━━━━━━━━━━━━━━━━━━━━━━━━━━━━━━━\u001b[0m \u001b[32m4.6/4.6 MB\u001b[0m \u001b[31m64.7 MB/s\u001b[0m eta \u001b[36m0:00:00\u001b[0m\n",
            "\u001b[?25hRequirement already satisfied: filelock in /usr/local/lib/python3.10/dist-packages (from torch==2.0.0->torchtext==0.15.0) (3.16.1)\n",
            "Requirement already satisfied: typing-extensions in /usr/local/lib/python3.10/dist-packages (from torch==2.0.0->torchtext==0.15.0) (4.12.2)\n",
            "Requirement already satisfied: sympy in /usr/local/lib/python3.10/dist-packages (from torch==2.0.0->torchtext==0.15.0) (1.13.1)\n",
            "Requirement already satisfied: networkx in /usr/local/lib/python3.10/dist-packages (from torch==2.0.0->torchtext==0.15.0) (3.4.2)\n",
            "Requirement already satisfied: jinja2 in /usr/local/lib/python3.10/dist-packages (from torch==2.0.0->torchtext==0.15.0) (3.1.4)\n",
            "Collecting triton==2.0.0 (from torch==2.0.0->torchtext==0.15.0)\n",
            "  Downloading https://download.pytorch.org/whl/triton-2.0.0-1-cp310-cp310-manylinux2014_x86_64.manylinux_2_17_x86_64.whl (63.3 MB)\n",
            "\u001b[2K     \u001b[90m━━━━━━━━━━━━━━━━━━━━━━━━━━━━━━━━━━━━━━━━\u001b[0m \u001b[32m63.3/63.3 MB\u001b[0m \u001b[31m11.6 MB/s\u001b[0m eta \u001b[36m0:00:00\u001b[0m\n",
            "\u001b[?25hRequirement already satisfied: urllib3>=1.25 in /usr/local/lib/python3.10/dist-packages (from torchdata==0.6.0->torchtext==0.15.0) (2.2.3)\n",
            "Requirement already satisfied: cmake in /usr/local/lib/python3.10/dist-packages (from triton==2.0.0->torch==2.0.0->torchtext==0.15.0) (3.30.5)\n",
            "Collecting lit (from triton==2.0.0->torch==2.0.0->torchtext==0.15.0)\n",
            "  Downloading https://download.pytorch.org/whl/lit-15.0.7.tar.gz (132 kB)\n",
            "\u001b[2K     \u001b[90m━━━━━━━━━━━━━━━━━━━━━━━━━━━━━━━━━━━━━━━━\u001b[0m \u001b[32m132.3/132.3 kB\u001b[0m \u001b[31m12.9 MB/s\u001b[0m eta \u001b[36m0:00:00\u001b[0m\n",
            "\u001b[?25h  Preparing metadata (setup.py) ... \u001b[?25l\u001b[?25hdone\n",
            "Requirement already satisfied: charset-normalizer<4,>=2 in /usr/local/lib/python3.10/dist-packages (from requests->torchtext==0.15.0) (3.4.0)\n",
            "Requirement already satisfied: idna<4,>=2.5 in /usr/local/lib/python3.10/dist-packages (from requests->torchtext==0.15.0) (3.10)\n",
            "Requirement already satisfied: certifi>=2017.4.17 in /usr/local/lib/python3.10/dist-packages (from requests->torchtext==0.15.0) (2024.8.30)\n",
            "Requirement already satisfied: MarkupSafe>=2.0 in /usr/local/lib/python3.10/dist-packages (from jinja2->torch==2.0.0->torchtext==0.15.0) (3.0.2)\n",
            "Requirement already satisfied: mpmath<1.4,>=1.1.0 in /usr/local/lib/python3.10/dist-packages (from sympy->torch==2.0.0->torchtext==0.15.0) (1.3.0)\n",
            "Building wheels for collected packages: lit\n",
            "  Building wheel for lit (setup.py) ... \u001b[?25l\u001b[?25hdone\n",
            "  Created wheel for lit: filename=lit-15.0.7-py3-none-any.whl size=89991 sha256=1562a25894eb202c462d860d6180c12d2b770b3c3621ab8be53f1ebefd6bfbdd\n",
            "  Stored in directory: /root/.cache/pip/wheels/27/2c/b6/3ed2983b1b44fe0dea1bb35234b09f2c22fb8ebb308679c922\n",
            "Successfully built lit\n",
            "Installing collected packages: lit, triton, torch, torchdata, torchtext\n",
            "  Attempting uninstall: torch\n",
            "    Found existing installation: torch 2.5.0+cu121\n",
            "    Uninstalling torch-2.5.0+cu121:\n",
            "      Successfully uninstalled torch-2.5.0+cu121\n",
            "\u001b[31mERROR: pip's dependency resolver does not currently take into account all the packages that are installed. This behaviour is the source of the following dependency conflicts.\n",
            "torchaudio 2.5.0+cu121 requires torch==2.5.0, but you have torch 2.0.0+cu118 which is incompatible.\n",
            "torchvision 0.20.0+cu121 requires torch==2.5.0, but you have torch 2.0.0+cu118 which is incompatible.\u001b[0m\u001b[31m\n",
            "\u001b[0mSuccessfully installed lit-15.0.7 torch-2.0.0+cu118 torchdata-0.6.0 torchtext-0.15.0+cpu triton-2.0.0\n"
          ]
        }
      ],
      "source": [
        "!pip install torchtext==0.15.0 --index-url https://download.pytorch.org/whl/cu118"
      ]
    },
    {
      "cell_type": "code",
      "execution_count": 3,
      "metadata": {
        "colab": {
          "base_uri": "https://localhost:8080/"
        },
        "id": "JvcnLlzNB3ir",
        "outputId": "bbb4a169-b3cd-48f2-ab80-6a96f9444562"
      },
      "outputs": [
        {
          "output_type": "stream",
          "name": "stdout",
          "text": [
            "Looking in indexes: https://download.pytorch.org/whl/cu118\n",
            "Requirement already satisfied: torch in /usr/local/lib/python3.10/dist-packages (2.0.0+cu118)\n",
            "Requirement already satisfied: filelock in /usr/local/lib/python3.10/dist-packages (from torch) (3.16.1)\n",
            "Requirement already satisfied: typing-extensions in /usr/local/lib/python3.10/dist-packages (from torch) (4.12.2)\n",
            "Requirement already satisfied: sympy in /usr/local/lib/python3.10/dist-packages (from torch) (1.13.1)\n",
            "Requirement already satisfied: networkx in /usr/local/lib/python3.10/dist-packages (from torch) (3.4.2)\n",
            "Requirement already satisfied: jinja2 in /usr/local/lib/python3.10/dist-packages (from torch) (3.1.4)\n",
            "Requirement already satisfied: triton==2.0.0 in /usr/local/lib/python3.10/dist-packages (from torch) (2.0.0)\n",
            "Requirement already satisfied: cmake in /usr/local/lib/python3.10/dist-packages (from triton==2.0.0->torch) (3.30.5)\n",
            "Requirement already satisfied: lit in /usr/local/lib/python3.10/dist-packages (from triton==2.0.0->torch) (15.0.7)\n",
            "Requirement already satisfied: MarkupSafe>=2.0 in /usr/local/lib/python3.10/dist-packages (from jinja2->torch) (3.0.2)\n",
            "Requirement already satisfied: mpmath<1.4,>=1.1.0 in /usr/local/lib/python3.10/dist-packages (from sympy->torch) (1.3.0)\n"
          ]
        }
      ],
      "source": [
        "!pip install torch  --index-url https://download.pytorch.org/whl/cu118"
      ]
    },
    {
      "cell_type": "code",
      "execution_count": 4,
      "metadata": {
        "colab": {
          "base_uri": "https://localhost:8080/"
        },
        "id": "1Qf7owV1B5zt",
        "outputId": "4b254cb2-da9e-46c1-f684-9acebc5330a1"
      },
      "outputs": [
        {
          "output_type": "stream",
          "name": "stdout",
          "text": [
            "2.0.0+cu118\n",
            "0.15.0+cpu\n"
          ]
        }
      ],
      "source": [
        "import torch\n",
        "import torchtext # import the installed library\n",
        "\n",
        "print(torch.__version__)\n",
        "print(torchtext.__version__)"
      ]
    },
    {
      "cell_type": "code",
      "execution_count": 5,
      "metadata": {
        "id": "T0IBPBPaCEem"
      },
      "outputs": [],
      "source": [
        "import collections\n",
        "import datasets\n",
        "import numpy as np\n",
        "import torch.nn as nn\n",
        "import torch.optim as optim\n",
        "import tqdm"
      ]
    },
    {
      "cell_type": "markdown",
      "metadata": {
        "id": "LyFZiFsTCtku"
      },
      "source": [
        "###1. Prepare Data"
      ]
    },
    {
      "cell_type": "markdown",
      "metadata": {
        "id": "l1QHGDmeCyY9"
      },
      "source": [
        "####1.1 Loading our Dataset"
      ]
    },
    {
      "cell_type": "code",
      "execution_count": 6,
      "metadata": {
        "colab": {
          "base_uri": "https://localhost:8080/",
          "height": 241,
          "referenced_widgets": [
            "0968bac095bc462580147cb8121cab7a",
            "2b77b8de2458448ea3d205e0d17543fd",
            "1d3d27ef459247ca83f1c6e2f56d8098",
            "68a18547d973494db75583e7c3cd9884",
            "f6de2eecd6404e53b2709dbf0a4c4453",
            "6ae02841a5eb42a28c090d3736c33084",
            "6a817cc5dab0449b8556e685fb19f420",
            "a050426eb77b41a6a496de3e5536cf9b",
            "ef41780ca18845ad8f81fdf165d00923",
            "afaf6a0865d1412e97eb877541b33557",
            "6cd036f9f1894599a6170b5d6813a7f5",
            "a0df91785c984438a5674db033342493",
            "b5093aad2b654472a3d2ad20c71a79db",
            "c5691b5d6eea45b3bede0613e3e8a7d5",
            "db7bf50bc3854b118ef8eca2d6a005da",
            "05992e8d3c644078901f2bb8969fdfdd",
            "f688a8ef725a4e7bb8ed25806eaab415",
            "113a759c9aee481399393c09c1d816c8",
            "bd5e879df1184c58b3649bc66ab930ba",
            "3f366603bf6c44d9af3096ada2c1f37a",
            "21b3cca67b4348daa0d73fe43cee939b",
            "2a93531bdcef456f96a492e0d3600e4a",
            "442bbfe3525d40fe890498918d1125df",
            "7d24914040cf452fab59bdce6f81be85",
            "c132c8f188a54ba6a9e931640451c70d",
            "b801104aca494772851f35d03282ea56",
            "58d2e388a2b440f3bf3add4e9b97c625",
            "011d1327b50444d5b275a9fbc94e45f9",
            "c49c692e261a4de18a9bf2af932548c0",
            "3581dfc6e9604ad9ab051292af236d79",
            "c842a832fd1a42829132e3b8f6a50853",
            "8e3a98dbfde9412f899ad7510222ee73",
            "60a7732de51345ebbfb7ccb13b87a51e",
            "170d1cf8e8e7480fa769e86ca468ea7e",
            "0f7ac11e95d6448cb838e212b257b976",
            "0038282af48a4f17856073d02c33beb7",
            "e5644b85f6c948eba21045bb0e456c6a",
            "e4dba740ff5547fb8f7e623771adb28c",
            "bd5c31d343c449a18f1893c222b93891",
            "32f1cd9b8ab9466bb91922a79b8cb986",
            "5693dee8c62c4da9bdbaf7dcff5589d4",
            "28337c09fdfe4f37930bc0688583c84e",
            "aa74f83360424f23887c48f6c2a86173",
            "22a53956a8a346f2b58531fa6c31d3cb",
            "2a8c59ebd54d461cbb0d5062af3a6250",
            "bbf6a0e9e8c54b72959ade369a0c856f",
            "3e91a6e8f016443cb8f54f5c3bdb86f5",
            "1584eebda4f548e79c4ca7d995958a1a",
            "e99260576f8d4a72b507aec19e840685",
            "6b027f62d2414f689694ecb153df6807",
            "bfeb7e1d4f444079a85b18c548a020da",
            "5c6ed68720994dc99eb2a5562c7efe69",
            "0673559b86e04888b2228b8aaab147ba",
            "62d25e1b52324c4194e41b91fa8aa9c5",
            "04f4108bc51348b7b4ec71914e6a15a0",
            "a0738d336c0942a9a01cc5f28c96eccf",
            "6dfde5a84863491396771d28657ebc33",
            "fadedd0ce49f473d8433508643396595",
            "ccdafde5b4c1484dad4537971d0255ef",
            "d0eb798b3d0f4a07bb222b91b6415e1c",
            "5abe1d0839a54166987f342dce3654b1",
            "fcb32a49d0db4b6f864ba28ad39c5275",
            "180e0a4bc3584585ab531733749fe934",
            "53483594733f4e588e45e0395354540e",
            "4666209a5b1f42e7a0567f924ca76dbf",
            "8ca185106c4c4d3aa9e3b62577d02415",
            "dbbcecf5c5394af493ec33315c91912b",
            "3fc9721b2b8740f29b116da95f81fa74",
            "4fa4579c7a4746b0b012c501128f222a",
            "b07920a2fc924838aab157e3ef4e4fb5",
            "f1c74162eabf4bddaecb962a6ce60062",
            "95bd883b02ed421f82440bfef618fa36",
            "138f6666258b4065be530d6cf644af8b",
            "62df88faa8dd4f84ac859c7ee827fe2b",
            "c0aa5b61e28149a89d16c33acb610886",
            "6e9faccf95754c2f8624d3d75f12b861",
            "2fa47ab51ece408bb4ce72673ba39870"
          ]
        },
        "id": "qZK5iWeDCvyz",
        "outputId": "38cf5cdb-7e2d-46bb-e898-88c89a0e8fd8"
      },
      "outputs": [
        {
          "output_type": "display_data",
          "data": {
            "text/plain": [
              "README.md:   0%|          | 0.00/7.81k [00:00<?, ?B/s]"
            ],
            "application/vnd.jupyter.widget-view+json": {
              "version_major": 2,
              "version_minor": 0,
              "model_id": "0968bac095bc462580147cb8121cab7a"
            }
          },
          "metadata": {}
        },
        {
          "output_type": "display_data",
          "data": {
            "text/plain": [
              "train-00000-of-00001.parquet:   0%|          | 0.00/21.0M [00:00<?, ?B/s]"
            ],
            "application/vnd.jupyter.widget-view+json": {
              "version_major": 2,
              "version_minor": 0,
              "model_id": "a0df91785c984438a5674db033342493"
            }
          },
          "metadata": {}
        },
        {
          "output_type": "display_data",
          "data": {
            "text/plain": [
              "test-00000-of-00001.parquet:   0%|          | 0.00/20.5M [00:00<?, ?B/s]"
            ],
            "application/vnd.jupyter.widget-view+json": {
              "version_major": 2,
              "version_minor": 0,
              "model_id": "442bbfe3525d40fe890498918d1125df"
            }
          },
          "metadata": {}
        },
        {
          "output_type": "display_data",
          "data": {
            "text/plain": [
              "unsupervised-00000-of-00001.parquet:   0%|          | 0.00/42.0M [00:00<?, ?B/s]"
            ],
            "application/vnd.jupyter.widget-view+json": {
              "version_major": 2,
              "version_minor": 0,
              "model_id": "170d1cf8e8e7480fa769e86ca468ea7e"
            }
          },
          "metadata": {}
        },
        {
          "output_type": "display_data",
          "data": {
            "text/plain": [
              "Generating train split:   0%|          | 0/25000 [00:00<?, ? examples/s]"
            ],
            "application/vnd.jupyter.widget-view+json": {
              "version_major": 2,
              "version_minor": 0,
              "model_id": "2a8c59ebd54d461cbb0d5062af3a6250"
            }
          },
          "metadata": {}
        },
        {
          "output_type": "display_data",
          "data": {
            "text/plain": [
              "Generating test split:   0%|          | 0/25000 [00:00<?, ? examples/s]"
            ],
            "application/vnd.jupyter.widget-view+json": {
              "version_major": 2,
              "version_minor": 0,
              "model_id": "a0738d336c0942a9a01cc5f28c96eccf"
            }
          },
          "metadata": {}
        },
        {
          "output_type": "display_data",
          "data": {
            "text/plain": [
              "Generating unsupervised split:   0%|          | 0/50000 [00:00<?, ? examples/s]"
            ],
            "application/vnd.jupyter.widget-view+json": {
              "version_major": 2,
              "version_minor": 0,
              "model_id": "dbbcecf5c5394af493ec33315c91912b"
            }
          },
          "metadata": {}
        }
      ],
      "source": [
        "train_data,test_data=datasets.load_dataset(\"imdb\",split=['train','test'])"
      ]
    },
    {
      "cell_type": "code",
      "execution_count": 7,
      "metadata": {
        "colab": {
          "base_uri": "https://localhost:8080/"
        },
        "id": "xmAUcs8iDLIK",
        "outputId": "3f726292-da24-42a7-8629-22cb6cce678e"
      },
      "outputs": [
        {
          "output_type": "execute_result",
          "data": {
            "text/plain": [
              "(Dataset({\n",
              "     features: ['text', 'label'],\n",
              "     num_rows: 25000\n",
              " }),\n",
              " Dataset({\n",
              "     features: ['text', 'label'],\n",
              "     num_rows: 25000\n",
              " }))"
            ]
          },
          "metadata": {},
          "execution_count": 7
        }
      ],
      "source": [
        "train_data,test_data"
      ]
    },
    {
      "cell_type": "markdown",
      "metadata": {
        "id": "vafoaEehDViG"
      },
      "source": [
        "####1.2 Tokenize data"
      ]
    },
    {
      "cell_type": "code",
      "execution_count": 8,
      "metadata": {
        "id": "HYiKDqPrDXuh"
      },
      "outputs": [],
      "source": [
        "tokenizer=torchtext.data.utils.get_tokenizer(\"basic_english\")"
      ]
    },
    {
      "cell_type": "code",
      "execution_count": 9,
      "metadata": {
        "id": "g5Jbi5gkDmNY"
      },
      "outputs": [],
      "source": [
        "def tokenizing_input(example,tokenizer,max_length):\n",
        "  tokens=tokenizer(example['text'])[:max_length]\n",
        "  length=len(tokens)\n",
        "  return{\"tokens\":tokens,\"length\":length}"
      ]
    },
    {
      "cell_type": "code",
      "execution_count": 10,
      "metadata": {
        "id": "62VWSV8YEQFc"
      },
      "outputs": [],
      "source": [
        "max_length=256\n",
        "fn_kwargs={\"tokenizer\":tokenizer,\"max_length\":max_length}"
      ]
    },
    {
      "cell_type": "code",
      "execution_count": 11,
      "metadata": {
        "colab": {
          "base_uri": "https://localhost:8080/",
          "height": 81,
          "referenced_widgets": [
            "eba61e0512004224aaebd67fa61e1227",
            "b7f077b6127e41eea79653df4aca28f7",
            "dc833b7fdd9947a881547c1d01df7ec9",
            "392b872741af474fb6994660c3128d59",
            "026734909382464782239a5be143862e",
            "ff8ca10f4f7a4464b0a978b88e6eab6d",
            "aeafaba774744bb4a202c7efbf7c6a66",
            "d677b3930d0c4d8fbfa1cdb05deaf15a",
            "8281029be5e343c992d5eac037a5a9da",
            "d6efb20fca654ae5a3e12955b9291ade",
            "d5daff1e2db4446b8a7d7751f82faefb",
            "c237433a4a8b414eae9b1697996bc77e",
            "a1520f19d249425e847de021b60b6c97",
            "d719a1a7c82341a390390ba5c72b6e2a",
            "9d2aa78adeb64bbc840322fdcce95a78",
            "feb015151eab408b92b924a8b35e304f",
            "5106d2c8f4864c33b868c4cca7531437",
            "d04fe3969043417888ad34e26e02e513",
            "0d05d66703104b8db0b6a7d698dd958e",
            "3037c5434a7b4b57a9314020a9195ab2",
            "20853f581af941ff83a513e2207cbdf2",
            "ba58625d3735481fb628367b06ceb06f"
          ]
        },
        "id": "RJCQtPruD7qi",
        "outputId": "3025da69-4119-4b4e-da43-26eddb8750c3"
      },
      "outputs": [
        {
          "output_type": "display_data",
          "data": {
            "text/plain": [
              "Map:   0%|          | 0/25000 [00:00<?, ? examples/s]"
            ],
            "application/vnd.jupyter.widget-view+json": {
              "version_major": 2,
              "version_minor": 0,
              "model_id": "eba61e0512004224aaebd67fa61e1227"
            }
          },
          "metadata": {}
        },
        {
          "output_type": "display_data",
          "data": {
            "text/plain": [
              "Map:   0%|          | 0/25000 [00:00<?, ? examples/s]"
            ],
            "application/vnd.jupyter.widget-view+json": {
              "version_major": 2,
              "version_minor": 0,
              "model_id": "c237433a4a8b414eae9b1697996bc77e"
            }
          },
          "metadata": {}
        }
      ],
      "source": [
        "train_data=train_data.map(tokenizing_input,fn_kwargs=fn_kwargs)\n",
        "test_data=test_data.map(tokenizing_input,fn_kwargs=fn_kwargs)"
      ]
    },
    {
      "cell_type": "markdown",
      "metadata": {
        "id": "u-BAqRrZFThB"
      },
      "source": [
        "####1.3 Creating Validation Data"
      ]
    },
    {
      "cell_type": "code",
      "execution_count": 12,
      "metadata": {
        "id": "C_gxe9v4FXFq"
      },
      "outputs": [],
      "source": [
        "test_size=0.25\n",
        "train_valid_data=train_data.train_test_split(test_size=test_size)\n",
        "train_data=train_valid_data['train']\n",
        "valid_data=train_valid_data['test']"
      ]
    },
    {
      "cell_type": "code",
      "execution_count": 13,
      "metadata": {
        "colab": {
          "base_uri": "https://localhost:8080/"
        },
        "id": "u7zs8oDyF15x",
        "outputId": "c3ab9acd-d935-4fec-e524-e038416b72d6"
      },
      "outputs": [
        {
          "output_type": "execute_result",
          "data": {
            "text/plain": [
              "(Dataset({\n",
              "     features: ['text', 'label', 'tokens', 'length'],\n",
              "     num_rows: 18750\n",
              " }),\n",
              " Dataset({\n",
              "     features: ['text', 'label', 'tokens', 'length'],\n",
              "     num_rows: 6250\n",
              " }),\n",
              " Dataset({\n",
              "     features: ['text', 'label', 'tokens', 'length'],\n",
              "     num_rows: 25000\n",
              " }))"
            ]
          },
          "metadata": {},
          "execution_count": 13
        }
      ],
      "source": [
        "train_data,valid_data,test_data"
      ]
    },
    {
      "cell_type": "markdown",
      "metadata": {
        "id": "kGm4qz2uF7rx"
      },
      "source": [
        "####1.4 Creating Vocabulary"
      ]
    },
    {
      "cell_type": "code",
      "execution_count": 14,
      "metadata": {
        "id": "vvF3gP7bF699"
      },
      "outputs": [],
      "source": [
        "min_freq=5\n",
        "special_tokens=['<unk>','<pad>']\n",
        "vocab=torchtext.vocab.build_vocab_from_iterator(\n",
        "    train_data['tokens'],\n",
        "    min_freq=min_freq,\n",
        "    specials=special_tokens\n",
        ")"
      ]
    },
    {
      "cell_type": "code",
      "execution_count": 15,
      "metadata": {
        "colab": {
          "base_uri": "https://localhost:8080/"
        },
        "id": "FX-bU4hRGdNZ",
        "outputId": "4c6cb135-1ab7-40f9-8a78-3fce5a9fbf00"
      },
      "outputs": [
        {
          "output_type": "execute_result",
          "data": {
            "text/plain": [
              "21576"
            ]
          },
          "metadata": {},
          "execution_count": 15
        }
      ],
      "source": [
        "len(vocab)"
      ]
    },
    {
      "cell_type": "code",
      "execution_count": 16,
      "metadata": {
        "id": "ajj_7rITG7ha"
      },
      "outputs": [],
      "source": [
        "unk_index=vocab['<unk>']\n",
        "pad_index=vocab['<pad>']"
      ]
    },
    {
      "cell_type": "code",
      "execution_count": 17,
      "metadata": {
        "colab": {
          "base_uri": "https://localhost:8080/"
        },
        "id": "MNqaZ6wBPJ6Z",
        "outputId": "ad102b3a-4911-441a-93d1-31ac4d0f616c"
      },
      "outputs": [
        {
          "output_type": "execute_result",
          "data": {
            "text/plain": [
              "(0, 1)"
            ]
          },
          "metadata": {},
          "execution_count": 17
        }
      ],
      "source": [
        "unk_index,pad_index"
      ]
    },
    {
      "cell_type": "code",
      "execution_count": 18,
      "metadata": {
        "id": "rohQg9dZHDnM"
      },
      "outputs": [],
      "source": [
        "vocab.set_default_index(unk_index)"
      ]
    },
    {
      "cell_type": "markdown",
      "metadata": {
        "id": "YRP7voDfGytC"
      },
      "source": [
        "####1.5 Numericalizing Example"
      ]
    },
    {
      "cell_type": "code",
      "execution_count": 19,
      "metadata": {
        "id": "7jwsY3CpGmPI"
      },
      "outputs": [],
      "source": [
        "def numericalizing_input(example,vocab):\n",
        "  ids=vocab.lookup_indices(example['tokens'])\n",
        "  return{\"ids\":ids}"
      ]
    },
    {
      "cell_type": "code",
      "execution_count": 20,
      "metadata": {
        "id": "Lt-SC-iVHk2W"
      },
      "outputs": [],
      "source": [
        "fn_kwargs={\"vocab\":vocab}"
      ]
    },
    {
      "cell_type": "code",
      "execution_count": 21,
      "metadata": {
        "colab": {
          "base_uri": "https://localhost:8080/",
          "height": 113,
          "referenced_widgets": [
            "ab806a326c1f4134a5b1341f816b9a27",
            "df098391e21a4ac29d5e6a18e606ac84",
            "c2079703b59e472bbadf38ae8a3fa944",
            "a6794c0256aa4c6b9cb160d76367b50d",
            "2618577fb3484fc089f0aed40b97d2f2",
            "6c6a043aa71e4667ba7552b590ee6500",
            "dacbde376f6146bebe16e04ef65438ac",
            "ac0764c264ce44eba4b700d977569b44",
            "bdc7cfda88fc4eeea0e8fafb2d5b5f41",
            "581733b6c4544b9180af555f63648324",
            "62ca7c9ef7684901859df1d2db0d6be1",
            "14cef42ba084429e977203bc9b1cfbc7",
            "4937528060c64126af7d3c7eb74729f1",
            "3be6cece5f264146bb36c37d217806f6",
            "d47c14e8782c4b428f000ae87610c7ff",
            "9509883a4b0449ddb6bb9df5e96fe967",
            "77c661586a42463a9ae034cf583ba86c",
            "aa6f461f300941ecad2a23bbdfab730b",
            "e6c13e198ae84807ba2ae6d40cfcc85c",
            "29a225b19d214f63bf0aa024fec84518",
            "ceb51a63e0524081aeb57c65536c67ed",
            "a271a87bcbf1409c9b73d7e46f948af0",
            "8e55a26c729d48f7a4aa208b6320b347",
            "0da8954599d646999f3cc442a617e491",
            "cf147165b2284c7f95855737351e3be6",
            "0f7e036265d14bb09d074e1b59150417",
            "68d797d57a0443d68a0b82effb86b24a",
            "620b95e692744013b077f67b71e3c27c",
            "40ada66c1d704ba5a95c63bb1f2f858c",
            "468546a909f74e868cc09543a952c317",
            "d6ed3451658940f3b8a08478e8bfb9cd",
            "698db7b2f90c45a1a62ba5569942219e",
            "f301993482ab47c1ac387385eb32dc16"
          ]
        },
        "id": "PGiSSUS5Hrm9",
        "outputId": "3e884231-63bc-4c5e-d372-36a64bd37659"
      },
      "outputs": [
        {
          "output_type": "display_data",
          "data": {
            "text/plain": [
              "Map:   0%|          | 0/18750 [00:00<?, ? examples/s]"
            ],
            "application/vnd.jupyter.widget-view+json": {
              "version_major": 2,
              "version_minor": 0,
              "model_id": "ab806a326c1f4134a5b1341f816b9a27"
            }
          },
          "metadata": {}
        },
        {
          "output_type": "display_data",
          "data": {
            "text/plain": [
              "Map:   0%|          | 0/6250 [00:00<?, ? examples/s]"
            ],
            "application/vnd.jupyter.widget-view+json": {
              "version_major": 2,
              "version_minor": 0,
              "model_id": "14cef42ba084429e977203bc9b1cfbc7"
            }
          },
          "metadata": {}
        },
        {
          "output_type": "display_data",
          "data": {
            "text/plain": [
              "Map:   0%|          | 0/25000 [00:00<?, ? examples/s]"
            ],
            "application/vnd.jupyter.widget-view+json": {
              "version_major": 2,
              "version_minor": 0,
              "model_id": "8e55a26c729d48f7a4aa208b6320b347"
            }
          },
          "metadata": {}
        }
      ],
      "source": [
        "train_data=train_data.map(numericalizing_input,fn_kwargs=fn_kwargs)\n",
        "valid_data=valid_data.map(numericalizing_input,fn_kwargs=fn_kwargs)\n",
        "test_data=test_data.map(numericalizing_input,fn_kwargs=fn_kwargs)"
      ]
    },
    {
      "cell_type": "markdown",
      "metadata": {
        "id": "sElFX1zdLBWc"
      },
      "source": [
        "####1.6 Create data into Tensors"
      ]
    },
    {
      "cell_type": "code",
      "execution_count": 22,
      "metadata": {
        "id": "sDa7w1kOLE7l"
      },
      "outputs": [],
      "source": [
        "train_data=train_data.with_format(type='torch',columns=['ids','label','length'])\n",
        "test_data=test_data.with_format(type='torch',columns=['ids','label','length'])\n",
        "valid_data=valid_data.with_format(type='torch',columns=['ids','label','length'])"
      ]
    },
    {
      "cell_type": "code",
      "execution_count": 23,
      "metadata": {
        "colab": {
          "base_uri": "https://localhost:8080/"
        },
        "id": "zvwVFKoJPmWg",
        "outputId": "c993715e-62dd-4e2a-c0eb-0386ba4dc421"
      },
      "outputs": [
        {
          "output_type": "execute_result",
          "data": {
            "text/plain": [
              "{'label': tensor(1),\n",
              " 'length': tensor(135),\n",
              " 'ids': tensor([  484,    23,     4,     2,   391,   127,    23,     8,     2,  3669,\n",
              "          1237,    25,  2041,  2482,    24,     3,    12,   857,  1077,    11,\n",
              "            27,    41,   193,  1680,     6,    12,   712,     9,    28,   111,\n",
              "            14,    23,    20,  1148,   153,    22,   140,    19,    56,    19,\n",
              "            11,    17,   155,   102,     3,     2,   115,    17,   358,     6,\n",
              "             2,  3072,    17,    67,   414,    22,    11,   159,   985,    15,\n",
              "           105,    14,    23,    25,     6,   117,    90,   168,  4682,  1634,\n",
              "          5204,    98,    24,    83,     3,     2,  3987,    10,  1060,     6,\n",
              "             2,   667,    10,  1033,     3,    12,    31,   128,   111,     2,\n",
              "         17582,  7365,     7,  7099,    22,   130,    11,    10,     2,   178,\n",
              "            23,    22,  2286,  4935,   292,  2535, 19174,    22,  2535, 19174,\n",
              "            13,     0,   980,     8,     2, 17582,  7365,    10,   258,    39,\n",
              "             5,   271,   118,     3,    11,    50,     5,   176,     7,   197,\n",
              "          1098,     6,   484,  5204,     3])}"
            ]
          },
          "metadata": {},
          "execution_count": 23
        }
      ],
      "source": [
        "train_data[0]"
      ]
    },
    {
      "cell_type": "markdown",
      "metadata": {
        "id": "_vbu5qJzML4I"
      },
      "source": [
        "####1.7 Create Batch for data loader"
      ]
    },
    {
      "cell_type": "code",
      "execution_count": 24,
      "metadata": {
        "id": "dVGZXMgDPloI"
      },
      "outputs": [],
      "source": [
        "def get_collate_fn(pad_index):\n",
        "  def collate_fn(batch):\n",
        "    batch_ids=[i[\"ids\"] for i in batch]\n",
        "    batch_ids=nn.utils.rnn.pad_sequence(\n",
        "        batch_ids,\n",
        "        padding_value=pad_index,\n",
        "        batch_first=True\n",
        "    )\n",
        "    batch_length=[i['length'] for i in batch]\n",
        "    batch_length=torch.stack(batch_length)\n",
        "    batch_label=[i['label'] for i in batch]\n",
        "    batch_label=torch.stack(batch_label)\n",
        "    batch={\"batch_ids\":batch_ids,\"length\":batch_length,\"batch_labels\":batch_label}\n",
        "    return batch\n",
        "  return collate_fn"
      ]
    },
    {
      "cell_type": "code",
      "execution_count": 25,
      "metadata": {
        "id": "ZPfahWJ1MCtE"
      },
      "outputs": [],
      "source": [
        "def get_batch_loader(dataset,batch_size,pad_index,shuffle=False):\n",
        "  collate_fn=get_collate_fn(pad_index)\n",
        "  data_loader=torch.utils.data.DataLoader(\n",
        "      dataset=dataset,\n",
        "      batch_size=batch_size,\n",
        "      collate_fn=collate_fn,\n",
        "      shuffle=shuffle\n",
        "  )\n",
        "  return data_loader"
      ]
    },
    {
      "cell_type": "code",
      "execution_count": 26,
      "metadata": {
        "id": "XqbENMSDRsOa"
      },
      "outputs": [],
      "source": [
        "batch_size=512\n",
        "train_batch_loader=get_batch_loader(train_data,batch_size,pad_index,shuffle=True)\n",
        "valid_batch_loader=get_batch_loader(valid_data,batch_size,pad_index)\n",
        "test_batch_loader=get_batch_loader(test_data,batch_size,pad_index)"
      ]
    },
    {
      "cell_type": "code",
      "execution_count": 27,
      "metadata": {
        "colab": {
          "base_uri": "https://localhost:8080/"
        },
        "id": "fSt1a9qmSVK5",
        "outputId": "4bdf4e1a-3e6a-49c2-b5e3-b2b0bd953266"
      },
      "outputs": [
        {
          "output_type": "execute_result",
          "data": {
            "text/plain": [
              "(37, 13, 49)"
            ]
          },
          "metadata": {},
          "execution_count": 27
        }
      ],
      "source": [
        "len(train_batch_loader),len(valid_batch_loader),len(test_batch_loader)"
      ]
    },
    {
      "cell_type": "markdown",
      "metadata": {
        "id": "EySo3Nd3Sk3-"
      },
      "source": [
        "###2. Bulid LSTM Model"
      ]
    },
    {
      "cell_type": "markdown",
      "metadata": {
        "id": "w7VoYSfpSy38"
      },
      "source": [
        "![image.png](data:image/png;base64,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)\n",
        "\n"
      ]
    },
    {
      "cell_type": "markdown",
      "metadata": {
        "id": "1tUad_yMUEFa"
      },
      "source": [
        "![image.png](data:image/png;base64,iVBORw0KGgoAAAANSUhEUgAAAd0AAADsCAYAAAAxbHzSAAAAAXNSR0IArs4c6QAAAARnQU1BAACxjwv8YQUAAAAJcEhZcwAADsMAAA7DAcdvqGQAAP+lSURBVHhe7H0FgF3F2fZz/d51zUo2G/cQA4Jr8ZYWaKnRAqWlQgXq5fsq0L/t16/tV1rq1CjubkkIISQkIUrcZbOadd/r93+eOffubkISkkD8PHdnj8+ZeWfmfeadM+IYMnREAjZs2LBhw4aNQw4H3VFJuomEXRewYcOGDRtHNxwO0ej+w5nc2rBhw4YNGzYOMWzStWHDhg0bNg4TbNK1YcOGDRs2DhNs0rVhw4YNGzYOE2zStWHDhg0bNg4TbNK1YcOGDRs2DhNs0rVhw4YNGzYOE2zStWHDhg0bNg4TbNK1YcOGDRs2DhNs0rVhw4YNGzYOE2zStWHDhg0bNg4TbNK1YcOGDRs2DhNs0rVhw4YNGzYOE+xVhmzYsHFY0b9s72mFln2V/Xdb0eXd/LZh4/3Ggeazo5Z0W1pakJOTkzyyYeMQweR+/YsjYQqP0xwl9EvE4GYRsc5bSJgiYz2hvd6jhAMOOgOHeVob60Y1KPFSwhHnls48xXOJOO9x6dGkF/zniHHHbW5JNUP1epOEbpc7VKAkEKXT1hN3wMW3KWxROidJLeFwMWyKh5PhT0okYcUn4eQVRxSuKM9RbnEX79Gu4sdfjPF3xxzcOuBkVCMuys3p4Hv4XiffaeTI98QjfA/vc3pM5F0iUz7g5PUE74/xpIvvtN6tsPB53u9gePUzMC82jxsZJw/fF4jc43Gmn95JlzqXgpNysHFi4EBJ96jNGS6XK7lnw8ahg0UtpBiRHVU5NadOUvGTFJIq2hBL6ny/n47iRv1L6fd38itufiIrKXyLhq136H3a6mldMVzLPUMeJHrt85SBtv3d4YCI1U1CcSveOsFtlM7EyiG6ZUj0x3NhBj5Ep2uKqGJEWiSZ8hq1i5MkqGiRQkmoJFPeGOOzkkCcW9KWecbyL853s+zrGm+MkLwlQxGyk0RtlBX39Zx5Xg/pgB7yvyHdOAk5Lv7vlXkSvTvvDxT3lBP5xmJM1+SxDRv7wlFLusrENmwcDkh5W+qZjkpTit9yKh6iHcsZGuZ1y/GMUbKyCfkzJ0gFcsYvWXMxhJxBkk8IUaeIXXfSnzhtxzitWQPebxS16IeEK29IUS5ZjdYNvTAEeJig+LvFXAxFnAQqIvRHafmyWOqaVIexOrmN6SpvjZDwQtyGebVLW5JglFuRYdQ4sSHv5z451BjHaleQlI38KIeIM25kJSr2yedEGCFXHBE3r0dJ+MaCdLJSIL/kiaxwyxeJMURLWi4sfyRvytFBYnaSmPWK9xOycESyDQ0N6OjoMORrk66Nd4NysA0bJyxkucXgpXNTzSeLgxSnMcNkgxlKTf54bDQ3FTgVu8MwpKjSk3ye14216uLjLtKpj/SZjkjCx30Pr7osf0jMCUeI/pBa6Ifo1vCbsbYZBhG3ITS9yXLWkbaHHgqPyFJ2ZlQWJ2k0Hu/hiS4yawfcMR7zHgetci+D6lM9g3f3KOgIwUdGzYw4kBFWbHmO/wJkYq88FTm6WH3hrmxmLyvX7rjVWqCrvkiIxn6IpM2KSrgH7vZOuCNBBMn0PW4HOmXJ8j43/8XocYR8H+J5kb2HlYI0+ufn+5SS8jXM54KuGF2U9+vJ9w8i2e7ubjz00EN4+OGH0dTUZIj4QJsbbZxYUO6wSvNRBvubro1DDVklazbsQGcwgdFjBiPNz+JApe1Q06rRmwnESBBxErCxmEjQHpcLkUjEfLNz8rg7EkdDSxgZmQHkpJF++Wwk4seO+iasWLeV+TgMn9eJcWOHYNjQfO6H4XLSkTpisVz9R2VFCwaXF7A0kr3iXng8IcSifn3INApcyt3Vq8yTFpuOFcRDANIeXZyWbRTeUAjBrdux5vV5aN22A2kOF4Z+4Hzkn3UWPAHezPCqqhD3dKOblQx35Q60kWBLBw0Ue6M73WPC6yUJh0iALspMhCvCdveE0FpdB2d6AL7CfCNbZzyEzpUbsG7GXMRqmknKQNlFZ6HgsnMQ9fhMvD3Geo2xKhBFd20jLXE3MoqL4BWnuiIkV1akmD4Jp749k+CNpcuL9N/xPn1rVZrILVmyBD/60Y9QX1+Pu+66C2dRLm632/48dgLhQCtZ708OtGHjGEV3MI7OkBMhWmEhKnjRYdTpQdTlIfG4EEy4EXZ4eexDkBZcVziOhNuPKM9HaM120sRas7EOTR20pmL69ulAU0sXNm6rQX5RIS6+5ExMmDgaOxsbUN/UyesZfC4PPdF8dEVd6KEFvHD5JjR1k0T4nhBJoovhCJEj1BStioEIXhSrwmqatI3Fdujqym7Gg/UHkhjj2tiM5fPeRKAgCxd+4eOY9LFLsGHePHRu3ELhtZLIYiQ9VgqCbcjs7EHtq7MR3rSNFjEt+WA3At1d8AZ7EI8FyVSsgITCcEZowfJcoqEJO5euRGdFlamEmEaCxka89eIrGHTSWEy59bOYfNNHMe/NuQi3NNOqjcDb1gkHn0esC8GOBlQtWIgww+KIdPN9nUBPF5yhHrhYYdC3YFnEDCJJ2pLd+4nOzk4899xzWLp0KTZs2GAs3traWpNmdjOzjb1B1bE7rN2jCz/4wQ/g97O2b8PGIUR1fRt6Ym70hINYvGwZ1m7YjNW0UAOZA7B2fQUWv70SW3dUY8u2KhQNHIzZb7xJqzYXbq8fr7w6B05fOhYs3WSaOgeVZcHrcmJHVQvqO3owbtJQZGVEkJOTgYKCfATSM7B+YzXemLsKi5duQ3vYiZauNqxaXQtPmodkDLz22gqs3rgU9Q0xDB5UyBA6aBmrKdeyeg3ZylI0Vw6shr2/cNKKRCLK98VRt3oDwpRR+dRJ8I0eDuQVIF5Zia7mLqxZ+AZigTTkZKZj5j1/xMgBw/DqA39Dz4Z6ZPhcePUf92HH2nXYuWo9BrrTULtmI5rWb4En24d1JMtti5Zi57K1rOxEkDmkDD5/GjYsX0jSDKP85KmIDymFOysDJSPLkT4gF3Ur12HRn+/DhtffQOvbqzAsIxMrH3gKnpZOZNIKXvTAk1g963UEG1oxoLAIjoAfYY8L3S4Hgm4qO1Ze1BP7/YBIdebMmfjnP/+JSspD2L59O6ZOnYoRI0bA4/GYczaOf9x5553Jvf2DbenaOKERS8RImHT8ZeblYsq0M1BcPgINbWE0dzlQOngMpp19NuDJoLXaic6eOOKOACK0nHrCDqTn5GDIiNEYPnqUGfIif8IkkRirs/6AFw21nVi8cAXeXr4ajc0tJOkEzjj/ZFx61XnY2dKG3OJByMwvwbAxw7Bw2UpMmHo6LrriI7SoE6itqzVh7DOatHPoLSh1nOpxh9FJu7uzswsBEqYvLRedzjREPHlw0OrtbGlEWkML0ruCcHeHkFVPq7ejC2POmICxp09Ems+NguwMXPLxKzFs9FCsfnM+HLR6Y7R4PbEohdeNQdnZmDpsBMaWDUZuZhbpkOqovgVZmZlw5mSjc3sDFt//PN6aORv1O3bAt3UnTr/hSlzxqY+gp7WRYYmg9Kxx8E8owfb2GpSUDMBl13wIcY8D6zauNx2+/FEHsmJOZEdcfO/7V0nZuXMnpk+fjvXr1/datq2trbj33ntRXV2dvMuGjXfCJl0bJyyM5ehyI+HUd0cPrSU/crxupHnVAShqiLOg0IMAjzOz3ahvqjM9cGWRkm+RoFWbiLvg8rbRsgkiQFLy0R+/OwIPfYiFgbS0bBQWFaOxKYyWthg6u7Pw2hsrMH3WUjS2qyevE/GIHx762VgZIjmvxyszVtAK9vNdbkQYzqg6GrFyYKxPfSg17tCRr5Mk5Y/64HX44MnMQJe6UvXQmoxG4I90w1XfjkwSY3danLILAb44vN1hxEmiLhfJOSsLPelZSBtUDmTnIT2d99bQ+qX1H4iE1OUKaay1hPw+NOekIUxLGW433xuDL1CAzrYQYpEO+POjGFaeDff2CsQ3b6Zcu7HyH/dg+j8fQKSyCu5gNoJMl0h3Al2rl6F63lwse/hp9GzZgVy3jzWqKKKuOMKuGKKeKNPr4GWm77fRKP2j6+npwSuvvGJINxQK9ZKu3KuvvoqXX34ZbW1tZgRGytmwkYJNujZOaKjvsjMeNh14nIkISS1qhut49BEwGkJNTQe6gw7U72xHaVEZ0v3p6Gjv1qdDkmgIDvMsqZGEpKEpIsO83Fwq/Ag2bNwKN63d7PwBcHsz0Nbeg6amBpxy6nicdfYYZKXrnV20Cjt5fw8GFvsx5aRyXHj+FAwsCSAjI91qWmblwGmalt8/S21f0FjXGCsUcDoxaMQQdEQ7ULVlLeJ1VejevgGbd2xD4fChCBQWIdJAQVBGjZRJmBavy+FFoLsTvs52dGzdJpMQjY11yBxejFCOF53tbUhsqUc3LVq3x2PG1AYpv6Ajig5y79Ap49FaU4e2FRuRRTItHD0MLRms/VC0bz89C2df81Fc+ulPIZGRiZA6TLl8iPsDyC4bhEFnT8Okz1+L4jNPRoJWNoUOd4KVIjNxh1Tde5OfSFVpsW7dOjzzzDOoqKgwxykniGD//ve/m6ZmEbWQ2tqwIdjfdG2c0GiWRRKPIuBhYaAlmZdDK62ri+rZgWBXN6rqu7B5cyXyaL2NHVWK7LQszHtjPmprW+DzpmPciBK0tTajavtmjCwvg5fs4CcJeAPpWLe+Hm8tqMTWrTtQOrAUY0YPREdbF7Zt2oGG6k6EurswbngZmqtb0NVWi6kTJmH50pXYvHEN/M4AxvN9+pbroj53qsuvwI31LVf/D02dOUICEaFpcgx9mSzx+VH91lJsfWU2WpasxOCLz0HRySejkBbq6ifnoGHpBsDrROnZ5yKa5ULto9ORVpKHHYtWoGtNBcKxOE666iKEYgnsmLMMzRW18Dm9KBhYho7GNjTUNqKwrAyBtHQEc9wozcxF9fQF2PTMbGx97S0MHT8awy48C0F3AovnLsK2rXw+7sLAkSchworRlrXbMXrUSFSvrcDG5euZkH6UTzgJjuxMhN2aIYuyIuma7mhJMR4oRKoiXVmwTz/9NB555BFj8aYgYk2RskZe5OfnY8qUKUaH6Zw9Q9XxiwP9pqsseOjaqd4D7CFDNg4HgjGNMKVRRJ1o9aBNkIQ12YIDby5cgcyyYpSXFyHgDMGHMNxUoMEolbc7HWEauBo1E+Oz4kQPSdtLKznO50NqGlaVVtf4BtMTOR6kYhZV0pp2uRGNpcHhjMAd9yAR64bb7UEk4oHDF6bF5KW1zedFusaPhHmHBRXZQ0e6MtjVk1izY4WcYb4qggAj6whzX2OpHBrOlI4uRzv8Ya9G6fBeWrzObF4jEQXb0bVqGzbNX47JX/wk4tkBht2FHj6qntEefRBXMz2PNdOUy+VBj5fSZwRDrijSQxH4gkwVRZiWYzTgRNDngo9hcFP2iYQPzlCQws+mnLvgjFJmnhDcFLgmz0gkPxnA6bZkxtcZSSk9dHwQEKGqaXn+/Pn4yU9+grlz5yav0MskIaf2haKiIjz44INmCJGGD9mke/wileb7Czsn2Dih4XXRMnVZzcluB4mNbEOjzejnTL8L2V4v0rmfThL1JVwkVQcySBI+6th0N+Cj42203Ei6Uqx0TjK4l+fTeJhG/wJ06STkTBJNNv3JJFWnRf3IcCborwM+VwwBr4fEH4GfXGGsZfrp4fNeM5EECzWfZegYEpGtfocO8psioSNZOHyIOdIRc2UxQPmI04X96WYMbBrPJ3ysdqRnUFisIAcCaKX1G8zORQctPdfQYYwAidiTjYgni5UK+uHLQigzEwl/Bpx0ejbmD1AGlDMrHLlRL2XK92VloyczCxFWvBN8xsNU0PPxAJ9NS+P7shDzeODxZ8LF44SXqeRPg9MVYCXFB5ebxEsZRiiyMNNCvZfjByg0EalcyorV5BczZszA4sWLexVt6p4U8epeubq6OtOzubm52f6ma2MXqBTbsHHCgqqShSBmnAxIyyIhAZMQp04eiyElWfDR0tN8UuoNq4+QmpvYQ2vVq3N8SBay5qWypoLk8+JIkrgI3IwT5f1OWo0OmY/cB8lM5rGZtCFOa0zXaO2myNQBt+bFsJ4zxxb0enOkHevgkMC8T5E1UdEwG82k5WGQvbREFXOPmVdZnchCrBSow1mUpKloRXhv2JOGgjFjMe6yiw0RG+tTMpGXZkECEiL/a35rXQvreb2UW4c+8tIjQ/gJWsNmpi9WeGJuWtqsjlC+ai6OuJkivN98q5XfrMykpog0czDzZUpbPe2jnP20riXvA0GKWLWVlSuyff755xGmxa9zqesi2RSx6lxqYoxnn33WWMQ26droD+VSGzZOWEgxyyUPDCdaEJHSAiaZig4TJMV4nBZVIsB9Hy+LLFP3aZEC9XiWstdTUsb8rxmmXFotx0PHZ2mtxR0kJ3cMcW+Q1/RNMML39vA6rSkEuZWCDnOf50XS9EfQq/q7Q4k4w6Jev1GG08V9NZm7FUcniYtklsYgKb5Osh6lAFeMIVJlhGHNJwMHaGLKqoxl+czwHYVY/1U5kdOMUupJLOek/5Kxmtyjnhii3gRibl7je3x8j59E6Tbt3TznYQXHvJthU1rxOQnDLNBAAtfczx0+B0Kap5kX3HyPKjoRZwzdHj5zgNpOZJpCTU2NGZerzlMBViRSzuv1moqayFb76enpxmVk0Ion/vKXv5i5mW3YSMEqEUch7G+6Ng4PRHZSrioKpA0qcFlkmvZRcLg0JERNvLSytOSezvF+Ea1uTKgN0/jA5xy0CHmvfCLl8LpleQnWO0TM5k5zzsN7TRuok+8gkZvhNyJ0BYD3GOtbb5N1Z/aSTmHkli/U//cdrBKQAmXFiygZDkN6PGC4RFyyQjtJwH7KQ5OCyJIMycLjk56o5ME4kgCjvMdMRsE/PW6W51OceUILG2hPFRdH0hKM0mqWDK1Yg4Sud+thSo2bKP3ULFmq2GgxBdOSYDpIyROr6qSl/UTYmhfbtDz0QulivXt/oebi1Hbjxo147LHHzHSPKZIVKb/99ttYvny56VR18sknm8kxRL6p65oS8vOf/zwmTJhg/LJx/CHV4rG/0N39c+ZRA00krpqkDRtHM6RYU8p598Kn493Ppe4VDrSwHq3oHyfhQOLVv2lWZJYitIPF4ZRvNBrFb3/7W/z6179GY2Mjbr/9dtx6660YMGDAcZO2Nt4dB5rWB9jgcvhgE66NYwVS9FLAXV1dZl9ubwVR51PueEH/OB1ovES6mmBCi0i8HzjYcNiwcbhw1JKuDRvHAlIEq841snb0WSR1Xs7GviHZqWlW3z37j3u1YeN4hU26Nmy8B6SsKk2C4PP5zLCS9vZ2m3D3E2pOVscjyU0LwduwcbzDJl0bNt4DUt8htapMQUGBIV91tlGfBMG2ePcNySbV8cgeWmPjRIBNujZsvE8Q8Wr6P/VYVXOpvvMKNvG+O7Kzs01FJRgMJs/YsHF8wiZdGzbeJ4hY1cRcWFhoOgZpViKdkxVnY89IVUbUSqBF4VMtBDZsHK+wSdfGfiOe/NFuM8oyHtdWitNc5A7/uDVDXJPHJ5LTyFrNMZyRloGBJQMR6gmhrmYnZUHSNY739Xd78ONEcxplK7mlB9IRi8QQDkZg1tA3E270v5f/jOt/7jC6fmmmYGg8t/Y1q5YroUlC3HA5NNxJo5wZB1435UAt5lHNva0JT7RlCdI1y6teZ+PEgU26NvYTtNiMkkkeSXFQq1guxquWg5lRicqF29S5E8Up7k4X5USXnhlA4YB8tLY1o25nDWJxKmL+NGFDr9uDHyeco8w00xXoJLPung4EQ928JmmJpFL3qrIn1+/Zw+k0YxhdXKTq0NQhdMrrrEtZY4s1RYeuK53DfEJhV6nhWZUPLaJBp9WOzEPmmuKj+6zPEDZODCj1j8qKVqrZycaRxG5pIGtNMIQRR8yQraY7NEdGKTl6FYqdfvFYHE1NLWhptZZ6y83JNQq6F5TXCQ9mk7gxCa0JcTZt3IIhQ4YiOzvL5CFXSl7MY0cUfL3CY1WWRKQMd8SBP/3uz/j9/92NxqZmfPv7t+Jrt34RuQW5fMALt9NvzcJlZpDOsFqB+NPXBicrGSJzyxRWqbGXMT1WcaCfj2zStbEXSP4pJzCraDJ6HZtaP+vyiQjC0SBJpRnV9VVo7Wg2Yy3VGUZOEx+cyJD1I+Jta283ZKuhMbuS7q55/MCK7vGJ2tp65GTnIKCVhAS1pPTmQcl0V5kdTqhqaaWZUkqLMnjx8rMz8fILr6KzswsfuvoyXHLFuUjP8sPjS0dmWi5yMjNRWJCD4txByOS+mtIdzANmekzjUv5ZU4zaOPZgk66N9wGSvanPW1sqPsuCdbGGH0UkFkJDcx3Wb16HbRVb0NTSiO5wl2lS07APY7nQC2XGVIY8IdMzGXdVPsKhsNn3+bxG6UqeqfmdbfShuzsEj9sDt8cDl4uVFn3g7cWRlJcydLI8MFmdYBjjASyYswxvzVvGymYIZ5xzMk49awJ8GVqVSbQqa9cBN/k0J+BHWVk5xoyagIHFQ5GVnscKmQsep9fyfvcK2AEqchtHDjbp2ngfkFQuya2OYySInqhmDtqJJcsXY8v2TWjvakU0HoYv4EVR6QDkF+QjPS3dTOHp9ritpsETmHStiopV8VD8a2vrSLgOFOTnG+LlrlUCbfQiGomjoqISpaWl8Pt9VvbZRUZHnnhVMrTCUjzkxqP/eQaP3PcU2tq78JnPXYtPXv9hZOUHEAyH0d7RjfbWNtTX16Fx5xaWB1Yk4MOA/HJMnnA6Jk88HWnebMO3Lq26xDzSv6Jq49iATbo23gdIsUm5xGlpqKNHAl09HZi/6k28tWgBuro74fK6MKh8IEaMGo6ikgHw+/ys1Xus5lPmKqNA9BPhKIudiMmpwkizKKVM1QqwYeMGkm4BioqLeI0ytvP5LlCT/OLFSzBmzBhkZWUcdZ8ozNKLdE51ior4cM8f7sPf7v43mpvb8PVvfQk3f/VTyC70W0sPJpymR3N3Vyc6e1qwZcs2bNu8HU31rbRw01BWMgQXnHMRhpWPgN9lLQUo2KR7bMEmXRvvESklR8JVRym6pqZGvDzrJazYsYw1cgeGDR+GyVMnoaAgDw4ei5zdIOFSySQ0jIg/ZUTjTBZTxjT/zf6JApOD+U9ZWbIwkiGJrF69GgMHDkR+PuV3gAX2uAdJauWKFZRPmVna06nl/pKXjiRUhZQj09KRdLUkIy3de37/H/yVpNvU1IZvfOuLuOmrH0ducbppgo7zHivscYTibrjdTkTCQWzdsBFLFi1GW0s7sjOycd6ZF2HahIvMzFxCquzYODZwoGnVr1fH0QV78vPDj2giiGgsbIhBTNET7kRl41bc9/zfsXzrfOTmBPCBC8/GJRedj9IBA+BzeuFNeOFP+OGhUnGx9u8i8bqpbDyiYY1fNMd0UjoxHh+EMwoOfU4WRFzrpvJ8XEMxYn7Eojqv3tQhKrwgYlSOWlpeis9Ja92Z6KHrZhij9JNhi3vgijGeGsqTkLMWjt/dyUcN6DgYp3fH4WV4vNx6eEb7PgwfMQ6VVfVopwUUS2joSdx0Sovt9ouqs9peXITPRFjW9+a08K2DMnHGqMijfDe3iTj3E9ynizqswSqWjChDVgzUI1ejTPVTpfdIuGg0hPLyMlRVVSMSUfq4eV7h43WGbvf7D5djJoODaWU6EzLvmG4LTAelXUzh05bHrCUwnLwOn0lvB/e1RrDfpUX1Ywh4PBg3fhyuufajmHzqZLQGW/HyGy/i5flPoCVUyzQJ0mPF23qnhh9Zn3lsHC84akn3/Vrqy8b+w+lQ8zCVnEiA5NTa1oLHn3oMNbVVGDJ0MK644nKMHz/e1MhdVC4pUD2YMYtREZ2TJOIiZXAb7edC7h6EvAfnwq5u+rGri7uDdD3kD25dIbh9ZBqXln3nVkRLRahFzrXYfBx+xGP5JOh8PusjB3Uj6GplmMJUiKw4xDLgiWbAFU6DJ5IOL/dTzkd956M/B+P8JNJAPNTr/MltjteBUWVFqN5WjXA3VWpI3XLSqJR9uzgfiXJvzs/KiJ+Vo725sD+KnkAQPb52RHytiHvbmLbdrIDE6Le1ALyLLiUjKxXlxNhyRwb6PJGZlWWWSYxGVHU5/iDLSD2ZzzjjDFx44YXGAl6y9C0sWPgmwmHm6V6SVTqonB259LDx/kOpqZJ21KGtrQ1ZLHw2Dh+iVMhOJ1UwyaK9owkPPf4fVNZtR+mQAbjokguT6WEpZTUjq1OQoAwUJplorK56LpvvcLIO+iFCgjvYjObkg3IppJpz1LPVSfL3udMZIiqnuIv/3eY6bWFaJlJetOTi2axIUJU5aQXTabKjSCSAWCSbIZY1yrAxvIqPaR7vF3Z3jJaKifOBwzRImjBYkP+Sjb5bKow1dQ3o7urB4CFDDNnsKjO9c191Ylqjsqz2gqCHz1JoLqal3xU1zh3vhJdbB+0pUrO5z8SMrzXNoXyftjrr3C39Dh8oL8pn+bKVKB80BLl5eZSNwqJvqcpXR8pOsORhNTHzT+kadeBvv78Pf/nd/WhpacLXvnUzbv7aZ5AzIJNylHWu+bb4nGMvlQdeUn7YtGkT5s+Zj0TUjbNPPQ9nn3YBfF4rT6dSwSSLjaMSB9q8rLtT6XpUQeuS6puOjcOHSIyE4EqQfLsxc/ZLmDP/VRSXFRrCzdP3WyoSizREJ/wlhzmog1BLZzMqqrejtrYWnbRS4rutGBMzkwEcXFbbnXQtgnTC5XIhLRAwvaaHDxmF3KwBcDt8vJeWLgnJNAdSUYeNVS7r3Y2ubj9amr0MZxD1ja0Mdw86g5HexQl2LxAhp5/xPEiVR48kqRQUboU51TnInQghHOxGIJC2C9ELOgqnhpPsEQrT3gkoLdyGNK8P6YFsZKdnomhABsrKfcjMDsLnD9Na1tOWlaupC/U+HcWZxvL7SJGu+hEonzXUN6OpsQXDR4yA16v0U36S3I5+0s0l6UqO+yJdVbI0jap8DIdC2Lh+PRa8uRh5WUW45PwPYtTw8aww+fgefd/lbQeZBW0cetika+OgEaGi1RyxFbWbcN9DfydRhnHFlZejrKzMkAW1hLkvNY2hjqKxCGrrarFx60YE0nwYNGgQcnPzzMT//TOj9V324DSHyaC7PapzMRKl1mGtqtmKnbX1GD9uMsoHDqWt64bH5U4uFRdDjyuCYHcADbVubNrQjuaWHhQUZ6B0UDry83zICvio2EnWVIS7kx+c6ltgxftgYE37t2e49mlFJxBxv1u/hn0QUNhDK5qVBm5r6zqxvboejS2NKBlUhFFjhqAsuw3pPqZJoofSCjOG+sJL0k02Z2rvSMDKVXq/CwsWLMLkyVPg93uZNurYJytd4TsSsPLFPkn32zfji1/7rLF0VYF5V0u3Fwl0dbZjyaJlWLNyAyafNA0XnXs5stIK4Ix7WfboxcEVHRuHATbp2jhohGIhxEm09z/2D6zbsgITp0zAueedD5csLta4XaaJL0m4hnTjVOg12LZjO0qLS1A+qJzK0ZXMhLyvX85yxtWR6P3RHPJefosgnS4ndV8IjQ31WL58GcaPPwllJeW85uMNbiT43p1tHmxaV4v62nYMGVKKYSPzkJFNBe7shpdk447Heq1PE/b+JUJNmgcLQ7h7j7OpvCT39wQnw793KC1UqdgzNP1GjGkWZ0UiSus/5sxEfXMMq1ZXoaamCRMogzEjy5AZiMHj6ObdIT6lNLWI/P1JqQNHinSV595auBijR49GerrGfTMuxyvpMh+rklNTU4fXX5+LcE8CF593BSaPOxXeRMBUBvVOG0cnDpR091FVtnGiweFMoKGxFpu2boA/3YuJU0+Cg9Vsh4PKn5aqZZXRJZmis6sDtfV1KCjMx5BBQ+GN++CO0s40zgMPLbmUs6AHD9ypqdMd73POaNxsPbzsjumcHwPySjB54kSsXrOclYdu89UySiuhuc2BVcvbuO3CGeeOxKRT0pCdUw+vowG+eND0bE5ImTPucr1klnSyNJwxWsEH4/QsSX+vju9y0srck3MxBs64ex9u3+EyhEtlnyChOh1NvL8GAzI7ccnZw3DhacOwaUc7lq7cjg4qePWsplQZd6WuoZUjBpPDqMTUSqFhVWZ5xOTvQJXbMQPFy+FEnj6TjByGnlAnqmq2IxTq4vmD/yxj4+iETbo2euFgAV+/aS0VdggDy0pITrnkPItkrTlvqfj0jUmqkcdqrlTzcnFRCTOSq9fpGTWr9ncWLD8OxllkYDmnUb48TzJWZ6p4lBUCHpYWFyPg92Fr5VbEXV60djqxYtVW3t+K888djQEDSGaOliSh0WZiOOVMGLWYgwzH3cIedQUR8XQfpOvap4s51InLt0cXg5v3tO7VhT0ddN17dRoSlGBlKZEguZshXS4EWKnwRtswvDSA884+hZWmIJat3Ib2oJth8VKiku+RhixEhoPhLyoegJ2s1AlWf7RjWF3tmp13dWbjgMfrQ15hAdKyAqhrqEFD806el5WcvMnGcQGbdG0YSNFFqeq3bNuAOEl3xPDh+jIKd4JWFS1BpyNMy0lcy38iI1qIneFOOL0uZKVlG7I1Tc5G2aN3P+WcPGkN4zlwp2waoyXQ52TFOU3TaUKdpIw1HoGLinlw2VDU0FpvD7uwYn0zesJOnH3yABSmheGPR2gV83bqMJG3bAh1IVK85BLqvWz8to6t+LIisUdL8707R7JZcc+OMovTat2Lc9FSdtGPvTk1TGuFG42RVgXDFHSmK5xdcLhaMSS7AWdOHY3WNidWb+xETzSN6c8Kh+J8RNWCqnQMBOOvb5kaThMOa95qhsn0CzhWYeXjPTpDvqpouJGZlYOs3CzUNVWb+c2VRyUTG8cPlOo2bBhEoxHTMcnj8aCoqCh5ds+IxqzvoF6PJgCgUjiClXFrnClJmIorMzsLnR0J1FS1o76uBiefPBzpGbTkEkEGUVaDTCbDuic2HHHk5joxflw56mrqUVvTRamkmQqTJaOjA6WlJaZHvMERzGOHFlY1Q9BKVFmZmeju6kJHR7u42MZxBpt0bfRCy/HJqtDkF2mppdX2AlnGu/b0PXLawXyTZVZWcGT59nT7sXZVFcaPHYaCfDWa9lCvhWhJ8D5a3cex9t5vaIyv09mKgcV+lJUMxKbNTQjHAqy4qOuPKjFHBzQdZE1NjZW2yXPHK1SeVOHVEDJ9vw6FwojakwQdd7BJ10Yveki6smBFum6tR7YPmJq5+baqbe+/IwKnOpvQRIuTcKMJH9rbPYiGXRg2eABciTY4nGEGj1buOzqlnLjkm3BqHHM30jxBlBTlIRR1YmejJg5RE+7RIxcrHzqsGep2qeQdhWDwDi6IfblS8dXqSuqxHFIlOGItCWnj+IFNujZ6YY1rtSxYp2PfWcMoiV4NQ8I9cpxrjeoh6WoWoHginaTrxJChZfB5uuBJkm1f/UDxoutVjgelJY956Iu26MydCCIzI4GsvCxU1rZQfr6jituUF9XEXF1dxcrTEcxk+43dW4D2B/qWnnT8qdIrp4pGLHr0tDrYeH9gk66NYx7q7CTSVdNoLJ5O68CDwUMKqL7a4IrLcksSrelZLcKlM/o7+X33BIPsKo0R1mII7ngc/kAPSdeD+uZOys9H0RxdakETrlRVVpkpOk8EyNpVM3M0FmV6aIauY6GyYWN/cXSVLhs2DgbqoWusICetAy+VlB/ZuW64XSESi1bV0TjjpBPxinHVY+gE/r4r4jVjfSkHt6cHnrQ4IiS1cETykTs6YH3n9JqtPn2cCEhZveqoKHfglrONoxnHOOmmlKZUiDJnn9PsNWbJNjPbkJp8rAJsLf8Whf7i8TBrz5qmX0uG6T6ei/bQ6di6X18B1StWPwNd0MY4XedzvU7Hlv1kbCjrJiRivJMuFuNdDI86qmhJt1hcYUw9ZzkNSNQZXtCf6W/Lm7nlgQJ4SJEMsJzVZtu3Nfv8n6x0a5NymlPC8Nc+EKcSsUaBUqGIJOnMUoB0UvySmFY30vCiGHNljKcML5on9o2EK0I/Zbk5jXXg8fjhcQZJHV761y/8vS4JWbzv6vuRhWSgoUuSiWQjGWlIkWSeGlLVN66YNmrS7Qu66qanEXeULgIX82C6w4mAKwPhcJBXj5xaUAevhJnUw/rUkVoIoqS4FA21DQw8Q89zKhuK5u7u0EGeq/GXuVgFW3nHVOQod02swstabsNplk7U/eq0p++x+na+H/JMBl5aQBrAyCH5M68+YkiVH/5nvPsqANpax6oY6NNUat846TW6aD89l+A9Rv/pfullPm/pZ8tZOlhbycB6Mw/odKckw3MmDJrQhse8lLrP0p+W7Iz85My9yXD3nuOdqSgcIRy50vWeYSV6n9P/1E+CpRNx9SMqKxGs+xMkwARJV5klHA0hQmVt1u/UtVRG4L2RqNXEY55Kppb139yZ/K8k70P/fV4yJ2L0XwcmW6QynTLXLjmApYuH5kz/d3HfeoN17tAh5X9ym7IEk9vU1V4kLxmXPLUvpJSiUZDcpsbCal8Z0fInNXZVyk3EYp3fF7SsoHWvpj6MwenSJB065+a1ZAL0uhQUmJQ7OpGKe0omCn+vTMxRP2eisb9xsYg55tQSjBYp+BweeOgiLAv778+hAPMZI6k4WTGzQjNs2DBs27rVKFqd0YIXljLtk8Ghhig3BS3K4HSSYE3fB/UZYNokvzmrP4SVh1lxUIKlMv4+oI6AZtvvl0z8owB7kq7OKW7JsspwWn1CrCtKJ+k5o3+15bWoFhXh+XBE61dTp/GcpWd5D5+3VigTMZNUzXndzp/SuV9aSx+mdLF1YlcoPEoTXZT4dK91zgrnkcZRS7oHPO+yEiGVGPyzvktJwhS3lXp9oJLR8nVw0qklzVjFVmGJkQXMNxT6Y1bK6fecdg1J0lk+68fCx59V++V5c83caZ4QycrqNsuT8Z2as1XvsuaQtYa5mHCq0OmWZK5IlVOTQDynw/0ou0ctjP5Q/LhvFv52xhF1yUnxU1aMnPlpy5s09aNZ61UF0jy1P7BkeLzAsmjllK8kE8lQmYBXeCKeJM24FgNQKwFvSFViDgTGR+U7uv6V1CMDK36WsxSxrF23S5NkhAyxSbkf6fmIpWdUkTYLRThlmZNk1LKWtKYs8OSxXGj3gP7fl008k6RqyJeXDJnSGT2mygczo/KjrFsqWJN2Md5rkabVkqF96Vqdkv+av13nrDuI5Cv1OvOcKjo8J9HuLl69zzpJLcx9HfYPs3nwCOOoJd2DgUkQup6eHrz11iI8+uhjWLFihRl/KuFbUJSdiCZC2LRxLdZtXI/Nm9di47ZtTA5mHJeajByorNyBZ595Gq+8/FLvOEE1U8foUtlB5JpKQqtZRTU95gzVcLnVT82BpkmQCjEU7MaqFcvx8kvT0dLSZjKRw0HypXdWNjG71h4zivw3S6zpUEemVn1sotc64z8RQ19zqYhCTuNDFT+LeLVVk7R1n3x4dyj9dylfxzQsArVI1JKH8q3poZ2UUyq3pO7rvV+XDgDyJSU7owST/h4x9IuAFCYlYVa5KioagJ21dXCpHLC8ScHu7g41FLRk9oSmJM8rzEZ6lh8uH1BYnA9vwMsLlmbo0w7HG6TjKGzmmXCwB6tXr8Jj1LULFsxHd0+3ib8MC7XmSQKS1+pVa1BTV4elS5eioanJyEYGipqUNSHPk08+iafotGJZXJUZPhtSa6SRo16l/0xz/tSj2zRn9/vpz9IbamVQ+VAWoQamH0cbrNAdBzCCJ7T4/V/++le8OmuW8gTuv/9+TJ/xMjo6W00XfCWeJoBweTxYvPgtLFu5Gm8vXYwNm7capaPJFTZs2oB//eMeNDbWY+3atXjo4YexcfNmPPfCi5g3fwGiJtGVMeLGz0g4gocefIgZa5XJdMpsUV6L8V1ROm11f31tNZ556glEmRHcbk9vjU7+mBog74moWYVOzd36BkLPrJqhtool7z8mwcIl+boYZ2ksVTg8cMMZdcAb15SIHsaV1+IuFlgX4+xAlA9ESAIikv2BOlMZ8uBPUCVp11rusQOlcphBj1FeUl0JysVBiUk+2ndSVp4oLUDzXZzX1W/AakLpLQsHAiMlPqa8mJLfkYHe3efUYqu5tvU9bviIodjGyrHKiknb3e4+9JBcFRbKif9VYTzznNNx/U2fwte/eTMuuOhcBNJ95nOvrDGrEvle8c60TOkdyUGzdYVCIXPO0iGyGC09kXLvF1SW4maBEOosluf2jjY8//wLuO+++xGJRjBr1mvUgw+iq6uTeTGZj1jOuYvFC9/C5q1bMfu12dhBI0Z60Un5aeatW2/9Bjq7u9He2YGf3vlT1FRVYvmypXj+xZcQTurZVPyU7jNnzsLrr88xelbvMU3XvE/N1pKLLO1oNIqf/vTOPtnI8ZzCKT+OJKQB77B2jy7ccceBBSuVuebNm4fGhgZcftnlOOWUU1FePgidne0YWFaKOtainnryaWP5DhxUjuVL56I7loZEqAUI5GPSyBHU+05s27gBK1e8jZs+/3mMHTsO6RkZxtqdMfNVNLe0YtiwcqxfvxYvv/IKQuGQmQrxz3/5C+p31uH0009DZVU1Hn3sCYRJziWlpYY4I6EeLGJN8MUXX0Rp+QhDuEuXLkFLczPCoSBefXWGCXdOQT42b9qMLcygb86Zgwhrkuu2bsb8eW9iQNlAZPoDh4xIWruasOztt+DyJjB5ymTqDS0koJqjICWT6vSktXfDaGxtNAWrOL+E/6Vk9g6Xy2EKhdOl5fZIuBrK0xXH2kUr8fxDz+CZx5/F6zNmY8OqtUhE4sjPK4THQwXGd+qN+4qxWhJcDKcm+N/ZnsCWbS04dWoR36E5oxnufYbsaAWVO+PjYgUk0h3F1rWb8MwjT+GJBx7HK8+8jEVvLETbzhbkZuYiMzOb8mUFRk2uVC7WrFuWH3uDqEMtCYZCWOHp6KbsGkIoHqC5tHXDEbIQTJCtFNd/K+0URsDNOG7YsAGjR43isSpUqTv73KFEyn81nVrfb+OUfQbGTxiDU6ZNRV5BLivzSVJmGigG1tzhxLsGjjfQXxF5c3MjKisqkZtRgBGDxyAjLdv4lYJ0XapZ9q677sIzzzxDPTUWubm5hmwsclQ+4FNJd/BQbATLDzUpW6txxbGVOuq5518yevJk6tri4hITrpzsbDRRl82cMROtTc3Ipk5btnARsosKsXXDZgwaOQxlpQNZcQxjR+UOo1e/970fYOTIUfB5PSTHMJ6ngbNm8zaMGjUCtSThl0jApnWQcX7xhReYD9azEjYc9fV1mD59ujG28vIKzLrYiu/8+XNxz9/+gaFDh5kWkqeefoIW+RrywWD4fH6rrLxPuPPOO5N7+4f3781HGEoM/VQTzsvLQ1nZIKSnp2H8+LG45NIPMMEa8Nv/+w0GDxmEF5hoL738KhOXD7r9plkqrmZeZiRZkwMG5Jsmjm+yBvbSSy+goKAA06adgdLSMpLoQLzxxhuYR1dUUIi///VvqCUhFxUWYszo0ajaUYEf/fBO7o/HM0+/gNdmvQGHi1YtFWhJSSmGlA8x4w5nzpyBN+e/SYLegeeee5q1w3bMnTsbzz7/LObS7xdIzpqD9Ve//KUh4NaWFjz6+OOGuI5FaIEEr08zRYXhijmwZvFqfOeL38Ijdz+AEmcBPjT1Qlw17WKUufMx86Hn8bNv/hDzp78BZw8VDK25Ew1Sst6oG9XrK/DbH/8S//zln5BJYvzoWZfjpis+iQvHn4Xa1VX45e3/gwf/dj9aapskZLBuw/x8hAjz/YBlJlr7AsumVaEW0cCUbTVHSrFa5w8PRKX9+xdI14hYWStCWmYAGdlpcPn0SUQtW7zPVE6tePSLzfsCEaog4mhsbDSteZdccgl+//vfo5sW46GRi95p7HvGxyL1to52dNCSHMZKUEZWJglyFM4/71wSbSNefPZpxGlVzp3zBua8QeMhFLYqK/KF/yQeN8NfWlSE9LR0XH/9DXiQVvLo0aNYqRqJwTSWCouLScqVuO+B+5GXn4slixfjDfpXVFiEITSadmzbimeffhppJNFXXn7FfEoM852qqItcVQlRmL7//e9Tv3YZq/j73/u+sZiPJI4bbWZqLsxrEqjL7TYDzFUrc7lpndF6nTdvLlpam0iCr5kEECG6nB6SmJo5kk1BpnYfZ+1oCH5KS/vWW28163n+6U9/xKpVq8xk+urg9ZEPfxhnnXUmGlibq6mpRbAnyBpvJkaMGIFZs15FJBLDm/MWoLO7By+89DL9dJn5VHNokRQNKCJxl6BwQAErA5ey1uWFPxDAxz72UVx66SXoYqGprKrCySdPxTnnnEOiH4jTTj8d5557Lqpqqo94hjlYSBGoyHq8Xrz6yqu4879+gk9ccQ1+86P/xXUf/Dg+OO1CXDz5LFz/wWtxxzduxzUfuBIvPfIsHr/3YYS7NIzlxIIURMWazfjlD3+GYbkD8avb/x+++NHrcdnJ5+Lcsafi8jMuwtdv+jq++9XvYMeG7fjXX/+JuspqVlCsZy0L8ViFVLNFVdb4axVtKz6jaQ1t3riJpVVWJK/3c+LAwwW9SiGT2nGoI1tCn66svhzGsjTWpRX29ztcKStXkGWrPiyVJKcf//jH1CGXYsaMGea6KXNJgn6/INq00sKSgOln4nbxyGF0mSzVTbRC19OqXLtmDbbTCHp7+dvUlY2GaPuLQk3BGdSbf/7zn/HzX/zcxOPb3/q2ub+ouAgDSMinnHoqPvGJT5hWwM2bN6Ozo5PPZBlDSL3ZN2/aZL4T79ixA3PnzUN7Z5dpui7UEolpacjMyDAW+Wc+81lcfPHFyKYO37x5SzIERwbHMOmqpqvMJ6eal74zxFE2aCDaSK71jXX6gIjNW7bjpz/9H+yoqsdpZ5yDz998M758y5fxvdtvQXfMiwx0IoRMpMe4paUQZ6LOnv0GHnv6eZxy2lmsJf03Tp92Jiq2V8DjdBmCfoA1r+effw6DyssxcuQYMy5UlmwsFkEkGsYF51+IT3/6k/j6N27B177+JVq6yQLJexKs5jkRpF8RuEnERqnQ2va4vdB6PYgyLmGe8voAr9ZzZSH2uOBx+eDhHfq+Z6lU+hkPMRezBgn1orTqou8FcUeI5UezFGXAFU2DR8vEabwhNHexhpYwLL3FhsWMmk5lzgzxkGaxdIwJnVUw+xDzuvkCF9YvXIN//+xPuOfH/4eLTz0HfsbR7Y2z1htCwhOFk9ZCpt+Pi6edjS9fez1q1lbgjZfeAMIaBkT58Wd66tJp34xNdXj4aqrhWBq33ZRpD8kn2YLBAqimfA3xkFOWT+3vyUl5SJ/1Ob1H7R97dqailnRWteKd1/uO++41jmekiKye3FGz1fKCzoQbjTVN+O1PfoGrL7oMN1/3WeRlZsCrpksP/QmwYumNIcsFTCwrx/dvuAXepghmPvYSmhpaEaMSVNydLBP9nZY0dDN+miJE6ehg+sqyTDAvxin/uLsNCRcVqNLV3LM3p3xwkM5YgZRL0jnkdrmutY4tZ64znIbYGCGluSc9gPZgNyI6ZsU6QnLTt2+NiI0YH7RGsZaZdDJOTsqUZYgy1X1mSUjewzfTGqX3Sm8RWNKZ80mn+8x5+WOelT+Wv5KAGR9t3qWRENZ5pR1P6kmepQwZXvUuDzuZtv1+ak8zPfh7jxlXpj+DxPh7GXfmXZV1+hVyRHjV+o6ackKqyVikKqd+Kp2dnViyZAmuu+463HTTTVi9erW5RxV1EZwIWk739/drX+j/XjnzXsbd5fQjKz0bfuaV5toayiOGNWtW4x///jcWvf02Rk08CZ/6zGfwrR98n1bs9cgtKaReC5v4eumPi+Fw+TzmE93jjz6G4YMG47avfR23fOUrWLDoLcqCMgwHsXTxIvzu7rtJwmWYOvkU+Dw+5lvKjEHvDkVx8qmn4dN8z+3/dTs++YlradikM39rNeoodazyD/WX9BbTzkWdGqOhpXzSmw79nCmfcgyfnKSjs0oZU1qTMnivOIZJ951QfpB1WM9a0d///nc88sgjuPPOOzBu/Hh88IMfxMKFC7Ft21b84x//wBuvzyFZeoyzKoMsRC43vP4AsrJz8Pqc2bjrrv/DX/7yJ9M7b1BZKa3QTuyo2GbmgdXqJz20ZNXRqpO1K/WuXLJ4Kc4/73y8/NILqK2uxl9oIb/11gKGi9TFXGIVbosA3CRZ1RqHDB6CpsZG0xHrhZdegt/nxyBWHLweN+JGM5gBSSTYGImXKjNZ2AQpbLn3Cxp6EopTAbuYKVmYFF4tIhB3MiwiPCkgqRPzXikbZmnFi2EySkp+6Bq35hz3U84ZcSHUFsb/3vlL/Pj2H2HwwMGIRaJGMTQ2NyFKolDDec3OnVi/YQN6KNOJY8fjzJNPxdvLlmMVC7ShAsrSqDQpuaQzE2lQ4akJWxUtdViU4nTQT9UKLCVqnVPYFdaU0znVjFNO90nJphwYfzD+Kaf4p5zCscsx37XL8W5bhSWh8CedQxODMPByLla21LEMYSrESBzPPv4Mpowcj49fcTUQJNmoiT2SwOZ1mzDjxemmA4pmv5Tyyc/Nw/Wf+iyJuhGbV2+iplaxVnr1vUvvV3qlXGpiEnXEcscYDiaSVuFVWMh79JfxTzqFX3JPOapMc25vTh3h9ur4LGuRvU75KsYwpJzOOZwsG0m3+/OSUZongJ4OVqwYVjfPuVmZ09ZMtCJ5Mi6pfRcTmLqX5xgybjXnhjrvma3uY9xTzmuqtZZTdZN8x8zBZ7iV03Nyuld+m2m95Ze25hwrhlGrk5smarG2CpfWONbWclpLWetUU/uYrSvhMc85zLNW2BW+RCTGe5kj6UScKSfSTG01R3N/iBTa29vxxBNP4KqrrsLPfvYzVFRUGLLVM7KSU98z++uSg8HAsjJMmjgRP/7Jj/HQQw+ZZm59BrviiitMGBYvXoz//OdezH79ddPj2M/KtFtj6FkOpKzVsWnK1Cm4995/45//+pcJs5qYzzrrLBO2DevXo66mFtlZ2eZ9y5YvozXcrUdRWV1p+uvIwl++fDn19F/6RqpQBm7q9RaGRddLB5Xh/vv+g5kzZ6KuthbDhw6VJnkXWHdI98oJ71VeKciX907dhwD7U6Pou8eoeXOsHm1ah/KtRYuxadMmTJo0CZOnTDFktnHTRsx+7TUMJtF94MLzebzZJH6U5KaP62NHj4aLx+o9vL1ii/l+4GAmOeOMMzFs2HCsWbsOVSTTgay1KUOEwzHk5uRj9OgxJFEnZr02gxn9w9hZ3YzX5ryOMePG4PyLLjSFhlkNbSSXtWvXYMToEair24mM3AKSTykrAhV4a/48FBcWYDKt6h0VO+BL92NIeRkWvDkf4yZPgoeF+G0S/PnnnM2CJluFhVE1OIZXik5ZQzjYbCHZbW5cgT/+9U/Izs7Gxz72MWZcKew+OZs3UWno3d2JLmyupvwYjAnDTjKKRTadsKe088S8mPXCDLz50mz84Re/gZsE0sWa+W9/91t0sDJz+w//G62drSyk/4Gf0vrWV7+OjIxMtIa68LenHoavNA9XXvVBo6tVS9UrrDG9VPIukpIUqisHK6p3Yt6COnz24yfDH21O1nIlL+UPKyza31/0dUqysKe4pWBd2u3+5NYKsKpZfSlEw95AVo/udJHQHCSCjmbK4zs/wL/v+D/kpGfC71bnEkXQiRmvzcKM2bPwrW/ehgEF+XxG1r96Osfx0HNPoDnehXMuuxA5RXnG7xQ0mYSg8CsEPvoXdWh4iwLhQm2bH+s2NWPUkCyUDqDtpXHsKSjc/TOWrNX+2E0mqsz0R/84745dn0zhnWdTsnUzWPqs09zcglGjRpr4WNf7tpZTbmQ4ZRHLP+UDErNCw4vmDVYzfB90nII5n/QrdWzuT/lvzibBY/WONfeaP2ub/Gfwzh6zST9S/nMb1wxXDN6Oyu1YsXwJivNLcerks5CTVcg7rPQTUtatnvnjH/9oOlKJUFPQpzVdF7lqf9y4cbj55pvxkY98BPn5+cbQMHqDz78bkVhN5nuGnu/o6DBkt3LlSowcORKnTpuGjPR0bNmyBQvfWsQ8Woipp0/D9k1bkF9ajKqt2zBw6BAMKiml1eowIz+am1vx/PMvGmv8Ax+4wPS7aWxqwtwFS+nnUNRUVVF3tqEwfwAGFA5AXm4W1m/agOF8n0hWw0NFwFOnTkW25ndguLTQyexZryNC3X4mdeYzzzxl0uiyK640OtvPd/fHrjlBObZP3inoiT3J7EDJ2Phj7R5dUOT2jf4Fglvup45NAeBPwkjNXGMNO7AirCZHF++BetKaM9Y9gtVCpKdZk9S5pDx1XUkh+fYWTtWuXayt07RS0SY/85ko/VYtXlaUVeAdtL6M93zOpfDwrAqFmjxSSatu73qVOl2ZweX6cWu+3/B8gkpSlpRXPWX4kDmnMCmOes783plR9hfyq7p5C775rduwbt1GDB0+jP5JSVnXTPMxLUnV1LUf90aRU6xelU407WgiWcj6MTf3hk0uBVkjlRu34c5vfR8fOP1s+BgXDZHasG0Lfv6rX2AUKxY5+blYNH8+fvDVW3HSsJFwy3pl5B6aMR2PvPISLWE1g6ohSJJlnFOk644aZRxDFrylZRg89CIsW/AgAvFmBoRpJWvNCtw7wrX7sfDO68kDwkwIkALPm9l0+mFvfmljiKDfdUeUfvPXR7qyjliBYqQnjz8J9/zkp+Z+i/edMrpIuK/htblz8M3bvoGi3Gymh1KJMmDSr9i0Hj/9/f9h3Y6tSBgrX89ZSL3Wig+VUjSOCC1JaKpCytCXM4bK8BTUbFuKrpb1zKF9pJtS8Cn03xd0vT9SsysZ8N7+182Tu/nV3zuLLN+J1Du9jKssJvWtqNHi9uZ565r+961ExCOTNjprOetTlK4loWeTu3uCKeupG7SjE7sj6Uf/sqfwGEXc//ndkXyu/w2y5I3oVBFi0PWd2oOAuY8aw9wjqFUtSitRhCqy1bCY/tiTJavvmxdccAG++tWv4uyzz0YgQH+T4ex/3+4Q6er9uiO1TUHPm7Tl82YiIV6UFjIx458MFpXRKDOwWhzCjJDST43MXrUaRUMMq1URkk5VZUDEa8LEdAwrbzMqaqY3oygoH6PFFSajFy0DSeiNM7eSjTMeMrpZnWU1PFRNFvSOz7KMaVSAhJuEwmvlIRMB469+5qD3v7XtTdt+2Jf89gTjj7V7dMESwt6hwqnpwgQzAFoJRaeximq+ddLy3JcsNPRFwhVUM1emUbqZrZpX6b+eN+JP+m0lh8D/VumgSxU2hVfh4D0x+m0uW9e0bxUZKylTR5ptyMRSSo1X5KQz1KzJGPAunlFcKAtlfXOGylIkrvG8avpUU42yn95kfE++82BQV1OB62+8AW+8MRcRvkc6KxVj7Sls5DwTH3emEyedMt5YZ0vmvW2a4fon2e6pJ18CdGsXvIUCXzprolalpIMF742FC/CDn92JwgGF+MoXvoArz/sA0vkefYNUgX192Sr8/O4/YcmKJTzW97GUBOkvd/RpUpZuHJkoIlldeNGX8MBfvkvd1WjJzCjbvhD1LyQ6v+s189/sC9alvuPdY9bPq/2A3pXcFZThDKP2nfSQQv0OP7759VvxnZs+ZfL2zp0N6OjppvUJzHtrIRYuXYIbP3sdirMyeK8bA/LyzSeRqqZGfPOOH2LGgnlUPPTMZMI9Q7kt5vTxv76GOpFVPBmjJ5yLDaveQPvOlazB9LN0k9hVNrvKoT92iSOxb6VkVHSfr3t91rrgJeEqvdQZcWfdTmPpGLzjFTzB+1SRUbkws80xk5qexUnsHq7ddc4uV/fkv8BnrPDrmI5+am93v1K37wnWk2r+V37QgRKPFXRavu5EgGTMyqZp67aQsmQVfm2jJrH7IFJOVXRScdQz6s2rjlbf/OY3MWHCBHNNZNVfDnquf9g1LldxktGiayLG/nhHPPtBIZCe1fd3Jy3OKPWqSNeQsGIs2Znnpef6C0i5k8+btLO++SuPysix7qLmMDv9dV3/5xWuEMuOzmooHX0hCesV6v8hfSAi1yNKLVVcJEPJSOHQpzFD6gybQqC809/3Xd/E413C/u7Q3XuX2hHEvhJTEOnG4xogHmfBY02PEe/q7KLgPKYWrB7L++IfDUOxEs5KYNOMIseUCjMBgtRwapJWgolsXPJPd5pgpYSsF6T2jS/GWRTYd0VIPaarhsgYPzcLkwpaJNTNd/Iprx9pHtIE36XvOqZzBm91M44RNaHymShrgjU76+H2BZBXUMDw0drWG1VJ0FuohA8WtTXb8IXPfx7z5r0Jjy+1rqpiQSdyYO1QlpgOXSTd0ZNG8t1urFq0mpWB5H390e/QRSFGO7qxkoRe4A1YhZBp1sNwL165Aj/8xc+Qm5eH//7udzBx+EiSriy4BAtsHAtWrcNd9/wTK9auQMzNyhbPqRiazk+UX9ytZkfK1ZmFvJHjcNqZn8aTD/6clm6LqdHG9G08CROk3YIpsfXiHVHYRyYy6Oc3n00141rQNev6ngqmOvooL6QWMVBKajhVPJTATdddj2/e+Gm0tXfggQcexIpVlDGVQl1jA3Y2NWHk0CHI5HFxbh6u/fCHMWXqVOzsbMe3f3YHlmxYZ2r5yQRMYvf3x5jPNA5anXScSMsbT0t3Kqq3LkWodSMvq/Nc8hn6kwq/tbUU+p5BNbb7q/qd2P2SYPw0F/hvlzAnr/XfqpMY9zMytDhD2ExGY2gueV2tMFYLiAtNTS1oaWjhSScK8guQU5AOTZfcC+uRXlh0mYTxctcbzLfIFHa/vouoJYOkS57aHf31m7yRZaccIN0RCnehva0FAXc68rNK4DGtFqpqWpC/pgWMfuh7rXru9vcvRaSGNLiflZVlxvFee+215jvvwIEDzfnUvf2RIiANPZI13NCw04zMkKUsMpfrj33pac3eJ7URYax6OjrhTvMj3eszx27K0hg+phLE/G8sTwrCKGWFySoXVl6T03t1XiWGFQMj2b6w7x6KWCRIGXaRC/IYnzB5QTLmBekLeid9nnpGVnY0HDGy0DdpVW9yaQB4GFdpfb2pf0r27VnYJR/sB3T33qV2BLGvxBREkjGSrrqQr1u/gQQZQG1tHbJZ45827TTT/6V/Gdkd1vedZOSVM1QtSkQRDnXRv01o607gtGnTKFDVlllfSpEunfKFleh7ErYIQX7zOd4ur1OwnpPVaj3nifdw34OKrRtRvbMJQ0aOxsD8bBKLOre4TI9JWb1eZt6wKwYvC8S2rVvw67t+hwsuvgwf/PBHTMcE0z1FFQZBHz0PElX1G/DDH/0QNTXVOGnSRFPzE0ysFXZVQNSOyf2YNwJHGo95wdGjArQr2VtKJ3lAuOM+vPDoE/jXr3+LkUWlrEBY/aK31NTir/fei6b2dmRmZSIj4MMtN96EMlpvjD2iNK1fpuU2e+lCFJQUIJCTjpgEa6AEpoXACokvTv8SGWhxetHeNQAluS3wxZoYXuvbVgqWwuoLmBXOfgHdLU31bP/ruyupXb75Gr/7vUuS6+ed5VfyQDAdk3TCqjCpFcHH8C9+kxZ9Vwj/8/XvIBaNo66+Hl09IZNvFi5ejPmL3sJnrvsMBuRmI41+aptBq3dzXTV+d9+/MHLqFAweNYh+94XN6rxi7WvjobKL0tK1rConmoM52NkMkjgVTloHw8rAJANr/nPfOmQcTY7ow+6K2CTLXrC7vFP7u277rvdPK4F2iyEGOQ0hGTtunOWnLvKfRbqUM/Pjow8/gf/86wH0dIYor+tx7Wc+iNyCDOOPAe/v77takPqwe77gmX7H5p3J477zqXC881r/bKKbds1HlLWT1lvCy/C7sL1iKxYtXIiyonKcc8ZFGJBTzFjvKtSUv7fffjvuZfmRPFJQesh/EaWGMV544YX45Cc/iZNOOsk8l3IpUk75JcgfWbQPPPAArrzySsx+/TUMGTzYdHhSK+IBWbq8pGdEsrNemY7h48Zg5OChzHckXRMj5SQRqqz2lD+KJ530Cs+nVpvqPW+gc/2P3xmOUCiIBx98CJ/+9GdInjRiqDNUxiLhKDponGXm5hg5KeYOhlGdOhtYzh68/wEEWJ4+feMNyEhjJY3eSvMbCSXl1CctC/3ltz/Q3buG9ijBu5IuSTIei5iJI5586imUlZWbGaiyMrMMEXdoKjISkTeQxjSNk0x7MHb8BBqzEaxZv9EUTH10HzZsKAvvRj7TxhqlA9mZaXj+xenMGBn4+MeuRktjI7o728ysVANLy9Dc1Ezro40Wagw+f7rJNJpRatzosaioqkBPKMzatAdeWtxjRo4y9KtmcPWa27GjQtmLFosHRQMGYFT5AERJFq/NfAnzl6zAZVdeg1MmjiW5kbB5XpauFK2PsghTObqiMfzh7rvwIjPw57/yVVz10WtNttM7LNKlzN4D6W6pX417/vFnZOem47rPXAenrAqxLaFNXKRLS1eKrTveifXb1zF0TkwZNYWR3FUV754RvbE0/OEXv0YmDahbb7iZlQoHmto68K9HHsaaTZtw2223oqWtFff/516cPnkqPnn1NVQaAQRZsbrvxccRz/bgwx+9Ev6cAOWiig3fxjTU90OLdD2UZQCrapowY9YW3PL5cxGItTH8/Sy2FPrnLV7bZ6FJxn+v6K9N6W9/GfBE33bXCxbotSFmOuVH8Zz6525YtR6/+fmv8M8f3oU05l9V+lSD1HSir8x6Fa+9oW+630QRKyYeVSpUFqhUXlkwB4u3rsOV130SpcOLGPS+Zsek2uiFnosl1KEmTFl6UNnowcoNDZg8tgCleVHTOU1RN/UbKiUpSms4k84pvCb4Js5GKfUe07LRB7x9YNeQ9Ieu6IX9kbrbOq+e1hJHmJbJ22+/jYkTTzLfeC0S0V36WaR7zx//ibt+fTe62qO45atfxM3fuA75RVnGH2F3HfOuypOXTTlQZVjhoVxU6VQZFEEY+jCVG90Y4zXeo3DxDk2bmILesmuLiEU8qRECGzdvwJtz3sDgkhG4+LwrWREqZ77oq9iIGEWWIsdvf/vbpudulNZpCurRrAl4zjvvPHzqU5/CaaedZgg4Fd9UPHWs/b4KgPWNtqmpEV/84pfw/e//AHkZAWTmF6OjuQ7tId2v9Kct6KHMoyGUUO+K1LZtr2K4gsgvKEJRUSH1XQ0aGluoB720Ggvwh9/ehcnTTsblF12MilreSz2pJVTHTpqMhsptaO0O0m9KQC1pfh8SoRhKywZSx/dga2UVAjyXkZ6JktJB3FcjdQJVVVWorq5l3EXaDpQNKkNJSTFc1FuVO7bjizd/CX/6898wbMhgRjpGCSbQ1tZuppE899JLkUsDzaQR49zV2YH5b8zFfazAnHzWmbjhy19CFklX+V/52/QJUrJSSjruj3fNN7tBKXlMTgNp1k+NOkzzymvMoE4S2YaNG1nAuvD6zFex/O3V2LBmDRYuW4MWZqKXn3sOo8ZPxMqF8/HS7LmoqazGwrcWmmaXu+76LROw0jTT+KjkFi9bifZgBLkk4IXz3sDGjSuwjOc8Xj+mT5+NpW8txfqNq7Bo6So0NDVgxksvYMywMbj/wX9j7cbtaG9vwZzZczCZ5OFjZglFurFmzUoz3dnGzVuxne/2eX0kfFojkTBWrFiGxUtXoHzEWJQPHcIkFZVTmSotpVCl6WI640Buup+k7kIGa2qaolJ1NaMYea+V+P0L8/5DBbCtqxXLVy5igQpi0snjzZAUy2MqBQfrq9SsFrXGEEn0oLFlJzNtHMV5A5LnFULL6Z7+Tr/M9HQ8/fCTOGfaOQh409DY2oq3Fr9Fi/0yTJkwhgU8DTmBdDSzxlk+ZAj8WVmUVRWWrFmFspFDMGLsSFZY1JkqasJixVbxDdGSlsJyoKFTFbEWnDq5hMQSNuN/FTTJdG/O+ni9F2fisg+3y7179l/h3JNLOKl4xLS6xwhbHWncSMvIwpsLFyHPnUPlSYXL0m7SOBGlPLZiR00Fzp42DbneANy85uAzrT09eGnuLAwcSzlNGQWfz5JM3/t2DZNIVJa2m7JLIA0tITdqGiMoLvAiL0Dionw1bMzL5HOTXEIMgMYRZ0QSSKe14AkG4erqQaKlHY6WNji5dTV3wMVtvL0TjtY9O2cLt3t1HXs513c+rnd0Wu+Nt3YgWNeIDA3faevUPKZINHfx/R1mf/Nbq1C9ZD2ySEgnjx6K8UMHws+wJxgOOeiZfi7R2k7XsWfHCqKDFpKTFpGpeDCvSa6SsVLOLGzCI7VcaTyvaiFqgTKfP1QRNonBf0m3a2rQMf31HTFGcmhiuaqs2MGyXoCR5eOQlZ5jynbKpaD9V16xZmJKEagmjVCHKfVW/vKXv4zRo0ebZmJdE7mmLNvUccrCFPcoHzJnYEfVdjNd7pAhw7FqzkxEvfl486Un8MaKLajd2YAXH/8POlnJXbdsPuoa29HW3EhDZTa2bV2LyrpmM1fB7FkzWLZXoLayljrQb+ZeVmW5IDsbM2dNR8XWLXjlucdRNnYiZj/xIOYsWo+m5lo8d/8j6HbHsHbJUuxs6UJTXTX+dt9jiIaD2MpnPP5MFBcWMQ1Y6Vq2CHOo+9ev24gtW7aZz4rFxQPg8rDiQp3xHHX+yadMYzyGmvRobWnC+lWr8MLzzyOrZBBcTrchciWkpp7MycqEjzIJZGaSK1iZ83qYzqrAWbJWSll6R4nZhwOdBvKoJd3bbrvN1GD3CuUS1h71fS8YjWDw0KG0OCOsBaXRGm3BWeeejUnjR6OmpQWfvPYaJn4FsgYU4oF7/oozLrgI48aMxuIli4ylu5FkPZ7km0Mi00wmWTn5yC0oxrDBg9DNwjZi5DBUVe9k5kmjRdyDadOmYuqUCahtbsFHr/4ImnbWIie/EFs2rMUVV38UV1x+Geax1pSVlU0LfCADK6ucljFJu3RgGWtwg1BeVobC/Gy4qfja2lqQkZWLiVNPRV5OJmKRCJYsXoLly5aZaGYxM3jcbtOUPCA/1zQx5hYUmok59G3EFEOTGYRdM8SB4FDOvRxxUSHQul+zdg0qt1ey9jkMhZTz6VNOwchBQ0wHi4DbhyGDBmPCuPFIz8pAa2cbZs2ZjbjPgTMvPBuZuRlUTFJuKgX6U9hYFFSLpdWmqTzrO8Ik3WacOqUMHhZMp75ZvgeZHEpYomQMjIxFkqyuyHJlbSudVv5rz0zHYFoshXl5tGYZCz4QI2mks8IyZvgoM+e3Oqe0hrsxa/FcVLfvxLTzT8eAgQOoJIyI9gq9W1/NNTo6AR9ag07UNfSghKSbk8YwMOOZFGW+SpBw3axUZLT1wL25BvGVm9G1ahOCmyrRtWUH2jZXoI1p2lJRidYdVejeyvPb9uw65XjdbA/CdVXUoEP+76hBrLYR7TwXJfF20dLq3LaD79iGjort5l1NDGOiugkllNPwvBzkMg6h6rp3+NnnduzhnOV6ttE621YLMP6JjVVwVNbDycqF2+NA1Ad0sYxT21tWI1nZWkHLpK5JNynrfUM3W/e929zLIoCU1SrSXUY94fP5cGpy9iZ1lDr//PMN2aaIdu+QP31+q1UuLzcXs2e/ji98/mZsWbMcmcVlaKzegjFTz8CHPnQ5Zs94Hl/79ncZPh9enD7LzA+flpGLceNGorGp1Sx44CPxZWcXUJ/lYtTY0aiurMTFl13MCkQ6unn/yOEjaPhUwp9ThI6dlRh/yjm46qrLMP35F/DV737T9FWYPW8BRg0rh8OfjptvusFqLayqwaSTJjBbavGCMNJYSS8uHogy6tXBtGhzcrNN+SkqzMdrNHy+9tVbk5/JYqjYvs0YQytXraE1HUCa12vKl0hQ8yJo9qod27cjRF09ijrI52F6SvIqBpK5BGTS9L2R7tGpjYh3fCfaDcqccZdlBfK/WhqZ0WV7OOHPYI0l4DXjwNIy1PQUJ2FRoVFhd7a1oaGxHnUkStUK1ewyefIkZvRm841o/boNpilBbfzNjTzHGlQFC0Aj98NUeLrfl5b0O1MdrTQmjKRCxe9gYnl9pA8mujp3RXmcggZqa9yw3rF1yxYzZ6opN9KOTEbT65ondBRnzby6qgrr1rP2RytdzTBKcet2Y9vSpYqh9T91/WiFatAxVwQ3fPUmbGqqwOMzn8WOhmpWrHxU6FQMMRG6vr244fC6UdVYhxdfn4H6nmacdv4ZKC4rMsrMggqCVQhEwEdzvPcJWjeWhWsVQw2GcmgWHebrqadOwuhTxuHJ6c9gwcrFaA/38DYnRo8ci49c8WGkBzJNh4/q1ga8svB1LNq8EpPOOQVlI2gZy9AyPr47RAz9ocMog6OZ0NyqALBi6+4Jwrl2G1pmLsSOhUtQt2kLFWUjYszjasnJHJCHjIGFSB9chMAQueJ9urT34oaVwD+U/gwtQtbocpROHQvf4AE8VwS/3j94oHH+8oEIsuJWF4+gmlZSd3oAPuahPfq5H85fXgRHQTbCLOw91CHtm7ahaeFKVDxLC+/h6Vj1yAy0V9VDM1A5WNnzxiyLSJVNqzXj/UOKcAU1Jau17ktf+hJ+/vOf43vf+575jqt7Ut92DwTSfSIYo3+ZGdQ/0slKlxqv8/OzmD/jSCNxpgd89Ntlmrp7gkHqqQa00AiR/pOhUV5eTh3Yg9VrVptlUiORMO+No7q6BjtYMZOrb2wx49K1IluuxteyJAcyM8y3VDXzqYRLPSoOWp3MrBJEg0T6VdJtaW5lBXsbNm3eREt3s/n0Z4Z50mmjBTIEaQj5pil4zzzrLGP4nHHa6WaeZ0nHUsH8R2d6LvNQqsbUk+TeZ6jEH5WWrjLPPi1dqiiNiQ0xIVauWo36hiZ0d/ewdpVLy7GDgi1EmgfYwtrR+FEjsW7VChQPGYIcrwcRjw85TFxNonHGGaebdSCLi4rNBASScSCQwcyyzpBofV09ho8cigrWrAuLigyRFgzIRabPiS11dRg9fDg2r1mLAlqvFWvXYevOBtTVVGP7tgp85MMfQUZGOjys9Q0cWIrTTj8Dp9OdeuopKKdFJ8JmdjIZ9u0Vq0nmGRhcXmaISAVJ4+kG0V8VLGU8kzdIzgsWLUZGdjZGj0lZulbOUIbR72BxKC1dNVGqU5PmWi0fOhgr1qzE5m1bUVFDCyXYbdzO1iZsrt6GhauWYdGGt9HhDOPkC85gDXs8nF4Wj6SVazWJGWmYP1m67vixZ+kmS7tx+m8pB1m6gIcVj7IRw1HbtBOr1q/FVlpvDS3NaO/q4rYF22sqsYRWyMLVy1DV1YBJZ5+CKWeebJaWsybmF+TrnmFZYeqdGeEbaen2OLGTlu5AWrpZ6VHThO9levkaOtC2eA3ql69hpTOI3GEDkXPOycg7awrSJ46Cb8wQ+EYNhn/4IBLhIKTLDRmENG735HQ9bR/X380FhmlbRvIeaB0PKUU6zwXk55ByEv8QhoPbIcOwcP1WPP36fGxp78LYC87GGddeioIJI8zze3e7vi/lFDffqCHwTxiOzCmjkDFqqPmuOeepGVj82ExsXrLeNOUOGFxo8qNWh1K3L8sYUJP0u+VBJYiU/rtbuoKIUdCQKc3L/rnPfQ7Dhg0zHZ10bXe3d6RKrXWPvj2rfE2fPpPWcwCN9dUYUDoItSynJYOHoiA/D6/PfhWXXnYZmhrqsI16ceqkyWil1Z/NSo6X1rXmlW9uaKCF6TX9awYUFxljp17E3NCIIC3UgSUlZraowqJB6O5sZKV6BAaWFmD6S6/g8g99EE319Vi7YROKCnIw4/V5CPd0mhXZTjppMq3TgWBdBmXlg6hLTzeTF51+2mkk+zIzoY9IWYbKY489QZmMMOc1esLn97LiQEOLRtnJ005DIa1ppYrEY3QnDzZu2IBgOIKxtHTVkpTSreampBjfq6V71JLuD37wg/0gXSkol6nVqPYlgtK0iiLQQYNKmAnSkZaVj3LWvNJYMystG4yTJ52E6vomCi6OYSRMzdai2pqm1dNsLeeecx5ycnJNJ6KRw4aa7vJarquopBTjTxqP4uJiJmIx8rJpTWfnoZy1JnWDLyGJrlj0FjIGsFZMYj/zjLMwZvQYkwHcbiYTE8009YgklcDmmEqWhdFD/zWdYm5eIUpKi6yu6rpXySuy1b3JZxhpM+1hqZqnCwvNtyUjAGUI3WN2Dg6HknR95AHZ5/rLLczFsDEj0B7qRkVDDTZWV2DT9i1YW7ERW+sr0Z7oRsnIQTj94nMxlErS9A3Td2WmmaUkLH/0bis4ssqORdK1/qkOocKtpJQz0JZ5duio4fDSSqtrrkdFXTU2V1Vgw44t2LazEq3hTuSVD8C0C8/AuCnjWWmToKxafdLzvSJFuo4k6baRdOtFuvlUTIEoArRMHFWNaJz3NoLba5E3YjAGnDsFflqX0ewchKiQwm635ZhP9B3TOKZBjK73eE/u3a7vzbFchFkeIsyH1rnU1to3aw9zG6aBo3csWrwK8+YvRjfjMum0UzDxzMnwZKb3e2b/XdxhzVoddjnRQ8UeSUuDIzMXL89ZiNlLViIRc2FQegaG5GUiLSeAiM+aP1kVzRgrj7v37n8nlCB7It2xJF1amLreDylrdwgNCekwNS+ndMXubl9Q7xGrEFn3af54QcMl1VdgxLDBGMR3aHjiwEE0WrKymC29GD1qtNFJ+YXFmEiCClLG0kWDWKEeM2YUSS+Czq5u8xltInXJoNJSRKmvp0yapGZMo0cG0cAYOeokkmceBpaNQl5uGuPhNzP8KS7+gDoyRbGpopa6eDBGUl9PmjKV+lVjbxlipouT6ZyKp6VjjRiNSnQ63dTfWeQFki7FL13s9foxfMQos/CKyE/nBKv5n44PFhQUUs+XGqI2kpGH5h6z4bn3Rrryxkq9owxqjtWH8b1BM5HEtIyTDqwUEB9RgUnwJAfTASnM+0TcrGmqMS7m5jn1ksvg7dbE30aEep4Pm+f1UyGT8oqrhsp9TQgvzc+Ekf/q1KJesT0uP/dj8MSiphfyT3/8A1z5qRswceI4eDTjSlzJQ0Jwq3ORQsr3JGu8agZ3sEbMPIVEPEgPFTZZtLzCVDF5IIlkWhtoXl7FWs3qGtvnUaZjRlGGECnKdjkYqBBvr9+Iv997N7wZMdxw0w1wuKQ0pGwUGMqT79L4YVlkXfEOrN+2ztTgJ4+aYsnJ8mqPcKvtn7BmX2KKyBpjnBsb27B92w6Emzsohxiyc7JYgSlBQXEBEh4pUiNs+k/pMYzaCtqYzwmmQETgi6ZR0XqxuqYT01/djK987jQEYl1wO3uYripeRx+scYiKXjKFleiKbjLFI9yo+U0u2B3Ezqo6WhDNCAfDrGRm0AIZgELKye1XByzzoPW88pjxW1LaM8x6r5pcH92UTxYqmt1YuZaVldEZGJXD/LijApVzliIRjKD09CnwjBqErgwPuqi89P1cnbtSr9TWdPRK7keOkLhNeFimNPmC4vaPu/+Du3/5Z1pb3fjS1z6Pm2+9HvnFe9cp+4JIQnkvzIhG6NRNKtIawS9/8D94+t4nUODy4L8+8zGMK8vCsAtOhu+kiQj7sngfdZCXMo5rapi9gR7Tf/UOV0eqTZvXYf6cNzG0aDQuPfdqFBeU9eYJoX/zcgq9xMBr70a0/aGPc0Z5JDNPJCr9qF31jnax/FBBUa/EmFOkX0RKakmRXpPRk6Ceo3qjPrI0j+mgJ53HjcqmOtBrLndrXH6CFWHGkTfqthh1qBPpiLtbEA1lkwj5bpZVmRv6ttwTimDR3Newans9vnrzjXy3dDrJkkpThJhayMQKu6B3W8582mMc1LNZa3m7VR/VNfqveEgjW3rcaDYzGkV6TuGS1raG8yWfSclTN+seQ9d9OBB5CwrxMQkJRvPOup3qYWYluOqSmgxBK5fIPlONWyShTKOFBtxMB3U8kZKTnDSBhvKvvgOoC7++G1gCpGCZ+bUAupIkwURWU7YUmdOl5FKN1JrEXPabsQDp95VXX43yQeWGxM1MUiZjvFPESlzrLfzP+8wkD8qg5hqdXrsX6FLKf1PAkie1t4/Hjji63S4EafGLRNXK4GYkJeP8AdmYdOpJmEQr5JRzp2HyaZNRTDLRJyWnChcLnwq56R3KZ6w4mli/u7COckgOlAh3VAFJxSOZO6gwvDytDkzK04EML4aOGYJJp0/ClLOn4KQzJ6FwWCmcAeY/qUTmeRdrjVYz5oGzntG7SUSa2lC1cDnCHR0oO3sqYhPL0ZylVW/cCES91jAltSKoIptcDSDGimnUFUHE9C4/dK539YE9ODXrStGrqVBbSddyLMUsL/reuic/99upmZhx9rBy6I2JWCz/g/S7Xh2Qpo5FzvBSrJ09D/GN1WZu7TCTQt/GDxX2RMDvBbIWjTZhnMw+jQ1ZkwnqWW3V41cLUUioTp6z9KV0LMNBeaRKqIHRq1bGSmUvhVdBlv5OjYtWBVDT4wom79NvbfVdefSY0eYzm9GOkjdlaUqIee/eoet6jxmL2+9e65utpWtTQe29ymsKk+7XOeNSz/be9N7xTkY4RiBhqAnYqaaKJGFqlhElniEl1W6oJHiaxKwamxcOnwc+l2ZW4bPMTCJsD6tAskqVmZRA6ummiTDMsZu1Kl53uwPwsibr4TMievNOnvfSb6/u1T1+D6adfiZKCvPgZeYkv9B/JrpJQCY8qwRmq0Q0JCvhi5TpZFG6FAZlRV3b1en+lHMyfAqnwuwxmZ7nFWf+9JZDid35TYpaThbnbpfeAY3tNNO+8WctYadgU06sFPU0d+GlJ2fgzTkL6B9rqVoKTZMFUB6Sm6xorQhjLDiesd6lY8rLnE+d2T2A1v1HLxQ+ZqKUIOWS4TUVDKarqZUzs8iyCkfiWLb4bUx/fiZi3WqypFZXpdCQiZxVMbFoZt/Qq3wxVWg01CqCEN+jGcLcXT1oe2sF2mtqMeiMKXCNGISgRyvZMK8xHZQi1k9ht5wZT27CaW3NJ4mDdFb8LcVoYqI8o/RN5R/eYmLHMmasFlV8adU6oOkhPYjRzI52OWiFsqIc1HhW5TNSZVcMwZYeRNvDiHXpGn2PWc/LokuwbHsUhqToTKsXnzMlVwQj4qRsFQb1T9BQKlltFDmfT1B+DnQU5aL8nLORPWAgKl56Ha6Wanhp6YbjaZan7zMMOSRdCv339wdKx/7+uKiLXC4fnfSfpV/V8id9Jo6k6rS21Hm6R7pVelj6V9PnquXN6F1D0NLJPE7eo1XSzFrnRn86qb+kX5Wz0uGlJSodLT/1Ts0s6Pf5MGjwCEyZMNY8I13t07u4tZqVU/klBe3LiQP4Ht0r/aw4WClJ15dzjajo9MnPneQA3adMYyoL+kvJpvenJ98b3rsPRwpGYLsJRgWezliXdBqOQzlSmBSVEkgzPUmJG9LlvYy+ySx0fX5Y/liJSscE02L3JlHknxIv6Z+VCblvMpWO6TeD1X8MH3eTCWWOel3qv7lu3q93cl8nklf36EREeiedxpDpnBVv4xuPDy1SxJuiN217+WIfkKKSJSaIRLS8HI0zxGmkbFmzBff+7QE899SLqK9vplK1lKvlJ+Mq5WaUsk70OUO6dOY2E5BUqPrDXD06YSK5e97og+Sg7/ciX+YqVGyrxn/++SAef+AprFy6ylha5ps+oQqKGaZiKMkIw5zfE3RFFSWLnFUO1BENyIyywrOhAo0bt6HkpDHIHDsM3WkepgOVoJG91XxoVQJYIVC4Tbow78qxAmWWpUueOzhnpatCJ9I1sjHnuFWrFZ3bwUpqjOUx7kVPawhrl67D84++gH//4V/44y9+hz/+v7vw1//5HbZSRmNKB+HkUaPRXlWLp/7+MO75xZ/xxzt/j7vvvAt/+9Vf8eQ/H8fi2UvQtK0JWlpPfQNAp++ZWtbQqtYwHCyjRqqMu7GeeUrBNOf4Ty1dQaZBMDcTEy44D93BLjQvWQp3SOOgfbzr/UNKT6X23xv0fMoP+UtdxrhbejT5HjqRrXKhDo2eEpHxwOhRnpA+0lY6yYxtlU6kX3rAuib9yPMiQW11Tu+ip26HvkfLX+nY1D1MCxKwFoDxyH/eYMhYW+OvCY0J9a7QOfpt4qLnrK0VevptfsknUzt0CqO5asLFE/ozz/W/LfX0e4NCYsPGYQAJQRlZmZY7qsAkqEC72rvxyEOPYcum7Vi2ZBVmzZhDa4OFzShgZXwRg9yJBkZen0lkuVIW3Z1BLFqwFHNen4+3l6/BjJdfQ2tTO69ZFcFeBthPiNjMLFNMD32fTQ9HkNXQAuea7XB4fcg9ZRLa073oNp8E5DXTwCH6UVocwIsOEKlKnQWLeEWAiqf5lBTxoKuhC0vnLcEff/l7/Px7d+DJvz+ImhWbUZhIx+lDTsKHTj0fHzn9Qnz9kzfgd//1E/z+h3fg2zfchI+d+0F8aNql+OApl+DSiRdgVNYQoC6MN5+cjT/+9//hv2/7EZ5/7GXUbatHIqxIu1npcSFCEoiIFaQuJede9AVWU7U6YnG0pTNfDyzAiIvOwo6Zi+Bs7iSRn4j518beYJOujcODpDa1LBkRqhvRcAIL5i3CKy/ORCSSQG1VA158Zjq2bqik1SRFqyeS3zxPQGgSeFkSakKv2laDpx97Fp0tPejqCGPe3EVY8pbVazZhzK7kQ2Zn3/ISbWhJwNRDol5/PEQCotx3NqBs8gQE83PQ4/EgatIraddya5HuoYNCZdGa/sv2YD5gHGWBdjZ24cl/PYb/uvUHeP35WRhRNATXfegT+OLHbsQNH/w4rj7nclx8yjk4c+wUnD5mIk4bexJOGT0Op44Zh1PGjOH+SThtzBScfdI04z545kW4+sIP4eZrPoObr70Bl59+KTp3tOLuO36D3/z3/2D94jXwxGjpW80NljMq0wphf+iMuqX10CRs8TuRO2kUcv0ZaHt7A/wRzTK+p6dsnIiwSdfGYYalSLUeX0dLN/7+53+ioy1IheZCNBTH2pUbMf35VxEPUdmrOVG9nJPkcKLBLDNJRd/W2I5XnpuBtxevQiLiRDzqwMZ1WzHjxddQq5mRNBzFWGB0+6nZPSRdfWcXtICEyxlCvLMeYW8EOeNH0MKzWht89FcdulKfBg45dTho3cpq1Hv47kSEOSYMvPHy6/jxbf+NnZtr8flrb8S1H/wYxg8Zh9MmnIwJQ0ZjSP5AFKRlw6+pMV0ePq1mSKuJVJU2TTxieuqqIkOnsfOBgBePPvwg8nKyMGHsaHxg6rm49oIr8Z3rb8Gk4pF45p6H8fdf/gHtlY3wRNWaQNlTDMlWxyQklwSCfIeTlq6ambtJvD0BH0pOn4jGxavh7+q2biN2l56SLSVZGycGbNK1cZjQz0Ki8opFHHjkocex6u211Im0n6iw1ITY1tiB1155A0sXvE1qlvKUJZd87oQCY+7yIh5JYLMmeXj8WUR7KCPTcciBcDCGua8vpFtAWaogq5mZT+2nBpdIyT2GBGJqwo52IS3eBW95NnqyA+YdGuaVIlyLLEiCsvbEFIcMfJdYzbyXxOjw4p9334OXH34OX/zoDfjypz+Hk8dMQu2WSjz35LPwUEbKHyJp02GKD2poStytJmEtnA5EPRrfq6FMpF13Aj2JMK/FEIyHMfeteeiJBk0ntIDHi/yMbIwfNBIf/8AH8dWP34j8eIDE+0dspsWq7+oic7NIvxG0BGgJPKahE0RAL6WMIh43ck8bj9r1G+HtTq75uxtswj0xwRxiw8ahR59yUdOyC1u3bMP9/34Q4Z6o6YVtOlJQpcVo7W5YuxkvPjsdjfWtJGOqU9Np4sRDPOZEc2ObIdzKbTXU7JKdRXjqTFJX3WS+7W7ZuNUcGyGTBFLjf/cG3RYkKZkuQTzQeMVAOIiCWBj+AZkI0wo0jQzySz++MkYi1PdNLcomijtU0Nqm4lwrXE48yYrZlhUbcPtXvo1pIyahODMfodYuvPrKTCxZsgT3P/QgFix9C7XN9Xj2lRfwuz/9Dv+6799Ys2GdId+ucAhvzF+A+YuW4KHHnsAf/3oPNm7djogqek43IrRMN2+twN/+/i/88Z9/RUNbI0MRR7rXj5FlQ3H1JVdiysgJeOKBx7BzZwOvWXnxHUN1eChb2h9lRSXmQojJEc/wwZMeQKi5WVSdvLEP7zxj40SATbo2Dg/66Wnpq3v/9R9UV9WRbNXjmyopTu1HNaQejD1dQcx/8y28tXAp3C4fTx86JX80Q1auVrd66qlnTWuAaXIlREiGfHlu/rwFmDnzVXS0t+uKuf6u4G1BtUhbu6ZZ1EuZZ/eEkObXzF5xWoIJ46JkZHW4ijlJUqz8aIKU/X7PQSC15J2GeTTurMczjz+Fr918CwYXliJDX03DMUOIAZ/PTPmXnp0Bh9eD+rYWbK/egfJBZWhubsJDDz+IlatWIhKJ4qWXXsIf//gntLf38Fon/vHP+1Df0Aq3w4/Wli78/e//QV5uETbWbMEv7voV4xtnlqOl73KjIDcP5555LooKijBj+gzmTyvuqZ6tvaAwVVFR64ErJtkpV5OACzLR3tJsrivd9oQTNHufsLBJ18ZhgcaCxhAleXiwaulGPP7gs9B4DE07F4pqRi4qurgmIdFkJMAWWiMvv/Iqqmrqqa80nYyyqpr26JdRXmpTTDpDH8cekrxpSE5T9+iboxS1BrY5Yx4q6xAevO9RdHYGGVt1KFM8rabeRILyTPSgs70Ts16ai7UrKpCIaRF0B4kyxK0qMXuGvMkLxhB2+ki+muTBCU84iiZNMJGdDT9J2BPXeFSGJe7i/XIilCjvDfH9+7ak3ws0TEfjZhFxY+eORowbMg6DBpTAEWNmcWoSjBgJ142zT9XqVOW45vLLMW3SSRg3chhuvOEGnH7G+TjrzPPhzczBth3VRsCMDq68/IP44qeuwzdu+jxiPd1obW2iJcz4xiP47te/iuuuugrf/tLXsGrxUgR7eqy0MZnNiYKsPAwqKEH1xh1whEiqYlcjBZGzdnWf5OM1s3GFvGHeE0GEpJ6bXoR2vkuTabh6J3mR/Kxj43q/l9s4EWCTro3Dg4Sb/OhGuCeMn935c/R0dPMkNVaKS3RLynqQ4o3EMX/OfMx4/lVEQ30EYo1JTh4cZ5BlFdWEFYxgKBTGqy+9htdnvpGUkUV8vSAhaIyyhl4tf3slXp0xCy1NWrRfHaAOognY+K3vqeboiEGDhMynBpKXx+dBR1c7wvEY3AHNiCUOdfKYdEdLWE3ecd4coiwWrViB7/7oh/jxz36Kh598HCvXr0VXJKRJGOHJSENmfh4cfi9c6X7A60ZXOIhwNEJLOQs5BQXGbyfvcwQC6AmGjazV7O6jinRGSZRaQ9hNuTJshmj3BV6XHM0cANyJ9ltg3oaNo5Z0NYG3jeMHGgLkc6fhpRemY+HCRTpD0tCXLuubrcUnUrnak9UL1Fc3Yt6s+di2abshIiEha8HsHX+w1tJ1mtWu6mrr8Oe7/mbGi7pIosboMjG3/htZ0YpTq3w8nMCLz76MJQuX8n4SsSZ3oGwPBMZn/TvirKv0jSKaCGPIsEFo627HvMUL0cV01+QTIjw1PauHs5aEC0cTaO3sxttr1iMjJxe/+d1vccutX8fIsWPoC2XlcnKrdoI4LU8tPiDitr5TW5U8q6IhuaeIXCfU3qAmfC0nV11djU1bNuG0s6axMqC8ysxpyFfPy+0ZqTxrzfFuw4aFo5Z0tQCzjeMHstS0eP3vf3c33JolxnSdVQ9dmjQyazTBg5SfNi6dl6XgwOIFizH95eno7OzkPdYzqW+bxxvUOUfWUSgUwkMPPYSaylpVTcw105fMKHodkCgom5SMpNurdlTj1emzUFlRBYeY5QBl1P9uQ75HDKpUyNqPwZfhxW3fvw2PPvcYZi6Yg9Z4CLEkgeXn5rJSVoe5s+egurIKmemZtPRbsGTBArwx81Vs2bAePgrGw8gEaKH6NMsRfZbzkWC9jKOafNM9HniVD0nqXhqkmR4/eT+BGI+7YyGs3rEJj0x/Fv6iHJxx9ukk7JhJg1Q4jEm8F6Q6W4nQbdhIwc4NNg4LtCLJkqVLkZEVwKSp4zHl1EmYdOoETDrlJBQW5xvF5E/zoXx4GaacNh4TTx5r7hs+cgh21tdhx45K+pIk3APjk2MGohtZ8m3tbVix4m2MGj8M4yaNwvhJozFu4iiUlZdQTrLMHMjNy8KYCSMxnucnnDSa29Goq69FY2ODWaryQJlT79Z/szmCsCoV+idrNIoxjN8t3/k6/vHYf/Dwy09jW00FukJdGDt+DD529VVY/fbb2FlZjTOnnYZTJk7C9Gefg4vW6Sc+8hGMKh+MAPPVqSdNxLCSgfAxbmmsqZw+ZSpKSNq6dtn5FyCNxCsyznR6cPkFF8DldqC6uQ5zVi3CPc88BAzMxMe/cj08AbexmdWr26oFqcJjVXoEpZ3Jn7vhHT2dbZzQsHL3UQg7ox5eSN7vtrSf7AR1IlHzXKeW9tu+zjRjTho9hedpdu0ryahNe7ppqUQ01tQJj9tvxpp2d3bhV7/8Pzz58PMoLivELd/4Aj72yavplaYc5E9a2M03B2jzGetOc76KnPSh0/I6jjA80QxoQodVtd19S/tFe+B2aWm/dyrCowEKliWyOGu/GipD1R9lzKMOtLW0w+nwmhvU1BnsCuPFZ17C//78/xALJXDNtR/GN3/wVWRkZtAfekQyjiRCPPbDF/C8a3VanaTUiUtL1fn5TufSLdj41KsY9JFzkX7KGDOk6EggtZqUmQWLAlJe0VKCdTVN+M+/70Prph0487QzMXb4aORn5yI3MwdeWqdmwRDNrS69QQtWxr7mkzZWq1pOtM9Lqly4PW6EVTERaAEHQ0HTBKzvvFpStKK2EvOXLUBDsA3nfegSnHHReXB5NFGItaiE8j99R6gjhv93+//goX89zvwI/P3BP+PSD52DsD/Cd8dR1J7A2t/dB8+oQhRf/UGzwpk6WulpedGbK024nNjfpf1sHF1IfUbYX9iWro3DgoQrBn+GB2nZXqTnkhgyncjK9yOD+y6ZINRaanL2pjkRyKbVm0Mll+OwtnxOnVhkDatycLxWyFLfdD1eDwoKC5BV7Ed2cYDOj5wBaZSfOlqFTZOy1+9GdkEAeUWZyC3MMK6wKBdpmT4SiTruHKvfEamSzPdofb/V4goxklUMBWX5+NYPv4PPfv8WrG+pxD+eeQCPz3we0+e/jjffXoTl61dh/bZN2F61AzubG9Dc0Ya27k5DpN10XeEetPd0ob27C3VNjajaWYuNlduwfOMaLFj9NmYuehNPvv4S/vHcQ3hh4SyMOmMSbv/Fj3HR5RfAxzqM1nA14TG0rfzXlwelcm1KtLG/OKZJ18r6+lHBGL3NIpHQnDTqNpGa+o0/KWp1y0+WldSxUd7Jc+q5o4H5vcfSWWY/+bzxW44nzfPWZX37iZrhG3IxROivWY6M77aQelaPJbc6qx1rj04vk9MzOj7+oNqg5KMhQVrYOO4IUbdGEI2HjQwlD10zTrJQ11GaJwljonDLc9aUfinZaYcbI65jV+Up5JYVk3SUU1y9oxhnWfAxh/rfRhhNEikvW/lHTcyUiSPKHMP87uJ1J0nBGaORx2eNZS/3buh/X68wif159hBB1m3ylzy0iFfxZByHTBiBb/zwW/j2T2/HyR84HTvDzXh1yet45JUn8OALj+Hx6c/g2Tmv4KV5r+LpmS/j0Reew5OvvIRnX5+JVxa8jhfmzsRzc6bjyVkv4KGXnsSDLz2Op19/ASsq1yGjPA/Xff1G/Nevf4JLrrkCXlZglGf1vdfDdJHcTbDoUpLSQWo/VYqd1AGy0uPGctWwq97H+j/YB3PBxomCY5Z0DRHyRzVjlJLWtIxHI6zVNqChtQbVTdWobapBY0sDwqEgEjESMJ2sCU05GKPFoAkZNPyPZYrnrTF78SjvMY7n6XQ+HiOhxkO0MkgSfFbvifPBCP3qjvegqWsn6lj7bu5qQre5VxRBZUl/Y4mwIZZolKHUdHO8puvmHsVBhMO7pVSNYjXF9viDI5aAJ6ElEr0W8TqsMZdqvnZGtRaq0oGqNuGGS5MgxD3GmaEyDmuYkGQlFWc158gp+x679UbTxGicIsd4Mi5mbCgtfhGNU/KSPCgjNbHqWJdFBLK6NLcwH+Q+87NI2viloVl+nn83uaiCZ73XbPk+jRW2ntO5IwOTvoyHsXYVF2gIlBNmCU2G2UPnZDhzaOFPPHsiPvn1T+NrP78VN//4i7js+g9i1LmT4RiUgRZ3EC8umocf/vYufOdnP8O/XnkGK5t3oNbZhZ48N4qnDMNZ11yIT992A771P9/FLT+8BZd99BIMHF4CF8WnSozV2Y8lku+2pKVhW5KZ8qkJLsFj/eexNdIa8EQTqlci7FbzvWaosuJknLl7V/R6ZeOEwLGrsQgVgN71VJXdWRhb2hqwfvMabNyyAdt3bENlTQVCsaCxmjQYPoIQYq4oa6EhFibVni1rQt9S4pp9h36QNs0EAxGej8rRIusKtaOlswnBaI+x0Bx8PhJvR03dVmyv2ITKqm3YvHU96nZWGKWp4ic7JMr3RUnAXdEOVDXuoJ9aX1NKk4qSJGJohIpPC3BrMe4jqfBsHD2QIta3WlXBzFbK3+yLBLhjMr2V89+BPkY47qEKmM/rQ1FRMSZMnIDzLjoH13z8Ktxw8w2YdsY01ikcCEaivDYRn/ncZ3DTlz+HT13/SVxyxSU4+bSTMWTIEGRkpJtmfRs2DgeO3ZxmtJK1K3Vk1l11xWjptpMog8gfkIuSslIUlhTA6QM6SZo1DZVo7WlBiNe7Qs1oaNmJ+pYqBOMdaO5o4fVqtAXbaK12oyfRjoaOWuxsq0NPrBM1TZVYs3EVGtua+DaN/AujubWWhLvRfIMrLik1Y4srKjfTsiXVkuh3NtWiprEKndE2NNAaXrJuEXbSz3C8E030dyct8Z5wF5WoLN2kJrWrvTaSsIi3L6vLurWO9Uvml12IN3XnCQRGN0WYCbUQeFh5lqMuiJnpHC2ZqXKrynPUFbau0xRN6LqsWcIeS2vjcOHYJV3WcFXgTHOUnAoXi5aamxPuOInQbeZmTUsLIBTpwYat61DdUIUN29YZIqzauRXrN61DLYlYzdGbtm3CjrrtWLNphWmWrmzYiq3Vm7G9ltZyfSXaSNYdPW0Ix1ho1STncKG6phq5eXkoLx+GwsJBGDFyLAYNHmRIeTP9q965w7xr3dY1hri76Vq6G1DbvAVbq9YwDJtRWbfFVBRE4gr/LjrUxnEBiyQPhhCZGZjPrWcJtS0T5ts2YVa74T2pth7LwpUzNrHOHNPojfc+0CtbIwp9oFGHJ4ts1Y5kSNfcpxYC6gd993bo+3eScC0RWu6AYMldaqg/LK8OykMbJwiOWdLdNVuriZaFS46loL2rC9XVtajaUYW2tlbs3FmLdlqyxaWF8KW5SbAb0Nndjp5gCAVFeaio3gqXz43cAdlo627EzuZabNq+jvutaOtsQ2V1hfkum5ufh0BaBpWen4XYg67uHvgDaXC6AnxHK9av34iaukozjjAUD8Lld5KkgyTgjWYMaiA9YIZzbKtcT4u5Bh3BZmwnsTe11FE9qNk5zLjYNe7jDSafUr9L8e8vTP4mqaoBR/MxawiNzrlYYvV90xCwSLd3vKh8p+sl3mMYit5+xsEQXDLKpk5imgIsp8UONU2m6ijGoDUys54xnfH0pz4VFGHK4t1v0E/j5NtuzHugQ0hsnFg4di1dQmXL5HzumHU+Wcz0fdTvz0ReTiGKCoqREchAV2cncnJzkJWdidLSUrR3tsPlIsnmDkBmVhbJswMDSkqQmZuJzLw0hGI9JMseZOdm85485OcXwO12U+FpRRx1ZtHctk6kZfrpVwvCkZCRpNMdw7Ydq2nVdtN6JfHSwvb5rWXrXBoKklwYPBQJ810MT24uibyAz1n+yXIxisPGcQIlphzzqPV3QBAPqOerm9tEJIZEVD1pqeTjpCQ5njcEop9eY3BsW7mm4sy4HQxxafYuV8JH+bCcaaBuzGEWlXepu0csBmeURBxTpzQSsdEXfJ/Uh36msmLDxqGHlfOOQZjCYgqMBU3y5iIhqodneiAbpUVlGFg8ENkZWcjNzkVLUzNaW1tRsaMCOdlZiMdZIB0+OhcyMzNRU1OD5pZGWp074fXRj/R0+uowA++l0LweH8LBMII96uXMK44YSgcWoK2jwXzXjcS64HCF4PZpKEwc6zetp1Xr5X1AJByxOotGHAh3x2gt59NPLU2WjjjD63Kn89hNfzXH7oErGxtHJ9RTPRgKIRKNGHI8UNoV6YaDISxbtBSPPfwIVixbjrGjRmHc6DFobmzEo489ZtaU7e7qNmTVi2OZQCgifV8NBYNmlEFfCd8PkEg1cUjFlio8++RzWLtiNQaXlmHSuHGor67Bow88ipkvvoqG6kZWYkjsqbJmmqCPYZnZOKZwzJKuUWH8ZxY4d9D65IGIK9NbhKJAMdLdfmNZukmspYWDUJJfjuaqdvjDaZg0ZAry0gcgNyOdVkQGhpSN4rOdaGioo7/pyMkowojiSXAGvYh2JpAbKMSArHJk+HMQp/Wq76+g3wU8N3boVLhJlk21dQh3RjFl9HnI8mbgpBFTEWoPw8X3jSgdhzRnOsoKBiPeHceIklFIi6cj1BxBrj8PWT5WAsIJ7Kyrx/Zt280E601NTWa+YU3p19t0vpuTctrT+ZTb03UhtU2h75qeoTXlVosBj6mUrNPayqLSNzLziAXJn2etPrbHKygAtfGaITV7cEZZ79mFwzG89uqbeOaJ6Wio7QSiWhuYFSt9W3QEZYjxLtKxbudenCwrA00y13J7LQ1BPP6fZ/Hq46+ixJmN6y64Ar/81vfws+98Gzdf9XGURDMw94lZeP7+F9BQ2cqKnZZApP/J9x8paEkAK18kw2G+scYYP6vXvhW2PTtrRIIbzz7xMl57+U10NLHConhJSE6NOuA9LOvW0B0XtL6vZkrTesPhjiAWzV6EZ+99Ch3bGnD1+Rfj/3332/j5d7+LL1z5UUwtGIXqJVvx0F8exJoVGxGKsh5sKtBuOE2X8H1B4VPYpTKVSEp7hs0MsyLM5TiiyRmnFDzNiCWYGcNs2EhC41PusHaPLtxxx7sHS1lZFoRG8FnEAfg8AWQGMpHm98Pt1PhOJ9wuL7LSs3kuA0UFJcjNzEXAx/sycuFyelFbW41guBVukk24x40R5eNQnFWEzLRs5GfnIz+nAGm+DGSkZSIjPQCv10sL2Q2Xw/I3PS2DfmWhqLAUxSR3P63j/OxCpHnTMSCvGMWFA7mfhpzMfN6fSbLPRVZGDsk9FwW5BQyzzygRrS4TCgcRZC2/ra2NlYAGQ8CywlOuqqrKbGtra81W1nt7ezt6enqo5DU22JrVKNU8p22KZI2ySjqdS/XYTN3b0tmAt1cuhsfnxMSJE3neiqfGg0qRqwnOrF7D28OJMBpbG/U041zCFJAy2jssBWw9K8UrotYYzDArIXNmz6cSXIuM7DSccfapOGnyON5nhdmCFb69QQrdFddask7Ud0awZWszTp1SBk88Sllo9OS+n9839GzKCf2P5RTv3c9ZLtQTwwvPTMeD9z2Cqu21TPNsDBhQCKdbYaaypmwlT00BaTr+uCgVRttJ5u1q6sS//nQf4u0hXHb6+Th74qkYP2QEhpSUYnBZKYYOHITBxYOYh7KxaeMWbN++A8UlxZRhhvk+qRBY4dgznCovJCxN3uDW+OfaRjSt24rs0cPhLS00C9cfLCwLkilu8pW1VYjMaW71s8L2TmdyCSvR//nXg3juqZdRsbUKefn5KC4qpGxIupSZmtut8JPnlCeZ7tGuMBbPXohFsxZi8sjxuPDUszB19HiMHCQ5lWD4wHIMLR2KEpbRbpaVV19/Dfn0s7hkgJVz6V+qHOwNumriYu5jxSkSwdzX3sSqZesNH19+zeUYMm4ovIacgbRoArWLViItJw1p40axwsAyzpcp3PJh17fppPxOoLm5EZUVldQTBRgxeCz1Thav7nq3jaMHd955Z3Jv/7BvTXkEIRI5UIhIPB6PWaFIq7WkoOzqIwnn5+chjddUuAL+THi8ftY6aLHmDoAn4Yc37seoQSORw0zucXmQTYWWQ4L2uny0mD0kzCxkkNBdLPjyVWQvBZFOMs7PKzQkrmNqAhI8CTdfxG0943X5kU7Sz6Z/bjfJOpN+59Bvhldl2EWFm52ThdLSEgwcOBBlZWUYRIVRXl6+i9O4Qm1T17OysgzJdnR0oK6uDps2bcLSpUvx1ltvGbdgwQIsXLiw1y1evBirVq3C5s2bDaGL2Lu6uozsNPev6mGa1EhZwxyTFBJxxVPkS5JQy4KIV9/Fkuf0TErNH28wc+Ka+MnJitzdJQllDy4WiyPUFcKOLVUk3xfxP3f+Eg/862HUVzbDHWM+pByTI3Gtd3EjwtKHkpeefQmob8OnLr0S0yZMQlYgg/mKRKOJFsjX6iCUkZWJyRMm4srzL0JHZR2WvD4f3W2d/Xw8Mogn5WXlCzrmFclKVn4qr+zNqQOEVvAJ9oSwacMWPPnI0/jR9+/EA/98DJ2NEVZIfIhHVPZ4tyZYobXp5P2b1mzCW68twIVTTsMlp5+DwYUl8KsPBvOy+X5Lgbh9HgwePAiXnf8BnDFuMi3ih9FZ12zyvsjQho3DgaM2q0VYizxQ9LfwuKMz2jFbfV9TE6mTBVFkIsUg8tRxQfYAjB02HmOHjsewkqHww2euSbGZlkU+5+a+vhvLLrF+FulKRbqdut9ryFadrUTkms2KNjafo7XIM6zm0i/LWZNhKKz0P7nQtYaBMPisNLhNpUFkmpeXR8towDtccTGtZzrtl5SUGAIePHiwIeRhw4Zh1KhRGDlypNn239dWhJ2Tk2MWDuju7sbOnTuxbt06Q8grVqxCS3M7mltasWTJMhL0UixetAzLl63AqtVrSNTbTK/wlpY2VoqCiGhxb1XbGUNTfT8OYZGiaiGW9dIHxVdO9LZnF4/EEA/xOWbljuZOrF62Dn+7+x+4879+gUVvrEC0h5Y45ab8ZXKTmkt5b832Gsx+eRZuuOqjGFY0EDsp8z//7a94g2mkNV97whHMeG0W7n/oQbQ2NGHsoKH44Jnno3rdFlRuqbDyV6ocHAGkpqRUC4RpTpY1SnlYEtuzrPqcVVnRDG5qMu5sC2LlkrW4+9f34Ae33onlC9ewVKkSrLIUNVM0ttQ3Yen8ZShiOT5z8lQ4wzG8+OxzePzxJ9Dc1k5r3okVa9biD3/5EzasX48cbxquOOMCZISdWPjqXMSCERbd4zP/2jj6cEzX71LNpoIIV0SirSHf5HmjzligdK33Oguhsdr0DK+5jVVbgOy0fPhcAXjM9RQpe6x7e0lX0/VZgtOenGrS+rmTRG2eVS1bioFO+26tgkInf1z005AzCVdO4VCZl3HuctGnZBxMPHhhd2fixa3iI8tek3KkpaWZDmEiVJF1QUEBLft8sy0sLDRbORG1enCLqEXSI0aMwJgxYzBhwgSMGD7C+JGZkYnRo8cYotY1EXlh4QD4/T6EgmHUkag3b96C6qpq0yQuwu2fFscyUvHQerVKaE26oukHZf5rOXSzGhDvUfOmFL+O+ztHItbrYpEoYmGSjqytmIv7NF5rWjDrlTfwX9/5Cf78+3tQW1mfnO7StDnD5/Rj9iuvYUz5SAwrH2LSOJCRDvi8ePCZp7B621YsWrsWL89+DYG0APKzc+Dns1PHnATmXNRX1SESitI/K58cDihLSm5avtGSn75z0gI1suM+ydFB+TlokRrXT0Z9crPO60O3I+5ChESoQ1VStTTPzupmvPryXHz3ttvxp7v+hrrqRqYBZUbv66vrUbe9FpecdxH8Xh/8aX6k5WRhzlsLMePNudhSV0PZPYOWjnZkszLLKjJyPRn46CUfxvxZb5iVr5LJfgBI5hPmAZNRCCvu2tf2gD20cYLgqCXd1PfGd8Pelb0yv6JnOYse1eRlHeuMKS6mvHCPZKhOKNa+ztFf873Icqlj65zCtmv4zCU+Zx7VcZIcU+glTe2bn0LQd2z+p+7Z7dn3E/Jbilzfpf1+KqckWcuyzshMh1vLo3lcPM6gyzTn1OxdUJCPoqIBJOtSDB8+lFbzCFrbA8xyapZ8jg9I9GbspshBx1T8Lip3dcpDhPQbTCDaHUOwM4Ku1h66IDpbetDe1IW2xi50NvfwOMjzIXS0dqGnJ0R/rLRW5UxDWSI9MWxavw3/+PN/cNtXvotXp8/huTg8Gu4SdWLt8jU49/RzzRJ0mmc5LTMDF15yMTLycvGLu36Lh595GunZ2Tj/nHPhZ4VL4fV4vCgvG4SdJN3O5nYrMocJKoKpfKsWG1P5pLWNKM8xPk66BCscccou1BlFsCOCnvawkZ0lt050NHfR9aCb59oaOiljVnBo6VpZS1snwqEItqzfir/c/Xd8++u3Y+7sxUwPt5G5l2k0bNBgJhbD4HVj8mnTMG7qZLw2/038+o9/REtPDy699BIUFxbQXzV2uzB14lQ01zczHB2mAmXDxuHAcZzT9oe4VKLlqGQpCjUxqWOG1ZExRazvdH2LE8jpnLQONwaWf3t1uxCUUevWrmCsk37Hhx0KH1mmN7y0RljBsJy+l5OsfW5a1h74A7Sw/SQiXtOCE8cP8VLBO63vilFa8YkeDzas2IYH//EEfvL9/8G3vnI7vvCZr+GTH7kR11xxHT5+5Y249kM3JN31uPbKG3jOcl/+/K2Y9dps0znK+jZs5Q41yasC2NkSwdKF6/C92/4bP7r9TmzbXEFiiqKxqh6jyofrRiZDHD43CXXgIHzg/ItQXVWLlrZ2XH31NSjIyzPZJa7wckdjvtta2xDq6Nk1mx1i9LYO8KfPOAj7Eel2Yd3Krbj/H49Rbj/HN774Pdz0qa/g01ffZGT1sQ9e3+tS8pPMrr3yU7jx0zdSLkuRoAUqqWm5gdR85W7KrrOtG/PfWI5vff1HuPO/f4WNq7cgLyPHqjIzLIp7eiCAyy67nPk0HSuWrcDZZ5yNCaPHwMcKp0KqTmQOyjU9PRPdHV1wqEXCho3DgBO2emd9q7OcuE5qQ7aNhnFoujhTcvfi9KwUgfW8jnme1kbqeE/P9Drzpv5IEa3cEYYJXzIeIlrlDiMLKj/1ZuWWVRIqWcZdzYEMspPPSB46fzwgofSh4o5GonjxxRfxiY9dj49ffSPuoHJ/5L5n8fxTs/DGq0uxYvFmrF+5A6uXb8PaFRVYv6oSG1ZXkWh2mGOdX79mi+ldLhKXv9ZP0lVTLOUW8yJC66+pvh2PPvQUrr/uc3jlxVeMRUzW55bUTOdUE34wjIbKarQ2NBqS2FlT11t41Ss2rkXnSShREpWbVqZs68OFFOmqdSoUCuGl517Dx6+5EZ+g3H52x2/x0H+ewSvPzsHc15Zg+cL1WLVsK9Ys3451K3Zgw6qqpNwqk3LcxO16BLuCprUhVa409l29oqws6USwO4ba6jY8+vBz+Off7mX9V993E5a8SPxq16qprEJTXT2Cnd3oaGohiauZ20qDGPOtem6rJLudHhJ2Spo2bBxaHNM5LdWk1R97OrdHqKabdPpOq58KnkeFkFv935sDtHRagC65KpDYyTCU5fb0TJ+TOuDtuziFmc+ZJu79CPuhgmofJg4pWBULWRnaqglARGDCKIVFBab5C4zVcIw2z6lDnflaqwnyXapI+NDV7MIvvvcH3Pm1X2Hxm+tIikEEe4BQkNYWFXsCIT6n8do93I9YzkHn1FZz/0YoH25JGoko74+rZYSqXtmEW+UAF4nVLBVMeWqJSHKGIQWvy4vM/HxsqK425CG5hljJWbpuJV547SV87os3YNrpU/D0C09iw/ZNfDP95nV9D21o2Imc/Cx4srymxeZQwTSTyylfMK5masqEG+5wAHd+51f49he+j1VvrkZnQzfCnWEzOUwkpnWTo4gZGVmygstyZt84XmfWitK/sCp4EhDJVh0NPVoCMuanWNUJkuXFK2Ey9iESansLqpoaEfEy3iTQhMON6uoaPP3Ukxg8pAxf/urNmLPwdby+YiE6zKpiDHM8DB99am9rhSszHd0+lev9R5+O0RKLqvQAblaOMsJMC1aCgh7Kn+nn0yftY7Rs2Dg0sHODjb1iV7V96JT4kQXjJYKSRUUlGeoO43e/vRvPP/cC2lo74fCEEchMYOSYgbj20x/Ct77/Jfzy/36Cf99/Nx5+4u944oX78eSLD+Dplx/CMy8/gqdfehhPvfgwzz+I3/z+lzjllFP4DvUmtiTocHHHlDqSpZvK35fAoOGl+O87voNXZr6EK6+6HKeedSpmz5uFMMOjKk9VZSWeevQxjBs2Ejd8/FO45pLLkOfPwCvPT0dPB2sD9DxE1t5aWYHiQaXIzM06xKkl3xkywzvqREfSiSRw5x0/NxZ7VB9wSZjpWT6MnTASn7juGnzvv27Fr3/3c/zz/r/g4af+hUefvRePP38/5fYInn3lUcrtITz5wgN47OkH8Jd77sawYUPpMyupZg1hTYLBN5GAYyJm+q+Vw0aMHoKf/vxH+Os//8JjB7bu2GpaEHq6uzFrxkyEu7px5aWX4dMfvQanTZ6Ml596HhWbtkMdGjXL+ZI1K5FTmGuW9tM33oOG5GBkQSQFf2jlb+NYhk26Nk5oqIetLDa1nsuKn/HyTMyaORtNzbSAPG6cc9E0PPDUPXh25sP4zZ/+H277wS34zBeuxSUfOR9nX3QqTj9vEqadcxJOOfMknHzGeJxy1jicevYEnH7uJJw0ZTyysvOSClgEqjWwNDyFFm26CyVDCnDLtz+Px599EF/82ueQluNF2BnChVecjbUVa1DZWIdQPIYo3emnTsOXb7gR+V4/xg0sx+eu/TRGDxmD9pZO2ZtYvmYFLeIICgYWwZPmU0PEIYQsXPVnUMxosTu8mDd3IR74zyPqqGwagM67+Gzc//i/8dzMJ/F/f/wFbv3+V/CJG67CxR86B2d/4FScef5UTDt7EmU2DlNPH0e5nUQ5TsJZ552M0848BR6fh+TqJoF7KC9N4iErOQxPhhPlowbi69+6BY8+9RBu/NL1GDFhBEpHlOKZ6c+bVoO29g4UFRTipus+i1PGjUcmrd8bPnotLj3zQjhCDnT0hNHpiOFfjz+ICz90uemn4LIGp9uwcchhk66NExrq+SsS0fCunq4w5s1ZQMuyxgzpOv/CC/Cz/70Tp5wxFX5abQ5vAlEqfjktEac1W6OOiGV9OUmm3MaNNWad7wl1IRqNwKnvrepzxue9GW4MHjkQn7/lRvz7kb+RjL6KokH5cHrlH+0vbxT5A3Nx5bWX4/f/+Ct2tjdj8PBh+MTHr8WA/DzyWQJ+VhMmjh6HKz98FYrKBmJbTSVenD0Dw8aNwNBRw0g8DEvyO+uhgDX2VnLTgRMxWrlPPvYsgl1ReFw+nHrOKfjV3f9LMp0Ilz9OWXQh5upGwhOidS/ZMXwuWfqshFBmUUe/c5RtKNxh1qSOqSmf6aJP3N6AE4NHDMDnvvIZPPzkf3Db925Bfmk2oq4QsgZkYNq509DQ2YjZC+cisyAHV1z5QUyZMglep2ZkBwqys/Gxj1yDMWPH8xkHnnn1JcQz3TjzorPh9jjhjKm28B7QX9yHTvQ2jgPYpGvjhIeZnCLuQGNtM2oqd5omZjUDX3XNlSgsGmCaUTWJiUhAfQE04CSuJlXTbCxnfUfUsdXfVudkpcXNalWaLMKf7kH50FJ87JMfwV//9Qd85/ZbMXLcUDg9MXpJYpKJSHM7qp7gXgcu/fBlyCkvxJ/uvwfrKzehuadD62WYuYITrBBEHAk0d7Vi9bb1eOjFx5E3eADOuOgcBDI1GxuDeSgtXb7b4hW+KKFJVsKY8/o801Kgmdxuuvl65BVl8xLj5I7QsULBmMVpXaq53JKVJS/tUwi98tMUll3BDiMzB5/zZbgwaHgxPnbdVXjgsXvxgx9/D2XDinmdFRTeY76je+IYedIonHHxOXh+7nRMf3MWalvq0c0KT5i+RiiMGNOvPRrEjsYaPPHKM3ht8Vxcd/NnkVXIcPKd+i57oNB3XY2l5545Nt/wmUc0XtmGjb3BJl0bJzTUic3qSOfB1o3bUFddT8M3gUGDSjFy7FB4/bItLePF6qeecvoG6CL/yNEXOfpkdZTT1oloLEgLNoLS8gJcfuWF+Nmv7sSPfvpfGDdxNJx+kSdJyHR4UhO3OJeETfKPUWn7MtPwuW9+AUWjBuKP992Dp2mZvb11A1ZVVmDFju14a90qPDXrOfzjyXuRMyQfH/7MVcgryaNPyeX/6N+hguKfIlxN6rFs6Qp0tHWab+KFtMYnTZnAe0iyCVYgNMmIQarzVT957cHFNO90dxD+NA9KFa+PfQB/+Nuv8PNf3UHyHcgEU0csNQXL6R2qrFB+XifOotV62aeuxOsr3sS9Tz+MuW8vwoqtm7C6YjtWbNuOWW8vxJ8f+wdWV67DV7/9ZYwcP5y+8HkmZcS0i9uwcehhk66NExqGQDTrEZV9VUUt2tV5ihbMSSeNQ05eBvdpcVEx67tvnxNJ7sn1vyeGjAwfzj73VNzx0x/gF/97By686Cxaoupha33Xlb0oSjJkpDZUUxxT1rMD3nw/Pnnzdbjx6zejqqMJv/zLH/C5b30DN9x2K358169Q1VmLT3zx0/gE78kqyUHCS//ooVPzM1um6CGCRbip8K5ZuRaJGOPMw5EjhpnJVLR4CGmU4VBAFD+RrWbe0vk9yc5yGj8QCGTg/AvPwf/++sf45W9+iKnTxpBUZTVbY3X77mfVhxE2FSJG2OF34+QLT8NXvvd1lIwejL8+eC9uuvVr+MK3bsNtP/kxnl84C5M+MA23/eibGD5uqGlh0Lh0IyrXgfVetmHjYKFSY8PGCQvTrKjJJUhUba0dCNHK0nfesvJSePxqKlanIUs59zqd26NTs2KfGztuJG7+yk247EMXIyMrjRZs2DzvdIkoLFa0yFHkxKKoIVkiKH3H5Nko73X5XBgzaRxu/vqXcN5ll2DDjgqsp6U7mH5/7qtfwPiTJ8LhIwU5GVINHWJ0ROWW74cGqQpCssqAxvomM2WjmrUHDi5h/DSUjCcUFmPBJisV5jmFrL/MdnVqmh06bAi+9Z1bcR4tV49pEbCsW6uSouf7YqczkqFCoq5qcRJpXmkhrvr0R3HKuWegtqUZ67ZvQ+7AItxwy+fwgSsvQiAnzchLgZa89KSefTek3mrSzLzTCHsPMJ7asLFHqBTYsHHCwnQKUmeeWISk24pwiMRIRZqXnwMPCc9iDm77O1Ns9uR2VbZunxeeNFm2JAN9fzSdj6jgSfBa3MAa8yzwHK/JqXlYw5dUGdAwFnOHegrTD3XGsr6Jcl/ExlfGSRxmHug4rT76Jws55jy0pMtXk6wYEpKhtppK0Rl1me/N2SW5tCBFYiJJhYNWO2UjS9Tq8SwZ7C63PudwReBNY1QDVkVCs23JDy0e4ozLL0nLOmdWLjJbS46aHMOjCTVoEYfdUQT5zghlom/rDh8J1hVleClfnjdL9Dn5vKkUWL7tC0oqDVvSXXqbOFvOEG9/8NAichs29gzldBs2TlyY5k/aWLEoOjrazZrE0pq5ubnQik823gkjMSM3EiMt2s7ODp7jj6dyc3N09ShBX6cmj5ukbTo92bBxZGHnQhs2SBbqdarlJDWVoQwVLQThNPP02tgTUlM/ao7qUCjce5yWlm62RwPM7GHG0fj1aGUvW93ZOPI4anOhlqizYeNQQ1RhlqTT7E8kELPPc2ZZRXPH0QWL2qz/RwyGYC3piNRiMTWJW2E6kq0Du07/6kgFyTT3amUtzYH9fiH1qv6vNBWPI5w0No5+2FU/Gyc0UtaQyFakK/IV7KbIfUNDgVKyU9O8pCaRaYrFIwkRr/lxa0gwidRa2ocCKd7VhCT932nDxp5gaxYbNnaDUdz9TRgbu6KffDQhRCyqIVLWscjtaIHL5TREKxr0eDx2RcrGUQE7F9qw0Q/9ydYm3j0jZeEKqWULU5NgHE0S83p9hmwVJm3tb7o2jgbYudDG+wINW3Ga4SBSwRpe4USUhw6HVopxI8ZjM1+xM8KrGpMpZc0nNJREy6DJKnFrOkAX4mY8p6DBIHE+b60taw2z0bdWfXfVBBNa2C6qO/gi+ammzeQAkrimJGRYYgnEaHxpjt+4Qz2T+S76o+Emer+eczBc1jAUhtXlMaXCzPvLd5lhPHpW92ioDu+yxusmJ8xIaGZfB69ZIz1TQ2QYAMY9TKf48rwm4OA1nuB1OcVVYWI8eKQ4WI775nzYXLfeqbOKn4a8MHgiOg17YbjkpYa/aFoJyVxDW8xMV5oD2ryL4aP8hThlFmPYtf6uZKWrWqYQCYZTiWaGRDEdGHdXIkofQ3wfr2t4UNJ/pVeU/psxwUonPefmP58CRh+jiiPjbJxkZsnNhFdhM++gjBQO+ZnwmVDoPWYBegX0PSBVIZDYtESnBhsJbrfS1tp/v6C0MBUzOUHvtvZs2Ngr3t9caOOEhSZBQFyzDpHMNJ4yRuWtbYRUIvaNUNlGqPy5dYS9cEZ8QIj7JCOLpqSCLWVphnNGSK4RB522dGE9J5fcpz+JiIeKWusa028+b42hNbqfzo14TMRBsg/ymaieo/8hvivpn3lHVO8gWfCaWVOZz4qOFWYnr+keK8y633qvI8z3hmhBhRUfEkpEBMQXUwYW4RKGqESYfEfCy7C40NXeg/aWdnS0tlvbpgg6m2J00eS2v4uiqymEzuYedMi1dCPUFWH4GKaY2yx+39mqa1qgPcj7Qmbb0Syn+zvR2dJl9uVHF5/vaO5EV2sIrQ3dDA8rRVHKR0sNqhKhODP8PKKz1q5NUNbWhM99MpCsnHxW69o6lRYRVlWcTIt41MjOofQOM22Ns9Lb8oMei4e1vnCYlYkIK0AxyivmNelmvZf39la4DhwmCeRIftpJxJgGceULpoK+6bLScCihd6f+27CxNyivH5W5JNV8ZePwQPLeXr8Rf7/3bngzYrjhphtoGZAc45ZFJOvU0BJJUtZOZ7wD67evM9bOpNFT4I5SefKaQ5PxhyN46MEHULFlI5VsULTHZ7XgP5WeFLtRrFS+5ntgGCveXomKzTUIZPgxZsI4DBk+hFdjhr5EZpa1p336z62srITLjR4q/E98+kaMmjIQaSTZWCIHq+qaMWPmJtzyuXPhCdZh+ZLFeO6p6fB6ogy9FL0IWfMp0zoU2dCJ+OMkkLcXr8SOikrKIo4zzj4VpWUDECeTKPZmPmWTJRV+koQhWHnXBYfXg8mnnIIrrrqanMFQGyvY6lwEWnKOuB/zZs/FKy8/S8LdSaOeVxSlmIbXWLLYFYqlNkFrw3fFSVaaF3rd6k181o3SQUUYOaEcbq9V0VB8RPjG1jKWJeWucMaZhuacJtigrUzCdrgCuOxDl+CKKy9F0BVCIBaDa+k2bHzydQz6yIVwjRmJGbPn4c03Z9BClM+Ks/IBAy3rW8FlWqhio5mo5r7+Jhp31pvzZ5x+GoqHlZswyDI38pXQDfSgQkMr1yxen4sPXHQNzjxnCkmRcY0HmCbWMwcP+c6cGvfh77/9N37/qz+hs6cHX7nti/jC169D/oDs5H0HBmOpmz2rYqI8HemO4Bc/vgv3/f0pRGIR3P3n/8WHP3YxXIEEgpRbaVsCa373ADKGF2LANZeb1Y1Ud9MkG8pLyVS2/KU8E6wtqiVi0+Z1mD/nTQwtGo1Lz70axQVlybfaOBpxoJ+hdLeVl44y2KR7ePGeSZfKXU2osluDXd344e3fxbRJYzBycCHtJjWhyuIQWcmaoTMMFqafYcSosGTxkFfg9vipgD3mjcby5Y6aWaWI1bSsCyKXGInznn8/jqs+9lmc/aEzkOkJ9JLurNe24kvXnwVHVxWef/IJVKxdhw9cMA1uKnY1VatyYGYXMoSrJmvru1+Mlp+sY2U9t4dhJYFq+T7BkoGCTfKNq8lWZOdAkPevWr8VdbQqf3DHT2C1NusZ635QLmCF5P5/3ctKyCqcPHE4CnLSTNyMSAw58f5kxULK12ozNnfwDWp0tvxS0BlEQ6ayUJ1uhtcQm0IvmanNgPeKGB0hI2sH008cb5GuG8GgG7NffwuBksH43g++hZAnjDRahM4lW0i6sw3phstLcN9DD6O9tcLIzcUXK3h9pEt/mapKIZGBJhRxmGkf4yRpysxNIXBfFQ8TSRMHpZ3uJ1EzuGqinv7aSgwdOQ2f+Ow1FDjzQjyN91rN0gePPtL922/+aUi3JxTCLd/6Mj7/tU8jrzAred+BwSZdG3uDTbo2DgrvlXR1XneJEMIi3e99E5/71Idx6sSh8Di6DQmYJmjzfVGkQkI131JT3/70PK85fLyue7gbjxjlpruklPRdV8pKy8KFqaC/ffsvce6FV+HsD1+ATK/mNrZId+arm/GVG8+Bk6T73BOPwtm+E9d/9sNwObSYAa1Q+qWsr++eUmby1zQF03NTfFSIGA9lQcUpoe+bmoZR9/CESNqwK+PSE/Rixpy3MWfxWvzw5z+jYcvQOvUOqyAaOzHsxr1/uweJUDOu/ch5KC3MZLwilC+JRqaiFLoY1Xo7QRlrWkcnZZG8bnxiuLQKkcMh+SmMIlfJj7v6NsowaVpIt4fEw2uGdNUUnAy/WhvC0TT89W+PoCqYgR/+5HaEPbR01cy8tI90Q4MK8dCjDyErPYTPfvpy+BhW63urZKR3KkwMIzcupwfROOVIkpWRr2uybc292tNzspKNU43ExfzDe0jO99z7CtyBcnziho+bdXbjtHQVGevZg4HkZJGak5W4P//vPbj7V39GMBrBN777Ndz01U8iJz/D3HOg2Dvp/o6k+6RFun/6JUn3Eot0mQY26Z4YOFDSlfaxYeM9w1LEVMhURrJypJQ87hi8tKS8nh54XXH43HSeKDxU9G4PycFFu9il9V/TaSE54NJi7zTLtCyck4Tk9gbh8nTQnzCfAbx6ns5LK8LL+50iH3UU2g0iSwMWBhUIzWHsdbnpj4NbPkuFaPyjEvS4IgxDN8NDa01r23r4DMMl5/a4+R4/3CQWTfrgptXr4z0eT4QuapqsPd4wwy8yVqWBRG0IMkUa0qyyRGXx6b6IecbnDcFPmbgoo4BX30496GljWBJZ8Doy4aVFmub1MK6A3+fiO8Fn1AOXzmwVB8aF1rjPqy1pisQya+YsbNu6lXJJ8BmfmfpQ16x7rOd9jIdLH70ZXmN9GtdfaSj8smR9vI8yI5Na8o7TP/rBNPJ6gnSd8PtpTbtD4KvMwgySncv0EvZTph767OS7JTvGjbI3zzIf6HmTD1Q5YVqbeZyZf0yLxkETbh9SBGUmO0l+0zWK8cB0435hd32bomYbNvYGm3RtvE+QtcjsROtKTaqmdy6Vt2B6rybS6PysyZOcpKloRUei6Qj25GDD+iDmvVmDuXMqMX9uFebN24bly6rQ1CTrLJ2KjWxBWPrNsrgsanOL2s2ZfcGQIcMmhWgMxGRYrTD6abTloLMrHZs3hfDmgp14Y14tw1CDOXN24I03NqCtnfQYY/gdAfO+mJbe4/NxxiPh7KHFHON+8tgERdYdVb9xSWKTXIwTJZiQwEm26gk5sXZtDX796/sRCecjFs/iLXwXiT5Gay0ekwVLYo7Txfw0HmkN0sqPRHwklHTezzDRRXh++fL/3953ANhVlVuv2++dXjKZzKT33hNIIEAgBJDeIaBg+xWV90SfAup7CqJPUZRnV1REERCRDtJ7SO+992RmMplebr/3X2ufe2YmIRNIgwHOmuycc8/ZZ59dv/V9e++z9xZUVLTSmmU+swxSKaaPxJlknJJUZmRhyZlysp0V4fajYOLJPJelzJ/WHeUdVSqmUV37emcK+WhtDWHD+ia8NXsHZs+pxKuv7cTbs6swf95eVNd4WcY5tL5ZH0zeaOY0lTITmqWkmF4N9X7onWaiU4d4HCXMYieytBmkZnzbZOzAwQcJ1XIHDo4BJMAlqGmKyYkk0iQGWASsY8qQn4Q2SYDSf/O2Snz5xu/immu+jpu//kfc+OVf4PpP3YHPf+YHuP17f8bypZVIJgqR1OxfI7DjfI0++9FWb7SqaSmlTbfvoWGEvSwpQ47qHtUnObSCpAyQ1Nevb8D3v/8XfPr6O/BfX/sD4/ErXMd4fOa6O/CVr9yOVau3IxIj8TJ9NuFqJx+lw9o9SIQm0rWJXd3WjKZNXhrX5dEieeWDlAgP4ukwTccU5ixYgKUr1uHJZ1/C2/PnI5qKYumqhXj40afwwMOPYuWqjSQvN50HFVV1WLBgBRYuXIV/PPIUlq1YT5L1kFSySeAu7KtpxYsvz8Y//vUotu/eSTvSIrok8y5Jq946F/HZBGRimnEWrPTI8rR6L/RZk/LafjaVyiE/lmDtujp84xu/wNWzvoVv3XIvbvjCz3H9p3+E66/7Lm78yo9IvJuRYD1IkvCs94cZjsb3VSfo1CWeUhe6nH4rX9rjcbSwl/UURLzHMGgHDo4YDuk6OCbwmAlJFMheWn6eKOVbFL50K6klQiFLS8bdkiGgXB5DiESy8KMfPEArbxvu/Ok38Mw/v49f/Ow/MHhwCUaMHo5b//sbmDh5CLyuMLwUnh5abbKSY/o8haSlrlkPWY9UR9fepWdXaPXymq3XaOlo7Nb8oNVpZvQyHtYYowe1jVH89cHXMX/2Rnz1hsvw1CP/jfv//G2MH98b5f1Lcff/fQ9jx/RBMNACt4vpUbhKa8pQL9NDy1Phkpw0ScsiWk0WIvm2EbJsW79Jhz8VM3miiUQax00lk4i0AvGwD+HwPjSH1yARi+HpRzbQmvWioTYHP7/rabz1RgVTmo05c9fglpv/iGeenY+Nm/biz79/E/PmbGRMmhCn1fz3vzyHDat2Y9mSLfjxDx5C1R6NsLqZV0G+XzO4m+BNZDM/9R0v6Z/5400xLmZDd6MykCDVzRtnWuV07mZ8mQ511Kfc8DGtUb7rN79+BfMWbsIdP/giHn/kO3Tfw8hB/ZBfkMavfvXfOP20oQh4mqlXsKyYZ7L6VVLKDS+zzqf9hXk/4Ykxj3iq/DM+jhRS/FQ/mGalhdZ7Wta+eheYJnVjHytoCMOyohm2YXSL5I8q+g4+FnBI18Exhi11dOwggSio4Y7QNfNHDFu37MKypStxwYVn4fSZY1FSlo2Tpo3GdZ+5Gg0NDdi7twI5uSRr+rUEcUczJXN+DATcli3baemuxinTR+PU08eiW0kAYyf1wlWzZqKlpYkWeRzZWSGzpOB7ndz3ToNKV6yrbfd44g144famMemEcSjrWYrLr7wM55x7DkLZWfjmzbfgE584F2fMmIYTT5yMefPn8hnN9o5j9JjhuPE/P4svffk69CgvxvbtW40ll0i04LIrzsYXvnQ1vnXrLaivbUR11V5ej/OFjD+Vlv1Ijc8oPm1xeg+Q3yS5ZXfFbixYPBtXXHU+pp0yCWVl+RgwoIjxuhLNTVHU1tSz/HKYZyRWM4tZUHfygSKnY54egwLNQJ+jWSSoMG1iPJyUOnBwfOCQroP3D+6wRbruKMmgnpZdCuPGD6fFVUsDpRX+7Aj69e8Bj8uDndu3kegksOMUnsdOGB+IupoGkkQjynvnoaCE1m+glRZqHcZO6I+c7BCVg82IJSLQTjpmMX97jNbg6CwnM+uXQSa1chVNP5fX6sJubo3hf3/8E3z+/30Fd/zvd/Hiyy+iqroKsVST2Vg/vyiLzkNypsXoiyMWo+WcSCInL4iSHgEEs1sRCGoimA+RSAxut7ptrTibMV11AxwFkrQcN23ZgpZII044cRz8AVrNKVq0/maMHt0dAV8+Nm3cRp98j+miVne2fmbGbo8TzJit4VWqFiRbW0kS3xqL1Pxy4OCDRZcl3fr6+syZg48EjMBldVMXHwVvMuGFz6NZy37LivS4SAgkCN4P+bOg5Ruh7k0zw1kW7/GB5LLXHYDXk0Vy8tDylC3oRiiYDzfjnEiK0KJImW7WY4t00keLzA2fz4N4PGG6hxNRL1Yu34BlS1fjnnsewK9+82tcefXV5ttl6R5psbThffUAJBhvEimjloy5eUxAM8aRjiDFeEOfXBmyEd3wIaMwHD30/bLLpXHqEI/MOx/LUjO/3WkE/EGeB3ld79JnRCK+jHKyn8JyfGCn1iJd671296+5cZxh0bwDB53j+LaAo0BX2q3EwTGAId0g5W8Wjz6U9+wBv9+HLZv3IBYJmsk50agHe/fu47EF5eUlRnC29RAeJxQX5SEnKwcVu1qp6KVJsCGSYTHWrKggCcbQu0+5+eRF5GVJ7Y6S++gsXZcmEaU8KCkuQlNjPZYvWYENa7ci6MuiQuLFutUbMX/uXLz26gvmcxuPS2PZHioJjIMZ/3SZxSh8Pj/v+01+6ltZXdfnSfqsyYw1M54aq7WsXMsdDdLJGHqWlyEnVID1a7ez/Ej/ST+vh7BxfTUi0Qb07N1dCcw88f5C9Uab63esN2Y/XZt8jymY2wqX/7S1H99uXXbgoBN0WdI1G2M7+OhAXYxmVnOOEVBlPYMYM74vnn7q3ySXGlRUxGnh7cSzTz+Hvn2KMWHcMJiFFTQOeBxZt2+/bhgytByrV63DogWbULE7QeKowZNPPIuSkmyMGjUEPi21qAlRGcvJ4BgQCu1qeBlu3z4l+MLnr8XLLz2D1155EaNGDsQF50/Hn//0K8x+62Wcfvp4TJwwlK9MoUdpMUaO7EcCTppegWFD+2DQwDKSborPDUZpSRHz2Gu+c5568hgUFocYb3XTW/HVtLOjjbnXncKAvt0xbtwgPPnko1izajvzLYkdOyP42wNPorx3NiZMHE7iV9Hpv8ysZNPN/D60a5KgpbBZKTVdy21KkwMHHyy6LOk6+IhB6whLAMu6c8WRXdCMG792BbJzsvDjH/4BP//Zffj97/6BSDiCSy6dQTIsoqAU2VJwHuUY5KFQ1C2ACy45AT3Ks/GPh57Er/7vIfz0J/+Hvfu24ZPXXUTiLTTWo9tYl4qHBHem2RxlvFxprbgVRsAfxsUXnYbbv/d1fP1r/w9eTws+85mLcP/ffoHv3/ZNXHnl6bji8unIDroxcdxgXHLRdNON7POncdY5J+FUknIoJ4lLLpuJ4SMHGKtOC3jccMOn0H9AOS1gvawj1R4d+WhDiIC/BZ//4jkoLvHi7rvvwW9++Rhuv+M32Fm5Bzd85Wr07tvNdMm79HmUIV3mmRnfPfbd9AeD+VyoI+mqEB046AL4CNVEdaCZTrSM2/+v60BxOZj7cEPiTXapiNVaxo9lYPOUsVhFnhS4GeEvS2zkqDL85M5v4/xzZ6CkWy5OO2UKbvnWf+Cc86bCrbV4M9liwjFn6jjVb5WoZuOmDDGbexkesfyZl2bOTKwYlv63vrHVHY3c6oqLlteYcX3xXzdfjwsvnonu3YswZcoY3HbbV3HeeVOQnSXSYJz5kLWCkwnNOjKt6ZTfXFf6ZHlaMZQT+CuTHy5DOHzEpQUn9HmVfMr6VxdwEslUI4khzGtxY7UCzfTbQrLXZ0ctcHkifKu1UhdcreZdZmUpl5ZPbKV/5VcYXi9TSYLxery8HuG5vqtVfBjXtNZh9pn3KQ+NzqA46aAy0gkvmNhnblq5pHRZ962FRuiH7x03rid+8MOv4fzzz0JBYT5/j8KdP77FKAVINRtFRds0Wkt8Cvrfao/2mckb80N+jk4ctYWsNDE9Il0FbVu6xtg9UljBKuU8twPi0T7VizLocPrRBxOrPKeKY47WNR07Ogv2WftV1XP7V/vV9wLLd9sb3wGbAzI/CL3Lft8Hi48I6VrFrnVsLZdgY6ewUcOznfHVwfHaodzRwS7gzpy0fXWz6fxYvveDg7751GpF6jL1MO+VxljChUjUh3jUg3gkF/F4nNfCiEVDSEQLKWxT6FmexqyrJ+Eb/3UpPvnJ6Rg8OJ8500R/abogogk/IgkfnXYv8pqJRtE47cOkD9p5TxLbJmX7aOeyflv74rr4TjefCyESD/CoRfpTDIsu4kcq4UZpuQ8XXzoBX/3axfjs5y7EiGF9zFKHyUQUCfqP870Jvj8eTzFeScR4LRrzIxbOhbbt0yxrEaYh2ZTGrxkT882uCDYBrzvG51JoaAHq61wI16fQ2JDguZ/Oh/rGMOqbmlFbl0Z9g5vnrahp4O/GKO+lUdvQyusxnkfQ0NyCuvokGmrTaGpI0aXRWA800m9DPe/XR1FX60Jjcxh1DLeunuE1JNFY60YTXSrRqB5o013N6Jo8y3ymS1CF0EWWY4xxjyrf42w/muRl0hxEazLE61n8HUdZj1xcftVU/Oc3z8GXv3guxgzJhjfaBHdSE8NSCMeBMNMdYZVXucVjHua9m+XAesH3qQ54pBQwQspBldvRgKVtEpRkuImUyp4/6TRJjlpNxtfhI1PVGJg545HKh8paCoUuCR/i9ntEMHmrr6KTbO0J5jllr5ntJ1nMAqfTZDbj6N20S57QF89VUrxvO9sfw2tz1is6cZZct/0a6KjeDR61d7RRBIwgkJPMpcJq+EGePziounzAUTg46urqUFBQkPn1bjC5qmJoP1ejMMmzoMbR/ot4l5y3xoCOFIcSHXqv7it8y1lRsd53dO89cqjiHs2GBxJIyn8vLal4cwy33PRfGDagH/r3LqX4VjcjG4EIkmeSsWbR/mQaPrMXqx6m8KJMNCtFsaVIPlpjunpGpKaVfDNWkcvH5uPHXx96HLOu+384/cKpyPNbuwytqqjFi69sxg2fOgm+SAUee/gfWDFvMU47bQrfoW0GLWEgS9O8kFZh2sywTTJsvkeWq4705/bEedUSGAcFw4jH/VizaSuaqSR85/t3wO1XfqnbOG6eSzIs7T/7wF/+jqXzF6BfeQ/khbRvL4WUW2Khc2jpRIuGlA+KmxvJpCxc5Z/yyrLeVGM61n1BY7f2uWBvNpGkprJy1ToMnnQS/vOmryDliyNE8tSGB+seexU9Lz4Dkd7l+PN9D6Fq9wZMP2ks4yrrWnG1lt00m9srZxQkf2m5S03w8pgCtCx+iTy9klHmuzOWspz8sI6k3UG8Pns+Rk+cjFmfvg4Jsr5WwVIrNWVzRLBqqlbSaqEC8rPbfov7fvsQfEE3br3j63zPxcjKCVpeDxtWXlp1UbWRSmFrFD+545f46z3/okIRwV1334FLr/4EfNlUNj8Ouwwx4pIbWqnMatkqOy2CosTpmqB6qATraKVVfgW1kbZcUL0wsI/EIWShHYaRBzoar/yh3zxPMmytuq5dxMytTB02m6qwHRwi6MPG4cps+c5Eu2vhcEnXFEK7WsOGp8bRoQCZ1P2yxvjtDBJmR1MqhxSldLqv8C33USBd7UKjdGnbu1TUhQfv/yd2bNmuKs6sToLyhmWSoQad84TUQ8EVw9rV67B543Zk5+Vg6Kgh6NuvN4tOPinAGa4tg2WBmd172IATFFANrc244ppZGDa+L7K1VnGGdF9+bQu+cO1UBGJVWDRvPv795JvIytLnOfqERsRtC3/WEea30YhpmW1ctxkb1u2gBZfCyFFDMWgIhV1Qyltn4B01Zq8PI8aOx3kXXWgpC4Z0qb0zvVI3PGk/li5cibdenY2Gmnre4/uZJxK+HfGO9zBuZtoT05yklbll407Mn7OQZZXEwKH9MXHKeAS0E4Lib562Ha8YxUGwfut/bRCRpKITCmVh+tnTcMppJyGaDiNEy90i3ddIutPhGjYQL746BwvmzEHI5+VzioLWXWa4dB7GXVG3aJQJ5sXGmia8+fKbtPrTyM71YuYnzjLfICsaRomSb0ZCzhAXla04Cfr0s87AyadORcqsSkVFh/dM2RwRrJqqcMJNCfz89t/h3t/8ncXjwi3fvwnXfPZSxk07GR0J7Hy08tWQbjiGu37wK9z3h0cQiYXx05/djktnncf28zEhXcI0e0OwGZmmNqozKrZaFtUiW8Wef/SrOqQ2LYXRLcvT+CbayrxD2b+bLDQvt2DN/2iH1D7NPtDqcQYdFEezGt27BH04+PiSLht2isJAKbLG+fSJgLqAdI8NnhljEspzLX5O6WA9ad/LXLd/G0vsCGG6uNuylZVrv0JhheN9q6AYD+NN55Yf+/32uYnrYcCePCLY4dg48HdH6F1Ht7VfJmw1HkraRCxtNrMXwalBqimavWPpzSSZ/j20mhpqGnHnD3+Kfz38DMp6leIrN92AK2ZdymAk2GV96u0KW4RrCWQrRDZqbxzBbJIt/QaSWljCIt0XXt6EL18/DdmpGkOmrVEKfWm5zHflppp7G+nyl0ghTeL54+/uxV/++CDq65vxpRs/j09/bhZyS3LbSP+dUMzoSCDeQID5JdGitIo8GD/+SlDoqJHrm19p3tZ3s4LiY9cRC/v/UnkxbNUHxjXSksC//vE0vvXN/zG/r7ruUvz3D7+JvLw8kxsMjA8oBCuUFN/XDuuaS+wp37JGVQc92s04jqw482XpVqx79FX0umQ6ciYPQyv9xCMMN6m9htmO+Kgsc1mRWhpS6W4rF9aRpfOX41NXXY9UPI0+g0rx9PNPI6CykfKhnFD05N+UJ/Oe+aAuX6+feUKCMus8068Jz4R7JFDYfAXrQ6w1ZSzdP/3yb/CQdL9523/i2s9dhpw87dl7JLDy0CZdvSkRieNnP/wV7v3dP0m6Efz4J/+DK669AP5cltfHgHRNXrOeqJ02NjXQNaOoW3eEqAg219Wime3fTc0rzvZVnJePLLaRGIu+euceBFlvC/LU68CcZN3dsWMXSkpKkBXKNjJPdVQ7femenCW72nPMnFlFkoHlT848T5KVfEmZdcl52xU1citJ+eV2sa22yWDeUpvMnB8JDvdZRecjAVMBMpluXMoSLnL6/Mi4RKLtXII2SeJNUCjrXERojT1Yzx8N9HySQlxOlbIjrPgpTnIay9j/XSZumTjreDhxkV87zXYY9vXjDRGLGSgUmZHgvIEUQnkuBPLTCBakEcjzI5AbpEDS0Y9QfgjBnABCOVlw+7Q+riWMvNrKLod+jAtQAaDL9cGXxyaU54ZfYeYBwXwglMtXecJ8+/55LNjtQN+xBnM9fJeX/gNWHEyYcn6Gx/ew8WcX5CCQRSuIRKBaoPFiX7blP0i/B3U5vMf4+7O08b7EogSQ4qJapAioS9zSqs0mC+4Iw21B3N1kXMId5e9Ym9PKVB3dftdJjom0NU5l3sA8jpMyY2mGoXuu/V2SYSfdfM44dWVr1E1+I4xHlMWkek+SU9wMGdPpnH8phuv2h5l2lhvz2eQ5iSRIC05OZeNn2u1yUjl6gxSutHKlKqW8HmTn5zL/mNck3kAmvwJ6RvnNOqEy9GdTQPpUR0XKzL+0CF5xOUqwLmkGt7WoiqUeGMVKN44RMjm2n8DWqmB6z8cGbLQaO09Tzuzavh1z3p6Duvo68430ls2bsWDhQmzetBW79+xGa7iZBMi6yDr31muvY9u27Ub2al6ACuzZZ55BVVVVm9zqKMv0O0HZLdcmO3kuI0syVEeN7+r6G2+8iX01tUaJTsZ1j2HweozvWcj4bN+xg3GwwrbDtd9nu+ONjw7pZjKyunovdu3ahXAkbApi37592LNnD2pra01Bq0JoWUFZPTt3bEdtzT6es6HQb2trC3Zs34b6hqNbDUtxaStM0+Dbne6pcqiyKb4HFrIasK4pDYq7wjgctAuA9sp0uJrYkUICUyLOEI9tuWjGMkWx2d3Hrd1qJPAtZ92zFm8QzAbzcvQnzdRs0K5n1H1FlyKBpEiycvrsSFaguo/eTVBrpm3bzkQmHooP81/h0aXpQBLSzF+3djRgGqLxsCEzl+LA48GcdU/xt8ZwLWdZgTYsS1VlIDrSPSs/DNGQ3BS3zpzpEjN5pTWrI5lrfM7c1/t1jLYfNdZqfsu1Zhyf03vMu+xnFI7yVOWkuFqlZlJufgvKU91nGjPl5ea52eRB5Wbyjff4LjfPE4mwZVEwFOotpry07rKWt1Q6LL+Z+qD3mnCsOqJeCCsGxwZqc7J2tAeybTXFaHXpeEzBdqXwreYl+cM0G9li7n7kYepLRnY2NzZRzu5mu2FZ86+hro5kW4loVPXHkgtbN2/CwkULsWr5CjTRKhYZrly1CosWLsKaNWsQbm01ky2XLFlCf4vQ0Nho1mFfu3YdVtHfypV6rsmUoyHaZAxbtmzCnLlvY/eu3ZTxdXjggX/g1dfeQKQ1jLVr1uJNkvCWLVtI+mH87e/34+VXXkEkGjGcMG/ePFrYO6zEvI/4yJCuCl6ktnHDRixevBiNDY0slCQ2bdqE+fPnY+/evSajRUT6lEGN46233sKWrVuNNaoKpEKeR787j0FBPP/881QAqlnZ2CLVCjOuuaUZy5cvx0bG62BQIxb0rCrckQgKkex2ap6qVKrE7w9sQaqjiIYpV7dqilZgKsRckCS2unVtp+5d0+0qf/xturLNdT0rPyRUc00WdLvVYkH+GXYy24R7KGic2aUJUsbpPBMmw7BEPd9Fi1TLQXqgBTw0y1YClNdJ6h7G42DOxJlptruTdW5buoqrjtZ9Opa9JggpvZ4k35MMmXMTRifOdH/zaOeXeZ7Bu9VFdqCz49P2m/6M0zsz95kW5bHOrfKyrT/F1TCHBeVNSvmqLfcUB4UjBYd2e1LPqzysrn7jeL25kQTPIDX8kJudWaDDpXy2/emo8vSzzJj2lLr4eD+TT4aARcgmPkcLiwyzsrIQCGg/4jRampvNcMexglFmM+8xecdoS5m2lOhjkYYPCShrTM2hPK2srKCl+QZeePFFY1VqKd9aku+OnTspkxfhjddew/r167Bh3Tojl+bNm4vXeE2kuJbXYrEYXnrpJSwi4a5fvx5PPfkU723F448/Zn4vWboUc+bM5cuk2LmwceM6zJ/3NrZu3YJ///tZVFRWUb62IhZNYO7cuXjrzTdRS8PlD/fcY4YrW0nqMsZ2796Df/7zn3xuK2bPnk1SX6sUvG84tLTq0lDFtshSTj1kfqammVZqzV5aiEbDcqO1sRk7qysQbQkjRq3by0axas0KvP7aq9i5eQOqm1qQZAVYsWo55s+ZTwtzJxqbwqitr8Fbc+dg7rz5qGOYFbt3Yc2qlSykOVi6eCka6hvMJwmJVJzWcxgrli8k0T5Ha7qCZFmPB/52L154lRpXNIwlrHAvvvwK1q9biz2V1XjysSfw9ux5aKpvxvpNW/Hq669hM4m+NSENjsKb1oY7GTHa3OZNG7BizXpWxpexefMWRKhJLqRisHjFcrzy4ktoIjHXNTVixbLliNN/HSv6ipVrsIoVVJV1LStkNBVjHNWd+C7CQLLDOFKH8eqhRShikpOgFtTE1NDsP/4SSZqr6iYU4epa5nrGuTWGa4S+hK221mOoxtKyQhGZuPRSc7SEOc/4XjnFySprjZhqX17FK0EvCT5o+aIVp25R+ZD2TatMFqzSowkVSgvfknGZP75DY9F6t9Lo8gYYJ2scOx3j27T+M+90/qe7cnY87byy4mzF/0C/dMyc/S3KzpzyXEtR+NqcrmuykUWiFoGanGJwVp5Zz5jvcXVfec577U6krGsqD91XWTDOssSZx8oPzUK2lIRMikzYyjGB/xvFRYSsOKk73oW91ft4Tri9KC7tCZeWcWWkZM2YxTFItvLbVp5tzv5t59nRQLVDY86WkpFflIesQi3GkkZrXRiJMIlddbFtkqVdXoqXru0fs45OqTd5xXNjxTNT9KzH7YMvoyhrYhg1NdZNqw5qr2fVS6uXxSpzExqz0KqXgk5UpiaahP5jOG1OvQHmRhtE7LaTEbGTpGZZfxbp286+dnzB+DPyypOWcITGQi2qK/eiqa4aqVgYrU17sY/y+CXKv9z8HEw+8RT07FvCaprGE48/jrFjRmHK1CkoKemGSCSKhx76ByqrqpmmPXjzzbexZu16GkPNGDN2PEJZ2dhMeaa8Uzk0UtatXrWG4deisKgbw+iOoqJCDBs6GGU9SlBS3JMSoQkL3piLioYWDO/ZC+V9BmL1knmYM28Rqvjc0uWr8MabsxkaQzTlojLaP7+PNaza8qGFnT1WDdb/noyV9+ILL+CJJ5/AvLdnozEcRkNdDdZs3EDCXIR/PfooWmhxLlm4AK3xBElsAf793HNm3V9pPdLOXn3lZWpWS7Bs2TI8/+ILWLxoIZ555hmjtb3AsFevXo0EK7zGglesWIJXX37BaHZ/+tNfjBaXTsbhDWZhAQny5ZdeYNjVePyxR83zasA+CvhVK1fimX8/hx0k+pdefQUrVq9lI7G6qbaQbPftq6Z2+Cqefe4FhFmhf/ub36KusQF//uOfsGDJIqO53/OHe1C1by/+9cgjVACSZszipRdfMQSmhgefJrMwnvx7t6rUsbK1VT3WRAkXk7umUspZ9/b3rdyXv45O1ywoFCNajMWjXxQGEl5G0lj+FF073Lb30InM2y1Fy2KyrFvdl1ARkVrvMJaZEaLmDfxf/g4O6xkJRioksrJ8LBlxBcNMxqN8Vl2hio1COpjTPft97c6+ZuVBx3M7P6wwTTo7+zPvTfCM/niuSSByVnzkQ8jkm1zmvpVbzAmTD3ba5cOOb+ZJZTDjZfKSsHIro8AYLxn/xp/CyRCUyTTdy/Rq6L38q6qqtCZq8XdpeXcWj9WVrO81TSwVqPGv6+09IhZMoHQd8+jwobhbSpdamAtF3QqQX5wrvQ7Ve2rQ0hi20pO5r7cbx7iIKNvjcRBn6pvl15CuSY/use7pwKP6NNKamMCj4mAeJaz3WMqiWSjEhNVO9lJ6rPKgM0crH9rbVCagDEy7zhwjkQhuvvlm3HvvvW2bxIiIbQI+7uA7rBqQRvcePTDtlFMx44wzMGH8WBSSZLW4ixQRydTyXuXo03cAevUpN+1s794qDBs2FL1790b/fv1NT0FtbT2mTj0Z48ZPwNmfOBe5ufnIyytA7z59EAxan3tZw2VpPtMPM2eeRT95lNMrSPj74KWyFwr5sX7DeoZfi0COB73LelHOJxGicuQP5lAh2IfBQ4Zh9LjxOG366Rg5ahRDE6ySOt6watKHFaaCZrKJ/xntTo6VLhaPIBaNIp4I63toRBOtqNvbiOdJmGNGjsdJJ52EEcOH01/CdDNPmDABkydPRh8WbmVFBV6jZla5pwJbt2zBMlqNImN/KIjRrEzaMq2urj4zsA+00opeumyp6b6eOHECsnOy0b17dwwZMhi9evVC//4DUFOzD+to6aoLu3efXtTagtjAirFkyWLs2b0bc9+egw3rN7B5KU0u0x3S3NxsJhf07NmTcZuIapKrrqnrecqJU6j9jcE2Khh7du/Bboah9KsLRZMZ8gvyUVpaiu7U/tyaQatw31N9ygheCpWM+DZHXTd/vK5sl9CxhBXzO3PNWKCdOAkX62gLG1lw1m/7+0/rmmU9Wf6s8pVQ8tI668xppaUUn1M4CkMzd61wrN8K55COjVhy0OPTf0pPClGSrplcZ+Jhh3OgUzyP1h0sXDopF0yRNRYsdyB4V/E28TvQMVyW+YFl0O7ox5CHys1KrznSehNnmLLU8x0dn7Fd0ozNa+yOhMo653X5sGbVOjNzWVZ4j7KSDBHxN581pJFpq8cbquKiAR3LystN/dc3yuvXbaY1XkPZQOtQhCQfTLdRDIwiwDQx7p06JUFj/xmlgTnF+pEys5ZjCV13IRjKgsdjW/RWOUixsc6t3hZr/YB2p4pn8lVlQR/yo+79tOlFUJ3Wcf+8s4egBJGrhrJ+/OMf42tf+xqeo/EgGXD8LVwmWU51UJlDFs2mJdq9WwnLvwyFPPr8Ikm2UY8XgwcNwqLFSzBvzts0ZpYjEUtg9OixtHafoLW62gwB+rw+DB48CLt20zBhkOqKlpz0eJVvVu5IsbMUCpg5OpJ7mvUsGdrQWM+8cWHz5s1mQpUmUebk5GGL9pvmAy6fH9u2bEZPyvg6Eq8Ux4rK3VRcNBlT4StFGVl5HPGhJl27HSu7TMU0BZMmSfXCtGlTcfbMmRg3YRSyAtm8mqRwCJK4qtG390AUFhShX78BZoaxNESRbc+e5ehBbS0aiZpFG6ZNPQlnn3UWzjnnHBQVFyG/sAAFxcVsXKpMbHa0JvVp0SBWqM997nPUuHLw9NNPoWZfDdzUuLxeL+bOm2vGlbuTAHv37mOIOhgK6GnTaIcNHYZTTz0Vl1x8MUYOH8HwpDlbgipTzyg8eiA/Pw/Z2dlmRp4aXa9ePc0m4T6/DxEqF6qlyg57spbe76NyEPD7TSHrniUIO4fxoxO+lzKAR/3KRELx4U9boLUdMw+Z39RqO3WybphmW8jr3CJrXbOvKzwJQuua5V9WhSY+yf/BnZ6VX8HE1sTHipvl7He801lQDtE6UZeoaREpxJOaMaz4vZs7eLjvzR0sPMupAAyFSlhkKgKTYiVIZWFSqDCUP1Z4dr7JaaGJg5aDccpP5ZHe1RZkG6zr7eEa55azr2kSmmXBquehrroBK5euZvvywk/BecIJE5iXLE/W73dO4rPScjxgylwnJj0plPUso3XVi3HxYk/FXhLvJirImmQmAszEi/6MUqn0HurPpJt5l6ln/GnaspTgCBU0PV9Iqzqo78FVLvwzOWmes+q+cXpQZWzu655+K19F5lZcTPHzrv38gbAJSEc5xUMTgh577DHceuut+Na3voUVK1a0+TuuMO9wobi4G4YOGWL2oNbypCWlZRg0eDD6DxiIgQMG4MILL0K//gOxfetWnEhLtrysB6699loUFhabWc4XXnghSnuUUo5+1syx2b1rF045+WTK6t4YMWyYsWD79u6FoSRl04XP1/ZleIWFRcZiPu/cczCE98674HwzoeqSSy9n7qVI4JW49vpPIpeyc+pp06kYxjGUcvbMM0/H5o3rUVrSDWPGjFZCzD+rx+H4osuSriZAvBe0VSvT0Cg4SYLSOAuKCkmsBcgrzEfAy7A86pp0Y8rUqWYQfdmylXj+uRdITH6MHDkSDz/8TyxcuAgLFixAcVERSmmpbt+2FTu278DKlStN3TKLpvM9KkxpVBIoUihXr15Li3UZSbUXSb3KdPmokqhres3qNSTLLKPFiXylpTWHaY021CMYDFE7a0BdbS0FwjpU792r+sQXUKjy6NE0UL5QR3U5GzJgpYlRKXjggQcwl9phJZ8pp2YZDYfx8ssv47XXX6N1ry6dNK3rGjNGrbi/lwao0UF1AetP6/VaZ/t3fxlqZ9ys3WP4S/fkR5JC3bFy6bhxaeNoEWkWKwWLi0JbloLW/qUtSatDK0SpK4xCi9aT25ukgJQ/CXRrdrDZmk4kwev7OfqxnRV2ihZMpkuYYXo8LCMKrFRKe/QyXNvJOuvgDDShh+nQdnpygrruUwkRnqzM/Z/pzJnJVB3f1Zmzn2H+GGc/z3v2uaxbMzNbFi+d1WXKclFZst4Z4a+81IB05hnLCuM5882MJeq6wsyE21Y+cnpczKvH7TF0OlktZkaqwjJhZMLKlKe1xjPtZTNJygtPOoBXXnwd9bUN0DKAPcq6Y8jQgQqcftVoeGiDrh1/GNLj+wsKc9G3H5XTvGzzecqLL7yCXTsqyXFsV0mmVys18GjqsPKgQ17JeZi3cioXdZeZOk9/7qTS7UNNVR1q9taYthoIual0U8GlsqF9hTUvQ19IKLw066BdpnJmRTSVL+MpZ4jWvJe/mWXWWLquW2Ugg8EmWDnLurSOcvo8Sl3KLS0tZhbwgw8+iP/8z//EL3/5y7bJox2dHc7RdkHr3ZJzHso2keupp5xqZKeHxsbAocNxwpSpGDthIiZPmkQLdjBmnDkTF5EUr73u0xhA/zKOPvGJc3H+eefj+uuvR3l5GUaNHoWLL7kQF110AU6aciIGkbBnzpiBUMCHkSOG48TJk6ncWXKoW/ceOPW003D+Befh7HNmohsNo5NJ1OcyvJNOPhWXXnIxzv7EebjuM9dh6MABGDVhAq698gqU9+zN956FSy65iOR7BspoaFm9gcKR58d7BWtR10Qo9F5WjpHwsaAKpG6jHj17Gg0rFMwy7b579zKMGTmc1mIvjB4xhIXwCUydeoKZTXfpZZdh4MCBOPvsczBixAhDUGeffTZGjxmDC1lg/mCQ4adx8rRpGD9+vNHYQoEgRrNi9Ordkw1SBeXGuLETaHn2xqaNm/C5z3/WdAfPmjXLaFxXX321sXj1GdI118xCT2reo0ePQXZOLiZOmkiLfBq2b9+G0aNGMpzRrMiUA8kUhjM+PXqUmS7vbt2KzV6pp546Dd1YqVXZtXCIZt9Jq1UX9qdZaXft2Gmem3766RhG7VDPingNYTOj3q2BpShQ9EG5xkVlwWj2riWQM8KfwsrM5oXX/MmvGWOV4OIrLIHBHJHywz8Pjx4qQV63JvbwOp1X5CF/DFcEl0okEWSeSkipNLV6lZlkxbJzUyi6EwzbxEMEQR+W/KM//s4QhcJlLOj4PoWvCVBiJzof353hIsspzA7OxfDdZlazrLSAia+Us3iEL1FaRSy8Zzs382B/1yEsE177uzrea/PTIQ4mbDoTjtKpuHQI25VkvLQ4Bd+ruKj4TNei8kd5yT/lv/50NCSt8sooTLxi/BnLicf2cylYWs5Rz1vOkA+dlqxU+lWebc/QpznPlIFXs5rjJJhEAKuXbcSf//BX82mILPTxU8agsCiXtYkJJXEwxoyvJc4M9PLjCKOQqGqQqHwBF8ZPGo3+A3vyWgyL5y3GT3/4c7z1yhw014SpP1DJSmdR32O5My2a6OdhvttlrfJoK5OUJqYF4U/nwJsKoaUuhjdffAtrVq5XLqMP239xfqGp33za5K9pF3w+4FHYClNhKyzlL492npsyDPBZP5/y8x0+ePmcJrVpbWq1Cck324k4bdgEbBOojo2NjeYLjrvuugtf+tKX8NRTT5kuZ92X60i+RwvJK3Ut+wPZyMvNg19rlLLG+EI5yMrORVZWLq3fLJKzD9m5+ehBy1KTngJ+5okm3RUVo6R7qRkO0yde6hIu7taNcrvErLbm93uRn59rZIN67WTAePgO9V5osl5ufh7lZKm5LmVQfmR1+2jQdC9lON3KkUPlKzsYgDuUjR7du8FNPzm0fPVcXp7G/C3ZYxkOx7d+Csqy4/+WI8B7qRDyoaatvHKlEhTGMVamBDVuFjoLRVavZu7K8GONRiKaJGlS0MfTFBJR5LKA60O5KKLm2RhvhSvOiu5j5ntCfJ6Vt5WWGAVQKCfERpA0sxNdPhKx/IpwPUFDqKCFFYs0I8pwPd4sVgAvkuEm1FAwleT40NLUhAQtgyyfCzG3unsZVsLF3x5ENMYUbWKlDZHks9mgKVDdPiRa65Dku3gTcV8WgpTWsXgMXl8Isy6+DL++/17GKW26vSNMsy+WRHMiSmvRR+IIIJfxb2WeRFnZc/0U8JR/Lr1bk10OAuX3jsptuOe+X4LRwLWfvpbWeQ5vyKKxtPG0R+GwUTHDm5NNWLN1rRHK44ZNoLBS4+dL7GLja6w3Wf9rgpuWJrRCUjlFKJBcaKiO4Sf/+0s88tC/UFreDV+9+cu46trL6IeFJpnN8FUVKCJMOLbgkLO+t2b+MW98tMISiRys3RvDW2/vwdWXDkIoVWvGG+nRPCsorI4LGJit51g26up+5flX8buf3YPtm7Zh8skT8e0f3EIlSWOCdqKs93eEBGJnMD47emcemNzQseM5/+yeE+tS5r6UCs2S5Xk0nMBTj7+AH37/RySLJK6YdQm+dfvNKKRAkR/jzLMsL4aVSspCZV02imEHMCylwVjwFPJx+g/Qr3v5Bqx79EWUn3MqCk4ciUhAeUv/YjDFhbVWv/VZR21dPVatXIu3X5uHOW/Ox+aNm80QR0FxNh58+O8YPnmA6bFgo2Rma4ySeaxY0AI3bM56cHygvKLLZLrILNIUx9/vfQh//t192FvJ+uD1o7C4gEpzOQYPHcTyLUd3Ct8SCuO8vBwj0L1qQzxqcQ0prAkKkEgkhpraelTQcqzavQebN2zGWhJudWUd8xo4bcYpuOa6K1FWWoA48042bEkr2+Q/X4Cvbw6SU6aZFamiLFJTl6lYW0VGm9YIMJaJiJ35vWvXVixfthjFhaWYPGEaCvNL9qt3IlabbNWrdvnllyMcDrddk+UrSEGTfNKY5/Tp0/H5z38ek2h16pr8HpuN/RUvOwydW79lt9u/LRq22rF+Wy2G1yn7VO9jibiJiz1WLd1Oj0qZsaAStRQOc4PnSbUNqiqqx5nH+AY3EvQiY8EboKPMjlDG+zLtPcK0ZvM0zndqRN2G4taeC7quX/a73x2Hm4d2znQ5HCjcDgb5UAHKq5a1E0GZMVF1EUqL5D0zCkOBrB1wXBIuJCGJ/jQ1T28qjlpPFgpJAi0kgSyea8wrpW81KSASbADSStU6/HxJUkKeQtyVjppVTdKuoGmcWrw+zXenSPKa+GC6RBNhtLip6amLVPEkkbriEcS9JGp1e0oflgarip8M8zerGEmRnM/3iNzCSFJDFqFHRe4p7UfLGuMO4MF7/4oLrr0S+dTczLeBrFgBEn6EuaHqpW9NA3wuwbjFNK6rLkIStDYKUHwPBuX3zsod+PyXr0dzpArDRo9gmrwmn7TijLrEzBgdydWs5OWPI6soRAWGyklVI6WxzwgfNQyLDNs1bx3jMXUnu5BgQzOrIlFBSFObT0cDqNhRg9rqGjBrUNanO4p7FPI55qk0fZajKWCGZ49XWwsQqPR1BKJepU+TIQoQKNOsxEvx2gs/hT9RzbygwFfaMzDPZ85tmFzzMP+aYmiobEI6wlLM9iC/PNci7Q4PWO+1oDMJgzZ0uCdkotgG+1TCxTRT1cmMM8tD2ueSIjxKUzLaN+ufFJamulZU7ammcE6hGwVpzz49ac3RSqKM9bAOuOhkAbhpQfh5bnX9yXqw5hfYYct5POraDyBFggkyr/vS8ivdF0Vl92zUlOSx7jJfWLdkEWlhiebmVvPduFx1TTXj0oJoC+tBVKlKITs/hO/98Fu4/OqLyLEsD7Yj5azqtJbiM6ImsyiH+Q74OMEaEzdSge2U6WUdrq9qwn1/uh8P/vVx1rMG3lM7Yl6rKUgAa+hJZcL2a6LJy8orlYHOTb3jn9p8koqvi/miINJsc2n1WrAtB7JoMZtRrDjro8qLdTnqwhW5vbC+aSvm0k+U5Rjje9gi+AzDNhVCqpGCU3wt0k1rmITOS5nhcWWbNJnVwzpA8bVICG0LRijOqp8qa9saNukgNFynWcIi6Ouuu8708Nn1wfZzZFDsrTRYcw+YEoanDnRdVcgWwSlu+p91hlfkTz1S6hVT2l988XmcccYZZo6K8l0+Tc+KQHlp1lIwMiCJurpa7K6oRpEmbZWW0GJOY9PGjbjzzrswdvwkXPvJ68xWk14qS2HVfb5Tu2U2M625ZOWY2gSvmaCtqJl4tkO/Di4nD4bDzT/51mu7HDoKt+MBO/xMnlvl3CHrjdVmGi/PVfhqDKZBs7KQdFMxCjd1IXm1hR3ZwggaavJxzbZjqDz1+kh8Ii4v6TDJRsmGI0J0eWiNM0h9w+hlQyftmgjwFTya5mje2xm0BJqblend/B0uqiorcOIJJ6KiuooCRnnA6NBZ373yt1EQ+Fbmiy/Pi+ETR/CeG0vfXm7SQh9WNxyPGv8TSUsJAZh2KhEiEDvf2ypq5j12ceu6bplr5qau6r+Mh4PAZYQcFR6/F916j8KFl30B9/762wikSbrNASottsCyGr6ByezMOxjLzA8rXnbcCN3v/M1EW4AZdHjWOm2/b846JFY9MW1lyMOh6rzuyK/8WFFsFwr6bT2q/DWXDKy0mH9t0DV5SZD3SsMetDKcNPOnX342Li0djhW7duH11gpodFy5YiwWEZTeYcKXsDQlzCyMG6O1R3k+bv/R93D2uTNZfWnHSaYaWLH+YGBnhNJLhSocwZK3VuNPtHgXzF9IJSJq3TaC3XIiafm16+aB5SHLy1w64Lp5hz+BUExrkqn+U1HJTWBAcxpfKB6OZ+s2Y46U44xvQe/pCIueWCjMa81v0MpsWoBFQwxaOjHN3x1hk67iah9tyGq0lV1dt+/per9+/fDVr37VTGLS4iEdLcxjDSkr+oxR+aXqqt8iZsk+ClWSJagYa6vIBD5/1RX4w4MPINtPZc5NIqX8kNxRrqWlSPJcWUPhhzUrl2PuivUYdeKJmDB0MMNK4JVnH0NVbRxnn3U6Ckv6wu+jjI3EEfe5ENCWnCG9y8Owo/Cw/gb92ijk2KBj3r8XmORbp10LhxJA7wcM6SprRBRsmIqOSCOZjmHjpjXYsGobhg8biZ/+7E54fHm4+TvfQM9exbS4QrQ2ZLeyMqMFcUo3FxtkOpVNqzAMnz4pkOWiysQ36HtaHyu+gWkgagCHV4jHCnsqdmDylMmoqKxmfBk7RkWkayJKJ2GqHkNd9+QAIycMZ9wDWPTWMhmKJo8kzfVnSJfkrM0AzOc7UlSk2TIMygMDu67qqHav5618tq7bv024hH1dfnWuKJp7+s1Dyu9GfvcRuOb6b+J3P7+VhlUFQmxg6kcwaTgC2O/sDHbcDgY9e7Dn9Yie062O6TsQqhYd75tn+JB+mmBNAJn7PDfXiIOGd+A1hh0k70Q0X5GK0+Difrhu4FisW7EAT0V3I8wss+xFhkvpKIFn9V6Y7EZefi4mTZ6IM848BWedPxPdSgtMvTblaCpNF4DJk/aM8cRZD8ldu3dXYOHCxVi+fAUVzWpUVlSZb/TDGgaiQqvJirIUo1FL6RaU7+oKFUFZRKVAMwETSR8VaFqqQQr4GJUYVyCKYQk3Zvn745+0dNeaLx7a0VFQ61w9UGZnKIafSEYQj4UR8AQR9OSZ8VBrs4p26BnJSDnNXLatXhuKoy1DddSXDzNmzMBNN91k5nrIGrbTcrik8V6hyWvbtm7Bb373W/PJ5ZDBQ3DjTV/FT390J755663o17cMl18wC9/+3ndx3aUX4qJrP4WhA/Lxz6fnYyDvlZV0wznnn4+3Z8/Gmeecg727d2Lb5k1UoFrx+POv4twrr8KnLr2IpZDE7d/+Olat24P/+vqNeO6lOdi5Yx3cVHR+/MtfY/vq1fjuT3+O8oJ8/OIPv0e3/DxkBY90t6l3wiHdY4R3kq7iI7KM4U9/vgcjh41Ht8JiPPb447hq1nUoYgVxuSPwu0P0w0bEgojFapCd1Q3xdBiJWICNh0QkxY8NSI1EFT4Y5HUzS9nCB0m6Oyo34rrPXI+GlgYMHjrEfHKkyVBUGyh0KQzIrD5p8iLOQALBAsWdmniTBA71+2gKb7+xHKuXr6fgCsNDZcMXcjNvitC3f1/zWZa+He7WjXmVqag6SoB5fe3dobZQk1CwBIOuWeeWf3Wp2sJPXafqoorDEwyipiUHcxdU4YRJg9GzsBXBZAuSJn87vs/OYzoJM/3MQPftuAnqd+gIvdOGvJnN0TNoD7sdHcNSnVLXu3WurkrNCLYEp/lNQa96YXfPawH9/e9bi75rXDUWpYvHDEFopnU0Fm0jC4URjZA86Fe9IlrExWz2YcK2XdgoSM0kh1gsD3mRnhjfEkZy0zysHRxCSzAHLq1d7PWZCS3ZzNuCgjwzgbB//34YNHAg/EE/FSttFq81lplWJl1dsOTeroFM1hsFkuea9cofvEKLVXoY66zam8pUs7Z9BxDbfjDNX+FY9eNAn8x5xHk9S1aVJ4lQohXRlxdg5wvzMPp/voD6YiolGb/m2Q71Qva1/mnISfHZuHk93nj1VfTp0Q8zT78AJYU96ae9XqkuKA46aky3rKzMTJ6yr5n40Sldflp0w4cPx5e//GXTtaxu5o51VH7k93ggkYriN3f9DOUDB+DsM8/Gn357D/qMHI5nHnoEt9z2PfTuU4rPzPos/vCXe3Hj9dfi7nv/jH8/8RdEUIqLqci99vJL2FZRjbxAGtNmno/6yl3YtGE9evXqg+179mL0lJMwdsgAyikXnnv8IbRE/WhpqUFT2I1PXXsV1qxaiAcffRmXnzsNDz8zB7/6yf8g7c+jBKNcopw5Vjjc/JNvuy50KajyfJA4kHStawns2bMNjz/9NIX6NCxZOB//evRpXHr5pXj6mRdJGhF8+QtfwpJVa7Fq2XIKtgZ84fNfQ3ZBEN/97x/RMu6Nyj2V6D9kOBrq6jFh3Hh89vOfJYlJcFsTKwzpyn0A2LZvLX7/p98hKzfL2tpP6gMFk9fEh/qkPqGgNk7xj+ZkI1ZvXm3ujx82Cb6420ys+ckPf4/li9dSWKcweepIfOpzV2LSlHFmer8EgBkX5l8ioUk1GeHF/8ynFSxzU+78vR956XrmVLCeylyTf/pNsalqoteeai/+8egSTJowHlMnlMKbqoL16dWBUBhKIf86WGYmbN3KwG3M6cwP4t0a2P711nrHfuiQlv2T2C4s5drywoaJlsRzxp+6QjPGjR2ljt617rGe2D/n2iEF0RvPQrM/jNrWfGxfCuRSSJXuXYDiGeMQmjAWMZKu9i0WPCRq2b7aek7jzwrXKBC8z6gQVleiys1MtusiaMtL/pk6xvJmpI0SaSk3lhKndqc9YN+R7wfAJNXO8A5QFZJypw+D/OkkShqaseEn9yE4rD+KLj0DTTkaZjk49Ky6XbWAhuKxadMGzHlrDnqX9seMU85Hebe+VH7b63DH+Ok74b59+5rFdOy0yopVW9NXDZ/61KfwyU9+0nxRobKx/Qg66tp+be0YIk6L/Zc//F8MO2ECzpp+Fp7+15PYS2V8zpMv4jt3/gh9BvYgIV6Ohx5/FJ+94lL86q/34aV/P4C8biNx6kmT8OZrL2P2wuXoX5qLqWddjMaqHVi3Zi36DBiMXbt2Y8zUaRg3bDDflMC/H3/QkG5lxWb0HTQGZ8+cgab63bjx6z/GDZ8+B3OX1eB7t34W0XSW6brW9+THCsrTw0HXaR1dDHY2sqkawaLfEu0Vu3ewUvuRU5CP6WeeiplnnoPTTp+GgD+E3//2D7QA+mINK8b99/8Nv/rVL/DrX/+aT3rQr+8A3HrrLTh1+inm4/BZV1+D5qZmaqpR042nDmlDuJ239+MKNUCzdRwFk7aAi6daYG0Bp+3gFEdNHuO52UouRuFL68ZHAabxad6LRFvNyl4bNqyjvzimnDwZd/zoNpxz/gx0Ly8CfEnEZPErbBGkV2N/CaTk3LQT3NpBiJafl4JPYTL8Nsf78mM7+W27Rr9atAHqRWDc4GlFVl4cm7ZvQSRNnZbEYRZ1oN/9XYyO6eNz2mHIduaexiptp+t8h+3eGc7+rqPfgzqmWzvvyB34nI7aB1T5qWPH+2ZBCl3TMZP/yi855YXJj8xvuYSL5US3Xz5mnK6zxJhlKQQSPrQ0x7C7YS/6jBsEd/csVCxcDH9rI3yazEeXSGtLwsw2g3yPnlfPgik/lyYeylkCvKvBJhhLYZHCqBWjvKyjtHalmLi9jDsVSvpLSZGRSDQTqg7u0nL0c6Aza4szzAQ1IQ/DiqzbgX27qlBy0gREQzkHDct2aSmFmvwpi5t5KCVG8dZMdE1EM3LhAOi+nN3zYncXi2xFsFdeeSX++te/4pvf/KYZxzW9VvQrPzrK2c8cTxQWFZnFgrQ+9LZtW9G9e6m5tnv3Lmzdup0WerMhrUDQh9rafUjEE2aJXS2Xu2PXLvQb0J+l4za7CFXs3mPWN9B8FvXytLY0MyM0nm0pE+od0yeZWzdvMbPMlyxZbj6dlFGj+5qJLt3xg66mXa+VdCFYGrxaQEZbZgHHI9rCTI2V12j5qRFqM4Gy0nIzXltVuRt9+/c3OatvzMxzLOjS7mV8JM3K76ElmWe+UZO2nUzKbsyM8Rr5YF76wcGo3QcQAn+bET5jEcrJWpClQ6LgNVV2rXO6besetIRb4Q+5cf7FZ6FX/+7wBJlGMxCcCeNgztw/FJQnnTsJS4o8EzW3J4q8Qmqy2W6sXreHQjDXxFZKTbszNjwJ4+DhdXRSuo7cKUqd/7XF4wicwrbK4VDuIHlNZzb0d/uQ8mZR6cumANzHMoug29AiFIwcgAgFYe2K1QiGIxqNN3XZjNMyS6w0MQ7Mu44LpHwooIlJ+zlZt1avgTWJSoTauSOdduo0oVAdYoUpL0I1rVj+7Kvod8aJSJYWUUXS/c6d4qIwyLommqp5pqeNAsHqVtaVzmERtMsM22h1u9///vf47W9/2zZ2+0FB8mzGOeegoqIKP7v7bvNp46iRI3DJ1bRuH34Q99xzD4bzt+bKnHzySfjTn/9ktt2bv2AB/nzvvSaMKy+7FD1798GjDz+MOfMWoLhbiVEqtJvQujWr0NTYYNKer4WQ8mgInXaaIddf/eo3ePnl1/Hpz1yH7FAhirrlmvoq3eaDhilf67RrQRXpAwUrvdXtSAGjbjQWJPUrrF65EK/OX4Fp08+A3xvBU4/MxQWXnIJf3PV33HH7N/hcA775Pz/DLd/4KmqqN+OB+5/B5774RTzz5Eu48cYr8dQzT6L3oEnI9fqweP4CXP+Fz8GXGzLNLcBWqwokQn+/ofzevG81/njv7xDM8eC6z8yCx8cmn6IWr088KBj02ZWEiz7JaE03Y+3WNUgnXJgwfBIWv74aP77tbiyildS/f2/c9X934MRTxiKpmcVULg49zvduZf0uQofUoH1jVWa7airx9qpVGDniUix4awPOOmMkyguoEQsmGJGRDQk1CdzMz/cZlPNH3PjM8pCHfFqJ7TzfEizLaLwEu/ZEsGztGpwwcSAGFLmQU1OFXS++hebKSgy+cCYS/XsiTCvJhKY2oVVLDMlaYR/sDR9Ufr43HBhjRdaOcOfKg+Wr8/wMJFOIeFIoaoih7rm3sH31coz+/KUI9+lN0ZGNtDczW/ogMCUpa1ZtHwmsW7sCb7/2FoYPGIeZp16MbgVl9NEeN8sAsOKsMd2hQ4eacV0txKOu5CJakjYkT2xr+P1Ggkq5lq2VPDNzWHikms66K8VRSMOr2dmUEaF0FHX0+8TDf6A8HIIrLrmAKZZvpVw9Ecwjkra29NOkMvVUxNNJaEFdfaLkQxixdDbDDrN6ZlEUaIRc65944Y/FEfF54aN1nPS5EZC1r08BjxGMzD4MdF7Lujw6NhYb9jV1FaliJjNHFbFsSUF2pdDu92BO/xvhocpt/qlheNCnL61YWqfqGs4O5qB373KzFvPIEUPhDwZQ1qMXzjl7plmm8eVXXseN/3EjCgsLMGBgX7MARllZLxTztzSzXmyQZkIQC83+TtN6t/X+9jNjB5uzA2E1QKXPOsqZT3XMdSuUdndoaLUpkZAJS81CrKAqYo68n7kn6BtCr4sNJm6tblNZtRd1dQ3yhAGD+6GotAApsySefDM8ZmbnTj5EIYdy+3fn7ee0+ILizpc1NtUgn1ZuaUk2+vftjWVL1lMrlkALGT+2ZaF0qbGaCOt3Z47q0MGsnnZ3QFze4Q6WFssZ8jpCd/B3dXT0Zv4EKRaWMytM0SWQjz0tMazcvB19+5Qzv/wUUK1IF+Si1wkTEPIFsObtBUhU11IwUnAShhiYJ1r1yqyqZBVcB/DHO+pcV3Ks0+q1eYfTdUtGdOZEE/v1k9C/2YJTjmFrGCJAK23vspWomLcU486ejmSPQg3K6GtooyR16kx4jAePar/RqDZzb0XAb00SPBTUPXzNNdfgvvvuMzOTZe0KNhEcLiEcCEu+UGYy+4ycIZkppmTANhnT7iw/OrfGy+lPn/uo/inXGBdNy1QVVrLMJ5Paj1X+eF9h9uzZH92K800YuqavO8xnRyJtL9sv06sUyS7xUXZa79Rt1klznUe+R/FI8lo6Fad81fKuWqNBy3RavYvmjw+2OT5roiGYa1ZZaBKesbl0OeOOFor/sQjnmMPK9EOBGaKuMhWiGr/JFjo2AgmGOInApUUY0iEWVJKFLO3IzwJoofAI0Vvn4duyxHyfquAoXGWtqRvElY7hiceeQig/H9MmTYE/KwCXzwN/knawNwWfvmHU8k+dQnGVs2BVIcKODhuzUqbmrTzQN38S7dZOL6x09N8xhGQybvljZZR2p4prPkxX9zWfULoFE3/z9MGhMHbW7sQf7r0b7mAYsz51FbKy8hkdhmPiZnKE4SiP2eB43L5rO6r2VmHQkCH494Ov4Lc//jMq91XjquuvwFe/cQPKexczzzS1RGkSgR0KncVM4D1TxgdHmhqulgZJeZrw+lvPo3efQejbdyJikQIsmLcOvkAeRg/vQTLWRhb6XpgNksElNRbMcA898edQ8SJU37ogjNLE/63awmimpNhR9+cxyfaxsbEIWzasQ9AVxdRJg5gvzbwfM0QaiiURW7sRW96cj5zcXPQ8eQJSfcsQ9WtZVB88ImGmW9mmnYn0Z0hJ9ZDZkTiGVsT7ikMs2sHWZeSByVVmqbEgmVYvBbiae7JxHyLL1mPP7OXoO2Essk8Zi8YCfZbiNjIhJs+dIUP8aconjVUuWTwHC+fOxfSp5+K0KZcg259jSMaGLRvto2az22vVHy3JHohEgu03FUZVVQsKu+dgx/qNKBo0GN1YxK1Uuv0sedO1zrakPZzNcBTTa6kmvEb57ElHWFF8SHhF1EH6i6C2ci+KS2nB+0iGMWudAy2649K+y36qKjEqHJRpWgsh4Yowj6m6MGwjiwx5S/p7jMWrHi4P809yUvckO7XuetyM30cQZPbGk/Wobg4hryCbdZ5PMyCFpdwyyncmg3VNE2bN0Bmr+aZNW5nuUhSVFNMLnyEDK4875vPh5rlbO+R8eGEnViWhHFSTsGDGS42gUaGYJmN8a9WoQwnwd4OsqalTpiCXwkifaZg4mPAUBx7fgxCWILT/2qDT/X6qcHnkf8bCML7fGbbR0ehP3Tc6UgZkbhh9VKEY915QkJuHrFAOIuEYGhsarSQJShOdrFI7JMWmqLAIPq8fFbsrUF1ZjWZNiuC9bgXFCPmp7DDfrfWAKah5PLSzZr0e3EnAde5cXk38asXuil2IRpLo07sf351EkA153NiBaI6msXjlTuyuAVrYeOPMTlIPvHE2bAoIU286c22Z0Al0uws6K89UXhqXj5lvR1tZ9+tSIWyuimLTqlUIUJiNHd2XhEvBKque5cT/EPOlEBw6AP1PORGp6kZUP/Em3Is2ILuuEbnxKBU8voJCSk5tS+VsyjCpcvaZsD6UjhnXmWN2IkpOjnkp7EUwiCEYDyOnuQmu7dvR8NICbHpjEcomjELeSaNQXxhEU8DFfLeK5NCwWpUsqzgJtLUlwitehILZCGS69jvCFvL2UYRrn9tEfKygXiy5hx56yJD7iuUrMytgWdagEqdzzWvRu/Utvq4rNnJGPpl6aP3WZ2tyzzzztOkalyVLxjR+tAWghJ7ZiEPp0WWpOSZNPONRn9FJrhvrU+Eaf8ajgfU5nBVnPWZu8Zq2QH3zzTeN5WoiwmsyvMKtrajdt49+TUyNUxhaVlM7Nf3iF7/EKrYV+/6xgKempuY2Lfb/yiuvmEzoKrjtttsyZ4eGRVzKyEyW8KAB84b6BjS1NpkdhrT0o9agNWMJ2jWEf4eESsqErDBViazCEKRH5WTloHt5L+QEAxTdLHg3BY70Oh3tkjbxOpiT7mvF2vq1P6z3WJVULzZdOIovw7QEwP5x19q/ZqyECkATBUBLlPqdXzNSm8y3mdq0wYqPHYODvdWCFkHYuXsLdlduN9ts9ehRnvGv9ypmmXebgDQpzGcaXG1NHVYvWY8NazcjlozhjLNOw/jJo/lu6p6GsBV/He1nD+ZEcvLTmcuQ4EFcJNWE3VU7sXnTJowaOQaF+cVsOcqpJAUXkFcSQENTCyqqwuazgiSJ1+cNwk9NXRpukuqt2Vz8YE49KZpherB7XdgpS1VvUq4QFbE8tERysKcqhR27I9i1pxmleS6MH9Uf2YEYZZ6sFJY081kzvfWZUNLtR0FhIQrKuqGhohJN67Ygua+OVkmUeecx1kKAxeJj+WsBNut5q4Zm0djxU+frzAW6rEvSpQ7qvFTitNtQiOdZ0RhC9S1Ibd+D+hXrUbV0FVqq6jDs5BORf8JINBdmIeJT3kvxYT4llJ8skM6gwtKBRy2zuXHDJrKTB6OGTUBZSR+WIhWCjB8bHYnXJtqO144VREBbt67Hj398N84481SEWC+CxUVYNn8edlZWYevmzais2IvN9FNf04DsHFrD27di6bJlhuj8fspftsNlS1di1frVaGjUmgVh/PoXv8DAIUMQCrgxe84ibN+6Cdu3bUe3Hr2weNFcbN+5B1u3bMaeXXsYzhbso2Xs8XnNco9r1m3Ent07DQHn5mlSKus8y2fxwgVYtnw5NjD/Nm5Yh8JuvRAMMe/iSTzx1D/x5pzlmDptKrJDIeaRuo6T2LZ1GxYvXcq4DGbGSfGihOf1+rpaLJq/CIsWLcaESZOsWdRsH0YUMX875vHtt9+eOXtvINlbJbZ+/XpMnDjRbA/VFaBdMd59pyFFXZVOHbLqZlUF2cHLXiSokTdFWzGwVz+zu4XWY1ZnQ9SbhE/mIIWGDWWBnZHWYvjMUAoeFzO/Zl81qilsupWWobAw35Cr1KyYy0crSZ9gUJWl0/rGUQ+FeSpuWdN8l8lYhZ3p+rUXn7c2ELAElN4pn1YpWOeywmSpVlZWYm9tA/r2H0ALNAQvS1zf68mrYqmxi1QixkqdprW5Ey+9+hr6DB2FEyaMxWZWusamZpww5SRaJlIKGLrSyL/OEKe2Onfxa3jy+YfQb1BvnHfBRSRW5lo6wXdpnFjdbyI6E2MTD2mte/ZU4OlHXsDs1+ajrrkOl826BGecczJC2VZ3nWVFKMadQeXBNL9nWGmQNhsjCTSHG6l9k0hKytCn1wBabowzhaNRbug1ybKOxLOwhYSzu7KF8fFSYfIgjw0yEKQvrVksj4I5dMyjjucHgym4rgdWKGYP650Pzc0xavR0Uc28T6Nf33L0K1XKVK5xc5TyIgVJRobJOVmvrId+LXzR2IjmJWvRsGIjosk4vKEs5OTnI4sCz602GtBkGC8VWpYy85qHzqGizpx2PRyiDkousK55W2JI1zUjUluPFsqoCHOroGcpSieMgbtvD7SwXpmxbuZhVJN++BeKuxCRZtIp1OZlLSaxecsWzH5jjvk29+zTL0BPHjUs0FHIH4iOpGvLsmOFOMt76cLZ+NKXbsYvf/0TPPHQozjzqivxt9/+AiecfiZq91DxqGnFgKFlSERcGDN2LIlsA6qpiGvy06CBQ5DjT2PpktXILqLlnlVM+TQS3/nmLfiP//o6CtgG31y4Gt3zQpgzbz5u+tZ3ce9v70bPgcOQirVi68bNJL0xaKGS058kvZGkW9MQQd9eJeSHLEw/YyZ69+qJBGX9c88+g527dpn3asvLcy6chX79iuGNJPCLX/8IC1dV4Qc/uh39ejCuiTB279iJN9+YjcUk6muu+xR69+5LGVJKGZtAc1M9omwzv//9H3HyadMxbfqppofH6j2SXGnP48PN7zbSFbT/otbl7AqQxpfHRv3eoC6HqLHUH3jgYTTUtWLKlAnw5+eiNDsfUQqQ6tpa9CrIRSwriNpd2zBs+BiEsrKYuU1YR4VDe+9qS0CFsZ0aWpxaVO/yHli1agVee+MtankzzSzByj27kIon0HvgCJJ4FNV1jaipa0CuL4mc7gOwZ9ta9Ok3EAUF+dS4NhhikEU4ePAQaOF5FU8rhdgmaoitrWEKOhfyKMB69+lrtEQJPgk7Nwn90ccfx9LV63H1tZ9G/769EPJSc9bnShRssoANSJQtzQ3450MPYOGSZZh+weW47LyzsGr5EqxctRYzzjoXpaU9GKYIWxWkc5Wb/EmS347f/+3/EEtHcO4FF5gP783uMFQCzIQlQzJ0JixphdqxKYY//v6veOnF15GVH8KpM0/CyHGD4TPDTKygJF1LTWirau/EYZKuXc31DV7Q4zeE262ohK/RuLfymY0jo9z4EtmIexKIMAMaIh7sroihro7Kkdkvl2kQOTE/bYG1fxs6RJwPee+DRUqCWmnXIFUyjCyWRUlRCD3LNCTAHHQ3kGe1wL56IfRNMOmD6U4hyGRJWSIBq9uZhCxF0sdMctU0onXVVkTWb0O0scnUJQm4OPM5oXMGJZFkKtohIGuhK6JdEr4TGqXUbjVBJtJHHUWrnwV6lyFn5CB4qcG0ZvkMySq7ZdnqT79l7Qbp/1Bjusot5UlzuAFLlizFmuWbcOKE6Tht6gxk+7NJuqzPh2i3xxNxGRGRRlx66fV48OG/4Iffvh0zZ83CY/f/GTd//w5sWb0ab72+ENd++kK8/cZC7KmoppJXjT59B1BGUZIlUigl2VZVkoS9KXj8ebjy0vNw801fw0/+725sXLYQS7dWold+Nv7xyKP4/E3fxMtPPIIrPv05xKlM/+Pvf8e3v30z3nr1dVSQyLPUy9hzEMaMHIAnn3gCY8dNxEknTUU6EcXrr7yMiqoqlpTacBonn3EeibQQ/lgSr735LGYv2oH/uvlrCLCgwwx7OeXlC8+/iPWbNuG8iy7E+AmTMHzIUHhZiDIy1CC0icKkqSdh2mmnZEg3U14dhMRhk+5NN92Uvvvuu80PLSOnb6Cqq6vN7w8Sh0e6WuIuitZwK/50z1+xr7oRE8cPR4oEm8VCX7VxK8r79MOWpQvQY9RI5FOY7KttxWc+8xn84Q9/MFPsE4kEysvLUVhUiAULFyE7OxcFedp83o1XWOAnn3a6kbH1NftoNTRTsxuP8pIsvPDS6+jdbxC2rF2A0r7jUFLgxfqNW/DFL34RX//613H++eebbQSt7bVON0RQv28f5sydS7KuM0KqjO8dN2EiioqLjYXt1sbr1MT+dv8DWLRqAz73xa9gyMD+CLitmXjqzlbFEqHLgmxtqsOrLz6PHXsqUTxoNK48byaq9+zAG2/NRbfyvphOTc3HSiTqE2F3BvIqEukWPP3Kv/D2wjcxeNhQzJg5A8GQ1X2DtBYJl/CwBYglXMKtEfzv7T/HX+99GKFCH266+cs48xOnmO91dd8S4oci1UxNPkz4tENOKIhsb45Zn1bWqvLEjOOb9+p/UnAiQGs3ymhoGQcfBUkWjwGEYwmEabkkYprEYpHuO9ExvQfDoe59cNBnFT4qadq0JTfkRcgnVcSa7CQZEfc0s55pkpxqRYLKnpxqk591VLO8rclymlWrq+rXMEVEZbQgSiW3sQWRphbEW1oRj0SpwFh+jKdD1DFzu2tmmZ3Cg0LWu3bA8WWF4M3OhjcvFynWvTg1mCRlRJyJUv2xudV8x5wJT0R8yHpCxUU7eW3bvgGzZ8+G31NkPhUaMXC06d0S6R4qT48nIiSzVLQBV17+WTz08H34QYZ0n3jgPvzPnXdi/fKlmPfWClx2zZkkxvnYsasKrS170X/AEOZXjule7tk93xhCVQ17sXjJWnz9qzfgR7ffgTt/8XM89ud7EC0oRT8aSH+5/+/4ws3fwZxnnsQnv7Gus2gAACBDSURBVPIfaK6txGMPP4xbbvk6Xn/pZeysrEUoOwvdew3DiKG98BRJd+LkEzF16hTq7Am88erL2FNZSbJnq2eWiXR79iyALxrHG28/jzcWbMXNDCvAclFPaGN9Pd5+azbmL1yIz37h/6FbSXfk5+Qyv9lOVEmPE+l65s2bd9uUKVOgCVX6nmvZsmVYuXJl5vYHh1tuuQVBjUe+J2hklVo5E7958zYUF5UiFHSjgtZtsrkJlfvqcNoZM/Dqs09i2KTJOGn8aPz87l/jRKb7Z3fdZdK+a/cuLFyw0KwN/MYbb6Jf/wEoKS5CTg6tJBLysGEjjCacoFWnMYvqmibk5fiweu0GkukMs85nMLsUM2dMw69+/TtqhpeYj79vuOEGU/GefPIJnHnmDDP+0NrUiO07dqC5pYUkkUIWLdzysp7G0pVElFXqSsdRVbXXkMS4yScgVxtBU/ht3LDRPOuh9Zwr/7wWoAVdXtadFlwl0sF8jBo6AAFWus3btqNqX73p8lHjNWLgUI3XkG4MBcU5WLdpHWqYf1nZIXTvrlnIEhqGtglDpYyjjh7EIjHMfnkhVi1exzDSOHvmTEw5YaLZ1Ds/VIgCurysfOR36uSv4DCc5T+XaQ15suBJyTpj3EQoEm6KHC04jceqqzTq17Z/LnhJ/hqHVA+FFy20kGPIzQLY3lFI/a6AxwId93MuOncnTve6pivJYzmGkshjO/BT6mvIQjsApcxqXlpRSuauupXjJm+kUCm/dCq/yj1lo8ZqrTP1IPj4LC061ud4VjZchRRoJd0QLCtFoFcPBHv3gL93KYK9etKVdeoCXdQFe3Zn/BT/dzof0+cu7wEKBSTycxAOMh9IuHEqNnFlD/NIG9grr2IZC1fj1yJcTaY61ORlPdtY14BlKxZhH5X60cMnYeSwSQh6s4zwtzY7MC9536HPdbTN4IN/fwQ9mQfbN21B/5GjsG7FMkw/62zsq6igPKzCyDH9sX3LLhowJWY/8dq6RrS0REh65chhXm3dssNYzXur6zB1yiQsoWETScawb/s21LNm5TC/Nm3eikFjxmLv1m0YfcKJiIWbsW71Kpwy7STs2LoZDU1h1Dc0YsmK9XznJnSjsTSexkouidLDfBrQvz8t33EYzTDGjB1tDStq0htlUkPjPjz25CsYO34Mnys0cjgrlM34FqOc9XXYiOEIBvwsL+a38lzZzfJ8++05KO/dG3369TXXMuo8z9vL43DHdI0EXrp0qfkhaMmwDxdUmzU1Sp8DBeD3+pGd5YeXjcHscEOtpZzWe7duJeheWmS6fnuUl5pu0T2795jrAwcOwoTxE3HiiVMwYsQonHLKKaivrTG7d2jlExVOIhZHzV5qceEwSb3QfCYkq6q0rAzFbIg9igvRZ2A/FBd3g5/CzEex1r1bNzNOUFbei5Z1gxFl6o5zaRH5UMiMSWh7rYCP8WVDZZQp9lTgtBA9fviDIZJCCH5ax6IPFffCRQupDc9BxZ4K+qQ/Wb4e85T50+cLqhBuCgQ1VikJRjvTdf4dCrJ2pHiVduuFqZNOMXvlLl2yGLt27eA92TEZUawKZ5z9HKsR85OMzffwLSkPHS0mzWQ1nuzYyfI9mOMfSfK9O8u/NFHz29RiJtAINv7QPYZp3iutVennT9lipB1TJzS5Q3tq0u6lizKPSMS2M6Rsu1j79QOd7nVRZ7ZCY1rNZvVMpyxWjc2biqB7Jg9FElaZ8lT/85oqCsva/FYW26SrI+sn/zPKJ+tWzONGhAqf9iyNeL106mKV83TqIl3YhdmOOnMm7hTUUeaHutJV6ZQrWivEw7qvT0nsP4376ZpVIXnPKIM6tTKv47l+NDfXY+26pdi1fTd6dhuAkUPGIT87z1hWahtWSXww8LM8A4E83PT1m1DWsw8um3UNRtBIufaT11OhC2Hw4GE45xMzSGTlOPnkaTj99NNw+hlnY9LEyZg4fhzGjB6FUWPGY+yEcWaXoes+OQu9evXGpz/3OQwZOBhXXPdZTJ0wAX0HDcYXv/xlTBwxDJdeeRnKKE/79h2ASy+/gkZJLsZNOgETJo03RlCfXiWYyGdOP/109Covo+x0U255aYjoO1xrwxQNw/mYfz7tIe4PYuCg0fjUrCtQRENF6yJoPXatkVDG5yefMNns9KZr5jtg07NAx9+fOPcTGD5sCGWzzAte5vFwLdsDIelkpoLb0NqdHw6oQrPGmyMzwQhjj+ly3Lu3gppNPa+bWmuEshqDprVLyFsfdYOF2g/xeIKVKmjGJcPhCCqoueladihI7WyL0dY0E3rliuVmdqx2wQmHW9BIC9osls7C0jvU6DyasahGRY1O+z5u4/Nz587FbGpLqmiWEgDk5OWzoE/EGTNmmI2bJ0wYj4L8fNOFpQqhv7S+syXx7q2sRKSpgRWI1xj25BNOMM+Ul/c0PKeuFFUQzdBWRCyhmEZEq6+kUsjJzrYKmVCaDwXlkyor7UGMGz0Z48dMpPJRj3lz52P7th1WvlEg62tFTThTnurcaOJ8VhttJ/XHe2YdWwaoV2rhAPk15505I+gP35m4QGTCUExjUGqtFBu6YJy9SXWjKp9YB3gwdpy+WVWCBd6zrPbMn/3bOIXTidO9/fx2HadJb0ZVY0SlZKitmDinNItfY7nKG036Ude/8qGDHz6vMtGzAkM0R+Y4r4k02qhaN1m+KmuT2/SVKfMPoTP1pzPHtLWl2fLdBuWPfFjnImHLslX+yRkrV8qMnrMqjXGqva2tLVhNa27t2jXIzS7EhDFTUNa9F+WASIDhGuFlh/7+Q0M1Hk8QnzjvXIwdOx6TT5qKnj1KcRIJNkgDp6xHOcaNH4383GIMGTqMRkZPDB0yAmfNPBtnnTWT1mc/FNIQmXrySTj7rHMw7aQplEk5OHHqVJw09WQMGjka5599NqafeSbOOudsDOnfF5NOPAGFedko6VaMSZR3WlSoT/8B6N2nF3LzcjF5wmjMpP+BAwZQ3mfyyWgolrOJU0aM+mckdwsKSnHxBeehV48eRsaaxYjMMzrX5D8565rVG2jdGzNuLMrL9IyutJfz0UChfySgei3o8yfLgtSKRP3Qv/9AFs5A873byFFjUFRQwMz14LTTTjNjuNddd52Z8KRZ2yeffDJ6qFCY8VpU+7TTphtC1CLaBYVFGD5iOMk5bAhv2JDBKOneHUOGDDHjioOGDEVJsbph3Th52qnkQbfZw3Lz5s1GqfnktdcipUUFGFEpNhrj1dJtclpFRpOt7HFFY6nSDRk6hJZzsYlbIqEl0DwYzPeOHDncfCOrwCzNyw0vtbzevfuwgpSSVVKortqHWDROK34gK4/abaaxHxIUK1ReJFJzswow9YRTMGbEROytqMXctxcyn9ZSIYnyfbSabEdVX/zlVg0nNEtbPQASKQ4cOLCQdFHxdCfZBtU2SMBsi3X1dVgwfz6WL1tJiywPJ0w8FUMHj0bAG9pfvL9ru/0ow86HtJGFkskjRozcP38+ZFDM0/om9nvf+565oP7p9/qN7PGEtqoqIEF2DlXE9soospKwD7eGaeU2IBigVRnIRiBNiw9+BELZaK3dDU9BD+R5E6ioqkOP0lJDaBq7lIVcUtLNWIdaGCJGcsmn9RkKhsxelbqu7giNw+r73DDDzAm4EWP70ZhCqrEKYX8h8oJe1FbtQSgrB1+84Su46+5fkJC8psJIS1Y3sjQmwe6mUNw7HnVZY9RKT/XeWqNAZGWFSMxuc017nJKDDdmazbRTMaSTMWrNEcTTfuTlBLB48QKsXb8J5190GfKoHXpJjtobV2/vDPpwXFEw+/3y/dFkC2ob92HOvDewdOUiBPN9GDRogCH9gkJZ5upwcZOIk7jz27/Evb/5uwZM8d0ffhtXf+pyZOXK+lZENQnLdM7oNQ4cfOyQ9sSsdk15EY8msWP7DqxYsRqVFZUoyuuGkyeejmFDRyEnRKMAPrZX60sH9T5Y7ebj1XYkCe2UayhI39RqSFCDJmnar9byufL5weNwu5slCW+bPn065IQ33ngDr7/+ujn/IHHrrbcexkQqC0q8LEbNes6ilekP0uINBEz3hPr8c7J59AXgJfnk5mrMxNoKS+QuYtJYgDY3zs3NQX5BPgLaYJ6/s7KzkJ2TjeysLLNmcg5/Bxl+Fgk5SKta4wGhUAC+QJapDNlaGpKVo6GpGaeeepoVNt/lEeGyfNSVYVmonTklhvYmn8nNyTP5oDVY1Y2ra1Z3cqZLRNd4VPqMP6Y/Qcs6GokaS7x338wEAD5mdY90XkH0bv6f+ac4epBNZaV7SQ8zVr6nYif2aPWpvXsRCUeMJS+lRJ1uc16djyULVpCwgelnnIJRY0dY66q6aAkzLRm1wnGO+1g4046lvOpTKzUrN42CRBJ7dlVg/tyFWLViHer21aNXeR/MOO1sDB84nm0tjwLZZ9qdnrG6soVMu/yYQam3Up75k9ykMiJhJjnaVXLkiCZSfVghUd7+x9+q6CQjq0RIRMaPTXD04/Kaa4Z+1GVDR2/vcFZ3jopZPyyNy3qbruo/bexujWOpG1iv0zXNoNNRjUaToC6+5FI+o3CsKL2brWeRngUrztbvjuc8scLLhGuu8p32qkluTxp+nx99evXD0CHDzXvNmqEZK/pQkB7JIMwzCtfr8lEE+FGcV4Jpk0/DhWdfjt7dB6B6Vx2Wzl+B5556AW+9/jZ2bdPyi+p2NrFBImlZ6SbD6KShOnDwcYM+FWxpacbe6r1YumgZnvjX03jhmVewdeMu+NJBTDvhDFx0zpUY3HckjQMq5mxtRoHOtD8H+8OSL5KF1u8PKxT9dEdLV1ZuV7B030v3sln7MwMj3/errDwzExB0MSP0+Vvao+UvYV07KORLhCui1Xv0HN8lUjP31cWhmbCiPpGpNQFF1xL8lY5HzXejiSRpjK/2+2zNlWGI/EiQncHqYpYfkpbOUiJxS0kQKequpQwoDjo3vs3/yo9kKmK+v9RGBWm1XjN12SJdo4aIVTuBVvWywmYa+JjF09bz+k43moiiobkWO3ZuxvJVS7Bt5xbEkzEqGAG89fxCzHltEZLuFK647mJMnzkNoRzGg+nQBCulwYGDjwu0op6ceoTCkTAQ95o5FtnBXIwdPQHjRkxAaUk5/N4gZYXfamZtbKKGZxpfBrpu3/t4QKlv61422aEM0jUZO5nrdF0B7eX23iDfHUu3y+BoSNdKEAmSBWXtrsOiMucecpBmu4rE9H1iZ7BIVzSnwpa1aijOhKXQVdyiKIuEtYKUntE9bVjtMpONZHlatq1tfJtqZCrP0ZCuYmM/b1W7zBO8S4JLhplGP334TX6YVYUM6ZqY8L/Oq2oKjDf/NP4qv0lqDCalJp8ZgNtLAo0jkdYaxo2orN6N7Tu3Ytee3Xjkr0/i9ZfmIOFJ4qTTJ2P8iWMQCKlA9H7GW5Fx4OBjAq1ZrKGpgD+AnJwc9CoZgGGDh6G8tDfyc4rhBcnWFaBckkyRSFADzbTk/YS4uWudfoygnHBI933Gu5Oug4NDxXl4leBIIOUgRetXi3to3Oq2730fWtksmYrjhi99ARdddAGysoIZKzdNorasdAcOPoqQ+m0U1gz0/b0mT+bl55ldgAIeaw6JUaD1d5iC2kHXhUO6Dt53iIC/+93v4a677kIsFsHt3/8evvSlG1BYmGeIWZXskLusOHDwIYdZrKUD6QpGGGekq9d1eJNCHXx4cLik64hCB0cNVTqvR+PWLkPA6o22x52txdqtJQRdjnPcR9S5tfLRAU4buFtDQY6YddAOt7aP+853vpP56cDBkcGjlWE0eE0xo/Eska/16UPGpUm8aa0M5TjHffScZnbs76xrWqbVo32bHTjIwK0F/n/wgx/gjjvuyFxy4ODwYY1XWZaultHkgfSr8SsKHjrtjmSWtuvEySJ2nOM+tM7U9Y5/qv/2mQMH7Wjr9/jsZz+bOesacMZzP1wwi4xnupityVW6KoFjdTO/Gywh5TjHfTSdAwc22qShLBQHDo4UHUlX+zKri9kROw4+LjCf86WTnToHDmy0ke4f//jHzJkDB4cPEa5ZopKwx3T3h347znEfTWe+3++oYx7oHDjIwL17927cfPPNh71+pAMHHdFxTNfsMvQO0j2YJHKc4z4qzpq70Jlz4MCGu1evXvjpT3+a+enAwZFBG03I2hUSiUSme9mBAwcOHHTEu89wceDgPUCkKydrV/sHmw0PHDhw4MDBfnBI18ExgZa6E+kK4XDYIV0HDhw4OAgc0nVwTKB9iW3SjUQipovZgQMHDhzsD4d0HRwT2KSrCVTaR9SxdB04cODgnXBI18ExgbYxs2cwt3+n68CBAwcOOsIhXQfHBLJyRbwiXXUtO5auAwcOHLwTDuk6OCYoLCzEsGHDMHHiRHMMhUKZOw4cOHDgwIa+6j5wFYMuAWdZyg8X6uvrsX37drS2tpp1s/v06YPs7OzMXQcOHDj4aEK9e4cDh3QdHBO0b+dnbe2no71YhgMHDhx8VHG4pOt0L3+MIXK0yfJwx2D1TEfXEfaEqsMJ+8AwHDhw4OCjiC5LuuqudHB8IaITMR7JpCdbu+tIuh01Pvu6TbydwfanZ+1zBw4cOPioosuSrtM1efxhk51I90jJTs935uwwdX4w2Pd17EjORxoXBw4cOOjq6LJjunV1dc5G9scZ9qc9zz//PE499VQzA/m9QsQoJ0K1LWW7W1krUv373/82E6t0b8SIEZgxYwaCwaDxJ3QkWDmRrj45stEZUTtw4MBBV8LhyipnTPdjBVqTZrNti/A8Xk12SuOf/3wYDfVNQDSOCEkyEkmgIR5FMp3gtQha4xEkkqm2RS+Sabk0kjyPRWN47JF/4dl/P4NEOo5kIo5YrB4vvTgbLncQvfuU47lnH8MPf3InGlqaEY6FEUvxHXw2zmPt3gr8+v9+ig27KhFLpBCOw4QRTibQymMiGTPvcuDAgYOPAhzS/biDSlo8niARA/9++mm89tpr+PnPfoad23eY5Rwfe/RRPPnUk7j//vtRXV2Nrdu24dVXXyUxh7Fy1Uo8++yzWLhwIZ5/7nls3LiJ4aRM90lWVojW8ym49NLLcOedd2LRgoWoqd6HlqYm/PmPf8Bvf/0bbFi/Hjt27MBLL7yEF/h8ZVUFHn74Yfzu97/DihXLjcWssNeuWWvF1YEDBw4+5HBI10EbHnroIaxatQozZpyJG2+8EY2NjXjwwQfR0NCIHuXl+BnJeMeO7STd18yY+5bNW7B79y4MGDAAY8aOQXlZT7jdHjoXUiTfVCoNt8uFUDALA/v2Q23VXnzz699AUWER+vbuje9+57/RvVsJBg0YyDD60SJ+1oSXnZ2FRx55BNu2bYXfH4DXa22k4MCBAwcfdjik+7EGzVvTc2t137pJpLM+eS0mTBhvNjAgc6JH91JcOesqDB48GHl5eaioqCAJegzpilg1jqtFMIoKi5Gbm2u6ruOJuAnT5ZZzm9DDrWGkUwnc/j/fRYDEvG7VGlRX7UNWIIj8/DwMHjQAF5x/HkYMH4bNmzbSfyvDT2PMmLEYNHiQiZ8DBw4cfNjhkO7HGMkkrVGNzSaTFoGSTNOpFBL87YbLWKki0EZaus2tLWZM10PC1Cb1DQ0NaGlpMd3SGudVF3UinoTmFHg8+kY3gWgkgubmFlTv3Yd9tdUo79kTX/7KDbzWjOnTpyM7JxtRdW273Ni1awf+dt9fsHr1KowaMRKlpaV8PsZ3JZBMOJsnOHDg4KMBh3Q/xpBVqpl3RUVFxmLNysoy3cNejxdZoRAJOI19+/bh73//O+bNm2es3/4DBhiSffzxx7Fi+Qpe85nrlZVV2Lu32pBwOmPlLly0EE8++STuvPOnmDFzJnJoKfuDQbNE5MqVK9FKUk67XfAyjLVrVvO9LpSX9UBNbQ0t6koSbhwrVqzA+o0bMjF24MCBgw839DHsbdZp18Ktt9663ycmDo4FrG5kzZ4S2bpcafPZUFYoG/37D0JeThYGDh+OgJukm52Ffr174Y1XX8WpZ5+FnKwczLrqKnTv3h1l5eXmuQkTJmD4sGEYPGgQ/IEQcnPzUJCfC7cnzrCzEI60kriTOOXkaTjr3HORnRUwXddLly3HwKFDMe2UU0jifdGzd0/EaV2fctIUVO2tJfGW4NTTZyAnJxe7d+0Cg0D/fn0ycXfgwIGDroPbb789c/beoImmtiTuUnC+0z0W0DewmVMVs0ufC5Fs01YHRzId52913XqRTtLidCUR9XgQ4P0Urc7Whlrc8b3b8J0f/wB+bxB+VhcFZz45Uj+yHK1ejdq6PD79zz8SrjuMZCpHbzdPeOkjTstXBOyh9azuZDeJPW2ejzNAxouWtpv3k2kf4xeDyx9ENJbAnh07Leu4V7kJ3aquSpfOFQfrrQ4cOHDwQeBwv9O1pViXg0O6R4r28U970QkdjSPxkR1JfCRdklaSJOxyyz+JLpECeZOVwUOKTEGjurFwMxYuXYopJ0yAx+uFh4QokhXZimoTfNJFovaYM95y2YtbiAw9/F/fBWt0WJ8RiX5dcGtWM0nXkxbBkmgVX0PgCkPxUueLqmTSqpj8rXiLZN3yT39pknIy6WcSPEi5o/C5/LzujJQ4cODg/YdDuh97HJx0t23fhu07tqOlpRVetx9+nx85edno3qMEZaU94XH54PXzIVYgFwlOlSKRsBbD8Hp5jTXFTT8uWqqqNSJnax2qBKItjYjTXzA7r235TtN9bc7kXaFZRK9zka/iyWiZM1NnRbqGcEWe8t8Z6WrBjChq9jUz/oVweRMI0ArXBC8HDhw4eL9xuKTrmAcfA4jm9uzeg0ULF+HXv/wlHnjoQcyeMxurVi5DVdVeJOIR8aFxLmOJkuBIerR94fPKFqUjl5vuYNUYHuXXIJnGhnXrsWzZSrS0hvmT98imsmjp0YQjuMigJkwTtjVjWQQsq7ctLEPB+8NcMezbjlQqiVdeeYVxrzITvw630jtw4MDBBwVJqwNEWteAY+keKfa3dG1n464f/y+Gjp2As886E9s2roPLn4XW+n2oboixMmgNxih8OcWI1Fag34iJ6N+jAHMWr0JzfQ1yCwswZsQI1NbUYt36TfD5A+jTqwcWznkLa7bswGVXXmGWctTSjulEFOMmT0U60oh1m7bB6/Iy6BaEisoQqa9AUe9h6Fuah9fmLEa3ghyG5cKoEWOQn6cyT2FPxS4S+TJEw3FDyn36DcDwoSOQk+3Gjh1b8N3v/giXXHoVZpx1GnKC2Q7xOnDg4AOBY+k6aIMqgz4FUpevFr7QuKeXJqdFwWksWTQfK1esxBuvvoJX3ngduysq8Ntf/RJbd+zEpvWr8OgTT2HLpk145pnnjKW8ePFiPPf883hr9luYPXs2Nm7ciK1bt5nvdlvDYVRW7DFLO+7atdOEuXjJMixasABPPfNvs5LVA/ffh+UrV6Fy53bc+9f7sWvHDtx73/2opLW9YsUqhjkHCZK2vhPW4hjVtGQVphbkqK9vQDxGAqbJHY1GzDvDfKdWvTqIgezAgQMHXRJdlnQDgUDmzMGxgunipdWr6U1pVwoeOsNZ6SSGDBtGy/EScnECp585E5dceB6Wr1qNVcuXo6q6BoUFRYbbtCZzQX6B+aRIi2UEggGU9uiBiRMnoWdZqdkpKBQMwcOatbtyryHIAYOH4qKLL0J+bjYmnzAF11x1BdZu2MT3AwOHDMMFF16E8RPGY87cOSZudt+Lvv9VPZCzx4q1iEfv3r2MG8Y4O5+VOXDg4MOELku6oVAoc+bg2EETmUhrJDvZu+YTHlrCGsfVwhWyjIMBP4LMey85zuzuQ0J2ub1mqcdCkm1paXcUFxeb9ZbDkTC2bN2KZq1Mxb/dtGb3Ve8148AKO64Vr8jqoewceBign07v0SIYGicGw4+RuNX9rYUwxLUmPoyfSFZ1QAt26N1ag9nlbjdpZbWbGctWYhw4cODgQ4EuS7oOjhQipne6DN0iBi+8JEJ3yo2kK2DIMaVvcEmumhSVAK1L+owhC0EkMXTUOBTlhUiuW1BfV4+ePXujtq4Ou3buQIxWrAgvj1bw5o0bsGrVWtTs3YuqymqEo2kkwy1IpD3walIV/SU8AbiTrUh6ab2mWhFPubBm6RLc+8e/4O235uD006YzrmmSrgf9+g3EJZdcgVnXXItZs67B1BNPQG5ONtxuP+8HEU8ksGTJQrQ0N/MZBw4cOPhwQBK5S9oJHSf/ODg20KzflStXID8/H+Xl5di2bZvpDm5qakJefh56lJabsVptaN/a2mqWapw4cSKWLl1q1lmW5akuXe0+tHnzZvh8PvTq1Qs5OTnYtGmTsUi1HaDGWhMkxW7dupl7sqD79OmFJUsXY+jQIcjLy8ELL7yMnuV9cNdPf4HPfPozCITcGD16dJt/uztZ6DgZTPcUtuIkDB8+vO0ZBw4cOHi/cbiyxyHdjxGSqYSZiKRNDgRtaLA/3CbfVYn0fa6gc03GEtHpaFcw259NiDrveM8+2td1S6PJyaQWwdAmC2msW7sB/3joX/jhD/+XL9LORBbkX8qADfsdgu7Z3x5rowb9Fvnr6MCBAwfvNw5X9si3Q7ofE8QTMeukA4GJSE1e89x8Vasdh0hqIj0RrW1xdiyPAyuZTX52eILCsK/JJWllk/HNeSqd1Ckt7Fbs3bsPQ4YMpf+YeUfbbOtMOIKu2+/X8zq3lQJB/nXdgQMHDt5vHK7scUj3YwRrneX2fNWZXQF01FiqTXA2uXWsUAeWiX2v4/WDVUBds0iS/swLbf8iVpE9L+pTpsz7DhbGgXi3dzpw4MDB+4HDlT9GBFqnXQsHCngHxwLK0/Z8Jc3tV/oi3UOhM9IVDnVPeGd5ioTb/bg0E9mBAwcOPmQ4XNJ1JJ2DDwiqeiLiA8nYgQMHDj66cEjXwfsEaYMH0Qi1YoerfXzWgQMHDj7KkBTskqaG073swIEDBw66OpzuZQcOHDhw4KCLwtWv/yDHpHTgwIEDBw7eBziWrgMHDhw4cPA+wSFdBw4cOHDg4H0B8P8Biy9Pw1e0sngAAAAASUVORK5CYII=)"
      ]
    },
    {
      "cell_type": "markdown",
      "metadata": {
        "id": "7-vWSY6qWoQr"
      },
      "source": [
        "Every LSTM unfolds untill it complete the tokens in review<br>\n",
        "![image.png](data:image/png;base64,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)"
      ]
    },
    {
      "cell_type": "markdown",
      "metadata": {
        "id": "VFeAF8HsZWSr"
      },
      "source": [
        "Bidirectional LSTM<br>\n",
        "![image.png](data:image/png;base64,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)"
      ]
    },
    {
      "cell_type": "code",
      "execution_count": 28,
      "metadata": {
        "colab": {
          "base_uri": "https://localhost:8080/"
        },
        "id": "_HXG3p2maifl",
        "outputId": "d71de5f9-d7e6-46cb-bc20-186b9be5295b"
      },
      "outputs": [
        {
          "output_type": "execute_result",
          "data": {
            "text/plain": [
              "21576"
            ]
          },
          "metadata": {},
          "execution_count": 28
        }
      ],
      "source": [
        "len(vocab)"
      ]
    },
    {
      "cell_type": "code",
      "execution_count": 29,
      "metadata": {
        "colab": {
          "base_uri": "https://localhost:8080/"
        },
        "id": "hAkfM2iKcauM",
        "outputId": "82b99e44-4572-4a30-9236-e2c91acc5c2f"
      },
      "outputs": [
        {
          "output_type": "execute_result",
          "data": {
            "text/plain": [
              "Dataset({\n",
              "    features: ['text', 'label', 'tokens', 'length', 'ids'],\n",
              "    num_rows: 18750\n",
              "})"
            ]
          },
          "metadata": {},
          "execution_count": 29
        }
      ],
      "source": [
        "train_data"
      ]
    },
    {
      "cell_type": "code",
      "execution_count": 30,
      "metadata": {
        "colab": {
          "base_uri": "https://localhost:8080/"
        },
        "id": "HYaO1g4XcnIS",
        "outputId": "061372e8-7fa6-4075-c9c4-fdd807386103"
      },
      "outputs": [
        {
          "output_type": "execute_result",
          "data": {
            "text/plain": [
              "2"
            ]
          },
          "metadata": {},
          "execution_count": 30
        }
      ],
      "source": [
        "len(train_data.unique(\"label\"))"
      ]
    },
    {
      "cell_type": "markdown",
      "metadata": {
        "id": "0I38-P6fe_qK"
      },
      "source": [
        "sequence a:[1,2,3]<br>\n",
        "sequence b:[4,5]<br>\n",
        "sequence c:[6]<br>\n",
        "after padding<br>\n",
        "sequence a:[1,2,3]<br>\n",
        "sequence b:[4,5,0]<br>\n",
        "sequence c:[6,0,0]<br>\n",
        "*when it is given in the model due to extra padding computation become high*\n"
      ]
    },
    {
      "cell_type": "markdown",
      "metadata": {
        "id": "wyZnvhIifbfX"
      },
      "source": [
        "**Packed-Sequence ?**<br>\n",
        "sequence a:[1,2,3]<br>\n",
        "sequence b:[4,5]<br>\n",
        "sequence c:[6]<br>\n",
        "**After Packed Sequence**<br>\n",
        "packed_sequence=tensor[1,4,6,2,5,3]<br>"
      ]
    },
    {
      "cell_type": "code",
      "execution_count": 31,
      "metadata": {
        "id": "3bJaZd0ZSid8"
      },
      "outputs": [],
      "source": [
        "class LSTM(nn.Module):\n",
        "  def __init__(self,vocab_size,embedding_dim,hidden_dim,output_dim,n_layers,bidirectional,dropout_rate,pad_index):\n",
        "    super().__init__()\n",
        "    self.embedding=nn.Embedding(vocab_size,embedding_dim,padding_idx=pad_index)\n",
        "    self.lstm=nn.LSTM(embedding_dim,hidden_dim,n_layers,bidirectional=bidirectional,dropout=dropout_rate,batch_first=True)\n",
        "    self.fc=nn.Linear(hidden_dim*2 if bidirectional else hidden_dim,output_dim)\n",
        "    self.dropout=nn.Dropout(dropout_rate)\n",
        "  def forward(self,batch_ids,batch_length):\n",
        "    #batch_ids=[batch_size,seq_length]\n",
        "    #batch_labels=[batch_size]\n",
        "    embedded=self.dropout(self.embedding(batch_ids))\n",
        "    #embedded=[batch_size,seq_length,embedding_dim]\n",
        "    packed_embedded=nn.utils.rnn.pack_padded_sequence(\n",
        "        embedded,batch_length,batch_first=True,enforce_sorted=False\n",
        "    )\n",
        "    packed_output,(hidden,cell)=self.lstm(packed_embedded)\n",
        "    #hidden=[n_layers*direction,batch_size,hidden_dim]\n",
        "    #cell=[n_layers*direction,batch_size,hidden_dim]\n",
        "    #packed_output=[n_layers*direction,batch_size,hidden_dim]\n",
        "    output,output_length=nn.utils.rnn.pad_packed_sequence(packed_output)\n",
        "    #output=[batch_size,hidden_dim*direction]\n",
        "    if self.lstm.bidirectional:\n",
        "      hidden=self.dropout(torch.cat([hidden[-1],hidden[-2]],dim=-1))\n",
        "      #hidden=[batch_size,hidden_dim*2]\n",
        "    else:\n",
        "      hidden=self.dropout(hidden[-1])\n",
        "      #hidden=[batch_size,hidden_dim]\n",
        "    prediction=self.fc(hidden)\n",
        "    return prediction"
      ]
    },
    {
      "cell_type": "code",
      "execution_count": 32,
      "metadata": {
        "id": "Wy1i3WNxapkE"
      },
      "outputs": [],
      "source": [
        "vocab_size=len(vocab)\n",
        "embedding_dim=300\n",
        "hidden_dim=300\n",
        "n_layers=2\n",
        "bidirectional=True\n",
        "dropout_rate=0.5\n",
        "output_dim=len(train_data.unique(\"label\"))\n",
        "model=LSTM(vocab_size,embedding_dim,hidden_dim,output_dim,n_layers,bidirectional,dropout_rate,pad_index)"
      ]
    },
    {
      "cell_type": "code",
      "execution_count": 33,
      "metadata": {
        "colab": {
          "base_uri": "https://localhost:8080/"
        },
        "id": "4Jv_ZokNwvHK",
        "outputId": "33de4b82-9bbb-49a0-fa45-d1a68164ec86"
      },
      "outputs": [
        {
          "output_type": "execute_result",
          "data": {
            "text/plain": [
              "LSTM(\n",
              "  (embedding): Embedding(21576, 300, padding_idx=1)\n",
              "  (lstm): LSTM(300, 300, num_layers=2, batch_first=True, dropout=0.5, bidirectional=True)\n",
              "  (fc): Linear(in_features=600, out_features=2, bias=True)\n",
              "  (dropout): Dropout(p=0.5, inplace=False)\n",
              ")"
            ]
          },
          "metadata": {},
          "execution_count": 33
        }
      ],
      "source": [
        "model"
      ]
    },
    {
      "cell_type": "code",
      "execution_count": 34,
      "metadata": {
        "colab": {
          "base_uri": "https://localhost:8080/"
        },
        "id": "5yBQYnETzKkS",
        "outputId": "99ab01c7-0482-4c5c-ef6b-252a6da858a3"
      },
      "outputs": [
        {
          "output_type": "stream",
          "name": "stdout",
          "text": [
            "The model has10,083,602 trainable parameters\n"
          ]
        }
      ],
      "source": [
        "def count_parameters(model):\n",
        "  return sum(p.numel() for p in model.parameters() if p.requires_grad)\n",
        "\n",
        "print(f\"The model has{count_parameters(model):,} trainable parameters\")"
      ]
    },
    {
      "cell_type": "code",
      "execution_count": 35,
      "metadata": {
        "id": "U6JkNv4vzyBZ"
      },
      "outputs": [],
      "source": [
        "def initialize_weights(m):\n",
        "  if isinstance(m,nn.Linear):\n",
        "    nn.init.xavier_normal_(m.weight)\n",
        "    nn.init.zeros_(m.bias)\n",
        "  elif isinstance(m,nn.LSTM):\n",
        "    for name,param in m.named_parameters():\n",
        "      if 'bias' in name:\n",
        "        nn.init.zeros_(param)\n",
        "      elif \"weight\" in name:\n",
        "        nn.init.orthogonal_(param)"
      ]
    },
    {
      "cell_type": "code",
      "execution_count": 36,
      "metadata": {
        "colab": {
          "base_uri": "https://localhost:8080/"
        },
        "id": "A-XNSZqz0lSp",
        "outputId": "15f17342-c409-425f-9c51-e2ba223b5a3a"
      },
      "outputs": [
        {
          "output_type": "execute_result",
          "data": {
            "text/plain": [
              "LSTM(\n",
              "  (embedding): Embedding(21576, 300, padding_idx=1)\n",
              "  (lstm): LSTM(300, 300, num_layers=2, batch_first=True, dropout=0.5, bidirectional=True)\n",
              "  (fc): Linear(in_features=600, out_features=2, bias=True)\n",
              "  (dropout): Dropout(p=0.5, inplace=False)\n",
              ")"
            ]
          },
          "metadata": {},
          "execution_count": 36
        }
      ],
      "source": [
        "model.apply(initialize_weights)"
      ]
    },
    {
      "cell_type": "code",
      "execution_count": 37,
      "metadata": {
        "id": "pO6Oz75n0zfa",
        "colab": {
          "base_uri": "https://localhost:8080/"
        },
        "outputId": "c01f9805-db8c-426f-fa9c-05a00a882ae2"
      },
      "outputs": [
        {
          "output_type": "stream",
          "name": "stderr",
          "text": [
            ".vector_cache/glove.840B.300d.zip: 2.18GB [06:50, 5.30MB/s]                            \n",
            "100%|█████████▉| 2196016/2196017 [04:47<00:00, 7651.44it/s]\n"
          ]
        }
      ],
      "source": [
        "vectors=torchtext.vocab.GloVe()"
      ]
    },
    {
      "cell_type": "code",
      "execution_count": 38,
      "metadata": {
        "id": "SpbcRjb_0_Gq"
      },
      "outputs": [],
      "source": [
        "pretrained_embedding = vectors.get_vecs_by_tokens(vocab.get_itos())"
      ]
    },
    {
      "cell_type": "code",
      "execution_count": 39,
      "metadata": {
        "id": "5oe-aFMe1MfY"
      },
      "outputs": [],
      "source": [
        "model.embedding.weight.data=pretrained_embedding"
      ]
    },
    {
      "cell_type": "markdown",
      "metadata": {
        "id": "1zGwzi0TyPzW"
      },
      "source": [
        "###3. Pick a Loss function and optimizer"
      ]
    },
    {
      "cell_type": "code",
      "execution_count": 40,
      "metadata": {
        "id": "ar-hHj2O1XLv"
      },
      "outputs": [],
      "source": [
        "lr =0.001"
      ]
    },
    {
      "cell_type": "code",
      "execution_count": 48,
      "metadata": {
        "id": "E4hYYTmKwwF6"
      },
      "outputs": [],
      "source": [
        "criterion=nn.CrossEntropyLoss()\n",
        "optimizer=optim.Adam(model.parameters(),lr=lr)"
      ]
    },
    {
      "cell_type": "code",
      "execution_count": 49,
      "metadata": {
        "id": "GRTEBPE41d7b",
        "colab": {
          "base_uri": "https://localhost:8080/",
          "height": 36
        },
        "outputId": "68478eb1-a048-4c94-ae42-136aab22b620"
      },
      "outputs": [
        {
          "output_type": "execute_result",
          "data": {
            "text/plain": [
              "'cuda'"
            ],
            "application/vnd.google.colaboratory.intrinsic+json": {
              "type": "string"
            }
          },
          "metadata": {},
          "execution_count": 49
        }
      ],
      "source": [
        "device=\"cuda\" if torch.cuda.is_available() else \"cpu\"\n",
        "device"
      ]
    },
    {
      "cell_type": "code",
      "execution_count": 50,
      "metadata": {
        "id": "7sTdzcCj1qza"
      },
      "outputs": [],
      "source": [
        "model=model.to(device)\n",
        "criterion=criterion.to(device)"
      ]
    },
    {
      "cell_type": "markdown",
      "metadata": {
        "id": "Q5zzCzRS1xwn"
      },
      "source": [
        "###4. Training And Evaluate Functions"
      ]
    },
    {
      "cell_type": "code",
      "execution_count": 51,
      "metadata": {
        "id": "8G2OakZT130L"
      },
      "outputs": [],
      "source": [
        "def train(batch_loader,model,criterion,optimizer,device):\n",
        "  model.train()\n",
        "  epoch_loss=[]\n",
        "  epoch_acc=[]\n",
        "  for batch in tqdm.tqdm(batch_loader,desc=\"training....\"):\n",
        "      batch_ids=batch['batch_ids'].to(device)\n",
        "      length=batch['length']\n",
        "      batch_labels=batch['batch_labels'].to(device)\n",
        "      # batch_labels = batch_labels.unsqueeze(1).float()\n",
        "      predictions=model(batch_ids,length)\n",
        "      loss=criterion(predictions,batch_labels)\n",
        "      accuracy=get_accuracy(predictions,batch_labels)\n",
        "      optimizer.zero_grad()\n",
        "      loss.backward()\n",
        "      optimizer.step()\n",
        "      epoch_loss.append(loss.item())\n",
        "      epoch_acc.append(accuracy.item())\n",
        "  return np.mean(epoch_loss),np.mean(epoch_acc)"
      ]
    },
    {
      "cell_type": "code",
      "execution_count": 52,
      "metadata": {
        "id": "I91usRQp3XEs"
      },
      "outputs": [],
      "source": [
        "def evaluate(batch_loader,model,criterion,device):\n",
        "  model.eval()\n",
        "  epoch_loss=[]\n",
        "  epoch_acc=[]\n",
        "  with torch.no_grad():\n",
        "    for batch in tqdm.tqdm(batch_loader,desc=\"evaluating....\"):\n",
        "      batch_ids=batch['batch_ids'].to(device)\n",
        "      length=batch['length']\n",
        "      batch_labels=batch['batch_labels'].to(device)\n",
        "      # batch_labels = batch_labels.unsqueeze(1).float()\n",
        "      predictions=model(batch_ids,length)\n",
        "      loss=criterion(predictions,batch_labels)\n",
        "      accuracy=get_accuracy(predictions,batch_labels)\n",
        "      epoch_loss.append(loss.item())\n",
        "      epoch_acc.append(accuracy.item())\n",
        "  return np.mean(epoch_loss),np.mean(epoch_acc)"
      ]
    },
    {
      "cell_type": "code",
      "execution_count": 53,
      "metadata": {
        "id": "1NQfqN5p4fbD"
      },
      "outputs": [],
      "source": [
        "def get_accuracy(predictions,batch_labels):\n",
        "  batch_size,_=predictions.shape\n",
        "  predicted_class=predictions.argmax(dim=-1)\n",
        "  correct_predictions = predicted_class.eq(batch_labels).sum()\n",
        "  accuracy=correct_predictions/batch_size\n",
        "  return accuracy"
      ]
    },
    {
      "cell_type": "markdown",
      "metadata": {
        "id": "2ICgfwXn5xYa"
      },
      "source": [
        "###5. Start Training Loop"
      ]
    },
    {
      "cell_type": "markdown",
      "metadata": {
        "id": "0L34T-yBDfgY"
      },
      "source": [
        "**visulaising training loss and validation loss**"
      ]
    },
    {
      "cell_type": "code",
      "execution_count": 54,
      "metadata": {
        "id": "IdDg8Umq5vGC",
        "colab": {
          "base_uri": "https://localhost:8080/"
        },
        "outputId": "3726abf0-7954-4007-b66c-0b688afa84e9"
      },
      "outputs": [
        {
          "output_type": "stream",
          "name": "stderr",
          "text": [
            "training....: 100%|██████████| 37/37 [00:30<00:00,  1.23it/s]\n",
            "evaluating....: 100%|██████████| 13/13 [00:03<00:00,  3.74it/s]\n"
          ]
        },
        {
          "output_type": "stream",
          "name": "stdout",
          "text": [
            "epoch:0\n",
            "train_loss:0.599,train_acc:0.660\n",
            "valid_loss:0.642,valid_acc:0.586\n"
          ]
        },
        {
          "output_type": "stream",
          "name": "stderr",
          "text": [
            "training....: 100%|██████████| 37/37 [00:30<00:00,  1.22it/s]\n",
            "evaluating....: 100%|██████████| 13/13 [00:03<00:00,  3.80it/s]\n"
          ]
        },
        {
          "output_type": "stream",
          "name": "stdout",
          "text": [
            "epoch:1\n",
            "train_loss:0.654,train_acc:0.617\n",
            "valid_loss:0.618,valid_acc:0.675\n"
          ]
        },
        {
          "output_type": "stream",
          "name": "stderr",
          "text": [
            "training....: 100%|██████████| 37/37 [00:31<00:00,  1.19it/s]\n",
            "evaluating....: 100%|██████████| 13/13 [00:03<00:00,  3.87it/s]"
          ]
        },
        {
          "output_type": "stream",
          "name": "stdout",
          "text": [
            "epoch:2\n",
            "train_loss:0.588,train_acc:0.698\n",
            "valid_loss:0.604,valid_acc:0.660\n"
          ]
        },
        {
          "output_type": "stream",
          "name": "stderr",
          "text": [
            "\n"
          ]
        }
      ],
      "source": [
        "n_epochs=3\n",
        "best_valid_loss=float(\"inf\")\n",
        "\n",
        "metrics=collections.defaultdict(list)\n",
        "\n",
        "for epoch in range(n_epochs):\n",
        "  train_loss,train_acc=train(train_batch_loader,model,criterion,optimizer,device)\n",
        "  valid_loss,valid_acc=evaluate(valid_batch_loader,model,criterion,device)\n",
        "  metrics[\"train_loss\"].append(train_loss)\n",
        "  metrics[\"train_acc\"].append(train_acc)\n",
        "  metrics[\"valid_loss\"].append(valid_loss)\n",
        "  metrics[\"valid_acc\"].append(valid_acc)\n",
        "  if valid_loss < best_valid_loss:\n",
        "    best_valid_loss=best_valid_loss\n",
        "    torch.save(model.state_dict(),'./LSTM.pt')\n",
        "  print(f\"epoch:{epoch}\")\n",
        "  print(f\"train_loss:{train_loss:.3f},train_acc:{train_acc:.3f}\")\n",
        "  print(f\"valid_loss:{valid_loss:.3f},valid_acc:{valid_acc:.3f}\")"
      ]
    },
    {
      "cell_type": "markdown",
      "metadata": {
        "id": "7bd5uYMcB4iy"
      },
      "source": [
        "###6. Visualize your model"
      ]
    },
    {
      "cell_type": "code",
      "execution_count": 55,
      "metadata": {
        "id": "nn6fimHP7vOp"
      },
      "outputs": [],
      "source": [
        "import matplotlib.pyplot as plt"
      ]
    },
    {
      "cell_type": "code",
      "execution_count": 58,
      "metadata": {
        "id": "0HoWtc-_B8L1",
        "colab": {
          "base_uri": "https://localhost:8080/",
          "height": 542
        },
        "outputId": "560e7b63-e779-4d3b-cf9d-1a86ad57726a"
      },
      "outputs": [
        {
          "output_type": "display_data",
          "data": {
            "text/plain": [
              "<Figure size 1000x600 with 1 Axes>"
            ],
            "image/png": "[encoded data removed]"
          },
          "metadata": {}
        }
      ],
      "source": [
        "fig = plt.figure(figsize=(10,6))\n",
        "ax = fig.add_subplot(1,1,1)\n",
        "ax.plot(metrics[\"train_loss\"],label='train loss')\n",
        "ax.plot(metrics[\"valid_loss\"],label='valid loss')\n",
        "ax.set_xlabel(\"epoch\")\n",
        "ax.set_ylabel(\"loss\")\n",
        "ax.set_xticks(range(n_epochs))\n",
        "ax.legend()\n",
        "ax.grid()"
      ]
    },
    {
      "cell_type": "code",
      "execution_count": 60,
      "metadata": {
        "id": "RvFcZopPDpQ5",
        "colab": {
          "base_uri": "https://localhost:8080/",
          "height": 542
        },
        "outputId": "4c785c0d-9e71-4b25-c78a-d2d4179ca10d"
      },
      "outputs": [
        {
          "output_type": "display_data",
          "data": {
            "text/plain": [
              "<Figure size 1000x600 with 1 Axes>"
            ],
            "image/png": "[encoded data removed]"
          },
          "metadata": {}
        }
      ],
      "source": [
        "fig = plt.figure(figsize=(10,6))\n",
        "ax = fig.add_subplot(1,1,1)\n",
        "ax.plot(metrics[\"train_acc\"],label='train acc')\n",
        "ax.plot(metrics[\"valid_acc\"],label='valid acc')\n",
        "ax.set_xlabel(\"epoch\")\n",
        "ax.set_ylabel(\"accuracy\")\n",
        "ax.set_xticks(range(n_epochs))\n",
        "ax.legend()\n",
        "ax.grid()"
      ]
    },
    {
      "cell_type": "markdown",
      "metadata": {
        "id": "IUG0LLagDyuS"
      },
      "source": [
        "####Again Loading state_dict()"
      ]
    },
    {
      "cell_type": "code",
      "execution_count": 61,
      "metadata": {
        "id": "2fY0TsY2D2R5",
        "colab": {
          "base_uri": "https://localhost:8080/"
        },
        "outputId": "b6e7f606-d676-4cb6-f63c-cd350e8f4f45"
      },
      "outputs": [
        {
          "output_type": "stream",
          "name": "stderr",
          "text": [
            "/usr/local/lib/python3.10/dist-packages/torch/nn/modules/module.py:1802: UserWarning: Positional args are being deprecated, use kwargs instead. Refer to https://pytorch.org/docs/master/generated/torch.nn.Module.html#torch.nn.Module.state_dict for details.\n",
            "  warnings.warn(\n",
            "evaluating....: 100%|██████████| 49/49 [00:12<00:00,  3.80it/s]\n"
          ]
        }
      ],
      "source": [
        "model.state_dict(torch.load(\"LSTM.pt\"))\n",
        "test_loss,test_acc=evaluate(test_batch_loader,model,criterion,device)"
      ]
    },
    {
      "cell_type": "code",
      "execution_count": 62,
      "metadata": {
        "id": "jpNzMpqKEF2P",
        "colab": {
          "base_uri": "https://localhost:8080/"
        },
        "outputId": "fd4612c4-6855-41e5-9b24-08c83a08baf5"
      },
      "outputs": [
        {
          "output_type": "stream",
          "name": "stdout",
          "text": [
            "The test loss:0.6069630907506359 and test accurcay:0.6491008254946494\n"
          ]
        }
      ],
      "source": [
        "print(f\"The test loss:{test_loss} and test accurcay:{test_acc}\")"
      ]
    },
    {
      "cell_type": "markdown",
      "metadata": {
        "id": "DlKYKbvqEOgE"
      },
      "source": [
        "###7. Testing Model with New sentences(Sentiment Analysis)"
      ]
    },
    {
      "cell_type": "code",
      "execution_count": 66,
      "metadata": {
        "id": "qNgy60LSESHy"
      },
      "outputs": [],
      "source": [
        "def predict_sentiment(text,model,tokenizer,vocab,device):\n",
        "    tokens=tokenizer(text)\n",
        "    ids=vocab.lookup_indices(tokens)\n",
        "    length=torch.LongTensor([len(ids)])\n",
        "    tensor=torch.LongTensor(ids).unsqueeze(dim=0).to(device)\n",
        "    prediction=model(tensor,length).squeeze(dim=0)\n",
        "    probability=torch.softmax(prediction,dim=-1)\n",
        "    predicted_class=prediction.argmax(dim=-1).item()\n",
        "    predicted_probability=probability[predicted_class].item()\n",
        "    return predicted_class,predicted_probability"
      ]
    },
    {
      "cell_type": "code",
      "execution_count": 67,
      "metadata": {
        "id": "yLaPmjoFFlJI",
        "colab": {
          "base_uri": "https://localhost:8080/"
        },
        "outputId": "23e96c59-9d8d-489a-adc5-ccc937be96f4"
      },
      "outputs": [
        {
          "output_type": "execute_result",
          "data": {
            "text/plain": [
              "(1, 0.8202028274536133)"
            ]
          },
          "metadata": {},
          "execution_count": 67
        }
      ],
      "source": [
        "text=\"this movie is great\"\n",
        "predict_sentiment(text,model,tokenizer,vocab,device)"
      ]
    },
    {
      "cell_type": "code",
      "execution_count": 68,
      "metadata": {
        "id": "ts8_nqEvFw8V",
        "colab": {
          "base_uri": "https://localhost:8080/"
        },
        "outputId": "0ac84354-f77d-4cc5-e7a0-0a0426723ccd"
      },
      "outputs": [
        {
          "output_type": "execute_result",
          "data": {
            "text/plain": [
              "(0, 0.850705623626709)"
            ]
          },
          "metadata": {},
          "execution_count": 68
        }
      ],
      "source": [
        "text=\"this movie is terrible\"\n",
        "predict_sentiment(text,model,tokenizer,vocab,device)"
      ]
    }
  ],
  "metadata": {
    "accelerator": "GPU",
    "colab": {
      "gpuType": "T4",
      "provenance": []
    },
    "kernelspec": {
      "display_name": "Python 3",
      "name": "python3"
    },
    "language_info": {
      "name": "python"
    },
    "widgets": {
      "application/vnd.jupyter.widget-state+json": {
        "0968bac095bc462580147cb8121cab7a": {
          "model_module": "@jupyter-widgets/controls",
          "model_name": "HBoxModel",
          "model_module_version": "1.5.0",
          "state": {
            "_dom_classes": [],
            "_model_module": "@jupyter-widgets/controls",
            "_model_module_version": "1.5.0",
            "_model_name": "HBoxModel",
            "_view_count": null,
            "_view_module": "@jupyter-widgets/controls",
            "_view_module_version": "1.5.0",
            "_view_name": "HBoxView",
            "box_style": "",
            "children": [
              "IPY_MODEL_2b77b8de2458448ea3d205e0d17543fd",
              "IPY_MODEL_1d3d27ef459247ca83f1c6e2f56d8098",
              "IPY_MODEL_68a18547d973494db75583e7c3cd9884"
            ],
            "layout": "IPY_MODEL_f6de2eecd6404e53b2709dbf0a4c4453"
          }
        },
        "2b77b8de2458448ea3d205e0d17543fd": {
          "model_module": "@jupyter-widgets/controls",
          "model_name": "HTMLModel",
          "model_module_version": "1.5.0",
          "state": {
            "_dom_classes": [],
            "_model_module": "@jupyter-widgets/controls",
            "_model_module_version": "1.5.0",
            "_model_name": "HTMLModel",
            "_view_count": null,
            "_view_module": "@jupyter-widgets/controls",
            "_view_module_version": "1.5.0",
            "_view_name": "HTMLView",
            "description": "",
            "description_tooltip": null,
            "layout": "IPY_MODEL_6ae02841a5eb42a28c090d3736c33084",
            "placeholder": "​",
            "style": "IPY_MODEL_6a817cc5dab0449b8556e685fb19f420",
            "value": "README.md: 100%"
          }
        },
        "1d3d27ef459247ca83f1c6e2f56d8098": {
          "model_module": "@jupyter-widgets/controls",
          "model_name": "FloatProgressModel",
          "model_module_version": "1.5.0",
          "state": {
            "_dom_classes": [],
            "_model_module": "@jupyter-widgets/controls",
            "_model_module_version": "1.5.0",
            "_model_name": "FloatProgressModel",
            "_view_count": null,
            "_view_module": "@jupyter-widgets/controls",
            "_view_module_version": "1.5.0",
            "_view_name": "ProgressView",
            "bar_style": "success",
            "description": "",
            "description_tooltip": null,
            "layout": "IPY_MODEL_a050426eb77b41a6a496de3e5536cf9b",
            "max": 7809,
            "min": 0,
            "orientation": "horizontal",
            "style": "IPY_MODEL_ef41780ca18845ad8f81fdf165d00923",
            "value": 7809
          }
        },
        "68a18547d973494db75583e7c3cd9884": {
          "model_module": "@jupyter-widgets/controls",
          "model_name": "HTMLModel",
          "model_module_version": "1.5.0",
          "state": {
            "_dom_classes": [],
            "_model_module": "@jupyter-widgets/controls",
            "_model_module_version": "1.5.0",
            "_model_name": "HTMLModel",
            "_view_count": null,
            "_view_module": "@jupyter-widgets/controls",
            "_view_module_version": "1.5.0",
            "_view_name": "HTMLView",
            "description": "",
            "description_tooltip": null,
            "layout": "IPY_MODEL_afaf6a0865d1412e97eb877541b33557",
            "placeholder": "​",
            "style": "IPY_MODEL_6cd036f9f1894599a6170b5d6813a7f5",
            "value": " 7.81k/7.81k [00:00&lt;00:00, 490kB/s]"
          }
        },
        "f6de2eecd6404e53b2709dbf0a4c4453": {
          "model_module": "@jupyter-widgets/base",
          "model_name": "LayoutModel",
          "model_module_version": "1.2.0",
          "state": {
            "_model_module": "@jupyter-widgets/base",
            "_model_module_version": "1.2.0",
            "_model_name": "LayoutModel",
            "_view_count": null,
            "_view_module": "@jupyter-widgets/base",
            "_view_module_version": "1.2.0",
            "_view_name": "LayoutView",
            "align_content": null,
            "align_items": null,
            "align_self": null,
            "border": null,
            "bottom": null,
            "display": null,
            "flex": null,
            "flex_flow": null,
            "grid_area": null,
            "grid_auto_columns": null,
            "grid_auto_flow": null,
            "grid_auto_rows": null,
            "grid_column": null,
            "grid_gap": null,
            "grid_row": null,
            "grid_template_areas": null,
            "grid_template_columns": null,
            "grid_template_rows": null,
            "height": null,
            "justify_content": null,
            "justify_items": null,
            "left": null,
            "margin": null,
            "max_height": null,
            "max_width": null,
            "min_height": null,
            "min_width": null,
            "object_fit": null,
            "object_position": null,
            "order": null,
            "overflow": null,
            "overflow_x": null,
            "overflow_y": null,
            "padding": null,
            "right": null,
            "top": null,
            "visibility": null,
            "width": null
          }
        },
        "6ae02841a5eb42a28c090d3736c33084": {
          "model_module": "@jupyter-widgets/base",
          "model_name": "LayoutModel",
          "model_module_version": "1.2.0",
          "state": {
            "_model_module": "@jupyter-widgets/base",
            "_model_module_version": "1.2.0",
            "_model_name": "LayoutModel",
            "_view_count": null,
            "_view_module": "@jupyter-widgets/base",
            "_view_module_version": "1.2.0",
            "_view_name": "LayoutView",
            "align_content": null,
            "align_items": null,
            "align_self": null,
            "border": null,
            "bottom": null,
            "display": null,
            "flex": null,
            "flex_flow": null,
            "grid_area": null,
            "grid_auto_columns": null,
            "grid_auto_flow": null,
            "grid_auto_rows": null,
            "grid_column": null,
            "grid_gap": null,
            "grid_row": null,
            "grid_template_areas": null,
            "grid_template_columns": null,
            "grid_template_rows": null,
            "height": null,
            "justify_content": null,
            "justify_items": null,
            "left": null,
            "margin": null,
            "max_height": null,
            "max_width": null,
            "min_height": null,
            "min_width": null,
            "object_fit": null,
            "object_position": null,
            "order": null,
            "overflow": null,
            "overflow_x": null,
            "overflow_y": null,
            "padding": null,
            "right": null,
            "top": null,
            "visibility": null,
            "width": null
          }
        },
        "6a817cc5dab0449b8556e685fb19f420": {
          "model_module": "@jupyter-widgets/controls",
          "model_name": "DescriptionStyleModel",
          "model_module_version": "1.5.0",
          "state": {
            "_model_module": "@jupyter-widgets/controls",
            "_model_module_version": "1.5.0",
            "_model_name": "DescriptionStyleModel",
            "_view_count": null,
            "_view_module": "@jupyter-widgets/base",
            "_view_module_version": "1.2.0",
            "_view_name": "StyleView",
            "description_width": ""
          }
        },
        "a050426eb77b41a6a496de3e5536cf9b": {
          "model_module": "@jupyter-widgets/base",
          "model_name": "LayoutModel",
          "model_module_version": "1.2.0",
          "state": {
            "_model_module": "@jupyter-widgets/base",
            "_model_module_version": "1.2.0",
            "_model_name": "LayoutModel",
            "_view_count": null,
            "_view_module": "@jupyter-widgets/base",
            "_view_module_version": "1.2.0",
            "_view_name": "LayoutView",
            "align_content": null,
            "align_items": null,
            "align_self": null,
            "border": null,
            "bottom": null,
            "display": null,
            "flex": null,
            "flex_flow": null,
            "grid_area": null,
            "grid_auto_columns": null,
            "grid_auto_flow": null,
            "grid_auto_rows": null,
            "grid_column": null,
            "grid_gap": null,
            "grid_row": null,
            "grid_template_areas": null,
            "grid_template_columns": null,
            "grid_template_rows": null,
            "height": null,
            "justify_content": null,
            "justify_items": null,
            "left": null,
            "margin": null,
            "max_height": null,
            "max_width": null,
            "min_height": null,
            "min_width": null,
            "object_fit": null,
            "object_position": null,
            "order": null,
            "overflow": null,
            "overflow_x": null,
            "overflow_y": null,
            "padding": null,
            "right": null,
            "top": null,
            "visibility": null,
            "width": null
          }
        },
        "ef41780ca18845ad8f81fdf165d00923": {
          "model_module": "@jupyter-widgets/controls",
          "model_name": "ProgressStyleModel",
          "model_module_version": "1.5.0",
          "state": {
            "_model_module": "@jupyter-widgets/controls",
            "_model_module_version": "1.5.0",
            "_model_name": "ProgressStyleModel",
            "_view_count": null,
            "_view_module": "@jupyter-widgets/base",
            "_view_module_version": "1.2.0",
            "_view_name": "StyleView",
            "bar_color": null,
            "description_width": ""
          }
        },
        "afaf6a0865d1412e97eb877541b33557": {
          "model_module": "@jupyter-widgets/base",
          "model_name": "LayoutModel",
          "model_module_version": "1.2.0",
          "state": {
            "_model_module": "@jupyter-widgets/base",
            "_model_module_version": "1.2.0",
            "_model_name": "LayoutModel",
            "_view_count": null,
            "_view_module": "@jupyter-widgets/base",
            "_view_module_version": "1.2.0",
            "_view_name": "LayoutView",
            "align_content": null,
            "align_items": null,
            "align_self": null,
            "border": null,
            "bottom": null,
            "display": null,
            "flex": null,
            "flex_flow": null,
            "grid_area": null,
            "grid_auto_columns": null,
            "grid_auto_flow": null,
            "grid_auto_rows": null,
            "grid_column": null,
            "grid_gap": null,
            "grid_row": null,
            "grid_template_areas": null,
            "grid_template_columns": null,
            "grid_template_rows": null,
            "height": null,
            "justify_content": null,
            "justify_items": null,
            "left": null,
            "margin": null,
            "max_height": null,
            "max_width": null,
            "min_height": null,
            "min_width": null,
            "object_fit": null,
            "object_position": null,
            "order": null,
            "overflow": null,
            "overflow_x": null,
            "overflow_y": null,
            "padding": null,
            "right": null,
            "top": null,
            "visibility": null,
            "width": null
          }
        },
        "6cd036f9f1894599a6170b5d6813a7f5": {
          "model_module": "@jupyter-widgets/controls",
          "model_name": "DescriptionStyleModel",
          "model_module_version": "1.5.0",
          "state": {
            "_model_module": "@jupyter-widgets/controls",
            "_model_module_version": "1.5.0",
            "_model_name": "DescriptionStyleModel",
            "_view_count": null,
            "_view_module": "@jupyter-widgets/base",
            "_view_module_version": "1.2.0",
            "_view_name": "StyleView",
            "description_width": ""
          }
        },
        "a0df91785c984438a5674db033342493": {
          "model_module": "@jupyter-widgets/controls",
          "model_name": "HBoxModel",
          "model_module_version": "1.5.0",
          "state": {
            "_dom_classes": [],
            "_model_module": "@jupyter-widgets/controls",
            "_model_module_version": "1.5.0",
            "_model_name": "HBoxModel",
            "_view_count": null,
            "_view_module": "@jupyter-widgets/controls",
            "_view_module_version": "1.5.0",
            "_view_name": "HBoxView",
            "box_style": "",
            "children": [
              "IPY_MODEL_b5093aad2b654472a3d2ad20c71a79db",
              "IPY_MODEL_c5691b5d6eea45b3bede0613e3e8a7d5",
              "IPY_MODEL_db7bf50bc3854b118ef8eca2d6a005da"
            ],
            "layout": "IPY_MODEL_05992e8d3c644078901f2bb8969fdfdd"
          }
        },
        "b5093aad2b654472a3d2ad20c71a79db": {
          "model_module": "@jupyter-widgets/controls",
          "model_name": "HTMLModel",
          "model_module_version": "1.5.0",
          "state": {
            "_dom_classes": [],
            "_model_module": "@jupyter-widgets/controls",
            "_model_module_version": "1.5.0",
            "_model_name": "HTMLModel",
            "_view_count": null,
            "_view_module": "@jupyter-widgets/controls",
            "_view_module_version": "1.5.0",
            "_view_name": "HTMLView",
            "description": "",
            "description_tooltip": null,
            "layout": "IPY_MODEL_f688a8ef725a4e7bb8ed25806eaab415",
            "placeholder": "​",
            "style": "IPY_MODEL_113a759c9aee481399393c09c1d816c8",
            "value": "train-00000-of-00001.parquet: 100%"
          }
        },
        "c5691b5d6eea45b3bede0613e3e8a7d5": {
          "model_module": "@jupyter-widgets/controls",
          "model_name": "FloatProgressModel",
          "model_module_version": "1.5.0",
          "state": {
            "_dom_classes": [],
            "_model_module": "@jupyter-widgets/controls",
            "_model_module_version": "1.5.0",
            "_model_name": "FloatProgressModel",
            "_view_count": null,
            "_view_module": "@jupyter-widgets/controls",
            "_view_module_version": "1.5.0",
            "_view_name": "ProgressView",
            "bar_style": "success",
            "description": "",
            "description_tooltip": null,
            "layout": "IPY_MODEL_bd5e879df1184c58b3649bc66ab930ba",
            "max": 20979968,
            "min": 0,
            "orientation": "horizontal",
            "style": "IPY_MODEL_3f366603bf6c44d9af3096ada2c1f37a",
            "value": 20979968
          }
        },
        "db7bf50bc3854b118ef8eca2d6a005da": {
          "model_module": "@jupyter-widgets/controls",
          "model_name": "HTMLModel",
          "model_module_version": "1.5.0",
          "state": {
            "_dom_classes": [],
            "_model_module": "@jupyter-widgets/controls",
            "_model_module_version": "1.5.0",
            "_model_name": "HTMLModel",
            "_view_count": null,
            "_view_module": "@jupyter-widgets/controls",
            "_view_module_version": "1.5.0",
            "_view_name": "HTMLView",
            "description": "",
            "description_tooltip": null,
            "layout": "IPY_MODEL_21b3cca67b4348daa0d73fe43cee939b",
            "placeholder": "​",
            "style": "IPY_MODEL_2a93531bdcef456f96a492e0d3600e4a",
            "value": " 21.0M/21.0M [00:00&lt;00:00, 31.8MB/s]"
          }
        },
        "05992e8d3c644078901f2bb8969fdfdd": {
          "model_module": "@jupyter-widgets/base",
          "model_name": "LayoutModel",
          "model_module_version": "1.2.0",
          "state": {
            "_model_module": "@jupyter-widgets/base",
            "_model_module_version": "1.2.0",
            "_model_name": "LayoutModel",
            "_view_count": null,
            "_view_module": "@jupyter-widgets/base",
            "_view_module_version": "1.2.0",
            "_view_name": "LayoutView",
            "align_content": null,
            "align_items": null,
            "align_self": null,
            "border": null,
            "bottom": null,
            "display": null,
            "flex": null,
            "flex_flow": null,
            "grid_area": null,
            "grid_auto_columns": null,
            "grid_auto_flow": null,
            "grid_auto_rows": null,
            "grid_column": null,
            "grid_gap": null,
            "grid_row": null,
            "grid_template_areas": null,
            "grid_template_columns": null,
            "grid_template_rows": null,
            "height": null,
            "justify_content": null,
            "justify_items": null,
            "left": null,
            "margin": null,
            "max_height": null,
            "max_width": null,
            "min_height": null,
            "min_width": null,
            "object_fit": null,
            "object_position": null,
            "order": null,
            "overflow": null,
            "overflow_x": null,
            "overflow_y": null,
            "padding": null,
            "right": null,
            "top": null,
            "visibility": null,
            "width": null
          }
        },
        "f688a8ef725a4e7bb8ed25806eaab415": {
          "model_module": "@jupyter-widgets/base",
          "model_name": "LayoutModel",
          "model_module_version": "1.2.0",
          "state": {
            "_model_module": "@jupyter-widgets/base",
            "_model_module_version": "1.2.0",
            "_model_name": "LayoutModel",
            "_view_count": null,
            "_view_module": "@jupyter-widgets/base",
            "_view_module_version": "1.2.0",
            "_view_name": "LayoutView",
            "align_content": null,
            "align_items": null,
            "align_self": null,
            "border": null,
            "bottom": null,
            "display": null,
            "flex": null,
            "flex_flow": null,
            "grid_area": null,
            "grid_auto_columns": null,
            "grid_auto_flow": null,
            "grid_auto_rows": null,
            "grid_column": null,
            "grid_gap": null,
            "grid_row": null,
            "grid_template_areas": null,
            "grid_template_columns": null,
            "grid_template_rows": null,
            "height": null,
            "justify_content": null,
            "justify_items": null,
            "left": null,
            "margin": null,
            "max_height": null,
            "max_width": null,
            "min_height": null,
            "min_width": null,
            "object_fit": null,
            "object_position": null,
            "order": null,
            "overflow": null,
            "overflow_x": null,
            "overflow_y": null,
            "padding": null,
            "right": null,
            "top": null,
            "visibility": null,
            "width": null
          }
        },
        "113a759c9aee481399393c09c1d816c8": {
          "model_module": "@jupyter-widgets/controls",
          "model_name": "DescriptionStyleModel",
          "model_module_version": "1.5.0",
          "state": {
            "_model_module": "@jupyter-widgets/controls",
            "_model_module_version": "1.5.0",
            "_model_name": "DescriptionStyleModel",
            "_view_count": null,
            "_view_module": "@jupyter-widgets/base",
            "_view_module_version": "1.2.0",
            "_view_name": "StyleView",
            "description_width": ""
          }
        },
        "bd5e879df1184c58b3649bc66ab930ba": {
          "model_module": "@jupyter-widgets/base",
          "model_name": "LayoutModel",
          "model_module_version": "1.2.0",
          "state": {
            "_model_module": "@jupyter-widgets/base",
            "_model_module_version": "1.2.0",
            "_model_name": "LayoutModel",
            "_view_count": null,
            "_view_module": "@jupyter-widgets/base",
            "_view_module_version": "1.2.0",
            "_view_name": "LayoutView",
            "align_content": null,
            "align_items": null,
            "align_self": null,
            "border": null,
            "bottom": null,
            "display": null,
            "flex": null,
            "flex_flow": null,
            "grid_area": null,
            "grid_auto_columns": null,
            "grid_auto_flow": null,
            "grid_auto_rows": null,
            "grid_column": null,
            "grid_gap": null,
            "grid_row": null,
            "grid_template_areas": null,
            "grid_template_columns": null,
            "grid_template_rows": null,
            "height": null,
            "justify_content": null,
            "justify_items": null,
            "left": null,
            "margin": null,
            "max_height": null,
            "max_width": null,
            "min_height": null,
            "min_width": null,
            "object_fit": null,
            "object_position": null,
            "order": null,
            "overflow": null,
            "overflow_x": null,
            "overflow_y": null,
            "padding": null,
            "right": null,
            "top": null,
            "visibility": null,
            "width": null
          }
        },
        "3f366603bf6c44d9af3096ada2c1f37a": {
          "model_module": "@jupyter-widgets/controls",
          "model_name": "ProgressStyleModel",
          "model_module_version": "1.5.0",
          "state": {
            "_model_module": "@jupyter-widgets/controls",
            "_model_module_version": "1.5.0",
            "_model_name": "ProgressStyleModel",
            "_view_count": null,
            "_view_module": "@jupyter-widgets/base",
            "_view_module_version": "1.2.0",
            "_view_name": "StyleView",
            "bar_color": null,
            "description_width": ""
          }
        },
        "21b3cca67b4348daa0d73fe43cee939b": {
          "model_module": "@jupyter-widgets/base",
          "model_name": "LayoutModel",
          "model_module_version": "1.2.0",
          "state": {
            "_model_module": "@jupyter-widgets/base",
            "_model_module_version": "1.2.0",
            "_model_name": "LayoutModel",
            "_view_count": null,
            "_view_module": "@jupyter-widgets/base",
            "_view_module_version": "1.2.0",
            "_view_name": "LayoutView",
            "align_content": null,
            "align_items": null,
            "align_self": null,
            "border": null,
            "bottom": null,
            "display": null,
            "flex": null,
            "flex_flow": null,
            "grid_area": null,
            "grid_auto_columns": null,
            "grid_auto_flow": null,
            "grid_auto_rows": null,
            "grid_column": null,
            "grid_gap": null,
            "grid_row": null,
            "grid_template_areas": null,
            "grid_template_columns": null,
            "grid_template_rows": null,
            "height": null,
            "justify_content": null,
            "justify_items": null,
            "left": null,
            "margin": null,
            "max_height": null,
            "max_width": null,
            "min_height": null,
            "min_width": null,
            "object_fit": null,
            "object_position": null,
            "order": null,
            "overflow": null,
            "overflow_x": null,
            "overflow_y": null,
            "padding": null,
            "right": null,
            "top": null,
            "visibility": null,
            "width": null
          }
        },
        "2a93531bdcef456f96a492e0d3600e4a": {
          "model_module": "@jupyter-widgets/controls",
          "model_name": "DescriptionStyleModel",
          "model_module_version": "1.5.0",
          "state": {
            "_model_module": "@jupyter-widgets/controls",
            "_model_module_version": "1.5.0",
            "_model_name": "DescriptionStyleModel",
            "_view_count": null,
            "_view_module": "@jupyter-widgets/base",
            "_view_module_version": "1.2.0",
            "_view_name": "StyleView",
            "description_width": ""
          }
        },
        "442bbfe3525d40fe890498918d1125df": {
          "model_module": "@jupyter-widgets/controls",
          "model_name": "HBoxModel",
          "model_module_version": "1.5.0",
          "state": {
            "_dom_classes": [],
            "_model_module": "@jupyter-widgets/controls",
            "_model_module_version": "1.5.0",
            "_model_name": "HBoxModel",
            "_view_count": null,
            "_view_module": "@jupyter-widgets/controls",
            "_view_module_version": "1.5.0",
            "_view_name": "HBoxView",
            "box_style": "",
            "children": [
              "IPY_MODEL_7d24914040cf452fab59bdce6f81be85",
              "IPY_MODEL_c132c8f188a54ba6a9e931640451c70d",
              "IPY_MODEL_b801104aca494772851f35d03282ea56"
            ],
            "layout": "IPY_MODEL_58d2e388a2b440f3bf3add4e9b97c625"
          }
        },
        "7d24914040cf452fab59bdce6f81be85": {
          "model_module": "@jupyter-widgets/controls",
          "model_name": "HTMLModel",
          "model_module_version": "1.5.0",
          "state": {
            "_dom_classes": [],
            "_model_module": "@jupyter-widgets/controls",
            "_model_module_version": "1.5.0",
            "_model_name": "HTMLModel",
            "_view_count": null,
            "_view_module": "@jupyter-widgets/controls",
            "_view_module_version": "1.5.0",
            "_view_name": "HTMLView",
            "description": "",
            "description_tooltip": null,
            "layout": "IPY_MODEL_011d1327b50444d5b275a9fbc94e45f9",
            "placeholder": "​",
            "style": "IPY_MODEL_c49c692e261a4de18a9bf2af932548c0",
            "value": "test-00000-of-00001.parquet: 100%"
          }
        },
        "c132c8f188a54ba6a9e931640451c70d": {
          "model_module": "@jupyter-widgets/controls",
          "model_name": "FloatProgressModel",
          "model_module_version": "1.5.0",
          "state": {
            "_dom_classes": [],
            "_model_module": "@jupyter-widgets/controls",
            "_model_module_version": "1.5.0",
            "_model_name": "FloatProgressModel",
            "_view_count": null,
            "_view_module": "@jupyter-widgets/controls",
            "_view_module_version": "1.5.0",
            "_view_name": "ProgressView",
            "bar_style": "success",
            "description": "",
            "description_tooltip": null,
            "layout": "IPY_MODEL_3581dfc6e9604ad9ab051292af236d79",
            "max": 20470363,
            "min": 0,
            "orientation": "horizontal",
            "style": "IPY_MODEL_c842a832fd1a42829132e3b8f6a50853",
            "value": 20470363
          }
        },
        "b801104aca494772851f35d03282ea56": {
          "model_module": "@jupyter-widgets/controls",
          "model_name": "HTMLModel",
          "model_module_version": "1.5.0",
          "state": {
            "_dom_classes": [],
            "_model_module": "@jupyter-widgets/controls",
            "_model_module_version": "1.5.0",
            "_model_name": "HTMLModel",
            "_view_count": null,
            "_view_module": "@jupyter-widgets/controls",
            "_view_module_version": "1.5.0",
            "_view_name": "HTMLView",
            "description": "",
            "description_tooltip": null,
            "layout": "IPY_MODEL_8e3a98dbfde9412f899ad7510222ee73",
            "placeholder": "​",
            "style": "IPY_MODEL_60a7732de51345ebbfb7ccb13b87a51e",
            "value": " 20.5M/20.5M [00:00&lt;00:00, 122MB/s]"
          }
        },
        "58d2e388a2b440f3bf3add4e9b97c625": {
          "model_module": "@jupyter-widgets/base",
          "model_name": "LayoutModel",
          "model_module_version": "1.2.0",
          "state": {
            "_model_module": "@jupyter-widgets/base",
            "_model_module_version": "1.2.0",
            "_model_name": "LayoutModel",
            "_view_count": null,
            "_view_module": "@jupyter-widgets/base",
            "_view_module_version": "1.2.0",
            "_view_name": "LayoutView",
            "align_content": null,
            "align_items": null,
            "align_self": null,
            "border": null,
            "bottom": null,
            "display": null,
            "flex": null,
            "flex_flow": null,
            "grid_area": null,
            "grid_auto_columns": null,
            "grid_auto_flow": null,
            "grid_auto_rows": null,
            "grid_column": null,
            "grid_gap": null,
            "grid_row": null,
            "grid_template_areas": null,
            "grid_template_columns": null,
            "grid_template_rows": null,
            "height": null,
            "justify_content": null,
            "justify_items": null,
            "left": null,
            "margin": null,
            "max_height": null,
            "max_width": null,
            "min_height": null,
            "min_width": null,
            "object_fit": null,
            "object_position": null,
            "order": null,
            "overflow": null,
            "overflow_x": null,
            "overflow_y": null,
            "padding": null,
            "right": null,
            "top": null,
            "visibility": null,
            "width": null
          }
        },
        "011d1327b50444d5b275a9fbc94e45f9": {
          "model_module": "@jupyter-widgets/base",
          "model_name": "LayoutModel",
          "model_module_version": "1.2.0",
          "state": {
            "_model_module": "@jupyter-widgets/base",
            "_model_module_version": "1.2.0",
            "_model_name": "LayoutModel",
            "_view_count": null,
            "_view_module": "@jupyter-widgets/base",
            "_view_module_version": "1.2.0",
            "_view_name": "LayoutView",
            "align_content": null,
            "align_items": null,
            "align_self": null,
            "border": null,
            "bottom": null,
            "display": null,
            "flex": null,
            "flex_flow": null,
            "grid_area": null,
            "grid_auto_columns": null,
            "grid_auto_flow": null,
            "grid_auto_rows": null,
            "grid_column": null,
            "grid_gap": null,
            "grid_row": null,
            "grid_template_areas": null,
            "grid_template_columns": null,
            "grid_template_rows": null,
            "height": null,
            "justify_content": null,
            "justify_items": null,
            "left": null,
            "margin": null,
            "max_height": null,
            "max_width": null,
            "min_height": null,
            "min_width": null,
            "object_fit": null,
            "object_position": null,
            "order": null,
            "overflow": null,
            "overflow_x": null,
            "overflow_y": null,
            "padding": null,
            "right": null,
            "top": null,
            "visibility": null,
            "width": null
          }
        },
        "c49c692e261a4de18a9bf2af932548c0": {
          "model_module": "@jupyter-widgets/controls",
          "model_name": "DescriptionStyleModel",
          "model_module_version": "1.5.0",
          "state": {
            "_model_module": "@jupyter-widgets/controls",
            "_model_module_version": "1.5.0",
            "_model_name": "DescriptionStyleModel",
            "_view_count": null,
            "_view_module": "@jupyter-widgets/base",
            "_view_module_version": "1.2.0",
            "_view_name": "StyleView",
            "description_width": ""
          }
        },
        "3581dfc6e9604ad9ab051292af236d79": {
          "model_module": "@jupyter-widgets/base",
          "model_name": "LayoutModel",
          "model_module_version": "1.2.0",
          "state": {
            "_model_module": "@jupyter-widgets/base",
            "_model_module_version": "1.2.0",
            "_model_name": "LayoutModel",
            "_view_count": null,
            "_view_module": "@jupyter-widgets/base",
            "_view_module_version": "1.2.0",
            "_view_name": "LayoutView",
            "align_content": null,
            "align_items": null,
            "align_self": null,
            "border": null,
            "bottom": null,
            "display": null,
            "flex": null,
            "flex_flow": null,
            "grid_area": null,
            "grid_auto_columns": null,
            "grid_auto_flow": null,
            "grid_auto_rows": null,
            "grid_column": null,
            "grid_gap": null,
            "grid_row": null,
            "grid_template_areas": null,
            "grid_template_columns": null,
            "grid_template_rows": null,
            "height": null,
            "justify_content": null,
            "justify_items": null,
            "left": null,
            "margin": null,
            "max_height": null,
            "max_width": null,
            "min_height": null,
            "min_width": null,
            "object_fit": null,
            "object_position": null,
            "order": null,
            "overflow": null,
            "overflow_x": null,
            "overflow_y": null,
            "padding": null,
            "right": null,
            "top": null,
            "visibility": null,
            "width": null
          }
        },
        "c842a832fd1a42829132e3b8f6a50853": {
          "model_module": "@jupyter-widgets/controls",
          "model_name": "ProgressStyleModel",
          "model_module_version": "1.5.0",
          "state": {
            "_model_module": "@jupyter-widgets/controls",
            "_model_module_version": "1.5.0",
            "_model_name": "ProgressStyleModel",
            "_view_count": null,
            "_view_module": "@jupyter-widgets/base",
            "_view_module_version": "1.2.0",
            "_view_name": "StyleView",
            "bar_color": null,
            "description_width": ""
          }
        },
        "8e3a98dbfde9412f899ad7510222ee73": {
          "model_module": "@jupyter-widgets/base",
          "model_name": "LayoutModel",
          "model_module_version": "1.2.0",
          "state": {
            "_model_module": "@jupyter-widgets/base",
            "_model_module_version": "1.2.0",
            "_model_name": "LayoutModel",
            "_view_count": null,
            "_view_module": "@jupyter-widgets/base",
            "_view_module_version": "1.2.0",
            "_view_name": "LayoutView",
            "align_content": null,
            "align_items": null,
            "align_self": null,
            "border": null,
            "bottom": null,
            "display": null,
            "flex": null,
            "flex_flow": null,
            "grid_area": null,
            "grid_auto_columns": null,
            "grid_auto_flow": null,
            "grid_auto_rows": null,
            "grid_column": null,
            "grid_gap": null,
            "grid_row": null,
            "grid_template_areas": null,
            "grid_template_columns": null,
            "grid_template_rows": null,
            "height": null,
            "justify_content": null,
            "justify_items": null,
            "left": null,
            "margin": null,
            "max_height": null,
            "max_width": null,
            "min_height": null,
            "min_width": null,
            "object_fit": null,
            "object_position": null,
            "order": null,
            "overflow": null,
            "overflow_x": null,
            "overflow_y": null,
            "padding": null,
            "right": null,
            "top": null,
            "visibility": null,
            "width": null
          }
        },
        "60a7732de51345ebbfb7ccb13b87a51e": {
          "model_module": "@jupyter-widgets/controls",
          "model_name": "DescriptionStyleModel",
          "model_module_version": "1.5.0",
          "state": {
            "_model_module": "@jupyter-widgets/controls",
            "_model_module_version": "1.5.0",
            "_model_name": "DescriptionStyleModel",
            "_view_count": null,
            "_view_module": "@jupyter-widgets/base",
            "_view_module_version": "1.2.0",
            "_view_name": "StyleView",
            "description_width": ""
          }
        },
        "170d1cf8e8e7480fa769e86ca468ea7e": {
          "model_module": "@jupyter-widgets/controls",
          "model_name": "HBoxModel",
          "model_module_version": "1.5.0",
          "state": {
            "_dom_classes": [],
            "_model_module": "@jupyter-widgets/controls",
            "_model_module_version": "1.5.0",
            "_model_name": "HBoxModel",
            "_view_count": null,
            "_view_module": "@jupyter-widgets/controls",
            "_view_module_version": "1.5.0",
            "_view_name": "HBoxView",
            "box_style": "",
            "children": [
              "IPY_MODEL_0f7ac11e95d6448cb838e212b257b976",
              "IPY_MODEL_0038282af48a4f17856073d02c33beb7",
              "IPY_MODEL_e5644b85f6c948eba21045bb0e456c6a"
            ],
            "layout": "IPY_MODEL_e4dba740ff5547fb8f7e623771adb28c"
          }
        },
        "0f7ac11e95d6448cb838e212b257b976": {
          "model_module": "@jupyter-widgets/controls",
          "model_name": "HTMLModel",
          "model_module_version": "1.5.0",
          "state": {
            "_dom_classes": [],
            "_model_module": "@jupyter-widgets/controls",
            "_model_module_version": "1.5.0",
            "_model_name": "HTMLModel",
            "_view_count": null,
            "_view_module": "@jupyter-widgets/controls",
            "_view_module_version": "1.5.0",
            "_view_name": "HTMLView",
            "description": "",
            "description_tooltip": null,
            "layout": "IPY_MODEL_bd5c31d343c449a18f1893c222b93891",
            "placeholder": "​",
            "style": "IPY_MODEL_32f1cd9b8ab9466bb91922a79b8cb986",
            "value": "unsupervised-00000-of-00001.parquet: 100%"
          }
        },
        "0038282af48a4f17856073d02c33beb7": {
          "model_module": "@jupyter-widgets/controls",
          "model_name": "FloatProgressModel",
          "model_module_version": "1.5.0",
          "state": {
            "_dom_classes": [],
            "_model_module": "@jupyter-widgets/controls",
            "_model_module_version": "1.5.0",
            "_model_name": "FloatProgressModel",
            "_view_count": null,
            "_view_module": "@jupyter-widgets/controls",
            "_view_module_version": "1.5.0",
            "_view_name": "ProgressView",
            "bar_style": "success",
            "description": "",
            "description_tooltip": null,
            "layout": "IPY_MODEL_5693dee8c62c4da9bdbaf7dcff5589d4",
            "max": 41996509,
            "min": 0,
            "orientation": "horizontal",
            "style": "IPY_MODEL_28337c09fdfe4f37930bc0688583c84e",
            "value": 41996509
          }
        },
        "e5644b85f6c948eba21045bb0e456c6a": {
          "model_module": "@jupyter-widgets/controls",
          "model_name": "HTMLModel",
          "model_module_version": "1.5.0",
          "state": {
            "_dom_classes": [],
            "_model_module": "@jupyter-widgets/controls",
            "_model_module_version": "1.5.0",
            "_model_name": "HTMLModel",
            "_view_count": null,
            "_view_module": "@jupyter-widgets/controls",
            "_view_module_version": "1.5.0",
            "_view_name": "HTMLView",
            "description": "",
            "description_tooltip": null,
            "layout": "IPY_MODEL_aa74f83360424f23887c48f6c2a86173",
            "placeholder": "​",
            "style": "IPY_MODEL_22a53956a8a346f2b58531fa6c31d3cb",
            "value": " 42.0M/42.0M [00:00&lt;00:00, 125MB/s]"
          }
        },
        "e4dba740ff5547fb8f7e623771adb28c": {
          "model_module": "@jupyter-widgets/base",
          "model_name": "LayoutModel",
          "model_module_version": "1.2.0",
          "state": {
            "_model_module": "@jupyter-widgets/base",
            "_model_module_version": "1.2.0",
            "_model_name": "LayoutModel",
            "_view_count": null,
            "_view_module": "@jupyter-widgets/base",
            "_view_module_version": "1.2.0",
            "_view_name": "LayoutView",
            "align_content": null,
            "align_items": null,
            "align_self": null,
            "border": null,
            "bottom": null,
            "display": null,
            "flex": null,
            "flex_flow": null,
            "grid_area": null,
            "grid_auto_columns": null,
            "grid_auto_flow": null,
            "grid_auto_rows": null,
            "grid_column": null,
            "grid_gap": null,
            "grid_row": null,
            "grid_template_areas": null,
            "grid_template_columns": null,
            "grid_template_rows": null,
            "height": null,
            "justify_content": null,
            "justify_items": null,
            "left": null,
            "margin": null,
            "max_height": null,
            "max_width": null,
            "min_height": null,
            "min_width": null,
            "object_fit": null,
            "object_position": null,
            "order": null,
            "overflow": null,
            "overflow_x": null,
            "overflow_y": null,
            "padding": null,
            "right": null,
            "top": null,
            "visibility": null,
            "width": null
          }
        },
        "bd5c31d343c449a18f1893c222b93891": {
          "model_module": "@jupyter-widgets/base",
          "model_name": "LayoutModel",
          "model_module_version": "1.2.0",
          "state": {
            "_model_module": "@jupyter-widgets/base",
            "_model_module_version": "1.2.0",
            "_model_name": "LayoutModel",
            "_view_count": null,
            "_view_module": "@jupyter-widgets/base",
            "_view_module_version": "1.2.0",
            "_view_name": "LayoutView",
            "align_content": null,
            "align_items": null,
            "align_self": null,
            "border": null,
            "bottom": null,
            "display": null,
            "flex": null,
            "flex_flow": null,
            "grid_area": null,
            "grid_auto_columns": null,
            "grid_auto_flow": null,
            "grid_auto_rows": null,
            "grid_column": null,
            "grid_gap": null,
            "grid_row": null,
            "grid_template_areas": null,
            "grid_template_columns": null,
            "grid_template_rows": null,
            "height": null,
            "justify_content": null,
            "justify_items": null,
            "left": null,
            "margin": null,
            "max_height": null,
            "max_width": null,
            "min_height": null,
            "min_width": null,
            "object_fit": null,
            "object_position": null,
            "order": null,
            "overflow": null,
            "overflow_x": null,
            "overflow_y": null,
            "padding": null,
            "right": null,
            "top": null,
            "visibility": null,
            "width": null
          }
        },
        "32f1cd9b8ab9466bb91922a79b8cb986": {
          "model_module": "@jupyter-widgets/controls",
          "model_name": "DescriptionStyleModel",
          "model_module_version": "1.5.0",
          "state": {
            "_model_module": "@jupyter-widgets/controls",
            "_model_module_version": "1.5.0",
            "_model_name": "DescriptionStyleModel",
            "_view_count": null,
            "_view_module": "@jupyter-widgets/base",
            "_view_module_version": "1.2.0",
            "_view_name": "StyleView",
            "description_width": ""
          }
        },
        "5693dee8c62c4da9bdbaf7dcff5589d4": {
          "model_module": "@jupyter-widgets/base",
          "model_name": "LayoutModel",
          "model_module_version": "1.2.0",
          "state": {
            "_model_module": "@jupyter-widgets/base",
            "_model_module_version": "1.2.0",
            "_model_name": "LayoutModel",
            "_view_count": null,
            "_view_module": "@jupyter-widgets/base",
            "_view_module_version": "1.2.0",
            "_view_name": "LayoutView",
            "align_content": null,
            "align_items": null,
            "align_self": null,
            "border": null,
            "bottom": null,
            "display": null,
            "flex": null,
            "flex_flow": null,
            "grid_area": null,
            "grid_auto_columns": null,
            "grid_auto_flow": null,
            "grid_auto_rows": null,
            "grid_column": null,
            "grid_gap": null,
            "grid_row": null,
            "grid_template_areas": null,
            "grid_template_columns": null,
            "grid_template_rows": null,
            "height": null,
            "justify_content": null,
            "justify_items": null,
            "left": null,
            "margin": null,
            "max_height": null,
            "max_width": null,
            "min_height": null,
            "min_width": null,
            "object_fit": null,
            "object_position": null,
            "order": null,
            "overflow": null,
            "overflow_x": null,
            "overflow_y": null,
            "padding": null,
            "right": null,
            "top": null,
            "visibility": null,
            "width": null
          }
        },
        "28337c09fdfe4f37930bc0688583c84e": {
          "model_module": "@jupyter-widgets/controls",
          "model_name": "ProgressStyleModel",
          "model_module_version": "1.5.0",
          "state": {
            "_model_module": "@jupyter-widgets/controls",
            "_model_module_version": "1.5.0",
            "_model_name": "ProgressStyleModel",
            "_view_count": null,
            "_view_module": "@jupyter-widgets/base",
            "_view_module_version": "1.2.0",
            "_view_name": "StyleView",
            "bar_color": null,
            "description_width": ""
          }
        },
        "aa74f83360424f23887c48f6c2a86173": {
          "model_module": "@jupyter-widgets/base",
          "model_name": "LayoutModel",
          "model_module_version": "1.2.0",
          "state": {
            "_model_module": "@jupyter-widgets/base",
            "_model_module_version": "1.2.0",
            "_model_name": "LayoutModel",
            "_view_count": null,
            "_view_module": "@jupyter-widgets/base",
            "_view_module_version": "1.2.0",
            "_view_name": "LayoutView",
            "align_content": null,
            "align_items": null,
            "align_self": null,
            "border": null,
            "bottom": null,
            "display": null,
            "flex": null,
            "flex_flow": null,
            "grid_area": null,
            "grid_auto_columns": null,
            "grid_auto_flow": null,
            "grid_auto_rows": null,
            "grid_column": null,
            "grid_gap": null,
            "grid_row": null,
            "grid_template_areas": null,
            "grid_template_columns": null,
            "grid_template_rows": null,
            "height": null,
            "justify_content": null,
            "justify_items": null,
            "left": null,
            "margin": null,
            "max_height": null,
            "max_width": null,
            "min_height": null,
            "min_width": null,
            "object_fit": null,
            "object_position": null,
            "order": null,
            "overflow": null,
            "overflow_x": null,
            "overflow_y": null,
            "padding": null,
            "right": null,
            "top": null,
            "visibility": null,
            "width": null
          }
        },
        "22a53956a8a346f2b58531fa6c31d3cb": {
          "model_module": "@jupyter-widgets/controls",
          "model_name": "DescriptionStyleModel",
          "model_module_version": "1.5.0",
          "state": {
            "_model_module": "@jupyter-widgets/controls",
            "_model_module_version": "1.5.0",
            "_model_name": "DescriptionStyleModel",
            "_view_count": null,
            "_view_module": "@jupyter-widgets/base",
            "_view_module_version": "1.2.0",
            "_view_name": "StyleView",
            "description_width": ""
          }
        },
        "2a8c59ebd54d461cbb0d5062af3a6250": {
          "model_module": "@jupyter-widgets/controls",
          "model_name": "HBoxModel",
          "model_module_version": "1.5.0",
          "state": {
            "_dom_classes": [],
            "_model_module": "@jupyter-widgets/controls",
            "_model_module_version": "1.5.0",
            "_model_name": "HBoxModel",
            "_view_count": null,
            "_view_module": "@jupyter-widgets/controls",
            "_view_module_version": "1.5.0",
            "_view_name": "HBoxView",
            "box_style": "",
            "children": [
              "IPY_MODEL_bbf6a0e9e8c54b72959ade369a0c856f",
              "IPY_MODEL_3e91a6e8f016443cb8f54f5c3bdb86f5",
              "IPY_MODEL_1584eebda4f548e79c4ca7d995958a1a"
            ],
            "layout": "IPY_MODEL_e99260576f8d4a72b507aec19e840685"
          }
        },
        "bbf6a0e9e8c54b72959ade369a0c856f": {
          "model_module": "@jupyter-widgets/controls",
          "model_name": "HTMLModel",
          "model_module_version": "1.5.0",
          "state": {
            "_dom_classes": [],
            "_model_module": "@jupyter-widgets/controls",
            "_model_module_version": "1.5.0",
            "_model_name": "HTMLModel",
            "_view_count": null,
            "_view_module": "@jupyter-widgets/controls",
            "_view_module_version": "1.5.0",
            "_view_name": "HTMLView",
            "description": "",
            "description_tooltip": null,
            "layout": "IPY_MODEL_6b027f62d2414f689694ecb153df6807",
            "placeholder": "​",
            "style": "IPY_MODEL_bfeb7e1d4f444079a85b18c548a020da",
            "value": "Generating train split: 100%"
          }
        },
        "3e91a6e8f016443cb8f54f5c3bdb86f5": {
          "model_module": "@jupyter-widgets/controls",
          "model_name": "FloatProgressModel",
          "model_module_version": "1.5.0",
          "state": {
            "_dom_classes": [],
            "_model_module": "@jupyter-widgets/controls",
            "_model_module_version": "1.5.0",
            "_model_name": "FloatProgressModel",
            "_view_count": null,
            "_view_module": "@jupyter-widgets/controls",
            "_view_module_version": "1.5.0",
            "_view_name": "ProgressView",
            "bar_style": "success",
            "description": "",
            "description_tooltip": null,
            "layout": "IPY_MODEL_5c6ed68720994dc99eb2a5562c7efe69",
            "max": 25000,
            "min": 0,
            "orientation": "horizontal",
            "style": "IPY_MODEL_0673559b86e04888b2228b8aaab147ba",
            "value": 25000
          }
        },
        "1584eebda4f548e79c4ca7d995958a1a": {
          "model_module": "@jupyter-widgets/controls",
          "model_name": "HTMLModel",
          "model_module_version": "1.5.0",
          "state": {
            "_dom_classes": [],
            "_model_module": "@jupyter-widgets/controls",
            "_model_module_version": "1.5.0",
            "_model_name": "HTMLModel",
            "_view_count": null,
            "_view_module": "@jupyter-widgets/controls",
            "_view_module_version": "1.5.0",
            "_view_name": "HTMLView",
            "description": "",
            "description_tooltip": null,
            "layout": "IPY_MODEL_62d25e1b52324c4194e41b91fa8aa9c5",
            "placeholder": "​",
            "style": "IPY_MODEL_04f4108bc51348b7b4ec71914e6a15a0",
            "value": " 25000/25000 [00:00&lt;00:00, 73593.79 examples/s]"
          }
        },
        "e99260576f8d4a72b507aec19e840685": {
          "model_module": "@jupyter-widgets/base",
          "model_name": "LayoutModel",
          "model_module_version": "1.2.0",
          "state": {
            "_model_module": "@jupyter-widgets/base",
            "_model_module_version": "1.2.0",
            "_model_name": "LayoutModel",
            "_view_count": null,
            "_view_module": "@jupyter-widgets/base",
            "_view_module_version": "1.2.0",
            "_view_name": "LayoutView",
            "align_content": null,
            "align_items": null,
            "align_self": null,
            "border": null,
            "bottom": null,
            "display": null,
            "flex": null,
            "flex_flow": null,
            "grid_area": null,
            "grid_auto_columns": null,
            "grid_auto_flow": null,
            "grid_auto_rows": null,
            "grid_column": null,
            "grid_gap": null,
            "grid_row": null,
            "grid_template_areas": null,
            "grid_template_columns": null,
            "grid_template_rows": null,
            "height": null,
            "justify_content": null,
            "justify_items": null,
            "left": null,
            "margin": null,
            "max_height": null,
            "max_width": null,
            "min_height": null,
            "min_width": null,
            "object_fit": null,
            "object_position": null,
            "order": null,
            "overflow": null,
            "overflow_x": null,
            "overflow_y": null,
            "padding": null,
            "right": null,
            "top": null,
            "visibility": null,
            "width": null
          }
        },
        "6b027f62d2414f689694ecb153df6807": {
          "model_module": "@jupyter-widgets/base",
          "model_name": "LayoutModel",
          "model_module_version": "1.2.0",
          "state": {
            "_model_module": "@jupyter-widgets/base",
            "_model_module_version": "1.2.0",
            "_model_name": "LayoutModel",
            "_view_count": null,
            "_view_module": "@jupyter-widgets/base",
            "_view_module_version": "1.2.0",
            "_view_name": "LayoutView",
            "align_content": null,
            "align_items": null,
            "align_self": null,
            "border": null,
            "bottom": null,
            "display": null,
            "flex": null,
            "flex_flow": null,
            "grid_area": null,
            "grid_auto_columns": null,
            "grid_auto_flow": null,
            "grid_auto_rows": null,
            "grid_column": null,
            "grid_gap": null,
            "grid_row": null,
            "grid_template_areas": null,
            "grid_template_columns": null,
            "grid_template_rows": null,
            "height": null,
            "justify_content": null,
            "justify_items": null,
            "left": null,
            "margin": null,
            "max_height": null,
            "max_width": null,
            "min_height": null,
            "min_width": null,
            "object_fit": null,
            "object_position": null,
            "order": null,
            "overflow": null,
            "overflow_x": null,
            "overflow_y": null,
            "padding": null,
            "right": null,
            "top": null,
            "visibility": null,
            "width": null
          }
        },
        "bfeb7e1d4f444079a85b18c548a020da": {
          "model_module": "@jupyter-widgets/controls",
          "model_name": "DescriptionStyleModel",
          "model_module_version": "1.5.0",
          "state": {
            "_model_module": "@jupyter-widgets/controls",
            "_model_module_version": "1.5.0",
            "_model_name": "DescriptionStyleModel",
            "_view_count": null,
            "_view_module": "@jupyter-widgets/base",
            "_view_module_version": "1.2.0",
            "_view_name": "StyleView",
            "description_width": ""
          }
        },
        "5c6ed68720994dc99eb2a5562c7efe69": {
          "model_module": "@jupyter-widgets/base",
          "model_name": "LayoutModel",
          "model_module_version": "1.2.0",
          "state": {
            "_model_module": "@jupyter-widgets/base",
            "_model_module_version": "1.2.0",
            "_model_name": "LayoutModel",
            "_view_count": null,
            "_view_module": "@jupyter-widgets/base",
            "_view_module_version": "1.2.0",
            "_view_name": "LayoutView",
            "align_content": null,
            "align_items": null,
            "align_self": null,
            "border": null,
            "bottom": null,
            "display": null,
            "flex": null,
            "flex_flow": null,
            "grid_area": null,
            "grid_auto_columns": null,
            "grid_auto_flow": null,
            "grid_auto_rows": null,
            "grid_column": null,
            "grid_gap": null,
            "grid_row": null,
            "grid_template_areas": null,
            "grid_template_columns": null,
            "grid_template_rows": null,
            "height": null,
            "justify_content": null,
            "justify_items": null,
            "left": null,
            "margin": null,
            "max_height": null,
            "max_width": null,
            "min_height": null,
            "min_width": null,
            "object_fit": null,
            "object_position": null,
            "order": null,
            "overflow": null,
            "overflow_x": null,
            "overflow_y": null,
            "padding": null,
            "right": null,
            "top": null,
            "visibility": null,
            "width": null
          }
        },
        "0673559b86e04888b2228b8aaab147ba": {
          "model_module": "@jupyter-widgets/controls",
          "model_name": "ProgressStyleModel",
          "model_module_version": "1.5.0",
          "state": {
            "_model_module": "@jupyter-widgets/controls",
            "_model_module_version": "1.5.0",
            "_model_name": "ProgressStyleModel",
            "_view_count": null,
            "_view_module": "@jupyter-widgets/base",
            "_view_module_version": "1.2.0",
            "_view_name": "StyleView",
            "bar_color": null,
            "description_width": ""
          }
        },
        "62d25e1b52324c4194e41b91fa8aa9c5": {
          "model_module": "@jupyter-widgets/base",
          "model_name": "LayoutModel",
          "model_module_version": "1.2.0",
          "state": {
            "_model_module": "@jupyter-widgets/base",
            "_model_module_version": "1.2.0",
            "_model_name": "LayoutModel",
            "_view_count": null,
            "_view_module": "@jupyter-widgets/base",
            "_view_module_version": "1.2.0",
            "_view_name": "LayoutView",
            "align_content": null,
            "align_items": null,
            "align_self": null,
            "border": null,
            "bottom": null,
            "display": null,
            "flex": null,
            "flex_flow": null,
            "grid_area": null,
            "grid_auto_columns": null,
            "grid_auto_flow": null,
            "grid_auto_rows": null,
            "grid_column": null,
            "grid_gap": null,
            "grid_row": null,
            "grid_template_areas": null,
            "grid_template_columns": null,
            "grid_template_rows": null,
            "height": null,
            "justify_content": null,
            "justify_items": null,
            "left": null,
            "margin": null,
            "max_height": null,
            "max_width": null,
            "min_height": null,
            "min_width": null,
            "object_fit": null,
            "object_position": null,
            "order": null,
            "overflow": null,
            "overflow_x": null,
            "overflow_y": null,
            "padding": null,
            "right": null,
            "top": null,
            "visibility": null,
            "width": null
          }
        },
        "04f4108bc51348b7b4ec71914e6a15a0": {
          "model_module": "@jupyter-widgets/controls",
          "model_name": "DescriptionStyleModel",
          "model_module_version": "1.5.0",
          "state": {
            "_model_module": "@jupyter-widgets/controls",
            "_model_module_version": "1.5.0",
            "_model_name": "DescriptionStyleModel",
            "_view_count": null,
            "_view_module": "@jupyter-widgets/base",
            "_view_module_version": "1.2.0",
            "_view_name": "StyleView",
            "description_width": ""
          }
        },
        "a0738d336c0942a9a01cc5f28c96eccf": {
          "model_module": "@jupyter-widgets/controls",
          "model_name": "HBoxModel",
          "model_module_version": "1.5.0",
          "state": {
            "_dom_classes": [],
            "_model_module": "@jupyter-widgets/controls",
            "_model_module_version": "1.5.0",
            "_model_name": "HBoxModel",
            "_view_count": null,
            "_view_module": "@jupyter-widgets/controls",
            "_view_module_version": "1.5.0",
            "_view_name": "HBoxView",
            "box_style": "",
            "children": [
              "IPY_MODEL_6dfde5a84863491396771d28657ebc33",
              "IPY_MODEL_fadedd0ce49f473d8433508643396595",
              "IPY_MODEL_ccdafde5b4c1484dad4537971d0255ef"
            ],
            "layout": "IPY_MODEL_d0eb798b3d0f4a07bb222b91b6415e1c"
          }
        },
        "6dfde5a84863491396771d28657ebc33": {
          "model_module": "@jupyter-widgets/controls",
          "model_name": "HTMLModel",
          "model_module_version": "1.5.0",
          "state": {
            "_dom_classes": [],
            "_model_module": "@jupyter-widgets/controls",
            "_model_module_version": "1.5.0",
            "_model_name": "HTMLModel",
            "_view_count": null,
            "_view_module": "@jupyter-widgets/controls",
            "_view_module_version": "1.5.0",
            "_view_name": "HTMLView",
            "description": "",
            "description_tooltip": null,
            "layout": "IPY_MODEL_5abe1d0839a54166987f342dce3654b1",
            "placeholder": "​",
            "style": "IPY_MODEL_fcb32a49d0db4b6f864ba28ad39c5275",
            "value": "Generating test split: 100%"
          }
        },
        "fadedd0ce49f473d8433508643396595": {
          "model_module": "@jupyter-widgets/controls",
          "model_name": "FloatProgressModel",
          "model_module_version": "1.5.0",
          "state": {
            "_dom_classes": [],
            "_model_module": "@jupyter-widgets/controls",
            "_model_module_version": "1.5.0",
            "_model_name": "FloatProgressModel",
            "_view_count": null,
            "_view_module": "@jupyter-widgets/controls",
            "_view_module_version": "1.5.0",
            "_view_name": "ProgressView",
            "bar_style": "success",
            "description": "",
            "description_tooltip": null,
            "layout": "IPY_MODEL_180e0a4bc3584585ab531733749fe934",
            "max": 25000,
            "min": 0,
            "orientation": "horizontal",
            "style": "IPY_MODEL_53483594733f4e588e45e0395354540e",
            "value": 25000
          }
        },
        "ccdafde5b4c1484dad4537971d0255ef": {
          "model_module": "@jupyter-widgets/controls",
          "model_name": "HTMLModel",
          "model_module_version": "1.5.0",
          "state": {
            "_dom_classes": [],
            "_model_module": "@jupyter-widgets/controls",
            "_model_module_version": "1.5.0",
            "_model_name": "HTMLModel",
            "_view_count": null,
            "_view_module": "@jupyter-widgets/controls",
            "_view_module_version": "1.5.0",
            "_view_name": "HTMLView",
            "description": "",
            "description_tooltip": null,
            "layout": "IPY_MODEL_4666209a5b1f42e7a0567f924ca76dbf",
            "placeholder": "​",
            "style": "IPY_MODEL_8ca185106c4c4d3aa9e3b62577d02415",
            "value": " 25000/25000 [00:00&lt;00:00, 69272.56 examples/s]"
          }
        },
        "d0eb798b3d0f4a07bb222b91b6415e1c": {
          "model_module": "@jupyter-widgets/base",
          "model_name": "LayoutModel",
          "model_module_version": "1.2.0",
          "state": {
            "_model_module": "@jupyter-widgets/base",
            "_model_module_version": "1.2.0",
            "_model_name": "LayoutModel",
            "_view_count": null,
            "_view_module": "@jupyter-widgets/base",
            "_view_module_version": "1.2.0",
            "_view_name": "LayoutView",
            "align_content": null,
            "align_items": null,
            "align_self": null,
            "border": null,
            "bottom": null,
            "display": null,
            "flex": null,
            "flex_flow": null,
            "grid_area": null,
            "grid_auto_columns": null,
            "grid_auto_flow": null,
            "grid_auto_rows": null,
            "grid_column": null,
            "grid_gap": null,
            "grid_row": null,
            "grid_template_areas": null,
            "grid_template_columns": null,
            "grid_template_rows": null,
            "height": null,
            "justify_content": null,
            "justify_items": null,
            "left": null,
            "margin": null,
            "max_height": null,
            "max_width": null,
            "min_height": null,
            "min_width": null,
            "object_fit": null,
            "object_position": null,
            "order": null,
            "overflow": null,
            "overflow_x": null,
            "overflow_y": null,
            "padding": null,
            "right": null,
            "top": null,
            "visibility": null,
            "width": null
          }
        },
        "5abe1d0839a54166987f342dce3654b1": {
          "model_module": "@jupyter-widgets/base",
          "model_name": "LayoutModel",
          "model_module_version": "1.2.0",
          "state": {
            "_model_module": "@jupyter-widgets/base",
            "_model_module_version": "1.2.0",
            "_model_name": "LayoutModel",
            "_view_count": null,
            "_view_module": "@jupyter-widgets/base",
            "_view_module_version": "1.2.0",
            "_view_name": "LayoutView",
            "align_content": null,
            "align_items": null,
            "align_self": null,
            "border": null,
            "bottom": null,
            "display": null,
            "flex": null,
            "flex_flow": null,
            "grid_area": null,
            "grid_auto_columns": null,
            "grid_auto_flow": null,
            "grid_auto_rows": null,
            "grid_column": null,
            "grid_gap": null,
            "grid_row": null,
            "grid_template_areas": null,
            "grid_template_columns": null,
            "grid_template_rows": null,
            "height": null,
            "justify_content": null,
            "justify_items": null,
            "left": null,
            "margin": null,
            "max_height": null,
            "max_width": null,
            "min_height": null,
            "min_width": null,
            "object_fit": null,
            "object_position": null,
            "order": null,
            "overflow": null,
            "overflow_x": null,
            "overflow_y": null,
            "padding": null,
            "right": null,
            "top": null,
            "visibility": null,
            "width": null
          }
        },
        "fcb32a49d0db4b6f864ba28ad39c5275": {
          "model_module": "@jupyter-widgets/controls",
          "model_name": "DescriptionStyleModel",
          "model_module_version": "1.5.0",
          "state": {
            "_model_module": "@jupyter-widgets/controls",
            "_model_module_version": "1.5.0",
            "_model_name": "DescriptionStyleModel",
            "_view_count": null,
            "_view_module": "@jupyter-widgets/base",
            "_view_module_version": "1.2.0",
            "_view_name": "StyleView",
            "description_width": ""
          }
        },
        "180e0a4bc3584585ab531733749fe934": {
          "model_module": "@jupyter-widgets/base",
          "model_name": "LayoutModel",
          "model_module_version": "1.2.0",
          "state": {
            "_model_module": "@jupyter-widgets/base",
            "_model_module_version": "1.2.0",
            "_model_name": "LayoutModel",
            "_view_count": null,
            "_view_module": "@jupyter-widgets/base",
            "_view_module_version": "1.2.0",
            "_view_name": "LayoutView",
            "align_content": null,
            "align_items": null,
            "align_self": null,
            "border": null,
            "bottom": null,
            "display": null,
            "flex": null,
            "flex_flow": null,
            "grid_area": null,
            "grid_auto_columns": null,
            "grid_auto_flow": null,
            "grid_auto_rows": null,
            "grid_column": null,
            "grid_gap": null,
            "grid_row": null,
            "grid_template_areas": null,
            "grid_template_columns": null,
            "grid_template_rows": null,
            "height": null,
            "justify_content": null,
            "justify_items": null,
            "left": null,
            "margin": null,
            "max_height": null,
            "max_width": null,
            "min_height": null,
            "min_width": null,
            "object_fit": null,
            "object_position": null,
            "order": null,
            "overflow": null,
            "overflow_x": null,
            "overflow_y": null,
            "padding": null,
            "right": null,
            "top": null,
            "visibility": null,
            "width": null
          }
        },
        "53483594733f4e588e45e0395354540e": {
          "model_module": "@jupyter-widgets/controls",
          "model_name": "ProgressStyleModel",
          "model_module_version": "1.5.0",
          "state": {
            "_model_module": "@jupyter-widgets/controls",
            "_model_module_version": "1.5.0",
            "_model_name": "ProgressStyleModel",
            "_view_count": null,
            "_view_module": "@jupyter-widgets/base",
            "_view_module_version": "1.2.0",
            "_view_name": "StyleView",
            "bar_color": null,
            "description_width": ""
          }
        },
        "4666209a5b1f42e7a0567f924ca76dbf": {
          "model_module": "@jupyter-widgets/base",
          "model_name": "LayoutModel",
          "model_module_version": "1.2.0",
          "state": {
            "_model_module": "@jupyter-widgets/base",
            "_model_module_version": "1.2.0",
            "_model_name": "LayoutModel",
            "_view_count": null,
            "_view_module": "@jupyter-widgets/base",
            "_view_module_version": "1.2.0",
            "_view_name": "LayoutView",
            "align_content": null,
            "align_items": null,
            "align_self": null,
            "border": null,
            "bottom": null,
            "display": null,
            "flex": null,
            "flex_flow": null,
            "grid_area": null,
            "grid_auto_columns": null,
            "grid_auto_flow": null,
            "grid_auto_rows": null,
            "grid_column": null,
            "grid_gap": null,
            "grid_row": null,
            "grid_template_areas": null,
            "grid_template_columns": null,
            "grid_template_rows": null,
            "height": null,
            "justify_content": null,
            "justify_items": null,
            "left": null,
            "margin": null,
            "max_height": null,
            "max_width": null,
            "min_height": null,
            "min_width": null,
            "object_fit": null,
            "object_position": null,
            "order": null,
            "overflow": null,
            "overflow_x": null,
            "overflow_y": null,
            "padding": null,
            "right": null,
            "top": null,
            "visibility": null,
            "width": null
          }
        },
        "8ca185106c4c4d3aa9e3b62577d02415": {
          "model_module": "@jupyter-widgets/controls",
          "model_name": "DescriptionStyleModel",
          "model_module_version": "1.5.0",
          "state": {
            "_model_module": "@jupyter-widgets/controls",
            "_model_module_version": "1.5.0",
            "_model_name": "DescriptionStyleModel",
            "_view_count": null,
            "_view_module": "@jupyter-widgets/base",
            "_view_module_version": "1.2.0",
            "_view_name": "StyleView",
            "description_width": ""
          }
        },
        "dbbcecf5c5394af493ec33315c91912b": {
          "model_module": "@jupyter-widgets/controls",
          "model_name": "HBoxModel",
          "model_module_version": "1.5.0",
          "state": {
            "_dom_classes": [],
            "_model_module": "@jupyter-widgets/controls",
            "_model_module_version": "1.5.0",
            "_model_name": "HBoxModel",
            "_view_count": null,
            "_view_module": "@jupyter-widgets/controls",
            "_view_module_version": "1.5.0",
            "_view_name": "HBoxView",
            "box_style": "",
            "children": [
              "IPY_MODEL_3fc9721b2b8740f29b116da95f81fa74",
              "IPY_MODEL_4fa4579c7a4746b0b012c501128f222a",
              "IPY_MODEL_b07920a2fc924838aab157e3ef4e4fb5"
            ],
            "layout": "IPY_MODEL_f1c74162eabf4bddaecb962a6ce60062"
          }
        },
        "3fc9721b2b8740f29b116da95f81fa74": {
          "model_module": "@jupyter-widgets/controls",
          "model_name": "HTMLModel",
          "model_module_version": "1.5.0",
          "state": {
            "_dom_classes": [],
            "_model_module": "@jupyter-widgets/controls",
            "_model_module_version": "1.5.0",
            "_model_name": "HTMLModel",
            "_view_count": null,
            "_view_module": "@jupyter-widgets/controls",
            "_view_module_version": "1.5.0",
            "_view_name": "HTMLView",
            "description": "",
            "description_tooltip": null,
            "layout": "IPY_MODEL_95bd883b02ed421f82440bfef618fa36",
            "placeholder": "​",
            "style": "IPY_MODEL_138f6666258b4065be530d6cf644af8b",
            "value": "Generating unsupervised split: 100%"
          }
        },
        "4fa4579c7a4746b0b012c501128f222a": {
          "model_module": "@jupyter-widgets/controls",
          "model_name": "FloatProgressModel",
          "model_module_version": "1.5.0",
          "state": {
            "_dom_classes": [],
            "_model_module": "@jupyter-widgets/controls",
            "_model_module_version": "1.5.0",
            "_model_name": "FloatProgressModel",
            "_view_count": null,
            "_view_module": "@jupyter-widgets/controls",
            "_view_module_version": "1.5.0",
            "_view_name": "ProgressView",
            "bar_style": "success",
            "description": "",
            "description_tooltip": null,
            "layout": "IPY_MODEL_62df88faa8dd4f84ac859c7ee827fe2b",
            "max": 50000,
            "min": 0,
            "orientation": "horizontal",
            "style": "IPY_MODEL_c0aa5b61e28149a89d16c33acb610886",
            "value": 50000
          }
        },
        "b07920a2fc924838aab157e3ef4e4fb5": {
          "model_module": "@jupyter-widgets/controls",
          "model_name": "HTMLModel",
          "model_module_version": "1.5.0",
          "state": {
            "_dom_classes": [],
            "_model_module": "@jupyter-widgets/controls",
            "_model_module_version": "1.5.0",
            "_model_name": "HTMLModel",
            "_view_count": null,
            "_view_module": "@jupyter-widgets/controls",
            "_view_module_version": "1.5.0",
            "_view_name": "HTMLView",
            "description": "",
            "description_tooltip": null,
            "layout": "IPY_MODEL_6e9faccf95754c2f8624d3d75f12b861",
            "placeholder": "​",
            "style": "IPY_MODEL_2fa47ab51ece408bb4ce72673ba39870",
            "value": " 50000/50000 [00:00&lt;00:00, 97695.83 examples/s]"
          }
        },
        "f1c74162eabf4bddaecb962a6ce60062": {
          "model_module": "@jupyter-widgets/base",
          "model_name": "LayoutModel",
          "model_module_version": "1.2.0",
          "state": {
            "_model_module": "@jupyter-widgets/base",
            "_model_module_version": "1.2.0",
            "_model_name": "LayoutModel",
            "_view_count": null,
            "_view_module": "@jupyter-widgets/base",
            "_view_module_version": "1.2.0",
            "_view_name": "LayoutView",
            "align_content": null,
            "align_items": null,
            "align_self": null,
            "border": null,
            "bottom": null,
            "display": null,
            "flex": null,
            "flex_flow": null,
            "grid_area": null,
            "grid_auto_columns": null,
            "grid_auto_flow": null,
            "grid_auto_rows": null,
            "grid_column": null,
            "grid_gap": null,
            "grid_row": null,
            "grid_template_areas": null,
            "grid_template_columns": null,
            "grid_template_rows": null,
            "height": null,
            "justify_content": null,
            "justify_items": null,
            "left": null,
            "margin": null,
            "max_height": null,
            "max_width": null,
            "min_height": null,
            "min_width": null,
            "object_fit": null,
            "object_position": null,
            "order": null,
            "overflow": null,
            "overflow_x": null,
            "overflow_y": null,
            "padding": null,
            "right": null,
            "top": null,
            "visibility": null,
            "width": null
          }
        },
        "95bd883b02ed421f82440bfef618fa36": {
          "model_module": "@jupyter-widgets/base",
          "model_name": "LayoutModel",
          "model_module_version": "1.2.0",
          "state": {
            "_model_module": "@jupyter-widgets/base",
            "_model_module_version": "1.2.0",
            "_model_name": "LayoutModel",
            "_view_count": null,
            "_view_module": "@jupyter-widgets/base",
            "_view_module_version": "1.2.0",
            "_view_name": "LayoutView",
            "align_content": null,
            "align_items": null,
            "align_self": null,
            "border": null,
            "bottom": null,
            "display": null,
            "flex": null,
            "flex_flow": null,
            "grid_area": null,
            "grid_auto_columns": null,
            "grid_auto_flow": null,
            "grid_auto_rows": null,
            "grid_column": null,
            "grid_gap": null,
            "grid_row": null,
            "grid_template_areas": null,
            "grid_template_columns": null,
            "grid_template_rows": null,
            "height": null,
            "justify_content": null,
            "justify_items": null,
            "left": null,
            "margin": null,
            "max_height": null,
            "max_width": null,
            "min_height": null,
            "min_width": null,
            "object_fit": null,
            "object_position": null,
            "order": null,
            "overflow": null,
            "overflow_x": null,
            "overflow_y": null,
            "padding": null,
            "right": null,
            "top": null,
            "visibility": null,
            "width": null
          }
        },
        "138f6666258b4065be530d6cf644af8b": {
          "model_module": "@jupyter-widgets/controls",
          "model_name": "DescriptionStyleModel",
          "model_module_version": "1.5.0",
          "state": {
            "_model_module": "@jupyter-widgets/controls",
            "_model_module_version": "1.5.0",
            "_model_name": "DescriptionStyleModel",
            "_view_count": null,
            "_view_module": "@jupyter-widgets/base",
            "_view_module_version": "1.2.0",
            "_view_name": "StyleView",
            "description_width": ""
          }
        },
        "62df88faa8dd4f84ac859c7ee827fe2b": {
          "model_module": "@jupyter-widgets/base",
          "model_name": "LayoutModel",
          "model_module_version": "1.2.0",
          "state": {
            "_model_module": "@jupyter-widgets/base",
            "_model_module_version": "1.2.0",
            "_model_name": "LayoutModel",
            "_view_count": null,
            "_view_module": "@jupyter-widgets/base",
            "_view_module_version": "1.2.0",
            "_view_name": "LayoutView",
            "align_content": null,
            "align_items": null,
            "align_self": null,
            "border": null,
            "bottom": null,
            "display": null,
            "flex": null,
            "flex_flow": null,
            "grid_area": null,
            "grid_auto_columns": null,
            "grid_auto_flow": null,
            "grid_auto_rows": null,
            "grid_column": null,
            "grid_gap": null,
            "grid_row": null,
            "grid_template_areas": null,
            "grid_template_columns": null,
            "grid_template_rows": null,
            "height": null,
            "justify_content": null,
            "justify_items": null,
            "left": null,
            "margin": null,
            "max_height": null,
            "max_width": null,
            "min_height": null,
            "min_width": null,
            "object_fit": null,
            "object_position": null,
            "order": null,
            "overflow": null,
            "overflow_x": null,
            "overflow_y": null,
            "padding": null,
            "right": null,
            "top": null,
            "visibility": null,
            "width": null
          }
        },
        "c0aa5b61e28149a89d16c33acb610886": {
          "model_module": "@jupyter-widgets/controls",
          "model_name": "ProgressStyleModel",
          "model_module_version": "1.5.0",
          "state": {
            "_model_module": "@jupyter-widgets/controls",
            "_model_module_version": "1.5.0",
            "_model_name": "ProgressStyleModel",
            "_view_count": null,
            "_view_module": "@jupyter-widgets/base",
            "_view_module_version": "1.2.0",
            "_view_name": "StyleView",
            "bar_color": null,
            "description_width": ""
          }
        },
        "6e9faccf95754c2f8624d3d75f12b861": {
          "model_module": "@jupyter-widgets/base",
          "model_name": "LayoutModel",
          "model_module_version": "1.2.0",
          "state": {
            "_model_module": "@jupyter-widgets/base",
            "_model_module_version": "1.2.0",
            "_model_name": "LayoutModel",
            "_view_count": null,
            "_view_module": "@jupyter-widgets/base",
            "_view_module_version": "1.2.0",
            "_view_name": "LayoutView",
            "align_content": null,
            "align_items": null,
            "align_self": null,
            "border": null,
            "bottom": null,
            "display": null,
            "flex": null,
            "flex_flow": null,
            "grid_area": null,
            "grid_auto_columns": null,
            "grid_auto_flow": null,
            "grid_auto_rows": null,
            "grid_column": null,
            "grid_gap": null,
            "grid_row": null,
            "grid_template_areas": null,
            "grid_template_columns": null,
            "grid_template_rows": null,
            "height": null,
            "justify_content": null,
            "justify_items": null,
            "left": null,
            "margin": null,
            "max_height": null,
            "max_width": null,
            "min_height": null,
            "min_width": null,
            "object_fit": null,
            "object_position": null,
            "order": null,
            "overflow": null,
            "overflow_x": null,
            "overflow_y": null,
            "padding": null,
            "right": null,
            "top": null,
            "visibility": null,
            "width": null
          }
        },
        "2fa47ab51ece408bb4ce72673ba39870": {
          "model_module": "@jupyter-widgets/controls",
          "model_name": "DescriptionStyleModel",
          "model_module_version": "1.5.0",
          "state": {
            "_model_module": "@jupyter-widgets/controls",
            "_model_module_version": "1.5.0",
            "_model_name": "DescriptionStyleModel",
            "_view_count": null,
            "_view_module": "@jupyter-widgets/base",
            "_view_module_version": "1.2.0",
            "_view_name": "StyleView",
            "description_width": ""
          }
        },
        "eba61e0512004224aaebd67fa61e1227": {
          "model_module": "@jupyter-widgets/controls",
          "model_name": "HBoxModel",
          "model_module_version": "1.5.0",
          "state": {
            "_dom_classes": [],
            "_model_module": "@jupyter-widgets/controls",
            "_model_module_version": "1.5.0",
            "_model_name": "HBoxModel",
            "_view_count": null,
            "_view_module": "@jupyter-widgets/controls",
            "_view_module_version": "1.5.0",
            "_view_name": "HBoxView",
            "box_style": "",
            "children": [
              "IPY_MODEL_b7f077b6127e41eea79653df4aca28f7",
              "IPY_MODEL_dc833b7fdd9947a881547c1d01df7ec9",
              "IPY_MODEL_392b872741af474fb6994660c3128d59"
            ],
            "layout": "IPY_MODEL_026734909382464782239a5be143862e"
          }
        },
        "b7f077b6127e41eea79653df4aca28f7": {
          "model_module": "@jupyter-widgets/controls",
          "model_name": "HTMLModel",
          "model_module_version": "1.5.0",
          "state": {
            "_dom_classes": [],
            "_model_module": "@jupyter-widgets/controls",
            "_model_module_version": "1.5.0",
            "_model_name": "HTMLModel",
            "_view_count": null,
            "_view_module": "@jupyter-widgets/controls",
            "_view_module_version": "1.5.0",
            "_view_name": "HTMLView",
            "description": "",
            "description_tooltip": null,
            "layout": "IPY_MODEL_ff8ca10f4f7a4464b0a978b88e6eab6d",
            "placeholder": "​",
            "style": "IPY_MODEL_aeafaba774744bb4a202c7efbf7c6a66",
            "value": "Map: 100%"
          }
        },
        "dc833b7fdd9947a881547c1d01df7ec9": {
          "model_module": "@jupyter-widgets/controls",
          "model_name": "FloatProgressModel",
          "model_module_version": "1.5.0",
          "state": {
            "_dom_classes": [],
            "_model_module": "@jupyter-widgets/controls",
            "_model_module_version": "1.5.0",
            "_model_name": "FloatProgressModel",
            "_view_count": null,
            "_view_module": "@jupyter-widgets/controls",
            "_view_module_version": "1.5.0",
            "_view_name": "ProgressView",
            "bar_style": "success",
            "description": "",
            "description_tooltip": null,
            "layout": "IPY_MODEL_d677b3930d0c4d8fbfa1cdb05deaf15a",
            "max": 25000,
            "min": 0,
            "orientation": "horizontal",
            "style": "IPY_MODEL_8281029be5e343c992d5eac037a5a9da",
            "value": 25000
          }
        },
        "392b872741af474fb6994660c3128d59": {
          "model_module": "@jupyter-widgets/controls",
          "model_name": "HTMLModel",
          "model_module_version": "1.5.0",
          "state": {
            "_dom_classes": [],
            "_model_module": "@jupyter-widgets/controls",
            "_model_module_version": "1.5.0",
            "_model_name": "HTMLModel",
            "_view_count": null,
            "_view_module": "@jupyter-widgets/controls",
            "_view_module_version": "1.5.0",
            "_view_name": "HTMLView",
            "description": "",
            "description_tooltip": null,
            "layout": "IPY_MODEL_d6efb20fca654ae5a3e12955b9291ade",
            "placeholder": "​",
            "style": "IPY_MODEL_d5daff1e2db4446b8a7d7751f82faefb",
            "value": " 25000/25000 [00:09&lt;00:00, 3477.79 examples/s]"
          }
        },
        "026734909382464782239a5be143862e": {
          "model_module": "@jupyter-widgets/base",
          "model_name": "LayoutModel",
          "model_module_version": "1.2.0",
          "state": {
            "_model_module": "@jupyter-widgets/base",
            "_model_module_version": "1.2.0",
            "_model_name": "LayoutModel",
            "_view_count": null,
            "_view_module": "@jupyter-widgets/base",
            "_view_module_version": "1.2.0",
            "_view_name": "LayoutView",
            "align_content": null,
            "align_items": null,
            "align_self": null,
            "border": null,
            "bottom": null,
            "display": null,
            "flex": null,
            "flex_flow": null,
            "grid_area": null,
            "grid_auto_columns": null,
            "grid_auto_flow": null,
            "grid_auto_rows": null,
            "grid_column": null,
            "grid_gap": null,
            "grid_row": null,
            "grid_template_areas": null,
            "grid_template_columns": null,
            "grid_template_rows": null,
            "height": null,
            "justify_content": null,
            "justify_items": null,
            "left": null,
            "margin": null,
            "max_height": null,
            "max_width": null,
            "min_height": null,
            "min_width": null,
            "object_fit": null,
            "object_position": null,
            "order": null,
            "overflow": null,
            "overflow_x": null,
            "overflow_y": null,
            "padding": null,
            "right": null,
            "top": null,
            "visibility": null,
            "width": null
          }
        },
        "ff8ca10f4f7a4464b0a978b88e6eab6d": {
          "model_module": "@jupyter-widgets/base",
          "model_name": "LayoutModel",
          "model_module_version": "1.2.0",
          "state": {
            "_model_module": "@jupyter-widgets/base",
            "_model_module_version": "1.2.0",
            "_model_name": "LayoutModel",
            "_view_count": null,
            "_view_module": "@jupyter-widgets/base",
            "_view_module_version": "1.2.0",
            "_view_name": "LayoutView",
            "align_content": null,
            "align_items": null,
            "align_self": null,
            "border": null,
            "bottom": null,
            "display": null,
            "flex": null,
            "flex_flow": null,
            "grid_area": null,
            "grid_auto_columns": null,
            "grid_auto_flow": null,
            "grid_auto_rows": null,
            "grid_column": null,
            "grid_gap": null,
            "grid_row": null,
            "grid_template_areas": null,
            "grid_template_columns": null,
            "grid_template_rows": null,
            "height": null,
            "justify_content": null,
            "justify_items": null,
            "left": null,
            "margin": null,
            "max_height": null,
            "max_width": null,
            "min_height": null,
            "min_width": null,
            "object_fit": null,
            "object_position": null,
            "order": null,
            "overflow": null,
            "overflow_x": null,
            "overflow_y": null,
            "padding": null,
            "right": null,
            "top": null,
            "visibility": null,
            "width": null
          }
        },
        "aeafaba774744bb4a202c7efbf7c6a66": {
          "model_module": "@jupyter-widgets/controls",
          "model_name": "DescriptionStyleModel",
          "model_module_version": "1.5.0",
          "state": {
            "_model_module": "@jupyter-widgets/controls",
            "_model_module_version": "1.5.0",
            "_model_name": "DescriptionStyleModel",
            "_view_count": null,
            "_view_module": "@jupyter-widgets/base",
            "_view_module_version": "1.2.0",
            "_view_name": "StyleView",
            "description_width": ""
          }
        },
        "d677b3930d0c4d8fbfa1cdb05deaf15a": {
          "model_module": "@jupyter-widgets/base",
          "model_name": "LayoutModel",
          "model_module_version": "1.2.0",
          "state": {
            "_model_module": "@jupyter-widgets/base",
            "_model_module_version": "1.2.0",
            "_model_name": "LayoutModel",
            "_view_count": null,
            "_view_module": "@jupyter-widgets/base",
            "_view_module_version": "1.2.0",
            "_view_name": "LayoutView",
            "align_content": null,
            "align_items": null,
            "align_self": null,
            "border": null,
            "bottom": null,
            "display": null,
            "flex": null,
            "flex_flow": null,
            "grid_area": null,
            "grid_auto_columns": null,
            "grid_auto_flow": null,
            "grid_auto_rows": null,
            "grid_column": null,
            "grid_gap": null,
            "grid_row": null,
            "grid_template_areas": null,
            "grid_template_columns": null,
            "grid_template_rows": null,
            "height": null,
            "justify_content": null,
            "justify_items": null,
            "left": null,
            "margin": null,
            "max_height": null,
            "max_width": null,
            "min_height": null,
            "min_width": null,
            "object_fit": null,
            "object_position": null,
            "order": null,
            "overflow": null,
            "overflow_x": null,
            "overflow_y": null,
            "padding": null,
            "right": null,
            "top": null,
            "visibility": null,
            "width": null
          }
        },
        "8281029be5e343c992d5eac037a5a9da": {
          "model_module": "@jupyter-widgets/controls",
          "model_name": "ProgressStyleModel",
          "model_module_version": "1.5.0",
          "state": {
            "_model_module": "@jupyter-widgets/controls",
            "_model_module_version": "1.5.0",
            "_model_name": "ProgressStyleModel",
            "_view_count": null,
            "_view_module": "@jupyter-widgets/base",
            "_view_module_version": "1.2.0",
            "_view_name": "StyleView",
            "bar_color": null,
            "description_width": ""
          }
        },
        "d6efb20fca654ae5a3e12955b9291ade": {
          "model_module": "@jupyter-widgets/base",
          "model_name": "LayoutModel",
          "model_module_version": "1.2.0",
          "state": {
            "_model_module": "@jupyter-widgets/base",
            "_model_module_version": "1.2.0",
            "_model_name": "LayoutModel",
            "_view_count": null,
            "_view_module": "@jupyter-widgets/base",
            "_view_module_version": "1.2.0",
            "_view_name": "LayoutView",
            "align_content": null,
            "align_items": null,
            "align_self": null,
            "border": null,
            "bottom": null,
            "display": null,
            "flex": null,
            "flex_flow": null,
            "grid_area": null,
            "grid_auto_columns": null,
            "grid_auto_flow": null,
            "grid_auto_rows": null,
            "grid_column": null,
            "grid_gap": null,
            "grid_row": null,
            "grid_template_areas": null,
            "grid_template_columns": null,
            "grid_template_rows": null,
            "height": null,
            "justify_content": null,
            "justify_items": null,
            "left": null,
            "margin": null,
            "max_height": null,
            "max_width": null,
            "min_height": null,
            "min_width": null,
            "object_fit": null,
            "object_position": null,
            "order": null,
            "overflow": null,
            "overflow_x": null,
            "overflow_y": null,
            "padding": null,
            "right": null,
            "top": null,
            "visibility": null,
            "width": null
          }
        },
        "d5daff1e2db4446b8a7d7751f82faefb": {
          "model_module": "@jupyter-widgets/controls",
          "model_name": "DescriptionStyleModel",
          "model_module_version": "1.5.0",
          "state": {
            "_model_module": "@jupyter-widgets/controls",
            "_model_module_version": "1.5.0",
            "_model_name": "DescriptionStyleModel",
            "_view_count": null,
            "_view_module": "@jupyter-widgets/base",
            "_view_module_version": "1.2.0",
            "_view_name": "StyleView",
            "description_width": ""
          }
        },
        "c237433a4a8b414eae9b1697996bc77e": {
          "model_module": "@jupyter-widgets/controls",
          "model_name": "HBoxModel",
          "model_module_version": "1.5.0",
          "state": {
            "_dom_classes": [],
            "_model_module": "@jupyter-widgets/controls",
            "_model_module_version": "1.5.0",
            "_model_name": "HBoxModel",
            "_view_count": null,
            "_view_module": "@jupyter-widgets/controls",
            "_view_module_version": "1.5.0",
            "_view_name": "HBoxView",
            "box_style": "",
            "children": [
              "IPY_MODEL_a1520f19d249425e847de021b60b6c97",
              "IPY_MODEL_d719a1a7c82341a390390ba5c72b6e2a",
              "IPY_MODEL_9d2aa78adeb64bbc840322fdcce95a78"
            ],
            "layout": "IPY_MODEL_feb015151eab408b92b924a8b35e304f"
          }
        },
        "a1520f19d249425e847de021b60b6c97": {
          "model_module": "@jupyter-widgets/controls",
          "model_name": "HTMLModel",
          "model_module_version": "1.5.0",
          "state": {
            "_dom_classes": [],
            "_model_module": "@jupyter-widgets/controls",
            "_model_module_version": "1.5.0",
            "_model_name": "HTMLModel",
            "_view_count": null,
            "_view_module": "@jupyter-widgets/controls",
            "_view_module_version": "1.5.0",
            "_view_name": "HTMLView",
            "description": "",
            "description_tooltip": null,
            "layout": "IPY_MODEL_5106d2c8f4864c33b868c4cca7531437",
            "placeholder": "​",
            "style": "IPY_MODEL_d04fe3969043417888ad34e26e02e513",
            "value": "Map: 100%"
          }
        },
        "d719a1a7c82341a390390ba5c72b6e2a": {
          "model_module": "@jupyter-widgets/controls",
          "model_name": "FloatProgressModel",
          "model_module_version": "1.5.0",
          "state": {
            "_dom_classes": [],
            "_model_module": "@jupyter-widgets/controls",
            "_model_module_version": "1.5.0",
            "_model_name": "FloatProgressModel",
            "_view_count": null,
            "_view_module": "@jupyter-widgets/controls",
            "_view_module_version": "1.5.0",
            "_view_name": "ProgressView",
            "bar_style": "success",
            "description": "",
            "description_tooltip": null,
            "layout": "IPY_MODEL_0d05d66703104b8db0b6a7d698dd958e",
            "max": 25000,
            "min": 0,
            "orientation": "horizontal",
            "style": "IPY_MODEL_3037c5434a7b4b57a9314020a9195ab2",
            "value": 25000
          }
        },
        "9d2aa78adeb64bbc840322fdcce95a78": {
          "model_module": "@jupyter-widgets/controls",
          "model_name": "HTMLModel",
          "model_module_version": "1.5.0",
          "state": {
            "_dom_classes": [],
            "_model_module": "@jupyter-widgets/controls",
            "_model_module_version": "1.5.0",
            "_model_name": "HTMLModel",
            "_view_count": null,
            "_view_module": "@jupyter-widgets/controls",
            "_view_module_version": "1.5.0",
            "_view_name": "HTMLView",
            "description": "",
            "description_tooltip": null,
            "layout": "IPY_MODEL_20853f581af941ff83a513e2207cbdf2",
            "placeholder": "​",
            "style": "IPY_MODEL_ba58625d3735481fb628367b06ceb06f",
            "value": " 25000/25000 [00:06&lt;00:00, 4566.74 examples/s]"
          }
        },
        "feb015151eab408b92b924a8b35e304f": {
          "model_module": "@jupyter-widgets/base",
          "model_name": "LayoutModel",
          "model_module_version": "1.2.0",
          "state": {
            "_model_module": "@jupyter-widgets/base",
            "_model_module_version": "1.2.0",
            "_model_name": "LayoutModel",
            "_view_count": null,
            "_view_module": "@jupyter-widgets/base",
            "_view_module_version": "1.2.0",
            "_view_name": "LayoutView",
            "align_content": null,
            "align_items": null,
            "align_self": null,
            "border": null,
            "bottom": null,
            "display": null,
            "flex": null,
            "flex_flow": null,
            "grid_area": null,
            "grid_auto_columns": null,
            "grid_auto_flow": null,
            "grid_auto_rows": null,
            "grid_column": null,
            "grid_gap": null,
            "grid_row": null,
            "grid_template_areas": null,
            "grid_template_columns": null,
            "grid_template_rows": null,
            "height": null,
            "justify_content": null,
            "justify_items": null,
            "left": null,
            "margin": null,
            "max_height": null,
            "max_width": null,
            "min_height": null,
            "min_width": null,
            "object_fit": null,
            "object_position": null,
            "order": null,
            "overflow": null,
            "overflow_x": null,
            "overflow_y": null,
            "padding": null,
            "right": null,
            "top": null,
            "visibility": null,
            "width": null
          }
        },
        "5106d2c8f4864c33b868c4cca7531437": {
          "model_module": "@jupyter-widgets/base",
          "model_name": "LayoutModel",
          "model_module_version": "1.2.0",
          "state": {
            "_model_module": "@jupyter-widgets/base",
            "_model_module_version": "1.2.0",
            "_model_name": "LayoutModel",
            "_view_count": null,
            "_view_module": "@jupyter-widgets/base",
            "_view_module_version": "1.2.0",
            "_view_name": "LayoutView",
            "align_content": null,
            "align_items": null,
            "align_self": null,
            "border": null,
            "bottom": null,
            "display": null,
            "flex": null,
            "flex_flow": null,
            "grid_area": null,
            "grid_auto_columns": null,
            "grid_auto_flow": null,
            "grid_auto_rows": null,
            "grid_column": null,
            "grid_gap": null,
            "grid_row": null,
            "grid_template_areas": null,
            "grid_template_columns": null,
            "grid_template_rows": null,
            "height": null,
            "justify_content": null,
            "justify_items": null,
            "left": null,
            "margin": null,
            "max_height": null,
            "max_width": null,
            "min_height": null,
            "min_width": null,
            "object_fit": null,
            "object_position": null,
            "order": null,
            "overflow": null,
            "overflow_x": null,
            "overflow_y": null,
            "padding": null,
            "right": null,
            "top": null,
            "visibility": null,
            "width": null
          }
        },
        "d04fe3969043417888ad34e26e02e513": {
          "model_module": "@jupyter-widgets/controls",
          "model_name": "DescriptionStyleModel",
          "model_module_version": "1.5.0",
          "state": {
            "_model_module": "@jupyter-widgets/controls",
            "_model_module_version": "1.5.0",
            "_model_name": "DescriptionStyleModel",
            "_view_count": null,
            "_view_module": "@jupyter-widgets/base",
            "_view_module_version": "1.2.0",
            "_view_name": "StyleView",
            "description_width": ""
          }
        },
        "0d05d66703104b8db0b6a7d698dd958e": {
          "model_module": "@jupyter-widgets/base",
          "model_name": "LayoutModel",
          "model_module_version": "1.2.0",
          "state": {
            "_model_module": "@jupyter-widgets/base",
            "_model_module_version": "1.2.0",
            "_model_name": "LayoutModel",
            "_view_count": null,
            "_view_module": "@jupyter-widgets/base",
            "_view_module_version": "1.2.0",
            "_view_name": "LayoutView",
            "align_content": null,
            "align_items": null,
            "align_self": null,
            "border": null,
            "bottom": null,
            "display": null,
            "flex": null,
            "flex_flow": null,
            "grid_area": null,
            "grid_auto_columns": null,
            "grid_auto_flow": null,
            "grid_auto_rows": null,
            "grid_column": null,
            "grid_gap": null,
            "grid_row": null,
            "grid_template_areas": null,
            "grid_template_columns": null,
            "grid_template_rows": null,
            "height": null,
            "justify_content": null,
            "justify_items": null,
            "left": null,
            "margin": null,
            "max_height": null,
            "max_width": null,
            "min_height": null,
            "min_width": null,
            "object_fit": null,
            "object_position": null,
            "order": null,
            "overflow": null,
            "overflow_x": null,
            "overflow_y": null,
            "padding": null,
            "right": null,
            "top": null,
            "visibility": null,
            "width": null
          }
        },
        "3037c5434a7b4b57a9314020a9195ab2": {
          "model_module": "@jupyter-widgets/controls",
          "model_name": "ProgressStyleModel",
          "model_module_version": "1.5.0",
          "state": {
            "_model_module": "@jupyter-widgets/controls",
            "_model_module_version": "1.5.0",
            "_model_name": "ProgressStyleModel",
            "_view_count": null,
            "_view_module": "@jupyter-widgets/base",
            "_view_module_version": "1.2.0",
            "_view_name": "StyleView",
            "bar_color": null,
            "description_width": ""
          }
        },
        "20853f581af941ff83a513e2207cbdf2": {
          "model_module": "@jupyter-widgets/base",
          "model_name": "LayoutModel",
          "model_module_version": "1.2.0",
          "state": {
            "_model_module": "@jupyter-widgets/base",
            "_model_module_version": "1.2.0",
            "_model_name": "LayoutModel",
            "_view_count": null,
            "_view_module": "@jupyter-widgets/base",
            "_view_module_version": "1.2.0",
            "_view_name": "LayoutView",
            "align_content": null,
            "align_items": null,
            "align_self": null,
            "border": null,
            "bottom": null,
            "display": null,
            "flex": null,
            "flex_flow": null,
            "grid_area": null,
            "grid_auto_columns": null,
            "grid_auto_flow": null,
            "grid_auto_rows": null,
            "grid_column": null,
            "grid_gap": null,
            "grid_row": null,
            "grid_template_areas": null,
            "grid_template_columns": null,
            "grid_template_rows": null,
            "height": null,
            "justify_content": null,
            "justify_items": null,
            "left": null,
            "margin": null,
            "max_height": null,
            "max_width": null,
            "min_height": null,
            "min_width": null,
            "object_fit": null,
            "object_position": null,
            "order": null,
            "overflow": null,
            "overflow_x": null,
            "overflow_y": null,
            "padding": null,
            "right": null,
            "top": null,
            "visibility": null,
            "width": null
          }
        },
        "ba58625d3735481fb628367b06ceb06f": {
          "model_module": "@jupyter-widgets/controls",
          "model_name": "DescriptionStyleModel",
          "model_module_version": "1.5.0",
          "state": {
            "_model_module": "@jupyter-widgets/controls",
            "_model_module_version": "1.5.0",
            "_model_name": "DescriptionStyleModel",
            "_view_count": null,
            "_view_module": "@jupyter-widgets/base",
            "_view_module_version": "1.2.0",
            "_view_name": "StyleView",
            "description_width": ""
          }
        },
        "ab806a326c1f4134a5b1341f816b9a27": {
          "model_module": "@jupyter-widgets/controls",
          "model_name": "HBoxModel",
          "model_module_version": "1.5.0",
          "state": {
            "_dom_classes": [],
            "_model_module": "@jupyter-widgets/controls",
            "_model_module_version": "1.5.0",
            "_model_name": "HBoxModel",
            "_view_count": null,
            "_view_module": "@jupyter-widgets/controls",
            "_view_module_version": "1.5.0",
            "_view_name": "HBoxView",
            "box_style": "",
            "children": [
              "IPY_MODEL_df098391e21a4ac29d5e6a18e606ac84",
              "IPY_MODEL_c2079703b59e472bbadf38ae8a3fa944",
              "IPY_MODEL_a6794c0256aa4c6b9cb160d76367b50d"
            ],
            "layout": "IPY_MODEL_2618577fb3484fc089f0aed40b97d2f2"
          }
        },
        "df098391e21a4ac29d5e6a18e606ac84": {
          "model_module": "@jupyter-widgets/controls",
          "model_name": "HTMLModel",
          "model_module_version": "1.5.0",
          "state": {
            "_dom_classes": [],
            "_model_module": "@jupyter-widgets/controls",
            "_model_module_version": "1.5.0",
            "_model_name": "HTMLModel",
            "_view_count": null,
            "_view_module": "@jupyter-widgets/controls",
            "_view_module_version": "1.5.0",
            "_view_name": "HTMLView",
            "description": "",
            "description_tooltip": null,
            "layout": "IPY_MODEL_6c6a043aa71e4667ba7552b590ee6500",
            "placeholder": "​",
            "style": "IPY_MODEL_dacbde376f6146bebe16e04ef65438ac",
            "value": "Map: 100%"
          }
        },
        "c2079703b59e472bbadf38ae8a3fa944": {
          "model_module": "@jupyter-widgets/controls",
          "model_name": "FloatProgressModel",
          "model_module_version": "1.5.0",
          "state": {
            "_dom_classes": [],
            "_model_module": "@jupyter-widgets/controls",
            "_model_module_version": "1.5.0",
            "_model_name": "FloatProgressModel",
            "_view_count": null,
            "_view_module": "@jupyter-widgets/controls",
            "_view_module_version": "1.5.0",
            "_view_name": "ProgressView",
            "bar_style": "success",
            "description": "",
            "description_tooltip": null,
            "layout": "IPY_MODEL_ac0764c264ce44eba4b700d977569b44",
            "max": 18750,
            "min": 0,
            "orientation": "horizontal",
            "style": "IPY_MODEL_bdc7cfda88fc4eeea0e8fafb2d5b5f41",
            "value": 18750
          }
        },
        "a6794c0256aa4c6b9cb160d76367b50d": {
          "model_module": "@jupyter-widgets/controls",
          "model_name": "HTMLModel",
          "model_module_version": "1.5.0",
          "state": {
            "_dom_classes": [],
            "_model_module": "@jupyter-widgets/controls",
            "_model_module_version": "1.5.0",
            "_model_name": "HTMLModel",
            "_view_count": null,
            "_view_module": "@jupyter-widgets/controls",
            "_view_module_version": "1.5.0",
            "_view_name": "HTMLView",
            "description": "",
            "description_tooltip": null,
            "layout": "IPY_MODEL_581733b6c4544b9180af555f63648324",
            "placeholder": "​",
            "style": "IPY_MODEL_62ca7c9ef7684901859df1d2db0d6be1",
            "value": " 18750/18750 [00:07&lt;00:00, 2706.29 examples/s]"
          }
        },
        "2618577fb3484fc089f0aed40b97d2f2": {
          "model_module": "@jupyter-widgets/base",
          "model_name": "LayoutModel",
          "model_module_version": "1.2.0",
          "state": {
            "_model_module": "@jupyter-widgets/base",
            "_model_module_version": "1.2.0",
            "_model_name": "LayoutModel",
            "_view_count": null,
            "_view_module": "@jupyter-widgets/base",
            "_view_module_version": "1.2.0",
            "_view_name": "LayoutView",
            "align_content": null,
            "align_items": null,
            "align_self": null,
            "border": null,
            "bottom": null,
            "display": null,
            "flex": null,
            "flex_flow": null,
            "grid_area": null,
            "grid_auto_columns": null,
            "grid_auto_flow": null,
            "grid_auto_rows": null,
            "grid_column": null,
            "grid_gap": null,
            "grid_row": null,
            "grid_template_areas": null,
            "grid_template_columns": null,
            "grid_template_rows": null,
            "height": null,
            "justify_content": null,
            "justify_items": null,
            "left": null,
            "margin": null,
            "max_height": null,
            "max_width": null,
            "min_height": null,
            "min_width": null,
            "object_fit": null,
            "object_position": null,
            "order": null,
            "overflow": null,
            "overflow_x": null,
            "overflow_y": null,
            "padding": null,
            "right": null,
            "top": null,
            "visibility": null,
            "width": null
          }
        },
        "6c6a043aa71e4667ba7552b590ee6500": {
          "model_module": "@jupyter-widgets/base",
          "model_name": "LayoutModel",
          "model_module_version": "1.2.0",
          "state": {
            "_model_module": "@jupyter-widgets/base",
            "_model_module_version": "1.2.0",
            "_model_name": "LayoutModel",
            "_view_count": null,
            "_view_module": "@jupyter-widgets/base",
            "_view_module_version": "1.2.0",
            "_view_name": "LayoutView",
            "align_content": null,
            "align_items": null,
            "align_self": null,
            "border": null,
            "bottom": null,
            "display": null,
            "flex": null,
            "flex_flow": null,
            "grid_area": null,
            "grid_auto_columns": null,
            "grid_auto_flow": null,
            "grid_auto_rows": null,
            "grid_column": null,
            "grid_gap": null,
            "grid_row": null,
            "grid_template_areas": null,
            "grid_template_columns": null,
            "grid_template_rows": null,
            "height": null,
            "justify_content": null,
            "justify_items": null,
            "left": null,
            "margin": null,
            "max_height": null,
            "max_width": null,
            "min_height": null,
            "min_width": null,
            "object_fit": null,
            "object_position": null,
            "order": null,
            "overflow": null,
            "overflow_x": null,
            "overflow_y": null,
            "padding": null,
            "right": null,
            "top": null,
            "visibility": null,
            "width": null
          }
        },
        "dacbde376f6146bebe16e04ef65438ac": {
          "model_module": "@jupyter-widgets/controls",
          "model_name": "DescriptionStyleModel",
          "model_module_version": "1.5.0",
          "state": {
            "_model_module": "@jupyter-widgets/controls",
            "_model_module_version": "1.5.0",
            "_model_name": "DescriptionStyleModel",
            "_view_count": null,
            "_view_module": "@jupyter-widgets/base",
            "_view_module_version": "1.2.0",
            "_view_name": "StyleView",
            "description_width": ""
          }
        },
        "ac0764c264ce44eba4b700d977569b44": {
          "model_module": "@jupyter-widgets/base",
          "model_name": "LayoutModel",
          "model_module_version": "1.2.0",
          "state": {
            "_model_module": "@jupyter-widgets/base",
            "_model_module_version": "1.2.0",
            "_model_name": "LayoutModel",
            "_view_count": null,
            "_view_module": "@jupyter-widgets/base",
            "_view_module_version": "1.2.0",
            "_view_name": "LayoutView",
            "align_content": null,
            "align_items": null,
            "align_self": null,
            "border": null,
            "bottom": null,
            "display": null,
            "flex": null,
            "flex_flow": null,
            "grid_area": null,
            "grid_auto_columns": null,
            "grid_auto_flow": null,
            "grid_auto_rows": null,
            "grid_column": null,
            "grid_gap": null,
            "grid_row": null,
            "grid_template_areas": null,
            "grid_template_columns": null,
            "grid_template_rows": null,
            "height": null,
            "justify_content": null,
            "justify_items": null,
            "left": null,
            "margin": null,
            "max_height": null,
            "max_width": null,
            "min_height": null,
            "min_width": null,
            "object_fit": null,
            "object_position": null,
            "order": null,
            "overflow": null,
            "overflow_x": null,
            "overflow_y": null,
            "padding": null,
            "right": null,
            "top": null,
            "visibility": null,
            "width": null
          }
        },
        "bdc7cfda88fc4eeea0e8fafb2d5b5f41": {
          "model_module": "@jupyter-widgets/controls",
          "model_name": "ProgressStyleModel",
          "model_module_version": "1.5.0",
          "state": {
            "_model_module": "@jupyter-widgets/controls",
            "_model_module_version": "1.5.0",
            "_model_name": "ProgressStyleModel",
            "_view_count": null,
            "_view_module": "@jupyter-widgets/base",
            "_view_module_version": "1.2.0",
            "_view_name": "StyleView",
            "bar_color": null,
            "description_width": ""
          }
        },
        "581733b6c4544b9180af555f63648324": {
          "model_module": "@jupyter-widgets/base",
          "model_name": "LayoutModel",
          "model_module_version": "1.2.0",
          "state": {
            "_model_module": "@jupyter-widgets/base",
            "_model_module_version": "1.2.0",
            "_model_name": "LayoutModel",
            "_view_count": null,
            "_view_module": "@jupyter-widgets/base",
            "_view_module_version": "1.2.0",
            "_view_name": "LayoutView",
            "align_content": null,
            "align_items": null,
            "align_self": null,
            "border": null,
            "bottom": null,
            "display": null,
            "flex": null,
            "flex_flow": null,
            "grid_area": null,
            "grid_auto_columns": null,
            "grid_auto_flow": null,
            "grid_auto_rows": null,
            "grid_column": null,
            "grid_gap": null,
            "grid_row": null,
            "grid_template_areas": null,
            "grid_template_columns": null,
            "grid_template_rows": null,
            "height": null,
            "justify_content": null,
            "justify_items": null,
            "left": null,
            "margin": null,
            "max_height": null,
            "max_width": null,
            "min_height": null,
            "min_width": null,
            "object_fit": null,
            "object_position": null,
            "order": null,
            "overflow": null,
            "overflow_x": null,
            "overflow_y": null,
            "padding": null,
            "right": null,
            "top": null,
            "visibility": null,
            "width": null
          }
        },
        "62ca7c9ef7684901859df1d2db0d6be1": {
          "model_module": "@jupyter-widgets/controls",
          "model_name": "DescriptionStyleModel",
          "model_module_version": "1.5.0",
          "state": {
            "_model_module": "@jupyter-widgets/controls",
            "_model_module_version": "1.5.0",
            "_model_name": "DescriptionStyleModel",
            "_view_count": null,
            "_view_module": "@jupyter-widgets/base",
            "_view_module_version": "1.2.0",
            "_view_name": "StyleView",
            "description_width": ""
          }
        },
        "14cef42ba084429e977203bc9b1cfbc7": {
          "model_module": "@jupyter-widgets/controls",
          "model_name": "HBoxModel",
          "model_module_version": "1.5.0",
          "state": {
            "_dom_classes": [],
            "_model_module": "@jupyter-widgets/controls",
            "_model_module_version": "1.5.0",
            "_model_name": "HBoxModel",
            "_view_count": null,
            "_view_module": "@jupyter-widgets/controls",
            "_view_module_version": "1.5.0",
            "_view_name": "HBoxView",
            "box_style": "",
            "children": [
              "IPY_MODEL_4937528060c64126af7d3c7eb74729f1",
              "IPY_MODEL_3be6cece5f264146bb36c37d217806f6",
              "IPY_MODEL_d47c14e8782c4b428f000ae87610c7ff"
            ],
            "layout": "IPY_MODEL_9509883a4b0449ddb6bb9df5e96fe967"
          }
        },
        "4937528060c64126af7d3c7eb74729f1": {
          "model_module": "@jupyter-widgets/controls",
          "model_name": "HTMLModel",
          "model_module_version": "1.5.0",
          "state": {
            "_dom_classes": [],
            "_model_module": "@jupyter-widgets/controls",
            "_model_module_version": "1.5.0",
            "_model_name": "HTMLModel",
            "_view_count": null,
            "_view_module": "@jupyter-widgets/controls",
            "_view_module_version": "1.5.0",
            "_view_name": "HTMLView",
            "description": "",
            "description_tooltip": null,
            "layout": "IPY_MODEL_77c661586a42463a9ae034cf583ba86c",
            "placeholder": "​",
            "style": "IPY_MODEL_aa6f461f300941ecad2a23bbdfab730b",
            "value": "Map: 100%"
          }
        },
        "3be6cece5f264146bb36c37d217806f6": {
          "model_module": "@jupyter-widgets/controls",
          "model_name": "FloatProgressModel",
          "model_module_version": "1.5.0",
          "state": {
            "_dom_classes": [],
            "_model_module": "@jupyter-widgets/controls",
            "_model_module_version": "1.5.0",
            "_model_name": "FloatProgressModel",
            "_view_count": null,
            "_view_module": "@jupyter-widgets/controls",
            "_view_module_version": "1.5.0",
            "_view_name": "ProgressView",
            "bar_style": "success",
            "description": "",
            "description_tooltip": null,
            "layout": "IPY_MODEL_e6c13e198ae84807ba2ae6d40cfcc85c",
            "max": 6250,
            "min": 0,
            "orientation": "horizontal",
            "style": "IPY_MODEL_29a225b19d214f63bf0aa024fec84518",
            "value": 6250
          }
        },
        "d47c14e8782c4b428f000ae87610c7ff": {
          "model_module": "@jupyter-widgets/controls",
          "model_name": "HTMLModel",
          "model_module_version": "1.5.0",
          "state": {
            "_dom_classes": [],
            "_model_module": "@jupyter-widgets/controls",
            "_model_module_version": "1.5.0",
            "_model_name": "HTMLModel",
            "_view_count": null,
            "_view_module": "@jupyter-widgets/controls",
            "_view_module_version": "1.5.0",
            "_view_name": "HTMLView",
            "description": "",
            "description_tooltip": null,
            "layout": "IPY_MODEL_ceb51a63e0524081aeb57c65536c67ed",
            "placeholder": "​",
            "style": "IPY_MODEL_a271a87bcbf1409c9b73d7e46f948af0",
            "value": " 6250/6250 [00:02&lt;00:00, 1372.59 examples/s]"
          }
        },
        "9509883a4b0449ddb6bb9df5e96fe967": {
          "model_module": "@jupyter-widgets/base",
          "model_name": "LayoutModel",
          "model_module_version": "1.2.0",
          "state": {
            "_model_module": "@jupyter-widgets/base",
            "_model_module_version": "1.2.0",
            "_model_name": "LayoutModel",
            "_view_count": null,
            "_view_module": "@jupyter-widgets/base",
            "_view_module_version": "1.2.0",
            "_view_name": "LayoutView",
            "align_content": null,
            "align_items": null,
            "align_self": null,
            "border": null,
            "bottom": null,
            "display": null,
            "flex": null,
            "flex_flow": null,
            "grid_area": null,
            "grid_auto_columns": null,
            "grid_auto_flow": null,
            "grid_auto_rows": null,
            "grid_column": null,
            "grid_gap": null,
            "grid_row": null,
            "grid_template_areas": null,
            "grid_template_columns": null,
            "grid_template_rows": null,
            "height": null,
            "justify_content": null,
            "justify_items": null,
            "left": null,
            "margin": null,
            "max_height": null,
            "max_width": null,
            "min_height": null,
            "min_width": null,
            "object_fit": null,
            "object_position": null,
            "order": null,
            "overflow": null,
            "overflow_x": null,
            "overflow_y": null,
            "padding": null,
            "right": null,
            "top": null,
            "visibility": null,
            "width": null
          }
        },
        "77c661586a42463a9ae034cf583ba86c": {
          "model_module": "@jupyter-widgets/base",
          "model_name": "LayoutModel",
          "model_module_version": "1.2.0",
          "state": {
            "_model_module": "@jupyter-widgets/base",
            "_model_module_version": "1.2.0",
            "_model_name": "LayoutModel",
            "_view_count": null,
            "_view_module": "@jupyter-widgets/base",
            "_view_module_version": "1.2.0",
            "_view_name": "LayoutView",
            "align_content": null,
            "align_items": null,
            "align_self": null,
            "border": null,
            "bottom": null,
            "display": null,
            "flex": null,
            "flex_flow": null,
            "grid_area": null,
            "grid_auto_columns": null,
            "grid_auto_flow": null,
            "grid_auto_rows": null,
            "grid_column": null,
            "grid_gap": null,
            "grid_row": null,
            "grid_template_areas": null,
            "grid_template_columns": null,
            "grid_template_rows": null,
            "height": null,
            "justify_content": null,
            "justify_items": null,
            "left": null,
            "margin": null,
            "max_height": null,
            "max_width": null,
            "min_height": null,
            "min_width": null,
            "object_fit": null,
            "object_position": null,
            "order": null,
            "overflow": null,
            "overflow_x": null,
            "overflow_y": null,
            "padding": null,
            "right": null,
            "top": null,
            "visibility": null,
            "width": null
          }
        },
        "aa6f461f300941ecad2a23bbdfab730b": {
          "model_module": "@jupyter-widgets/controls",
          "model_name": "DescriptionStyleModel",
          "model_module_version": "1.5.0",
          "state": {
            "_model_module": "@jupyter-widgets/controls",
            "_model_module_version": "1.5.0",
            "_model_name": "DescriptionStyleModel",
            "_view_count": null,
            "_view_module": "@jupyter-widgets/base",
            "_view_module_version": "1.2.0",
            "_view_name": "StyleView",
            "description_width": ""
          }
        },
        "e6c13e198ae84807ba2ae6d40cfcc85c": {
          "model_module": "@jupyter-widgets/base",
          "model_name": "LayoutModel",
          "model_module_version": "1.2.0",
          "state": {
            "_model_module": "@jupyter-widgets/base",
            "_model_module_version": "1.2.0",
            "_model_name": "LayoutModel",
            "_view_count": null,
            "_view_module": "@jupyter-widgets/base",
            "_view_module_version": "1.2.0",
            "_view_name": "LayoutView",
            "align_content": null,
            "align_items": null,
            "align_self": null,
            "border": null,
            "bottom": null,
            "display": null,
            "flex": null,
            "flex_flow": null,
            "grid_area": null,
            "grid_auto_columns": null,
            "grid_auto_flow": null,
            "grid_auto_rows": null,
            "grid_column": null,
            "grid_gap": null,
            "grid_row": null,
            "grid_template_areas": null,
            "grid_template_columns": null,
            "grid_template_rows": null,
            "height": null,
            "justify_content": null,
            "justify_items": null,
            "left": null,
            "margin": null,
            "max_height": null,
            "max_width": null,
            "min_height": null,
            "min_width": null,
            "object_fit": null,
            "object_position": null,
            "order": null,
            "overflow": null,
            "overflow_x": null,
            "overflow_y": null,
            "padding": null,
            "right": null,
            "top": null,
            "visibility": null,
            "width": null
          }
        },
        "29a225b19d214f63bf0aa024fec84518": {
          "model_module": "@jupyter-widgets/controls",
          "model_name": "ProgressStyleModel",
          "model_module_version": "1.5.0",
          "state": {
            "_model_module": "@jupyter-widgets/controls",
            "_model_module_version": "1.5.0",
            "_model_name": "ProgressStyleModel",
            "_view_count": null,
            "_view_module": "@jupyter-widgets/base",
            "_view_module_version": "1.2.0",
            "_view_name": "StyleView",
            "bar_color": null,
            "description_width": ""
          }
        },
        "ceb51a63e0524081aeb57c65536c67ed": {
          "model_module": "@jupyter-widgets/base",
          "model_name": "LayoutModel",
          "model_module_version": "1.2.0",
          "state": {
            "_model_module": "@jupyter-widgets/base",
            "_model_module_version": "1.2.0",
            "_model_name": "LayoutModel",
            "_view_count": null,
            "_view_module": "@jupyter-widgets/base",
            "_view_module_version": "1.2.0",
            "_view_name": "LayoutView",
            "align_content": null,
            "align_items": null,
            "align_self": null,
            "border": null,
            "bottom": null,
            "display": null,
            "flex": null,
            "flex_flow": null,
            "grid_area": null,
            "grid_auto_columns": null,
            "grid_auto_flow": null,
            "grid_auto_rows": null,
            "grid_column": null,
            "grid_gap": null,
            "grid_row": null,
            "grid_template_areas": null,
            "grid_template_columns": null,
            "grid_template_rows": null,
            "height": null,
            "justify_content": null,
            "justify_items": null,
            "left": null,
            "margin": null,
            "max_height": null,
            "max_width": null,
            "min_height": null,
            "min_width": null,
            "object_fit": null,
            "object_position": null,
            "order": null,
            "overflow": null,
            "overflow_x": null,
            "overflow_y": null,
            "padding": null,
            "right": null,
            "top": null,
            "visibility": null,
            "width": null
          }
        },
        "a271a87bcbf1409c9b73d7e46f948af0": {
          "model_module": "@jupyter-widgets/controls",
          "model_name": "DescriptionStyleModel",
          "model_module_version": "1.5.0",
          "state": {
            "_model_module": "@jupyter-widgets/controls",
            "_model_module_version": "1.5.0",
            "_model_name": "DescriptionStyleModel",
            "_view_count": null,
            "_view_module": "@jupyter-widgets/base",
            "_view_module_version": "1.2.0",
            "_view_name": "StyleView",
            "description_width": ""
          }
        },
        "8e55a26c729d48f7a4aa208b6320b347": {
          "model_module": "@jupyter-widgets/controls",
          "model_name": "HBoxModel",
          "model_module_version": "1.5.0",
          "state": {
            "_dom_classes": [],
            "_model_module": "@jupyter-widgets/controls",
            "_model_module_version": "1.5.0",
            "_model_name": "HBoxModel",
            "_view_count": null,
            "_view_module": "@jupyter-widgets/controls",
            "_view_module_version": "1.5.0",
            "_view_name": "HBoxView",
            "box_style": "",
            "children": [
              "IPY_MODEL_0da8954599d646999f3cc442a617e491",
              "IPY_MODEL_cf147165b2284c7f95855737351e3be6",
              "IPY_MODEL_0f7e036265d14bb09d074e1b59150417"
            ],
            "layout": "IPY_MODEL_68d797d57a0443d68a0b82effb86b24a"
          }
        },
        "0da8954599d646999f3cc442a617e491": {
          "model_module": "@jupyter-widgets/controls",
          "model_name": "HTMLModel",
          "model_module_version": "1.5.0",
          "state": {
            "_dom_classes": [],
            "_model_module": "@jupyter-widgets/controls",
            "_model_module_version": "1.5.0",
            "_model_name": "HTMLModel",
            "_view_count": null,
            "_view_module": "@jupyter-widgets/controls",
            "_view_module_version": "1.5.0",
            "_view_name": "HTMLView",
            "description": "",
            "description_tooltip": null,
            "layout": "IPY_MODEL_620b95e692744013b077f67b71e3c27c",
            "placeholder": "​",
            "style": "IPY_MODEL_40ada66c1d704ba5a95c63bb1f2f858c",
            "value": "Map: 100%"
          }
        },
        "cf147165b2284c7f95855737351e3be6": {
          "model_module": "@jupyter-widgets/controls",
          "model_name": "FloatProgressModel",
          "model_module_version": "1.5.0",
          "state": {
            "_dom_classes": [],
            "_model_module": "@jupyter-widgets/controls",
            "_model_module_version": "1.5.0",
            "_model_name": "FloatProgressModel",
            "_view_count": null,
            "_view_module": "@jupyter-widgets/controls",
            "_view_module_version": "1.5.0",
            "_view_name": "ProgressView",
            "bar_style": "success",
            "description": "",
            "description_tooltip": null,
            "layout": "IPY_MODEL_468546a909f74e868cc09543a952c317",
            "max": 25000,
            "min": 0,
            "orientation": "horizontal",
            "style": "IPY_MODEL_d6ed3451658940f3b8a08478e8bfb9cd",
            "value": 25000
          }
        },
        "0f7e036265d14bb09d074e1b59150417": {
          "model_module": "@jupyter-widgets/controls",
          "model_name": "HTMLModel",
          "model_module_version": "1.5.0",
          "state": {
            "_dom_classes": [],
            "_model_module": "@jupyter-widgets/controls",
            "_model_module_version": "1.5.0",
            "_model_name": "HTMLModel",
            "_view_count": null,
            "_view_module": "@jupyter-widgets/controls",
            "_view_module_version": "1.5.0",
            "_view_name": "HTMLView",
            "description": "",
            "description_tooltip": null,
            "layout": "IPY_MODEL_698db7b2f90c45a1a62ba5569942219e",
            "placeholder": "​",
            "style": "IPY_MODEL_f301993482ab47c1ac387385eb32dc16",
            "value": " 25000/25000 [00:09&lt;00:00, 3168.81 examples/s]"
          }
        },
        "68d797d57a0443d68a0b82effb86b24a": {
          "model_module": "@jupyter-widgets/base",
          "model_name": "LayoutModel",
          "model_module_version": "1.2.0",
          "state": {
            "_model_module": "@jupyter-widgets/base",
            "_model_module_version": "1.2.0",
            "_model_name": "LayoutModel",
            "_view_count": null,
            "_view_module": "@jupyter-widgets/base",
            "_view_module_version": "1.2.0",
            "_view_name": "LayoutView",
            "align_content": null,
            "align_items": null,
            "align_self": null,
            "border": null,
            "bottom": null,
            "display": null,
            "flex": null,
            "flex_flow": null,
            "grid_area": null,
            "grid_auto_columns": null,
            "grid_auto_flow": null,
            "grid_auto_rows": null,
            "grid_column": null,
            "grid_gap": null,
            "grid_row": null,
            "grid_template_areas": null,
            "grid_template_columns": null,
            "grid_template_rows": null,
            "height": null,
            "justify_content": null,
            "justify_items": null,
            "left": null,
            "margin": null,
            "max_height": null,
            "max_width": null,
            "min_height": null,
            "min_width": null,
            "object_fit": null,
            "object_position": null,
            "order": null,
            "overflow": null,
            "overflow_x": null,
            "overflow_y": null,
            "padding": null,
            "right": null,
            "top": null,
            "visibility": null,
            "width": null
          }
        },
        "620b95e692744013b077f67b71e3c27c": {
          "model_module": "@jupyter-widgets/base",
          "model_name": "LayoutModel",
          "model_module_version": "1.2.0",
          "state": {
            "_model_module": "@jupyter-widgets/base",
            "_model_module_version": "1.2.0",
            "_model_name": "LayoutModel",
            "_view_count": null,
            "_view_module": "@jupyter-widgets/base",
            "_view_module_version": "1.2.0",
            "_view_name": "LayoutView",
            "align_content": null,
            "align_items": null,
            "align_self": null,
            "border": null,
            "bottom": null,
            "display": null,
            "flex": null,
            "flex_flow": null,
            "grid_area": null,
            "grid_auto_columns": null,
            "grid_auto_flow": null,
            "grid_auto_rows": null,
            "grid_column": null,
            "grid_gap": null,
            "grid_row": null,
            "grid_template_areas": null,
            "grid_template_columns": null,
            "grid_template_rows": null,
            "height": null,
            "justify_content": null,
            "justify_items": null,
            "left": null,
            "margin": null,
            "max_height": null,
            "max_width": null,
            "min_height": null,
            "min_width": null,
            "object_fit": null,
            "object_position": null,
            "order": null,
            "overflow": null,
            "overflow_x": null,
            "overflow_y": null,
            "padding": null,
            "right": null,
            "top": null,
            "visibility": null,
            "width": null
          }
        },
        "40ada66c1d704ba5a95c63bb1f2f858c": {
          "model_module": "@jupyter-widgets/controls",
          "model_name": "DescriptionStyleModel",
          "model_module_version": "1.5.0",
          "state": {
            "_model_module": "@jupyter-widgets/controls",
            "_model_module_version": "1.5.0",
            "_model_name": "DescriptionStyleModel",
            "_view_count": null,
            "_view_module": "@jupyter-widgets/base",
            "_view_module_version": "1.2.0",
            "_view_name": "StyleView",
            "description_width": ""
          }
        },
        "468546a909f74e868cc09543a952c317": {
          "model_module": "@jupyter-widgets/base",
          "model_name": "LayoutModel",
          "model_module_version": "1.2.0",
          "state": {
            "_model_module": "@jupyter-widgets/base",
            "_model_module_version": "1.2.0",
            "_model_name": "LayoutModel",
            "_view_count": null,
            "_view_module": "@jupyter-widgets/base",
            "_view_module_version": "1.2.0",
            "_view_name": "LayoutView",
            "align_content": null,
            "align_items": null,
            "align_self": null,
            "border": null,
            "bottom": null,
            "display": null,
            "flex": null,
            "flex_flow": null,
            "grid_area": null,
            "grid_auto_columns": null,
            "grid_auto_flow": null,
            "grid_auto_rows": null,
            "grid_column": null,
            "grid_gap": null,
            "grid_row": null,
            "grid_template_areas": null,
            "grid_template_columns": null,
            "grid_template_rows": null,
            "height": null,
            "justify_content": null,
            "justify_items": null,
            "left": null,
            "margin": null,
            "max_height": null,
            "max_width": null,
            "min_height": null,
            "min_width": null,
            "object_fit": null,
            "object_position": null,
            "order": null,
            "overflow": null,
            "overflow_x": null,
            "overflow_y": null,
            "padding": null,
            "right": null,
            "top": null,
            "visibility": null,
            "width": null
          }
        },
        "d6ed3451658940f3b8a08478e8bfb9cd": {
          "model_module": "@jupyter-widgets/controls",
          "model_name": "ProgressStyleModel",
          "model_module_version": "1.5.0",
          "state": {
            "_model_module": "@jupyter-widgets/controls",
            "_model_module_version": "1.5.0",
            "_model_name": "ProgressStyleModel",
            "_view_count": null,
            "_view_module": "@jupyter-widgets/base",
            "_view_module_version": "1.2.0",
            "_view_name": "StyleView",
            "bar_color": null,
            "description_width": ""
          }
        },
        "698db7b2f90c45a1a62ba5569942219e": {
          "model_module": "@jupyter-widgets/base",
          "model_name": "LayoutModel",
          "model_module_version": "1.2.0",
          "state": {
            "_model_module": "@jupyter-widgets/base",
            "_model_module_version": "1.2.0",
            "_model_name": "LayoutModel",
            "_view_count": null,
            "_view_module": "@jupyter-widgets/base",
            "_view_module_version": "1.2.0",
            "_view_name": "LayoutView",
            "align_content": null,
            "align_items": null,
            "align_self": null,
            "border": null,
            "bottom": null,
            "display": null,
            "flex": null,
            "flex_flow": null,
            "grid_area": null,
            "grid_auto_columns": null,
            "grid_auto_flow": null,
            "grid_auto_rows": null,
            "grid_column": null,
            "grid_gap": null,
            "grid_row": null,
            "grid_template_areas": null,
            "grid_template_columns": null,
            "grid_template_rows": null,
            "height": null,
            "justify_content": null,
            "justify_items": null,
            "left": null,
            "margin": null,
            "max_height": null,
            "max_width": null,
            "min_height": null,
            "min_width": null,
            "object_fit": null,
            "object_position": null,
            "order": null,
            "overflow": null,
            "overflow_x": null,
            "overflow_y": null,
            "padding": null,
            "right": null,
            "top": null,
            "visibility": null,
            "width": null
          }
        },
        "f301993482ab47c1ac387385eb32dc16": {
          "model_module": "@jupyter-widgets/controls",
          "model_name": "DescriptionStyleModel",
          "model_module_version": "1.5.0",
          "state": {
            "_model_module": "@jupyter-widgets/controls",
            "_model_module_version": "1.5.0",
            "_model_name": "DescriptionStyleModel",
            "_view_count": null,
            "_view_module": "@jupyter-widgets/base",
            "_view_module_version": "1.2.0",
            "_view_name": "StyleView",
            "description_width": ""
          }
        }
      }
    }
  },
  "nbformat": 4,
  "nbformat_minor": 0
}