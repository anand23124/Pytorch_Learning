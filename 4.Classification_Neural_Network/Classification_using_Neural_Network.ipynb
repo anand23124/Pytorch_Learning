{
  "nbformat": 4,
  "nbformat_minor": 0,
  "metadata": {
    "colab": {
      "provenance": []
    },
    "kernelspec": {
      "name": "python3",
      "display_name": "Python 3"
    },
    "language_info": {
      "name": "python"
    }
  },
  "cells": [
    {
      "cell_type": "code",
      "execution_count": null,
      "metadata": {
        "id": "FcZlgAyxGxo0"
      },
      "outputs": [],
      "source": [
        "import torch\n",
        "torch.__version__"
      ]
    },
    {
      "cell_type": "markdown",
      "source": [
        "#Classification using Neural Network"
      ],
      "metadata": {
        "id": "gWHOdXL-lTky"
      }
    },
    {
      "cell_type": "markdown",
      "source": [
        "##Flow of Program\n",
        "0. import Important Libraries\n",
        "1. Get dataset ready(turn into tensor,batch)\n",
        "2. Build a neural network model for classification\n",
        "3. Pick a loss function and optimizer\n",
        "4. Building a Training loop\n",
        "5. Evaluate model\n",
        "6. Improving the model\n",
        "7. Save the model"
      ],
      "metadata": {
        "id": "AqXCHjIIldaB"
      }
    },
    {
      "cell_type": "markdown",
      "source": [
        "###**0. import Important Libraries**"
      ],
      "metadata": {
        "id": "NzOJvhsImhCM"
      }
    },
    {
      "cell_type": "code",
      "source": [
        "import torch\n",
        "import torch.nn as nn\n",
        "from torch.utils.data import DataLoader\n",
        "from torchvision import datasets,transforms\n",
        "import matplotlib.pyplot as plt"
      ],
      "metadata": {
        "id": "5Udqt4fwmbtm"
      },
      "execution_count": null,
      "outputs": []
    },
    {
      "cell_type": "markdown",
      "source": [
        "###**1. Prepare Data (convert it to tensor , Make batches)**"
      ],
      "metadata": {
        "id": "exz5oz4XnJPx"
      }
    },
    {
      "cell_type": "code",
      "source": [
        "train_dataset = datasets.FashionMNIST(root='./dataset',train=True,transform=transforms.ToTensor(),download=True)\n",
        "test_dataset = datasets.FashionMNIST(root='./dataset',train=False,transform=transforms.ToTensor())"
      ],
      "metadata": {
        "colab": {
          "base_uri": "https://localhost:8080/"
        },
        "id": "OIMZWo03lX4G",
        "outputId": "80387b2c-3624-44ef-dad2-86b66be32b17"
      },
      "execution_count": null,
      "outputs": [
        {
          "output_type": "stream",
          "name": "stdout",
          "text": [
            "Downloading http://fashion-mnist.s3-website.eu-central-1.amazonaws.com/train-images-idx3-ubyte.gz\n",
            "Downloading http://fashion-mnist.s3-website.eu-central-1.amazonaws.com/train-images-idx3-ubyte.gz to ./dataset/FashionMNIST/raw/train-images-idx3-ubyte.gz\n"
          ]
        },
        {
          "output_type": "stream",
          "name": "stderr",
          "text": [
            "100%|██████████| 26421880/26421880 [00:04<00:00, 5453341.67it/s]\n"
          ]
        },
        {
          "output_type": "stream",
          "name": "stdout",
          "text": [
            "Extracting ./dataset/FashionMNIST/raw/train-images-idx3-ubyte.gz to ./dataset/FashionMNIST/raw\n",
            "\n",
            "Downloading http://fashion-mnist.s3-website.eu-central-1.amazonaws.com/train-labels-idx1-ubyte.gz\n",
            "Downloading http://fashion-mnist.s3-website.eu-central-1.amazonaws.com/train-labels-idx1-ubyte.gz to ./dataset/FashionMNIST/raw/train-labels-idx1-ubyte.gz\n"
          ]
        },
        {
          "output_type": "stream",
          "name": "stderr",
          "text": [
            "100%|██████████| 29515/29515 [00:00<00:00, 170909.98it/s]\n"
          ]
        },
        {
          "output_type": "stream",
          "name": "stdout",
          "text": [
            "Extracting ./dataset/FashionMNIST/raw/train-labels-idx1-ubyte.gz to ./dataset/FashionMNIST/raw\n",
            "\n",
            "Downloading http://fashion-mnist.s3-website.eu-central-1.amazonaws.com/t10k-images-idx3-ubyte.gz\n",
            "Downloading http://fashion-mnist.s3-website.eu-central-1.amazonaws.com/t10k-images-idx3-ubyte.gz to ./dataset/FashionMNIST/raw/t10k-images-idx3-ubyte.gz\n"
          ]
        },
        {
          "output_type": "stream",
          "name": "stderr",
          "text": [
            "100%|██████████| 4422102/4422102 [00:01<00:00, 3094800.39it/s]\n"
          ]
        },
        {
          "output_type": "stream",
          "name": "stdout",
          "text": [
            "Extracting ./dataset/FashionMNIST/raw/t10k-images-idx3-ubyte.gz to ./dataset/FashionMNIST/raw\n",
            "\n",
            "Downloading http://fashion-mnist.s3-website.eu-central-1.amazonaws.com/t10k-labels-idx1-ubyte.gz\n",
            "Downloading http://fashion-mnist.s3-website.eu-central-1.amazonaws.com/t10k-labels-idx1-ubyte.gz to ./dataset/FashionMNIST/raw/t10k-labels-idx1-ubyte.gz\n"
          ]
        },
        {
          "output_type": "stream",
          "name": "stderr",
          "text": [
            "100%|██████████| 5148/5148 [00:00<00:00, 3166951.74it/s]"
          ]
        },
        {
          "output_type": "stream",
          "name": "stdout",
          "text": [
            "Extracting ./dataset/FashionMNIST/raw/t10k-labels-idx1-ubyte.gz to ./dataset/FashionMNIST/raw\n",
            "\n"
          ]
        },
        {
          "output_type": "stream",
          "name": "stderr",
          "text": [
            "\n"
          ]
        }
      ]
    },
    {
      "cell_type": "code",
      "source": [
        "train_dataset"
      ],
      "metadata": {
        "colab": {
          "base_uri": "https://localhost:8080/"
        },
        "id": "uyeH-Wv7oNsA",
        "outputId": "a17ebf21-a280-44be-9340-f1f2548f7806"
      },
      "execution_count": null,
      "outputs": [
        {
          "output_type": "execute_result",
          "data": {
            "text/plain": [
              "Dataset FashionMNIST\n",
              "    Number of datapoints: 60000\n",
              "    Root location: ./dataset\n",
              "    Split: Train\n",
              "    StandardTransform\n",
              "Transform: ToTensor()"
            ]
          },
          "metadata": {},
          "execution_count": 4
        }
      ]
    },
    {
      "cell_type": "code",
      "source": [
        "test_dataset"
      ],
      "metadata": {
        "colab": {
          "base_uri": "https://localhost:8080/"
        },
        "id": "ywopy7ADoUtg",
        "outputId": "e886cf3c-9404-44f8-b5c0-e3c2c4eeeef2"
      },
      "execution_count": null,
      "outputs": [
        {
          "output_type": "execute_result",
          "data": {
            "text/plain": [
              "Dataset FashionMNIST\n",
              "    Number of datapoints: 10000\n",
              "    Root location: ./dataset\n",
              "    Split: Test\n",
              "    StandardTransform\n",
              "Transform: ToTensor()"
            ]
          },
          "metadata": {},
          "execution_count": 5
        }
      ]
    },
    {
      "cell_type": "code",
      "source": [
        "len(train_dataset),len(test_dataset)"
      ],
      "metadata": {
        "colab": {
          "base_uri": "https://localhost:8080/"
        },
        "id": "4YpQhUgvoyRb",
        "outputId": "e4d0554b-1d0f-4bae-f745-992d54a41a65"
      },
      "execution_count": null,
      "outputs": [
        {
          "output_type": "execute_result",
          "data": {
            "text/plain": [
              "(60000, 10000)"
            ]
          },
          "metadata": {},
          "execution_count": 6
        }
      ]
    },
    {
      "cell_type": "code",
      "source": [
        "batch_size=64"
      ],
      "metadata": {
        "id": "LbrVLyctoc2t"
      },
      "execution_count": null,
      "outputs": []
    },
    {
      "cell_type": "code",
      "source": [
        "train_batch_loader=DataLoader(train_dataset,batch_size=batch_size,shuffle=True)\n",
        "test_batch_loader=DataLoader(test_dataset,batch_size=batch_size,shuffle=False)"
      ],
      "metadata": {
        "id": "BEU2BJGRoXEh"
      },
      "execution_count": null,
      "outputs": []
    },
    {
      "cell_type": "code",
      "source": [
        "len(train_batch_loader),len(test_batch_loader)"
      ],
      "metadata": {
        "colab": {
          "base_uri": "https://localhost:8080/"
        },
        "id": "G97hPaMKo9wz",
        "outputId": "352d67aa-e31e-406f-858a-c9079802dc5a"
      },
      "execution_count": null,
      "outputs": [
        {
          "output_type": "execute_result",
          "data": {
            "text/plain": [
              "(938, 157)"
            ]
          },
          "metadata": {},
          "execution_count": 9
        }
      ]
    },
    {
      "cell_type": "markdown",
      "source": [
        "###**3. Build a Neural Network for Classification**"
      ],
      "metadata": {
        "id": "9yKOlyA_pFJy"
      }
    },
    {
      "cell_type": "code",
      "source": [
        "class NeuralNetwork(nn.Module):\n",
        "  def __init__(self,in_dim,n_hidden_1,n_hidden_2,out_dim):\n",
        "    super().__init__()\n",
        "    self.layer1=nn.Sequential(\n",
        "        nn.Linear(in_dim,n_hidden_1),\n",
        "        nn.ReLU(True)\n",
        "    )\n",
        "    self.layer2=nn.Sequential(\n",
        "        nn.Linear(n_hidden_1,n_hidden_2),\n",
        "        nn.ReLU(True)\n",
        "    )\n",
        "    self.layer3=nn.Sequential(\n",
        "        nn.Linear(n_hidden_2,out_dim),\n",
        "        nn.ReLU(True)\n",
        "    )\n",
        "\n",
        "  def forward(self,x):\n",
        "    x=self.layer1(x)\n",
        "    x=self.layer2(x)\n",
        "    x=self.layer3(x)\n",
        "    return x\n"
      ],
      "metadata": {
        "id": "CaNSCeuVpCzV"
      },
      "execution_count": null,
      "outputs": []
    },
    {
      "cell_type": "code",
      "source": [
        "in_dim=28*28\n",
        "n_hidden_1=300\n",
        "n_hidden_2=100\n",
        "out_dim=10"
      ],
      "metadata": {
        "id": "yqQ5KgrMrAAB"
      },
      "execution_count": null,
      "outputs": []
    },
    {
      "cell_type": "code",
      "source": [
        "model = NeuralNetwork(in_dim,n_hidden_1,n_hidden_2,out_dim)"
      ],
      "metadata": {
        "id": "jojJRnXErXo0"
      },
      "execution_count": null,
      "outputs": []
    },
    {
      "cell_type": "code",
      "source": [
        "model"
      ],
      "metadata": {
        "colab": {
          "base_uri": "https://localhost:8080/"
        },
        "id": "uv3Oc1-Orn1v",
        "outputId": "a57a8e2f-7f44-4620-cc65-8b4f47dbb095"
      },
      "execution_count": null,
      "outputs": [
        {
          "output_type": "execute_result",
          "data": {
            "text/plain": [
              "NeuralNetwork(\n",
              "  (layer1): Sequential(\n",
              "    (0): Linear(in_features=784, out_features=300, bias=True)\n",
              "    (1): ReLU(inplace=True)\n",
              "  )\n",
              "  (layer2): Sequential(\n",
              "    (0): Linear(in_features=300, out_features=100, bias=True)\n",
              "    (1): ReLU(inplace=True)\n",
              "  )\n",
              "  (layer3): Sequential(\n",
              "    (0): Linear(in_features=100, out_features=10, bias=True)\n",
              "    (1): ReLU(inplace=True)\n",
              "  )\n",
              ")"
            ]
          },
          "metadata": {},
          "execution_count": 24
        }
      ]
    },
    {
      "cell_type": "code",
      "source": [
        "device = \"cuda\" if torch.cuda.is_available() else \"cpu\""
      ],
      "metadata": {
        "id": "wHCrN0TUs19E"
      },
      "execution_count": null,
      "outputs": []
    },
    {
      "cell_type": "code",
      "source": [
        "device"
      ],
      "metadata": {
        "colab": {
          "base_uri": "https://localhost:8080/",
          "height": 36
        },
        "id": "iFGDnu1KtBb6",
        "outputId": "95cf197a-14ce-471d-a2a5-b7f47c25bbb4"
      },
      "execution_count": null,
      "outputs": [
        {
          "output_type": "execute_result",
          "data": {
            "text/plain": [
              "'cuda'"
            ],
            "application/vnd.google.colaboratory.intrinsic+json": {
              "type": "string"
            }
          },
          "metadata": {},
          "execution_count": 26
        }
      ]
    },
    {
      "cell_type": "code",
      "source": [
        "model = model.to(device)"
      ],
      "metadata": {
        "id": "7wiCoEYhtM5K"
      },
      "execution_count": null,
      "outputs": []
    },
    {
      "cell_type": "markdown",
      "source": [
        "###**4. Pick a Loss Function and Optimizer**"
      ],
      "metadata": {
        "id": "MiZP-OMtsGe4"
      }
    },
    {
      "cell_type": "code",
      "source": [
        "learning_rate = 0.001"
      ],
      "metadata": {
        "id": "2XuUPxUsscGU"
      },
      "execution_count": null,
      "outputs": []
    },
    {
      "cell_type": "code",
      "source": [
        "criterion = nn.CrossEntropyLoss()\n",
        "optimizer = torch.optim.Adam(model.parameters(),lr=learning_rate)"
      ],
      "metadata": {
        "id": "qAZKBYXpr3VJ"
      },
      "execution_count": null,
      "outputs": []
    },
    {
      "cell_type": "markdown",
      "source": [
        "###**5. Build a training loop**"
      ],
      "metadata": {
        "id": "ueMbx7cUslfp"
      }
    },
    {
      "cell_type": "code",
      "source": [
        "epochs=10"
      ],
      "metadata": {
        "id": "mNgL6MBwsSTS"
      },
      "execution_count": null,
      "outputs": []
    },
    {
      "cell_type": "code",
      "source": [
        "#training loop\n",
        "for epoch in range(epochs):\n",
        "  print(\"*\"*10)\n",
        "  print(f\"Epoch : {epoch+1}\")\n",
        "  running_loss=0.0\n",
        "  running_acc=0.0\n",
        "  for i,data in enumerate(train_batch_loader,1):\n",
        "      img,label=data\n",
        "      img=img.view(img.size(0),-1)\n",
        "      img=img.to(device)\n",
        "      label=label.to(device)\n",
        "      out=model(img)\n",
        "      loss=criterion(out,label)\n",
        "      running_loss+=loss.item()\n",
        "      _,pred=torch.max(out,1)\n",
        "      running_acc+=(pred==label).float().mean()\n",
        "      optimizer.zero_grad()\n",
        "      loss.backward()\n",
        "      optimizer.step()\n",
        "      if i%300 == 0:\n",
        "        print(f\"[{epoch+1}/{epochs}],loss:{running_loss/i:.6f},Accuracy:{running_acc/i:.6f}\")\n",
        "\n",
        "  print(f\"Finish:{epoch+1},loss={running_loss/i:.6f},Accuracy:{running_acc/i:.6f}\")"
      ],
      "metadata": {
        "colab": {
          "base_uri": "https://localhost:8080/"
        },
        "id": "gP7iG1i7swT6",
        "outputId": "abb4097e-02b5-432f-d974-5640fb16d373"
      },
      "execution_count": null,
      "outputs": [
        {
          "output_type": "stream",
          "name": "stdout",
          "text": [
            "**********\n",
            "Epoch : 1\n",
            "[1/10],loss:1.175697,Accuracy:0.559010\n",
            "[1/10],loss:1.129011,Accuracy:0.570573\n",
            "[1/10],loss:1.104933,Accuracy:0.576163\n",
            "Finish:1,loss=1.102816,Accuracy:0.577192\n",
            "**********\n",
            "Epoch : 2\n",
            "[2/10],loss:1.022190,Accuracy:0.598490\n",
            "[2/10],loss:1.019710,Accuracy:0.598672\n",
            "[2/10],loss:1.012309,Accuracy:0.601094\n",
            "Finish:2,loss=1.011817,Accuracy:0.601463\n",
            "**********\n",
            "Epoch : 3\n",
            "[3/10],loss:0.981597,Accuracy:0.610729\n",
            "[3/10],loss:0.983417,Accuracy:0.608672\n",
            "[3/10],loss:0.984261,Accuracy:0.607813\n",
            "Finish:3,loss=0.982709,Accuracy:0.608709\n",
            "**********\n",
            "Epoch : 4\n",
            "[4/10],loss:0.960271,Accuracy:0.614323\n",
            "[4/10],loss:0.967838,Accuracy:0.612031\n",
            "[4/10],loss:0.961382,Accuracy:0.615035\n",
            "Finish:4,loss=0.960820,Accuracy:0.615438\n",
            "**********\n",
            "Epoch : 5\n",
            "[5/10],loss:0.944609,Accuracy:0.622135\n",
            "[5/10],loss:0.947751,Accuracy:0.619844\n",
            "[5/10],loss:0.950001,Accuracy:0.618507\n",
            "Finish:5,loss=0.950730,Accuracy:0.618070\n",
            "**********\n",
            "Epoch : 6\n",
            "[6/10],loss:0.938241,Accuracy:0.625313\n",
            "[6/10],loss:0.939772,Accuracy:0.623438\n",
            "[6/10],loss:0.937664,Accuracy:0.622899\n",
            "Finish:6,loss=0.938637,Accuracy:0.622152\n",
            "**********\n",
            "Epoch : 7\n",
            "[7/10],loss:0.939909,Accuracy:0.616354\n",
            "[7/10],loss:0.926365,Accuracy:0.624010\n",
            "[7/10],loss:0.927046,Accuracy:0.624479\n",
            "Finish:7,loss=0.927582,Accuracy:0.624200\n",
            "**********\n",
            "Epoch : 8\n",
            "[8/10],loss:0.930796,Accuracy:0.624063\n",
            "[8/10],loss:0.920059,Accuracy:0.627370\n",
            "[8/10],loss:0.920315,Accuracy:0.627031\n",
            "Finish:8,loss=0.919337,Accuracy:0.627582\n",
            "**********\n",
            "Epoch : 9\n",
            "[9/10],loss:0.900763,Accuracy:0.631094\n",
            "[9/10],loss:0.907527,Accuracy:0.628333\n",
            "[9/10],loss:0.910144,Accuracy:0.628663\n",
            "Finish:9,loss=0.911138,Accuracy:0.628332\n",
            "**********\n",
            "Epoch : 10\n",
            "[10/10],loss:0.906589,Accuracy:0.628750\n",
            "[10/10],loss:0.896788,Accuracy:0.632708\n",
            "[10/10],loss:0.903475,Accuracy:0.630903\n",
            "Finish:10,loss=0.903611,Accuracy:0.630864\n"
          ]
        }
      ]
    },
    {
      "cell_type": "markdown",
      "source": [
        "###**5. Evaluate Your model**"
      ],
      "metadata": {
        "id": "bwKTQoVFwh6Z"
      }
    },
    {
      "cell_type": "code",
      "source": [
        "model.eval()\n",
        "eval_loss=0.0\n",
        "eval_acc=0.0\n",
        "for data in test_batch_loader:\n",
        "  img,label=data\n",
        "  img=img.view(img.size(0),-1)\n",
        "  img=img.to(device)\n",
        "  label=label.to(device)\n",
        "  with torch.no_grad():\n",
        "    out=model(img)\n",
        "    loss=criterion(out,label)\n",
        "    eval_loss+=loss.item()\n",
        "    _,pred=torch.max(out,1)\n",
        "    eval_acc+=(pred==label).float().mean()\n",
        "print(f\"Test loss={eval_loss/len(test_batch_loader):.6f},Accuracy:{eval_acc/len(test_batch_loader):.6f}\")"
      ],
      "metadata": {
        "colab": {
          "base_uri": "https://localhost:8080/"
        },
        "id": "0vHJUIAfwT_y",
        "outputId": "c7d97502-92ce-4440-b616-ef9bbef1c475"
      },
      "execution_count": null,
      "outputs": [
        {
          "output_type": "stream",
          "name": "stdout",
          "text": [
            "Test loss=0.977050,Accuracy:0.613754\n"
          ]
        }
      ]
    },
    {
      "cell_type": "markdown",
      "source": [
        "##5.1 Visualize the data"
      ],
      "metadata": {
        "id": "tgIwzr1dyTY9"
      }
    },
    {
      "cell_type": "code",
      "source": [
        "images,labels=next(iter(test_batch_loader))\n",
        "images=images.reshape(-1,28*28).to(device)\n",
        "labels=labels.to(device)\n",
        "outputs=model(images)\n",
        "_,pred=torch.max(outputs,1)\n",
        "fix,ax=plt.subplots(1,5,figsize=(10,5))\n",
        "for i in range(5):\n",
        "  ax[i].imshow(images[i].reshape(28,28).cpu(),cmap='gray')\n",
        "  ax[i].set_title(f\"True:{label[i].item()} Pred:{pred[i].item()}\")\n",
        "  ax[i].axis('off')\n",
        "plt.show()\n",
        "\n",
        "\n"
      ],
      "metadata": {
        "colab": {
          "base_uri": "https://localhost:8080/",
          "height": 192
        },
        "id": "Fy0bf7_LyX5t",
        "outputId": "87ebfca4-f67f-467a-a63a-592c3e4d60f4"
      },
      "execution_count": null,
      "outputs": [
        {
          "output_type": "display_data",
          "data": {
            "text/plain": [
              "<Figure size 1000x500 with 5 Axes>"
            ],
            "image/png": "[encoded data removed]"
          },
          "metadata": {}
        }
      ]
    },
    {
      "cell_type": "markdown",
      "source": [
        "###**6. Improve the neural Network model**"
      ],
      "metadata": {
        "id": "G369ATIlyGEJ"
      }
    },
    {
      "cell_type": "markdown",
      "source": [
        "change Learninhg rate<br>\n",
        "add layers<br>\n",
        "change activation function<br>"
      ],
      "metadata": {
        "id": "YtNnaeEsyMfX"
      }
    },
    {
      "cell_type": "markdown",
      "source": [
        "###**7. Save Model**"
      ],
      "metadata": {
        "id": "QEA-Fn871lOq"
      }
    },
    {
      "cell_type": "code",
      "source": [
        "torch.save(model.state_dict(),'./Classification_pytorch.pth')"
      ],
      "metadata": {
        "id": "5Prcccjm1oTi"
      },
      "execution_count": null,
      "outputs": []
    }
  ]
}