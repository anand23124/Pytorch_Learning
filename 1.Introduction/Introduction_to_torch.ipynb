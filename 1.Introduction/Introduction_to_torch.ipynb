{
  "nbformat": 4,
  "nbformat_minor": 0,
  "metadata": {
    "colab": {
      "provenance": []
    },
    "kernelspec": {
      "name": "python3",
      "display_name": "Python 3"
    },
    "language_info": {
      "name": "python"
    }
  },
  "cells": [
    {
      "cell_type": "code",
      "execution_count": null,
      "metadata": {
        "id": "FcZlgAyxGxo0"
      },
      "outputs": [],
      "source": [
        "import torch\n",
        "torch.__version__"
      ]
    },
    {
      "cell_type": "markdown",
      "source": [
        "#Introduction to *tensor*"
      ],
      "metadata": {
        "id": "4TrdVIrsIGES"
      }
    },
    {
      "cell_type": "markdown",
      "source": [
        "##creating tensor"
      ],
      "metadata": {
        "id": "bqnEQN2NJhEo"
      }
    },
    {
      "cell_type": "markdown",
      "source": [
        "1.**scalar**"
      ],
      "metadata": {
        "id": "aBcac891JmAI"
      }
    },
    {
      "cell_type": "code",
      "source": [
        "scalar=torch.tensor(8)\n",
        "scalar"
      ],
      "metadata": {
        "colab": {
          "base_uri": "https://localhost:8080/"
        },
        "id": "gI4atXzbI4T1",
        "outputId": "d426f0d7-0d37-4307-acfd-072f5f04bef3"
      },
      "execution_count": null,
      "outputs": [
        {
          "output_type": "execute_result",
          "data": {
            "text/plain": [
              "tensor(8)"
            ]
          },
          "metadata": {},
          "execution_count": 25
        }
      ]
    },
    {
      "cell_type": "code",
      "source": [
        "scalar.ndim"
      ],
      "metadata": {
        "colab": {
          "base_uri": "https://localhost:8080/"
        },
        "id": "KYEL4pNNJukm",
        "outputId": "b46f3522-d8b8-49b2-cf71-8ac2baf5a70a"
      },
      "execution_count": null,
      "outputs": [
        {
          "output_type": "execute_result",
          "data": {
            "text/plain": [
              "0"
            ]
          },
          "metadata": {},
          "execution_count": 26
        }
      ]
    },
    {
      "cell_type": "markdown",
      "source": [
        "2.**vector**"
      ],
      "metadata": {
        "id": "Q_L2WIyiMRHn"
      }
    },
    {
      "cell_type": "code",
      "source": [
        "vector = torch.tensor([1,2]) #no of opening sq bracket is equal to ndim\n",
        "vector"
      ],
      "metadata": {
        "colab": {
          "base_uri": "https://localhost:8080/"
        },
        "id": "GIRuB2oUJ_jI",
        "outputId": "e78681a5-b955-4969-baf6-89b014637cfa"
      },
      "execution_count": null,
      "outputs": [
        {
          "output_type": "execute_result",
          "data": {
            "text/plain": [
              "tensor([1, 2])"
            ]
          },
          "metadata": {},
          "execution_count": 27
        }
      ]
    },
    {
      "cell_type": "code",
      "source": [
        "vector.ndim"
      ],
      "metadata": {
        "colab": {
          "base_uri": "https://localhost:8080/"
        },
        "id": "Zy3hFQtAMZit",
        "outputId": "50b0e179-7b20-4979-f445-79d9a8f0eb53"
      },
      "execution_count": null,
      "outputs": [
        {
          "output_type": "execute_result",
          "data": {
            "text/plain": [
              "1"
            ]
          },
          "metadata": {},
          "execution_count": 28
        }
      ]
    },
    {
      "cell_type": "code",
      "source": [
        "vector.shape #no of element in tensors"
      ],
      "metadata": {
        "colab": {
          "base_uri": "https://localhost:8080/"
        },
        "id": "n916yWZ0Mx6C",
        "outputId": "50437e70-12c1-49c5-9572-66aec226444b"
      },
      "execution_count": null,
      "outputs": [
        {
          "output_type": "execute_result",
          "data": {
            "text/plain": [
              "torch.Size([2])"
            ]
          },
          "metadata": {},
          "execution_count": 29
        }
      ]
    },
    {
      "cell_type": "markdown",
      "source": [
        "3.**Matrix**"
      ],
      "metadata": {
        "id": "oFRYrFn9MsvF"
      }
    },
    {
      "cell_type": "code",
      "source": [
        "matrix=torch.tensor([[1,2,3,4],[4,5,6,6],[7,8,9,1]])\n",
        "matrix"
      ],
      "metadata": {
        "colab": {
          "base_uri": "https://localhost:8080/"
        },
        "id": "SMk7P3OhMbxx",
        "outputId": "2defc714-0043-4fa4-c60c-b8e03e182ba7"
      },
      "execution_count": null,
      "outputs": [
        {
          "output_type": "execute_result",
          "data": {
            "text/plain": [
              "tensor([[1, 2, 3, 4],\n",
              "        [4, 5, 6, 6],\n",
              "        [7, 8, 9, 1]])"
            ]
          },
          "metadata": {},
          "execution_count": 30
        }
      ]
    },
    {
      "cell_type": "code",
      "source": [
        "matrix.ndim"
      ],
      "metadata": {
        "colab": {
          "base_uri": "https://localhost:8080/"
        },
        "id": "LGMhWXz_NMBY",
        "outputId": "8f4e1193-fbd5-43a6-fadc-e6604b501d0f"
      },
      "execution_count": null,
      "outputs": [
        {
          "output_type": "execute_result",
          "data": {
            "text/plain": [
              "2"
            ]
          },
          "metadata": {},
          "execution_count": 31
        }
      ]
    },
    {
      "cell_type": "code",
      "source": [
        "matrix.shape  # rows and columns multiply them to get total no of elements"
      ],
      "metadata": {
        "colab": {
          "base_uri": "https://localhost:8080/"
        },
        "id": "7XEeZbNENO0Z",
        "outputId": "43fbfcbb-fcb6-478c-c6da-32f1509903da"
      },
      "execution_count": null,
      "outputs": [
        {
          "output_type": "execute_result",
          "data": {
            "text/plain": [
              "torch.Size([3, 4])"
            ]
          },
          "metadata": {},
          "execution_count": 32
        }
      ]
    },
    {
      "cell_type": "markdown",
      "source": [
        "4.**Tensor**"
      ],
      "metadata": {
        "id": "DHfPKsQmOTkf"
      }
    },
    {
      "cell_type": "code",
      "source": [
        "tensor = torch.tensor([[[1,2,3,4],\n",
        "                        [4,5,6,7],\n",
        "                         [7,8,9,10]]])\n",
        "tensor"
      ],
      "metadata": {
        "colab": {
          "base_uri": "https://localhost:8080/"
        },
        "id": "9NhdpKXwORNc",
        "outputId": "e86a2c87-a238-408c-ec25-61884550263d"
      },
      "execution_count": null,
      "outputs": [
        {
          "output_type": "execute_result",
          "data": {
            "text/plain": [
              "tensor([[[ 1,  2,  3,  4],\n",
              "         [ 4,  5,  6,  7],\n",
              "         [ 7,  8,  9, 10]]])"
            ]
          },
          "metadata": {},
          "execution_count": 33
        }
      ]
    },
    {
      "cell_type": "code",
      "source": [
        "tensor.ndim"
      ],
      "metadata": {
        "colab": {
          "base_uri": "https://localhost:8080/"
        },
        "id": "gAr_FrZaO80t",
        "outputId": "ec36419a-10f4-4d0c-87f4-711df81c8475"
      },
      "execution_count": null,
      "outputs": [
        {
          "output_type": "execute_result",
          "data": {
            "text/plain": [
              "3"
            ]
          },
          "metadata": {},
          "execution_count": 34
        }
      ]
    },
    {
      "cell_type": "code",
      "source": [
        "tensor.shape"
      ],
      "metadata": {
        "colab": {
          "base_uri": "https://localhost:8080/"
        },
        "id": "bQhRaPm5O-75",
        "outputId": "9583a432-b97f-4258-b31a-9092d6201282"
      },
      "execution_count": null,
      "outputs": [
        {
          "output_type": "execute_result",
          "data": {
            "text/plain": [
              "torch.Size([1, 3, 4])"
            ]
          },
          "metadata": {},
          "execution_count": 35
        }
      ]
    },
    {
      "cell_type": "markdown",
      "source": [
        "## Random Tensor"
      ],
      "metadata": {
        "id": "tqU-dwPlQY2W"
      }
    },
    {
      "cell_type": "code",
      "source": [
        "random=torch.rand(size=(10,5))"
      ],
      "metadata": {
        "id": "R8kNO_a5PATB"
      },
      "execution_count": null,
      "outputs": []
    },
    {
      "cell_type": "code",
      "source": [
        "random"
      ],
      "metadata": {
        "colab": {
          "base_uri": "https://localhost:8080/"
        },
        "id": "gBSFhcD0Qphu",
        "outputId": "9cebb9f4-1e92-4077-a81d-dbef35e2d21a"
      },
      "execution_count": null,
      "outputs": [
        {
          "output_type": "execute_result",
          "data": {
            "text/plain": [
              "tensor([[0.4985, 0.9987, 0.6049, 0.5229, 0.6974],\n",
              "        [0.2505, 0.3624, 0.4621, 0.7145, 0.5058],\n",
              "        [0.0518, 0.2492, 0.2395, 0.4233, 0.0022],\n",
              "        [0.6848, 0.7497, 0.2489, 0.3490, 0.1953],\n",
              "        [0.2792, 0.2526, 0.3792, 0.7686, 0.6907],\n",
              "        [0.7526, 0.1184, 0.8699, 0.8391, 0.0532],\n",
              "        [0.1705, 0.2914, 0.5682, 0.0380, 0.2715],\n",
              "        [0.6987, 0.0944, 0.6719, 0.3782, 0.8738],\n",
              "        [0.7267, 0.9486, 0.4388, 0.4589, 0.0359],\n",
              "        [0.3525, 0.0389, 0.3880, 0.1319, 0.5018]])"
            ]
          },
          "metadata": {},
          "execution_count": 37
        }
      ]
    },
    {
      "cell_type": "code",
      "source": [
        "bigger_tensor=torch.rand(5,3,4)\n",
        "bigger_tensor"
      ],
      "metadata": {
        "colab": {
          "base_uri": "https://localhost:8080/"
        },
        "id": "l-jte9JKQqY0",
        "outputId": "c385c4ac-bb88-40fd-b24c-b36c34bea4f8"
      },
      "execution_count": null,
      "outputs": [
        {
          "output_type": "execute_result",
          "data": {
            "text/plain": [
              "tensor([[[0.8077, 0.9322, 0.5680, 0.5034],\n",
              "         [0.2074, 0.4779, 0.4203, 0.4014],\n",
              "         [0.0436, 0.6490, 0.9007, 0.8274]],\n",
              "\n",
              "        [[0.3785, 0.7518, 0.2839, 0.7220],\n",
              "         [0.8421, 0.2474, 0.6834, 0.0551],\n",
              "         [0.7824, 0.7901, 0.9596, 0.6065]],\n",
              "\n",
              "        [[0.5926, 0.7300, 0.9768, 0.9680],\n",
              "         [0.1494, 0.9826, 0.7921, 0.5842],\n",
              "         [0.9628, 0.3192, 0.5750, 0.1538]],\n",
              "\n",
              "        [[0.2540, 0.9703, 0.5020, 0.3018],\n",
              "         [0.8832, 0.1921, 0.7686, 0.2524],\n",
              "         [0.3668, 0.0484, 0.7829, 0.7032]],\n",
              "\n",
              "        [[0.7265, 0.5794, 0.1412, 0.8105],\n",
              "         [0.9284, 0.9444, 0.6538, 0.5344],\n",
              "         [0.8025, 0.5484, 0.5738, 0.4225]]])"
            ]
          },
          "metadata": {},
          "execution_count": 38
        }
      ]
    },
    {
      "cell_type": "markdown",
      "source": [
        "**zeros and ones**"
      ],
      "metadata": {
        "id": "dFVu5XuCR9AQ"
      }
    },
    {
      "cell_type": "code",
      "source": [
        "zeros = torch.zeros(5,3,4)"
      ],
      "metadata": {
        "id": "esjKYUcoRFfN"
      },
      "execution_count": null,
      "outputs": []
    },
    {
      "cell_type": "code",
      "source": [
        "zeros"
      ],
      "metadata": {
        "colab": {
          "base_uri": "https://localhost:8080/"
        },
        "id": "rjNUJvJPSH0M",
        "outputId": "9ba438ba-9f51-46a2-ce33-85ff9bc70026"
      },
      "execution_count": null,
      "outputs": [
        {
          "output_type": "execute_result",
          "data": {
            "text/plain": [
              "tensor([[[0., 0., 0., 0.],\n",
              "         [0., 0., 0., 0.],\n",
              "         [0., 0., 0., 0.]],\n",
              "\n",
              "        [[0., 0., 0., 0.],\n",
              "         [0., 0., 0., 0.],\n",
              "         [0., 0., 0., 0.]],\n",
              "\n",
              "        [[0., 0., 0., 0.],\n",
              "         [0., 0., 0., 0.],\n",
              "         [0., 0., 0., 0.]],\n",
              "\n",
              "        [[0., 0., 0., 0.],\n",
              "         [0., 0., 0., 0.],\n",
              "         [0., 0., 0., 0.]],\n",
              "\n",
              "        [[0., 0., 0., 0.],\n",
              "         [0., 0., 0., 0.],\n",
              "         [0., 0., 0., 0.]]])"
            ]
          },
          "metadata": {},
          "execution_count": 40
        }
      ]
    },
    {
      "cell_type": "code",
      "source": [
        "ones = torch.ones(4,3,4)\n",
        "ones"
      ],
      "metadata": {
        "colab": {
          "base_uri": "https://localhost:8080/"
        },
        "id": "GKk-zNAXSIu8",
        "outputId": "904abcdf-b9db-4fc6-9bc2-9478c427bed1"
      },
      "execution_count": null,
      "outputs": [
        {
          "output_type": "execute_result",
          "data": {
            "text/plain": [
              "tensor([[[1., 1., 1., 1.],\n",
              "         [1., 1., 1., 1.],\n",
              "         [1., 1., 1., 1.]],\n",
              "\n",
              "        [[1., 1., 1., 1.],\n",
              "         [1., 1., 1., 1.],\n",
              "         [1., 1., 1., 1.]],\n",
              "\n",
              "        [[1., 1., 1., 1.],\n",
              "         [1., 1., 1., 1.],\n",
              "         [1., 1., 1., 1.]],\n",
              "\n",
              "        [[1., 1., 1., 1.],\n",
              "         [1., 1., 1., 1.],\n",
              "         [1., 1., 1., 1.]]])"
            ]
          },
          "metadata": {},
          "execution_count": 41
        }
      ]
    },
    {
      "cell_type": "markdown",
      "source": [
        "**Creating arange and tensors_like**"
      ],
      "metadata": {
        "id": "7eDDmO1WSaDZ"
      }
    },
    {
      "cell_type": "code",
      "source": [
        "x = torch.arange(1,10) # start and end params\n",
        "x # always print from start to end-1"
      ],
      "metadata": {
        "colab": {
          "base_uri": "https://localhost:8080/"
        },
        "id": "D0o8jChbSSI-",
        "outputId": "af53f3cd-1376-41a2-8f07-d2a85d075971"
      },
      "execution_count": null,
      "outputs": [
        {
          "output_type": "execute_result",
          "data": {
            "text/plain": [
              "tensor([1, 2, 3, 4, 5, 6, 7, 8, 9])"
            ]
          },
          "metadata": {},
          "execution_count": 42
        }
      ]
    },
    {
      "cell_type": "code",
      "source": [
        "x = torch.arange(1,10,2) # start , end , stepsize"
      ],
      "metadata": {
        "id": "EecG4knNSykl"
      },
      "execution_count": null,
      "outputs": []
    },
    {
      "cell_type": "code",
      "source": [
        "x"
      ],
      "metadata": {
        "colab": {
          "base_uri": "https://localhost:8080/"
        },
        "id": "q8xOKCp4S4ik",
        "outputId": "7ad81aaf-5de5-4b93-9a4c-6a416c492cb1"
      },
      "execution_count": null,
      "outputs": [
        {
          "output_type": "execute_result",
          "data": {
            "text/plain": [
              "tensor([1, 3, 5, 7, 9])"
            ]
          },
          "metadata": {},
          "execution_count": 44
        }
      ]
    },
    {
      "cell_type": "code",
      "source": [
        "x = torch.arange(0,50,2) # start and end params\n",
        "x # always print from start to end-1"
      ],
      "metadata": {
        "colab": {
          "base_uri": "https://localhost:8080/"
        },
        "id": "nanbp9MyS5OB",
        "outputId": "ffd1a437-4848-4e55-82f9-f9531576344e"
      },
      "execution_count": null,
      "outputs": [
        {
          "output_type": "execute_result",
          "data": {
            "text/plain": [
              "tensor([ 0,  2,  4,  6,  8, 10, 12, 14, 16, 18, 20, 22, 24, 26, 28, 30, 32, 34,\n",
              "        36, 38, 40, 42, 44, 46, 48])"
            ]
          },
          "metadata": {},
          "execution_count": 45
        }
      ]
    },
    {
      "cell_type": "markdown",
      "source": [
        "**tensors_like**"
      ],
      "metadata": {
        "id": "80Ak8mnITjlA"
      }
    },
    {
      "cell_type": "code",
      "source": [
        "sample = torch.rand(3,4)\n",
        "sample"
      ],
      "metadata": {
        "colab": {
          "base_uri": "https://localhost:8080/"
        },
        "id": "X11_alrPThZp",
        "outputId": "1a2f2961-d1dc-4fd3-c28a-5a1e276c74ec"
      },
      "execution_count": null,
      "outputs": [
        {
          "output_type": "execute_result",
          "data": {
            "text/plain": [
              "tensor([[0.7506, 0.6641, 0.3130, 0.9395],\n",
              "        [0.3158, 0.9486, 0.2662, 0.1538],\n",
              "        [0.4508, 0.7602, 0.8260, 0.4980]])"
            ]
          },
          "metadata": {},
          "execution_count": 46
        }
      ]
    },
    {
      "cell_type": "code",
      "source": [
        "zeros = torch.zeros_like(sample)\n",
        "zeros"
      ],
      "metadata": {
        "colab": {
          "base_uri": "https://localhost:8080/"
        },
        "id": "S8nLaG7sTslz",
        "outputId": "411a2b46-bb3a-421b-e268-56d104a62d80"
      },
      "execution_count": null,
      "outputs": [
        {
          "output_type": "execute_result",
          "data": {
            "text/plain": [
              "tensor([[0., 0., 0., 0.],\n",
              "        [0., 0., 0., 0.],\n",
              "        [0., 0., 0., 0.]])"
            ]
          },
          "metadata": {},
          "execution_count": 47
        }
      ]
    },
    {
      "cell_type": "code",
      "source": [
        "ones = torch.ones_like(sample)\n",
        "ones"
      ],
      "metadata": {
        "colab": {
          "base_uri": "https://localhost:8080/"
        },
        "id": "N6T1mOp0T1R5",
        "outputId": "9dfe7da2-a872-4aee-e55e-6476ece970cc"
      },
      "execution_count": null,
      "outputs": [
        {
          "output_type": "execute_result",
          "data": {
            "text/plain": [
              "tensor([[1., 1., 1., 1.],\n",
              "        [1., 1., 1., 1.],\n",
              "        [1., 1., 1., 1.]])"
            ]
          },
          "metadata": {},
          "execution_count": 48
        }
      ]
    },
    {
      "cell_type": "markdown",
      "source": [
        "**torch.eye**"
      ],
      "metadata": {
        "id": "KHzp50GZUQvD"
      }
    },
    {
      "cell_type": "code",
      "source": [
        "eye = torch.eye(10) # Identity matrix with only elements in diagonal with n * n matrix\n",
        "eye"
      ],
      "metadata": {
        "colab": {
          "base_uri": "https://localhost:8080/"
        },
        "id": "1Uzq-zJkUFvi",
        "outputId": "746ed693-6a91-4bd9-86bc-9b355ba46d28"
      },
      "execution_count": null,
      "outputs": [
        {
          "output_type": "execute_result",
          "data": {
            "text/plain": [
              "tensor([[1., 0., 0., 0., 0., 0., 0., 0., 0., 0.],\n",
              "        [0., 1., 0., 0., 0., 0., 0., 0., 0., 0.],\n",
              "        [0., 0., 1., 0., 0., 0., 0., 0., 0., 0.],\n",
              "        [0., 0., 0., 1., 0., 0., 0., 0., 0., 0.],\n",
              "        [0., 0., 0., 0., 1., 0., 0., 0., 0., 0.],\n",
              "        [0., 0., 0., 0., 0., 1., 0., 0., 0., 0.],\n",
              "        [0., 0., 0., 0., 0., 0., 1., 0., 0., 0.],\n",
              "        [0., 0., 0., 0., 0., 0., 0., 1., 0., 0.],\n",
              "        [0., 0., 0., 0., 0., 0., 0., 0., 1., 0.],\n",
              "        [0., 0., 0., 0., 0., 0., 0., 0., 0., 1.]])"
            ]
          },
          "metadata": {},
          "execution_count": 49
        }
      ]
    },
    {
      "cell_type": "markdown",
      "source": [
        "**torch.full**"
      ],
      "metadata": {
        "id": "17yAZdGuUofq"
      }
    },
    {
      "cell_type": "code",
      "source": [
        "full = torch.full((2,5),10)\n",
        "full"
      ],
      "metadata": {
        "colab": {
          "base_uri": "https://localhost:8080/"
        },
        "id": "8HPkEUiCUV8r",
        "outputId": "9be7ab80-e2d9-4b34-f065-fd345b3988d7"
      },
      "execution_count": null,
      "outputs": [
        {
          "output_type": "execute_result",
          "data": {
            "text/plain": [
              "tensor([[10, 10, 10, 10, 10],\n",
              "        [10, 10, 10, 10, 10]])"
            ]
          },
          "metadata": {},
          "execution_count": 50
        }
      ]
    },
    {
      "cell_type": "markdown",
      "source": [
        "**torch.linespace**"
      ],
      "metadata": {
        "id": "cvu-Jx0RkEXu"
      }
    },
    {
      "cell_type": "code",
      "source": [
        "x = torch.arange(1,10,2)\n",
        "x"
      ],
      "metadata": {
        "colab": {
          "base_uri": "https://localhost:8080/"
        },
        "id": "81yiMuUyU0dJ",
        "outputId": "2514821a-5794-4d70-8046-3d512987dc42"
      },
      "execution_count": null,
      "outputs": [
        {
          "output_type": "execute_result",
          "data": {
            "text/plain": [
              "tensor([1, 3, 5, 7, 9])"
            ]
          },
          "metadata": {},
          "execution_count": 51
        }
      ]
    },
    {
      "cell_type": "code",
      "source": [
        "linear_tensor = torch.linspace(1,10,50) # stops at en not line arange and it create n steps between them only\n",
        "linear_tensor"
      ],
      "metadata": {
        "colab": {
          "base_uri": "https://localhost:8080/"
        },
        "id": "fYl2rW5nxfru",
        "outputId": "3e2b1156-e59b-47a7-c2b0-3513eb040c3a"
      },
      "execution_count": null,
      "outputs": [
        {
          "output_type": "execute_result",
          "data": {
            "text/plain": [
              "tensor([ 1.0000,  1.1837,  1.3673,  1.5510,  1.7347,  1.9184,  2.1020,  2.2857,\n",
              "         2.4694,  2.6531,  2.8367,  3.0204,  3.2041,  3.3878,  3.5714,  3.7551,\n",
              "         3.9388,  4.1224,  4.3061,  4.4898,  4.6735,  4.8571,  5.0408,  5.2245,\n",
              "         5.4082,  5.5918,  5.7755,  5.9592,  6.1429,  6.3265,  6.5102,  6.6939,\n",
              "         6.8776,  7.0612,  7.2449,  7.4286,  7.6122,  7.7959,  7.9796,  8.1633,\n",
              "         8.3469,  8.5306,  8.7143,  8.8980,  9.0816,  9.2653,  9.4490,  9.6327,\n",
              "         9.8163, 10.0000])"
            ]
          },
          "metadata": {},
          "execution_count": 52
        }
      ]
    },
    {
      "cell_type": "markdown",
      "source": [
        "**Tensor Datatypes**"
      ],
      "metadata": {
        "id": "NZTiHbAKybsO"
      }
    },
    {
      "cell_type": "code",
      "source": [
        "sample = torch.rand(3,4)  #default float 32 for backward propogration it is useful\n",
        "sample"
      ],
      "metadata": {
        "colab": {
          "base_uri": "https://localhost:8080/"
        },
        "id": "To1AvFrhx132",
        "outputId": "b23abe29-b1c4-42cc-bca2-e8a7ba33509a"
      },
      "execution_count": null,
      "outputs": [
        {
          "output_type": "execute_result",
          "data": {
            "text/plain": [
              "tensor([[0.0992, 0.2705, 0.3298, 0.0929],\n",
              "        [0.5143, 0.5082, 0.7539, 0.6718],\n",
              "        [0.8547, 0.6662, 0.1022, 0.3406]])"
            ]
          },
          "metadata": {},
          "execution_count": 53
        }
      ]
    },
    {
      "cell_type": "code",
      "source": [
        "sample.dtype"
      ],
      "metadata": {
        "colab": {
          "base_uri": "https://localhost:8080/"
        },
        "id": "xkc59Dm3y2Y6",
        "outputId": "1d92654e-ab40-4db6-a2b8-1923b9d61550"
      },
      "execution_count": null,
      "outputs": [
        {
          "output_type": "execute_result",
          "data": {
            "text/plain": [
              "torch.float32"
            ]
          },
          "metadata": {},
          "execution_count": 54
        }
      ]
    },
    {
      "cell_type": "code",
      "source": [
        "sample = torch.arange(3.,4.,dtype=int)\n",
        "sample"
      ],
      "metadata": {
        "colab": {
          "base_uri": "https://localhost:8080/"
        },
        "id": "nV715iMLzBQK",
        "outputId": "f9215e0b-488e-4b0a-c4b6-229e7b1de9f1"
      },
      "execution_count": null,
      "outputs": [
        {
          "output_type": "execute_result",
          "data": {
            "text/plain": [
              "tensor([3])"
            ]
          },
          "metadata": {},
          "execution_count": 55
        }
      ]
    },
    {
      "cell_type": "code",
      "source": [
        "sample.dtype"
      ],
      "metadata": {
        "colab": {
          "base_uri": "https://localhost:8080/"
        },
        "id": "RtJJZuNIzTDb",
        "outputId": "0532a8e2-94f1-4222-a478-fab91d422476"
      },
      "execution_count": null,
      "outputs": [
        {
          "output_type": "execute_result",
          "data": {
            "text/plain": [
              "torch.int64"
            ]
          },
          "metadata": {},
          "execution_count": 56
        }
      ]
    },
    {
      "cell_type": "markdown",
      "source": [
        "**Change tensor datatype**"
      ],
      "metadata": {
        "id": "NEIg3R7Z0LbW"
      }
    },
    {
      "cell_type": "code",
      "source": [
        "tensor = torch.arange(1.,10.)\n",
        "tensor,tensor.dtype"
      ],
      "metadata": {
        "colab": {
          "base_uri": "https://localhost:8080/"
        },
        "id": "A9qy67dQzXpg",
        "outputId": "4660a188-4fd4-4e65-b994-fa28ce5a9f67"
      },
      "execution_count": null,
      "outputs": [
        {
          "output_type": "execute_result",
          "data": {
            "text/plain": [
              "(tensor([1., 2., 3., 4., 5., 6., 7., 8., 9.]), torch.float32)"
            ]
          },
          "metadata": {},
          "execution_count": 57
        }
      ]
    },
    {
      "cell_type": "code",
      "source": [
        "tensor_float16 = tensor.type(torch.float16)  # quality down\n",
        "tensor_float16,tensor_float16.dtype"
      ],
      "metadata": {
        "colab": {
          "base_uri": "https://localhost:8080/"
        },
        "id": "VO6bngrg0XCh",
        "outputId": "8af4a1e9-cccd-4a49-d982-0075c5c9ac55"
      },
      "execution_count": null,
      "outputs": [
        {
          "output_type": "execute_result",
          "data": {
            "text/plain": [
              "(tensor([1., 2., 3., 4., 5., 6., 7., 8., 9.], dtype=torch.float16),\n",
              " torch.float16)"
            ]
          },
          "metadata": {},
          "execution_count": 58
        }
      ]
    },
    {
      "cell_type": "code",
      "source": [
        "tensor_float16 = tensor.type(torch.int8)  # quality down\n",
        "tensor_float16,tensor_float16.dtype"
      ],
      "metadata": {
        "colab": {
          "base_uri": "https://localhost:8080/"
        },
        "id": "D27E0dBE0mzI",
        "outputId": "33856547-a9ee-4240-a81b-7b35337709dd"
      },
      "execution_count": null,
      "outputs": [
        {
          "output_type": "execute_result",
          "data": {
            "text/plain": [
              "(tensor([1, 2, 3, 4, 5, 6, 7, 8, 9], dtype=torch.int8), torch.int8)"
            ]
          },
          "metadata": {},
          "execution_count": 59
        }
      ]
    },
    {
      "cell_type": "markdown",
      "source": [
        "##Getting Information from tensor"
      ],
      "metadata": {
        "id": "pW2X3oYR099k"
      }
    },
    {
      "cell_type": "markdown",
      "source": [
        "shape:\n",
        "dtype:\n",
        "device:"
      ],
      "metadata": {
        "id": "QQdoyY5o1Sj2"
      }
    },
    {
      "cell_type": "code",
      "source": [
        "x = torch.rand(3,4)\n",
        "x"
      ],
      "metadata": {
        "colab": {
          "base_uri": "https://localhost:8080/"
        },
        "id": "mTyEqoLc0zxH",
        "outputId": "c9d7c119-5258-473b-f1fa-74cf6db42c9e"
      },
      "execution_count": null,
      "outputs": [
        {
          "output_type": "execute_result",
          "data": {
            "text/plain": [
              "tensor([[0.3004, 0.6601, 0.2266, 0.8444],\n",
              "        [0.8083, 0.8055, 0.5530, 0.0628],\n",
              "        [0.9157, 0.4161, 0.3926, 0.8140]])"
            ]
          },
          "metadata": {},
          "execution_count": 60
        }
      ]
    },
    {
      "cell_type": "code",
      "source": [
        "x.shape"
      ],
      "metadata": {
        "colab": {
          "base_uri": "https://localhost:8080/"
        },
        "id": "bpMPZdjg1glq",
        "outputId": "64063a60-640a-4020-f7bb-203f49e18652"
      },
      "execution_count": null,
      "outputs": [
        {
          "output_type": "execute_result",
          "data": {
            "text/plain": [
              "torch.Size([3, 4])"
            ]
          },
          "metadata": {},
          "execution_count": 61
        }
      ]
    },
    {
      "cell_type": "code",
      "source": [
        "x.dtype"
      ],
      "metadata": {
        "colab": {
          "base_uri": "https://localhost:8080/"
        },
        "id": "ZY7DtxiK1iyd",
        "outputId": "c0491cab-e4aa-4d4d-f47e-540013e2ec8c"
      },
      "execution_count": null,
      "outputs": [
        {
          "output_type": "execute_result",
          "data": {
            "text/plain": [
              "torch.float32"
            ]
          },
          "metadata": {},
          "execution_count": 62
        }
      ]
    },
    {
      "cell_type": "code",
      "source": [
        "x.device"
      ],
      "metadata": {
        "colab": {
          "base_uri": "https://localhost:8080/"
        },
        "id": "P_bQTdaj1mO4",
        "outputId": "4ebe96a4-03c0-4e48-d474-6e1301795e73"
      },
      "execution_count": null,
      "outputs": [
        {
          "output_type": "execute_result",
          "data": {
            "text/plain": [
              "device(type='cpu')"
            ]
          },
          "metadata": {},
          "execution_count": 63
        }
      ]
    },
    {
      "cell_type": "markdown",
      "source": [
        "## Manipulating tensor\n",
        "1. Addition\n",
        "2. Subtraction\n",
        "3. Multiplication\n",
        "4. Division\n",
        "5. Matrix Multiplication"
      ],
      "metadata": {
        "id": "KkAx7T9I1yOv"
      }
    },
    {
      "cell_type": "markdown",
      "source": [
        "1. Addition"
      ],
      "metadata": {
        "id": "i7l9ulZN13Tm"
      }
    },
    {
      "cell_type": "code",
      "source": [
        "tensor = torch.tensor([1,2,3])\n",
        "tensor"
      ],
      "metadata": {
        "colab": {
          "base_uri": "https://localhost:8080/"
        },
        "id": "6Tm4Sk7Q13BN",
        "outputId": "aec6e382-43a4-46ec-a540-2daca395c5d9"
      },
      "execution_count": null,
      "outputs": [
        {
          "output_type": "execute_result",
          "data": {
            "text/plain": [
              "tensor([1, 2, 3])"
            ]
          },
          "metadata": {},
          "execution_count": 64
        }
      ]
    },
    {
      "cell_type": "code",
      "source": [
        "dd = tensor + 10"
      ],
      "metadata": {
        "id": "0VkawkkD1qBW"
      },
      "execution_count": null,
      "outputs": []
    },
    {
      "cell_type": "code",
      "source": [
        "tensor"
      ],
      "metadata": {
        "colab": {
          "base_uri": "https://localhost:8080/"
        },
        "id": "gkwKnhrB2liW",
        "outputId": "94aa9cb3-8aa9-4fb4-c4c4-28d418a490dc"
      },
      "execution_count": null,
      "outputs": [
        {
          "output_type": "execute_result",
          "data": {
            "text/plain": [
              "tensor([1, 2, 3])"
            ]
          },
          "metadata": {},
          "execution_count": 66
        }
      ]
    },
    {
      "cell_type": "code",
      "source": [
        "dd"
      ],
      "metadata": {
        "colab": {
          "base_uri": "https://localhost:8080/"
        },
        "id": "Plbnx9p-2rBb",
        "outputId": "986575f6-d94f-4d0a-8f09-bf04633897d7"
      },
      "execution_count": null,
      "outputs": [
        {
          "output_type": "execute_result",
          "data": {
            "text/plain": [
              "tensor([11, 12, 13])"
            ]
          },
          "metadata": {},
          "execution_count": 67
        }
      ]
    },
    {
      "cell_type": "code",
      "source": [
        "tensor1 = tensor + dd\n",
        "tensor1"
      ],
      "metadata": {
        "colab": {
          "base_uri": "https://localhost:8080/"
        },
        "id": "IjfKi8sY2v6M",
        "outputId": "41712602-5572-4a7d-fc49-ac9bf8b0947f"
      },
      "execution_count": null,
      "outputs": [
        {
          "output_type": "execute_result",
          "data": {
            "text/plain": [
              "tensor([12, 14, 16])"
            ]
          },
          "metadata": {},
          "execution_count": 68
        }
      ]
    },
    {
      "cell_type": "code",
      "source": [
        "tensor2=torch.add(tensor,dd)\n",
        "tensor2"
      ],
      "metadata": {
        "colab": {
          "base_uri": "https://localhost:8080/"
        },
        "id": "bwAlBxtl2v9t",
        "outputId": "b1069cf2-9688-4478-90fb-b8fa6745e380"
      },
      "execution_count": null,
      "outputs": [
        {
          "output_type": "execute_result",
          "data": {
            "text/plain": [
              "tensor([12, 14, 16])"
            ]
          },
          "metadata": {},
          "execution_count": 69
        }
      ]
    },
    {
      "cell_type": "markdown",
      "source": [
        "2.Subtraction"
      ],
      "metadata": {
        "id": "JUigAeci2ovj"
      }
    },
    {
      "cell_type": "code",
      "source": [
        "tensor1 = tensor - dd\n",
        "tensor1"
      ],
      "metadata": {
        "colab": {
          "base_uri": "https://localhost:8080/"
        },
        "id": "gtycqiFo3G-b",
        "outputId": "66e8ef77-000f-4ff2-ba42-14b32ce1dd01"
      },
      "execution_count": null,
      "outputs": [
        {
          "output_type": "execute_result",
          "data": {
            "text/plain": [
              "tensor([-10, -10, -10])"
            ]
          },
          "metadata": {},
          "execution_count": 70
        }
      ]
    },
    {
      "cell_type": "code",
      "source": [
        "dd = tensor - 10\n",
        "dd"
      ],
      "metadata": {
        "colab": {
          "base_uri": "https://localhost:8080/"
        },
        "id": "R95P7s813KwO",
        "outputId": "1786a455-1c8f-4a16-8017-5d8a85bec4bc"
      },
      "execution_count": null,
      "outputs": [
        {
          "output_type": "execute_result",
          "data": {
            "text/plain": [
              "tensor([-9, -8, -7])"
            ]
          },
          "metadata": {},
          "execution_count": 71
        }
      ]
    },
    {
      "cell_type": "code",
      "source": [
        "tensor2=torch.sub(tensor1,dd)\n",
        "tensor2"
      ],
      "metadata": {
        "colab": {
          "base_uri": "https://localhost:8080/"
        },
        "id": "hZ1CpZW43O-V",
        "outputId": "233c6726-fd46-4e1b-92ab-64c13e58b6aa"
      },
      "execution_count": null,
      "outputs": [
        {
          "output_type": "execute_result",
          "data": {
            "text/plain": [
              "tensor([-1, -2, -3])"
            ]
          },
          "metadata": {},
          "execution_count": 72
        }
      ]
    },
    {
      "cell_type": "markdown",
      "source": [
        "3. Multiplication(Element wise)"
      ],
      "metadata": {
        "id": "wScpm4r53geT"
      }
    },
    {
      "cell_type": "code",
      "source": [
        "tensor = torch.tensor([1,2,3])\n",
        "tensor"
      ],
      "metadata": {
        "colab": {
          "base_uri": "https://localhost:8080/"
        },
        "id": "YH-p4ecw3TYQ",
        "outputId": "979abda2-1d64-4322-d67b-f6ecc3358224"
      },
      "execution_count": null,
      "outputs": [
        {
          "output_type": "execute_result",
          "data": {
            "text/plain": [
              "tensor([1, 2, 3])"
            ]
          },
          "metadata": {},
          "execution_count": 73
        }
      ]
    },
    {
      "cell_type": "code",
      "source": [
        "tensor*10"
      ],
      "metadata": {
        "colab": {
          "base_uri": "https://localhost:8080/"
        },
        "id": "cuPFjKhn3rWM",
        "outputId": "cbf0e65e-d6ed-4228-f518-41e51e88969a"
      },
      "execution_count": null,
      "outputs": [
        {
          "output_type": "execute_result",
          "data": {
            "text/plain": [
              "tensor([10, 20, 30])"
            ]
          },
          "metadata": {},
          "execution_count": 74
        }
      ]
    },
    {
      "cell_type": "code",
      "source": [
        "torch.multiply(tensor,10)"
      ],
      "metadata": {
        "colab": {
          "base_uri": "https://localhost:8080/"
        },
        "id": "3is4Mzrp3s69",
        "outputId": "83768872-84b3-4d4f-e985-b76b50555a84"
      },
      "execution_count": null,
      "outputs": [
        {
          "output_type": "execute_result",
          "data": {
            "text/plain": [
              "tensor([10, 20, 30])"
            ]
          },
          "metadata": {},
          "execution_count": 75
        }
      ]
    },
    {
      "cell_type": "code",
      "source": [
        "tensor*tensor"
      ],
      "metadata": {
        "colab": {
          "base_uri": "https://localhost:8080/"
        },
        "id": "6WlFMX1g31po",
        "outputId": "1feb2f13-c5d9-4390-ade8-49aedd8394ec"
      },
      "execution_count": null,
      "outputs": [
        {
          "output_type": "execute_result",
          "data": {
            "text/plain": [
              "tensor([1, 4, 9])"
            ]
          },
          "metadata": {},
          "execution_count": 76
        }
      ]
    },
    {
      "cell_type": "markdown",
      "source": [
        "4.Division\n"
      ],
      "metadata": {
        "id": "eyfjrhbU3yBZ"
      }
    },
    {
      "cell_type": "code",
      "source": [
        "tensor = torch.tensor([2,4,6,8])\n",
        "tensor"
      ],
      "metadata": {
        "colab": {
          "base_uri": "https://localhost:8080/"
        },
        "id": "dZ2dUHVI3xFU",
        "outputId": "ef145a2b-44bf-449d-b7b1-3affedf470ff"
      },
      "execution_count": null,
      "outputs": [
        {
          "output_type": "execute_result",
          "data": {
            "text/plain": [
              "tensor([2, 4, 6, 8])"
            ]
          },
          "metadata": {},
          "execution_count": 77
        }
      ]
    },
    {
      "cell_type": "code",
      "source": [
        "tensor/2"
      ],
      "metadata": {
        "colab": {
          "base_uri": "https://localhost:8080/"
        },
        "id": "kqxwT6UQ4I9_",
        "outputId": "d90f6806-d514-4015-e911-a9d78d5af1d9"
      },
      "execution_count": null,
      "outputs": [
        {
          "output_type": "execute_result",
          "data": {
            "text/plain": [
              "tensor([1., 2., 3., 4.])"
            ]
          },
          "metadata": {},
          "execution_count": 78
        }
      ]
    },
    {
      "cell_type": "code",
      "source": [
        "tensor/tensor"
      ],
      "metadata": {
        "colab": {
          "base_uri": "https://localhost:8080/"
        },
        "id": "0shER3fD4KW9",
        "outputId": "927fc256-5637-42c5-8af3-d24b8a8522ef"
      },
      "execution_count": null,
      "outputs": [
        {
          "output_type": "execute_result",
          "data": {
            "text/plain": [
              "tensor([1., 1., 1., 1.])"
            ]
          },
          "metadata": {},
          "execution_count": 79
        }
      ]
    },
    {
      "cell_type": "code",
      "source": [
        "torch.div(tensor,2)"
      ],
      "metadata": {
        "colab": {
          "base_uri": "https://localhost:8080/"
        },
        "id": "lMZc5n_34Mvb",
        "outputId": "b56fea0d-6a74-4ddc-a4c6-0ff580361b9d"
      },
      "execution_count": null,
      "outputs": [
        {
          "output_type": "execute_result",
          "data": {
            "text/plain": [
              "tensor([1., 2., 3., 4.])"
            ]
          },
          "metadata": {},
          "execution_count": 80
        }
      ]
    },
    {
      "cell_type": "markdown",
      "source": [
        "5. Matrix Multiplication"
      ],
      "metadata": {
        "id": "UpcgvkW54Zm4"
      }
    },
    {
      "cell_type": "code",
      "source": [
        "matrix1=torch.tensor([[1,2],\n",
        "                      [3,4]])\n",
        "matrix2=torch.tensor([[5,6],\n",
        "                      [7,8]])\n",
        "matrix1,matrix2"
      ],
      "metadata": {
        "colab": {
          "base_uri": "https://localhost:8080/"
        },
        "id": "jDNRI6cv4Rus",
        "outputId": "5f0b74cd-0ea9-47de-862b-9b8babbe51a1"
      },
      "execution_count": null,
      "outputs": [
        {
          "output_type": "execute_result",
          "data": {
            "text/plain": [
              "(tensor([[1, 2],\n",
              "         [3, 4]]),\n",
              " tensor([[5, 6],\n",
              "         [7, 8]]))"
            ]
          },
          "metadata": {},
          "execution_count": 81
        }
      ]
    },
    {
      "cell_type": "code",
      "source": [
        "matrix1.shape,matrix2.shape"
      ],
      "metadata": {
        "colab": {
          "base_uri": "https://localhost:8080/"
        },
        "id": "SxIPWoDX42uB",
        "outputId": "12f2221a-6064-40ad-ef9a-1a9cb11e99c5"
      },
      "execution_count": null,
      "outputs": [
        {
          "output_type": "execute_result",
          "data": {
            "text/plain": [
              "(torch.Size([2, 2]), torch.Size([2, 2]))"
            ]
          },
          "metadata": {},
          "execution_count": 82
        }
      ]
    },
    {
      "cell_type": "code",
      "source": [
        "matrix1*matrix2 # element wise multiplication using *"
      ],
      "metadata": {
        "colab": {
          "base_uri": "https://localhost:8080/"
        },
        "id": "nlnjru7D48l0",
        "outputId": "125df787-afa6-4e04-e06f-465f24ee44f4"
      },
      "execution_count": null,
      "outputs": [
        {
          "output_type": "execute_result",
          "data": {
            "text/plain": [
              "tensor([[ 5, 12],\n",
              "        [21, 32]])"
            ]
          },
          "metadata": {},
          "execution_count": 83
        }
      ]
    },
    {
      "cell_type": "code",
      "source": [
        "matrix1@matrix2 # matrix multiplication using @"
      ],
      "metadata": {
        "colab": {
          "base_uri": "https://localhost:8080/"
        },
        "id": "ogc0B29p5GeD",
        "outputId": "57049a94-d50b-4767-a869-4711df6534f4"
      },
      "execution_count": null,
      "outputs": [
        {
          "output_type": "execute_result",
          "data": {
            "text/plain": [
              "tensor([[19, 22],\n",
              "        [43, 50]])"
            ]
          },
          "metadata": {},
          "execution_count": 84
        }
      ]
    },
    {
      "cell_type": "code",
      "source": [
        "torch.mm(matrix1,matrix2) # matrix multiplication using torch.mm"
      ],
      "metadata": {
        "colab": {
          "base_uri": "https://localhost:8080/"
        },
        "id": "GpLznZRC5Sk_",
        "outputId": "1dd9f1dc-56e3-4e37-c681-1a75fbf23eff"
      },
      "execution_count": null,
      "outputs": [
        {
          "output_type": "execute_result",
          "data": {
            "text/plain": [
              "tensor([[19, 22],\n",
              "        [43, 50]])"
            ]
          },
          "metadata": {},
          "execution_count": 85
        }
      ]
    },
    {
      "cell_type": "code",
      "source": [
        "torch.matmul(matrix1,matrix2) # matrix multiplication using torch.matmul"
      ],
      "metadata": {
        "colab": {
          "base_uri": "https://localhost:8080/"
        },
        "id": "qPKXDk3i5gDf",
        "outputId": "14dcab36-a32e-414d-9dc8-7de1917e499f"
      },
      "execution_count": null,
      "outputs": [
        {
          "output_type": "execute_result",
          "data": {
            "text/plain": [
              "tensor([[19, 22],\n",
              "        [43, 50]])"
            ]
          },
          "metadata": {},
          "execution_count": 86
        }
      ]
    },
    {
      "cell_type": "markdown",
      "source": [
        "## One of the most common error in deep learning (Shape error)"
      ],
      "metadata": {
        "id": "1A31yr585n_N"
      }
    },
    {
      "cell_type": "code",
      "source": [
        "tensor_a = torch.tensor([[1,2],\n",
        "                      [3,4],\n",
        "                      [5,6]],dtype=torch.float32)\n",
        "tensor_b = torch.tensor([[7,10],\n",
        "                      [8,11],\n",
        "                      [9,12]],dtype=torch.float32)\n",
        "tensor_a,tensor_b"
      ],
      "metadata": {
        "colab": {
          "base_uri": "https://localhost:8080/"
        },
        "id": "MF-AkOvs5zCb",
        "outputId": "e413e502-d4b3-4d47-828d-903dad07b9a0"
      },
      "execution_count": null,
      "outputs": [
        {
          "output_type": "execute_result",
          "data": {
            "text/plain": [
              "(tensor([[1., 2.],\n",
              "         [3., 4.],\n",
              "         [5., 6.]]),\n",
              " tensor([[ 7., 10.],\n",
              "         [ 8., 11.],\n",
              "         [ 9., 12.]]))"
            ]
          },
          "metadata": {},
          "execution_count": 87
        }
      ]
    },
    {
      "cell_type": "code",
      "source": [
        "tensor_a.shape,tensor_b.shape"
      ],
      "metadata": {
        "colab": {
          "base_uri": "https://localhost:8080/"
        },
        "id": "vlhsWeKJ6CH8",
        "outputId": "e36e8e6b-1f7b-4bf1-e138-fcd179226897"
      },
      "execution_count": null,
      "outputs": [
        {
          "output_type": "execute_result",
          "data": {
            "text/plain": [
              "(torch.Size([3, 2]), torch.Size([3, 2]))"
            ]
          },
          "metadata": {},
          "execution_count": 88
        }
      ]
    },
    {
      "cell_type": "code",
      "source": [
        "tensor_a@tensor_b # due to shape error to resolve this we have to make the transpose"
      ],
      "metadata": {
        "colab": {
          "base_uri": "https://localhost:8080/",
          "height": 141
        },
        "id": "qYVGchgF6IKT",
        "outputId": "9f0c5b92-ce1a-4ff5-dcd8-0b67663f3695"
      },
      "execution_count": null,
      "outputs": [
        {
          "output_type": "error",
          "ename": "RuntimeError",
          "evalue": "mat1 and mat2 shapes cannot be multiplied (3x2 and 3x2)",
          "traceback": [
            "\u001b[0;31m---------------------------------------------------------------------------\u001b[0m",
            "\u001b[0;31mRuntimeError\u001b[0m                              Traceback (most recent call last)",
            "\u001b[0;32m<ipython-input-89-46d29de095e7>\u001b[0m in \u001b[0;36m<cell line: 1>\u001b[0;34m()\u001b[0m\n\u001b[0;32m----> 1\u001b[0;31m \u001b[0mtensor_a\u001b[0m\u001b[0;34m@\u001b[0m\u001b[0mtensor_b\u001b[0m \u001b[0;31m# due to shape error to resolve this we have to make the transpose\u001b[0m\u001b[0;34m\u001b[0m\u001b[0;34m\u001b[0m\u001b[0m\n\u001b[0m",
            "\u001b[0;31mRuntimeError\u001b[0m: mat1 and mat2 shapes cannot be multiplied (3x2 and 3x2)"
          ]
        }
      ]
    },
    {
      "cell_type": "code",
      "source": [
        "tensor_a,tensor_a.shape"
      ],
      "metadata": {
        "colab": {
          "base_uri": "https://localhost:8080/"
        },
        "id": "6u1NUZIy6Oot",
        "outputId": "dd73358b-f924-4a61-d6b8-28fc16410b04"
      },
      "execution_count": null,
      "outputs": [
        {
          "output_type": "execute_result",
          "data": {
            "text/plain": [
              "(tensor([[1., 2.],\n",
              "         [3., 4.],\n",
              "         [5., 6.]]),\n",
              " torch.Size([3, 2]))"
            ]
          },
          "metadata": {},
          "execution_count": 90
        }
      ]
    },
    {
      "cell_type": "code",
      "source": [
        "tensor_b,tensor_b.shape"
      ],
      "metadata": {
        "colab": {
          "base_uri": "https://localhost:8080/"
        },
        "id": "-tRUWUpC6elI",
        "outputId": "e2fee35b-2992-418f-8f3b-999d75b7060c"
      },
      "execution_count": null,
      "outputs": [
        {
          "output_type": "execute_result",
          "data": {
            "text/plain": [
              "(tensor([[ 7., 10.],\n",
              "         [ 8., 11.],\n",
              "         [ 9., 12.]]),\n",
              " torch.Size([3, 2]))"
            ]
          },
          "metadata": {},
          "execution_count": 91
        }
      ]
    },
    {
      "cell_type": "code",
      "source": [
        "tensor_b"
      ],
      "metadata": {
        "colab": {
          "base_uri": "https://localhost:8080/"
        },
        "id": "JMyUicfo6gUm",
        "outputId": "8ac27cf5-4bd1-40c2-e722-32116148bf88"
      },
      "execution_count": null,
      "outputs": [
        {
          "output_type": "execute_result",
          "data": {
            "text/plain": [
              "tensor([[ 7., 10.],\n",
              "        [ 8., 11.],\n",
              "        [ 9., 12.]])"
            ]
          },
          "metadata": {},
          "execution_count": 92
        }
      ]
    },
    {
      "cell_type": "code",
      "source": [
        "tensor=tensor_b.T\n",
        "tensor,tensor.shape"
      ],
      "metadata": {
        "colab": {
          "base_uri": "https://localhost:8080/"
        },
        "id": "gYcuNbgf6wFx",
        "outputId": "8126712b-337a-43d0-c9ba-e8978a7325cf"
      },
      "execution_count": null,
      "outputs": [
        {
          "output_type": "execute_result",
          "data": {
            "text/plain": [
              "(tensor([[ 7.,  8.,  9.],\n",
              "         [10., 11., 12.]]),\n",
              " torch.Size([2, 3]))"
            ]
          },
          "metadata": {},
          "execution_count": 93
        }
      ]
    },
    {
      "cell_type": "code",
      "source": [
        "tensor_a@tensor # due to shape error to resolve this we have to make the transpose"
      ],
      "metadata": {
        "colab": {
          "base_uri": "https://localhost:8080/"
        },
        "id": "prdBpWRv6xvI",
        "outputId": "af1ba4e9-c32f-4727-b453-0a4cca8677de"
      },
      "execution_count": null,
      "outputs": [
        {
          "output_type": "execute_result",
          "data": {
            "text/plain": [
              "tensor([[ 27.,  30.,  33.],\n",
              "        [ 61.,  68.,  75.],\n",
              "        [ 95., 106., 117.]])"
            ]
          },
          "metadata": {},
          "execution_count": 94
        }
      ]
    },
    {
      "cell_type": "markdown",
      "source": [
        "## finding the mean , min , max,sum"
      ],
      "metadata": {
        "id": "3HncTpPI7O0b"
      }
    },
    {
      "cell_type": "code",
      "source": [
        "x = torch.arange(1,10)\n",
        "x"
      ],
      "metadata": {
        "colab": {
          "base_uri": "https://localhost:8080/"
        },
        "id": "LzsdruI97V8F",
        "outputId": "89c12157-aaa2-44d2-c11b-27f8d0bb620f"
      },
      "execution_count": null,
      "outputs": [
        {
          "output_type": "execute_result",
          "data": {
            "text/plain": [
              "tensor([1, 2, 3, 4, 5, 6, 7, 8, 9])"
            ]
          },
          "metadata": {},
          "execution_count": 95
        }
      ]
    },
    {
      "cell_type": "code",
      "source": [
        "x.min()"
      ],
      "metadata": {
        "colab": {
          "base_uri": "https://localhost:8080/"
        },
        "id": "7Mv6_p1w7b9n",
        "outputId": "3f6594f2-c0bb-4b2c-c538-b65b11f8bfc8"
      },
      "execution_count": null,
      "outputs": [
        {
          "output_type": "execute_result",
          "data": {
            "text/plain": [
              "tensor(1)"
            ]
          },
          "metadata": {},
          "execution_count": 96
        }
      ]
    },
    {
      "cell_type": "code",
      "source": [
        "x.max()"
      ],
      "metadata": {
        "colab": {
          "base_uri": "https://localhost:8080/"
        },
        "id": "OzYcC6Sk7dqW",
        "outputId": "4e1c36dd-dfeb-4925-fb29-caa86f761133"
      },
      "execution_count": null,
      "outputs": [
        {
          "output_type": "execute_result",
          "data": {
            "text/plain": [
              "tensor(9)"
            ]
          },
          "metadata": {},
          "execution_count": 97
        }
      ]
    },
    {
      "cell_type": "code",
      "source": [
        "x.sum()"
      ],
      "metadata": {
        "colab": {
          "base_uri": "https://localhost:8080/"
        },
        "id": "_kBbn9677e1y",
        "outputId": "c6a3a1dd-7125-4f4e-855d-7152013a1f19"
      },
      "execution_count": null,
      "outputs": [
        {
          "output_type": "execute_result",
          "data": {
            "text/plain": [
              "tensor(45)"
            ]
          },
          "metadata": {},
          "execution_count": 98
        }
      ]
    },
    {
      "cell_type": "code",
      "source": [
        "x.mean() # here we require floating point"
      ],
      "metadata": {
        "colab": {
          "base_uri": "https://localhost:8080/",
          "height": 141
        },
        "id": "MlQGp4k97gg-",
        "outputId": "616da85d-1b01-4cb0-dfa3-0fbc4c3ec3c1"
      },
      "execution_count": null,
      "outputs": [
        {
          "output_type": "error",
          "ename": "RuntimeError",
          "evalue": "mean(): could not infer output dtype. Input dtype must be either a floating point or complex dtype. Got: Long",
          "traceback": [
            "\u001b[0;31m---------------------------------------------------------------------------\u001b[0m",
            "\u001b[0;31mRuntimeError\u001b[0m                              Traceback (most recent call last)",
            "\u001b[0;32m<ipython-input-99-37cfd2b87833>\u001b[0m in \u001b[0;36m<cell line: 1>\u001b[0;34m()\u001b[0m\n\u001b[0;32m----> 1\u001b[0;31m \u001b[0mx\u001b[0m\u001b[0;34m.\u001b[0m\u001b[0mmean\u001b[0m\u001b[0;34m(\u001b[0m\u001b[0;34m)\u001b[0m \u001b[0;31m# here we require floating point\u001b[0m\u001b[0;34m\u001b[0m\u001b[0;34m\u001b[0m\u001b[0m\n\u001b[0m",
            "\u001b[0;31mRuntimeError\u001b[0m: mean(): could not infer output dtype. Input dtype must be either a floating point or complex dtype. Got: Long"
          ]
        }
      ]
    },
    {
      "cell_type": "code",
      "source": [
        "y = x.type(torch.float32)\n",
        "y"
      ],
      "metadata": {
        "id": "kOyMrSPk7jC6"
      },
      "execution_count": null,
      "outputs": []
    },
    {
      "cell_type": "code",
      "source": [
        "y.mean()"
      ],
      "metadata": {
        "id": "g8H1w1BA73fj"
      },
      "execution_count": null,
      "outputs": []
    },
    {
      "cell_type": "code",
      "source": [
        "torch.min(y),torch.max(y),torch.mean(y),torch.sum(y)"
      ],
      "metadata": {
        "id": "zQ2e2iP17-pm"
      },
      "execution_count": null,
      "outputs": []
    },
    {
      "cell_type": "markdown",
      "source": [
        "**positional max and min**"
      ],
      "metadata": {
        "id": "yyy0bUkh8VbW"
      }
    },
    {
      "cell_type": "code",
      "source": [
        "sample = torch.arange(1,5)\n",
        "sample"
      ],
      "metadata": {
        "id": "5c7IaAzK8Jp2"
      },
      "execution_count": null,
      "outputs": []
    },
    {
      "cell_type": "code",
      "source": [
        "sample.min()"
      ],
      "metadata": {
        "id": "i1y-yrqe8iv2"
      },
      "execution_count": null,
      "outputs": []
    },
    {
      "cell_type": "code",
      "source": [
        "sample.argmin() # index of min value"
      ],
      "metadata": {
        "id": "jgidug_v8oQK"
      },
      "execution_count": null,
      "outputs": []
    },
    {
      "cell_type": "code",
      "source": [
        "sample.argmax() # index of max value"
      ],
      "metadata": {
        "id": "o2Eyp4ob8q8f"
      },
      "execution_count": null,
      "outputs": []
    },
    {
      "cell_type": "markdown",
      "source": [
        "## reshaping,stacking,squeezing,unsqueez,permute"
      ],
      "metadata": {
        "id": "6OzjrQO588pE"
      }
    },
    {
      "cell_type": "markdown",
      "source": [
        "**reshape**"
      ],
      "metadata": {
        "id": "D7REB16Z9SZk"
      }
    },
    {
      "cell_type": "code",
      "source": [
        "x = torch.arange(1.,9.)\n",
        "x,x.shape"
      ],
      "metadata": {
        "id": "SJecLn5B9R2k"
      },
      "execution_count": null,
      "outputs": []
    },
    {
      "cell_type": "code",
      "source": [
        "x.reshape(4,2),x.reshape(2,4)"
      ],
      "metadata": {
        "id": "vu9DUg2U8vXf"
      },
      "execution_count": null,
      "outputs": []
    },
    {
      "cell_type": "code",
      "source": [
        "x.reshape(8,1),x.reshape(1,8),x.reshape(2,2,2)"
      ],
      "metadata": {
        "id": "AMjPx3w99eWS"
      },
      "execution_count": null,
      "outputs": []
    },
    {
      "cell_type": "markdown",
      "source": [
        "**view()**"
      ],
      "metadata": {
        "id": "Od-5GBTh91Oy"
      }
    },
    {
      "cell_type": "code",
      "source": [
        "y = torch.arange(1.,9.)"
      ],
      "metadata": {
        "id": "xYR115BD9i82"
      },
      "execution_count": null,
      "outputs": []
    },
    {
      "cell_type": "code",
      "source": [
        "y"
      ],
      "metadata": {
        "id": "vEMkhRN0-Vwo"
      },
      "execution_count": null,
      "outputs": []
    },
    {
      "cell_type": "code",
      "source": [
        "y_view = y.view(8,1)\n",
        "y_view"
      ],
      "metadata": {
        "id": "RFpqG8ny-W5I"
      },
      "execution_count": null,
      "outputs": []
    },
    {
      "cell_type": "code",
      "source": [
        "y_view = y.view(2,4)\n",
        "y_view"
      ],
      "metadata": {
        "id": "IySeSOpp-c6V"
      },
      "execution_count": null,
      "outputs": []
    },
    {
      "cell_type": "code",
      "source": [
        "y_view[0,0] = 5 # with help of indexing we used this\n",
        "y_view"
      ],
      "metadata": {
        "id": "Frm6YNcW-i0E"
      },
      "execution_count": null,
      "outputs": []
    },
    {
      "cell_type": "code",
      "source": [
        "y # changed the value in original tensor"
      ],
      "metadata": {
        "colab": {
          "base_uri": "https://localhost:8080/",
          "height": 141
        },
        "id": "pUCWSTmx-pyM",
        "outputId": "541104b1-5203-4439-f74e-220a3599d815"
      },
      "execution_count": null,
      "outputs": [
        {
          "output_type": "error",
          "ename": "NameError",
          "evalue": "name 'y' is not defined",
          "traceback": [
            "\u001b[0;31m---------------------------------------------------------------------------\u001b[0m",
            "\u001b[0;31mNameError\u001b[0m                                 Traceback (most recent call last)",
            "\u001b[0;32m<ipython-input-100-5596422c651f>\u001b[0m in \u001b[0;36m<cell line: 1>\u001b[0;34m()\u001b[0m\n\u001b[0;32m----> 1\u001b[0;31m \u001b[0my\u001b[0m \u001b[0;31m# changed the value in original tensor\u001b[0m\u001b[0;34m\u001b[0m\u001b[0;34m\u001b[0m\u001b[0m\n\u001b[0m",
            "\u001b[0;31mNameError\u001b[0m: name 'y' is not defined"
          ]
        }
      ]
    },
    {
      "cell_type": "markdown",
      "source": [
        "torch.stack()"
      ],
      "metadata": {
        "id": "EhqT6y9o_Css"
      }
    },
    {
      "cell_type": "code",
      "source": [
        "tensor =  torch.arange(1.,8.)\n",
        "tensor"
      ],
      "metadata": {
        "colab": {
          "base_uri": "https://localhost:8080/"
        },
        "id": "hn83Jcc5-ztB",
        "outputId": "af722f8a-b5ab-4215-fb46-34a273f1b095"
      },
      "execution_count": null,
      "outputs": [
        {
          "output_type": "execute_result",
          "data": {
            "text/plain": [
              "tensor([1., 2., 3., 4., 5., 6., 7.])"
            ]
          },
          "metadata": {},
          "execution_count": 101
        }
      ]
    },
    {
      "cell_type": "code",
      "source": [
        "tensor_stacked = torch.stack([tensor,tensor,tensor,tensor],dim=0) # concatenate two tensor of same size 0 for row wise  1 for column wise\n",
        "tensor_stacked"
      ],
      "metadata": {
        "colab": {
          "base_uri": "https://localhost:8080/"
        },
        "id": "BLmqoJEN_LDH",
        "outputId": "55c3a316-b151-4bae-e8e7-3bd1108e2aec"
      },
      "execution_count": null,
      "outputs": [
        {
          "output_type": "execute_result",
          "data": {
            "text/plain": [
              "tensor([[1., 2., 3., 4., 5., 6., 7.],\n",
              "        [1., 2., 3., 4., 5., 6., 7.],\n",
              "        [1., 2., 3., 4., 5., 6., 7.],\n",
              "        [1., 2., 3., 4., 5., 6., 7.]])"
            ]
          },
          "metadata": {},
          "execution_count": 102
        }
      ]
    },
    {
      "cell_type": "code",
      "source": [
        "tensor_stacked1 = torch.stack([tensor,tensor,tensor,tensor],dim=1) # concatenate two tensor of same size 0 for row wise  1 for column wise\n",
        "tensor_stacked1"
      ],
      "metadata": {
        "colab": {
          "base_uri": "https://localhost:8080/"
        },
        "id": "CxyOUn_v_bCU",
        "outputId": "34596cb4-9e63-4ff6-e5ae-00854493d068"
      },
      "execution_count": null,
      "outputs": [
        {
          "output_type": "execute_result",
          "data": {
            "text/plain": [
              "tensor([[1., 1., 1., 1.],\n",
              "        [2., 2., 2., 2.],\n",
              "        [3., 3., 3., 3.],\n",
              "        [4., 4., 4., 4.],\n",
              "        [5., 5., 5., 5.],\n",
              "        [6., 6., 6., 6.],\n",
              "        [7., 7., 7., 7.]])"
            ]
          },
          "metadata": {},
          "execution_count": 103
        }
      ]
    },
    {
      "cell_type": "markdown",
      "source": [
        "**torch.unsqueez()**"
      ],
      "metadata": {
        "id": "WyrdqDsW_6xr"
      }
    },
    {
      "cell_type": "code",
      "source": [
        "x = torch.arange(1,10)\n",
        "x,x.shape,x.ndim"
      ],
      "metadata": {
        "colab": {
          "base_uri": "https://localhost:8080/"
        },
        "id": "p0SFbtba_00_",
        "outputId": "d0143c31-9115-4a0f-a822-d1c141dd971d"
      },
      "execution_count": null,
      "outputs": [
        {
          "output_type": "execute_result",
          "data": {
            "text/plain": [
              "(tensor([1, 2, 3, 4, 5, 6, 7, 8, 9]), torch.Size([9]), 1)"
            ]
          },
          "metadata": {},
          "execution_count": 104
        }
      ]
    },
    {
      "cell_type": "code",
      "source": [
        "x_unsqueezed = x.unsqueeze(dim=0) # add single dimension in 0 index\n",
        "x_unsqueezed,x_unsqueezed.shape,x_unsqueezed.ndim"
      ],
      "metadata": {
        "colab": {
          "base_uri": "https://localhost:8080/"
        },
        "id": "flztb8afA6Vh",
        "outputId": "a5d329a2-345b-4c5f-8a15-ab4953596089"
      },
      "execution_count": null,
      "outputs": [
        {
          "output_type": "execute_result",
          "data": {
            "text/plain": [
              "(tensor([[1, 2, 3, 4, 5, 6, 7, 8, 9]]), torch.Size([1, 9]), 2)"
            ]
          },
          "metadata": {},
          "execution_count": 105
        }
      ]
    },
    {
      "cell_type": "code",
      "source": [
        "x_unsqueezed1 = x.unsqueeze(dim=1) # add single dimension in 1 index\n",
        "x_unsqueezed1,x_unsqueezed1.shape,x_unsqueezed1.ndim"
      ],
      "metadata": {
        "colab": {
          "base_uri": "https://localhost:8080/"
        },
        "id": "R1m2IWy4BUqC",
        "outputId": "37673c7e-cd62-40d4-afe7-276a8827e291"
      },
      "execution_count": null,
      "outputs": [
        {
          "output_type": "execute_result",
          "data": {
            "text/plain": [
              "(tensor([[1],\n",
              "         [2],\n",
              "         [3],\n",
              "         [4],\n",
              "         [5],\n",
              "         [6],\n",
              "         [7],\n",
              "         [8],\n",
              "         [9]]),\n",
              " torch.Size([9, 1]),\n",
              " 2)"
            ]
          },
          "metadata": {},
          "execution_count": 106
        }
      ]
    },
    {
      "cell_type": "markdown",
      "source": [
        "torch.squeez()"
      ],
      "metadata": {
        "id": "Kp1kstd5BpAg"
      }
    },
    {
      "cell_type": "code",
      "source": [
        "x_unsqueezed.shape"
      ],
      "metadata": {
        "colab": {
          "base_uri": "https://localhost:8080/"
        },
        "id": "2_qzMnB_BZcY",
        "outputId": "b079c8c7-54cb-4a98-87f6-7d30211dbcbe"
      },
      "execution_count": null,
      "outputs": [
        {
          "output_type": "execute_result",
          "data": {
            "text/plain": [
              "torch.Size([1, 9])"
            ]
          },
          "metadata": {},
          "execution_count": 107
        }
      ]
    },
    {
      "cell_type": "code",
      "source": [
        "x_squeezed = x_unsqueezed.squeeze()\n",
        "x_squeezed,x_squeezed.shape,x_squeezed.ndim"
      ],
      "metadata": {
        "colab": {
          "base_uri": "https://localhost:8080/"
        },
        "id": "rLdAGat6BvuF",
        "outputId": "7b92d583-d32f-4593-aa2d-d938e3c6e491"
      },
      "execution_count": null,
      "outputs": [
        {
          "output_type": "execute_result",
          "data": {
            "text/plain": [
              "(tensor([1, 2, 3, 4, 5, 6, 7, 8, 9]), torch.Size([9]), 1)"
            ]
          },
          "metadata": {},
          "execution_count": 108
        }
      ]
    },
    {
      "cell_type": "markdown",
      "source": [
        "**permute**"
      ],
      "metadata": {
        "id": "koDvoZk6CE2P"
      }
    },
    {
      "cell_type": "code",
      "source": [
        "x = torch.rand(2,3,5)\n",
        "x"
      ],
      "metadata": {
        "colab": {
          "base_uri": "https://localhost:8080/"
        },
        "id": "Dw6ZlfFwB5Ec",
        "outputId": "08bfb9cf-42ca-4bdb-eba9-d96a63c0c515"
      },
      "execution_count": null,
      "outputs": [
        {
          "output_type": "execute_result",
          "data": {
            "text/plain": [
              "tensor([[[0.9255, 0.0434, 0.5598, 0.7861, 0.7609],\n",
              "         [0.0068, 0.0462, 0.7082, 0.3937, 0.2298],\n",
              "         [0.3002, 0.5626, 0.3442, 0.6935, 0.7979]],\n",
              "\n",
              "        [[0.0215, 0.1281, 0.2894, 0.7914, 0.2858],\n",
              "         [0.6467, 0.8352, 0.2651, 0.4249, 0.9888],\n",
              "         [0.0682, 0.3140, 0.0156, 0.2091, 0.2706]]])"
            ]
          },
          "metadata": {},
          "execution_count": 109
        }
      ]
    },
    {
      "cell_type": "code",
      "source": [
        "x.shape"
      ],
      "metadata": {
        "colab": {
          "base_uri": "https://localhost:8080/"
        },
        "id": "npgw51tQCKdt",
        "outputId": "a4513735-2d08-497b-aeb6-30af650ef57e"
      },
      "execution_count": null,
      "outputs": [
        {
          "output_type": "execute_result",
          "data": {
            "text/plain": [
              "torch.Size([2, 3, 5])"
            ]
          },
          "metadata": {},
          "execution_count": 110
        }
      ]
    },
    {
      "cell_type": "code",
      "source": [
        "x_permuted = x.permute(2,1,0) # rearange the dimensions we can use permute for changing the dimension using their index\n",
        "x_permuted.shape"
      ],
      "metadata": {
        "colab": {
          "base_uri": "https://localhost:8080/"
        },
        "id": "XmSRXtVPCbbE",
        "outputId": "8aee50ce-75f8-4d77-cd4a-21596e27fffe"
      },
      "execution_count": null,
      "outputs": [
        {
          "output_type": "execute_result",
          "data": {
            "text/plain": [
              "torch.Size([5, 3, 2])"
            ]
          },
          "metadata": {},
          "execution_count": 111
        }
      ]
    },
    {
      "cell_type": "markdown",
      "source": [
        "## Indexing(Selecting data from tensors)"
      ],
      "metadata": {
        "id": "MZJ08k3fDMPM"
      }
    },
    {
      "cell_type": "code",
      "source": [
        "x = torch.arange(1,10).reshape(1,3,3)\n",
        "x,x.shape"
      ],
      "metadata": {
        "colab": {
          "base_uri": "https://localhost:8080/"
        },
        "id": "GgPLOw61Cwf7",
        "outputId": "3a553ae8-0a05-435d-a399-2f347d2e978d"
      },
      "execution_count": null,
      "outputs": [
        {
          "output_type": "execute_result",
          "data": {
            "text/plain": [
              "(tensor([[[1, 2, 3],\n",
              "          [4, 5, 6],\n",
              "          [7, 8, 9]]]),\n",
              " torch.Size([1, 3, 3]))"
            ]
          },
          "metadata": {},
          "execution_count": 112
        }
      ]
    },
    {
      "cell_type": "code",
      "source": [
        "x[0]"
      ],
      "metadata": {
        "colab": {
          "base_uri": "https://localhost:8080/"
        },
        "id": "plZgu6blDgOd",
        "outputId": "284a84fb-3a6c-4a2a-8a58-50c2d4644406"
      },
      "execution_count": null,
      "outputs": [
        {
          "output_type": "execute_result",
          "data": {
            "text/plain": [
              "tensor([[1, 2, 3],\n",
              "        [4, 5, 6],\n",
              "        [7, 8, 9]])"
            ]
          },
          "metadata": {},
          "execution_count": 113
        }
      ]
    },
    {
      "cell_type": "code",
      "source": [
        "x[0,0,0]"
      ],
      "metadata": {
        "colab": {
          "base_uri": "https://localhost:8080/"
        },
        "id": "XY30G-TZDrBd",
        "outputId": "d277ae06-c1de-421a-a188-f34ac71bf0a3"
      },
      "execution_count": null,
      "outputs": [
        {
          "output_type": "execute_result",
          "data": {
            "text/plain": [
              "tensor(1)"
            ]
          },
          "metadata": {},
          "execution_count": 114
        }
      ]
    },
    {
      "cell_type": "code",
      "source": [
        "x[0,2,2]"
      ],
      "metadata": {
        "colab": {
          "base_uri": "https://localhost:8080/"
        },
        "id": "PdyBQTttDyfm",
        "outputId": "9eabd8ef-1d9d-4a35-cbbf-7f6cd78ac89c"
      },
      "execution_count": null,
      "outputs": [
        {
          "output_type": "execute_result",
          "data": {
            "text/plain": [
              "tensor(9)"
            ]
          },
          "metadata": {},
          "execution_count": 115
        }
      ]
    },
    {
      "cell_type": "code",
      "source": [
        "x[0,1,1]"
      ],
      "metadata": {
        "colab": {
          "base_uri": "https://localhost:8080/"
        },
        "id": "jnR_iu_qEInM",
        "outputId": "b9b6a74e-42e5-4fa5-a709-cbf6ec4416ca"
      },
      "execution_count": null,
      "outputs": [
        {
          "output_type": "execute_result",
          "data": {
            "text/plain": [
              "tensor(5)"
            ]
          },
          "metadata": {},
          "execution_count": 116
        }
      ]
    },
    {
      "cell_type": "markdown",
      "source": [
        "##Pytorch tensor and Numpy"
      ],
      "metadata": {
        "id": "ygJPSL4WEOpx"
      }
    },
    {
      "cell_type": "code",
      "source": [
        "import numpy as np\n"
      ],
      "metadata": {
        "id": "F1myuaf3ELRD"
      },
      "execution_count": null,
      "outputs": []
    },
    {
      "cell_type": "code",
      "source": [
        "array = np.arange(1.,8.)\n",
        "array"
      ],
      "metadata": {
        "colab": {
          "base_uri": "https://localhost:8080/"
        },
        "id": "qiPQUn1QEni3",
        "outputId": "37deaa09-1a25-4df9-d6ab-ccc90c7af3ad"
      },
      "execution_count": null,
      "outputs": [
        {
          "output_type": "execute_result",
          "data": {
            "text/plain": [
              "array([1., 2., 3., 4., 5., 6., 7.])"
            ]
          },
          "metadata": {},
          "execution_count": 118
        }
      ]
    },
    {
      "cell_type": "code",
      "source": [
        "tensor = torch.from_numpy(array)\n",
        "tensor"
      ],
      "metadata": {
        "colab": {
          "base_uri": "https://localhost:8080/"
        },
        "id": "4hGFhJR8ErWy",
        "outputId": "bcfb8272-ae28-4b95-c974-5adfa2dcc5a3"
      },
      "execution_count": null,
      "outputs": [
        {
          "output_type": "execute_result",
          "data": {
            "text/plain": [
              "tensor([1., 2., 3., 4., 5., 6., 7.], dtype=torch.float64)"
            ]
          },
          "metadata": {},
          "execution_count": 119
        }
      ]
    },
    {
      "cell_type": "code",
      "source": [
        "numpy_array = tensor.numpy()\n",
        "numpy_array"
      ],
      "metadata": {
        "colab": {
          "base_uri": "https://localhost:8080/"
        },
        "id": "cMBSR3ShEtKG",
        "outputId": "b1faa518-a1d9-457e-c944-44671888fbc5"
      },
      "execution_count": null,
      "outputs": [
        {
          "output_type": "execute_result",
          "data": {
            "text/plain": [
              "array([1., 2., 3., 4., 5., 6., 7.])"
            ]
          },
          "metadata": {},
          "execution_count": 120
        }
      ]
    },
    {
      "cell_type": "code",
      "source": [
        "array,tensor,numpy_array"
      ],
      "metadata": {
        "colab": {
          "base_uri": "https://localhost:8080/"
        },
        "id": "H_MTR8DvE6qd",
        "outputId": "65e8d840-11c1-4bd4-b37d-813b8ad9d073"
      },
      "execution_count": null,
      "outputs": [
        {
          "output_type": "execute_result",
          "data": {
            "text/plain": [
              "(array([1., 2., 3., 4., 5., 6., 7.]),\n",
              " tensor([1., 2., 3., 4., 5., 6., 7.], dtype=torch.float64),\n",
              " array([1., 2., 3., 4., 5., 6., 7.]))"
            ]
          },
          "metadata": {},
          "execution_count": 121
        }
      ]
    },
    {
      "cell_type": "markdown",
      "source": [
        "## Reproducibility"
      ],
      "metadata": {
        "id": "Lm_qVJCdFFmk"
      }
    },
    {
      "cell_type": "code",
      "source": [
        "random_a = torch.rand(3,4)\n",
        "random_a"
      ],
      "metadata": {
        "colab": {
          "base_uri": "https://localhost:8080/"
        },
        "id": "vcQvmjNRE_Nw",
        "outputId": "69a2599c-2502-46f7-a04e-4d3dd64911e2"
      },
      "execution_count": null,
      "outputs": [
        {
          "output_type": "execute_result",
          "data": {
            "text/plain": [
              "tensor([[0.9733, 0.3063, 0.8674, 0.4838],\n",
              "        [0.6028, 0.5981, 0.9723, 0.9481],\n",
              "        [0.8696, 0.8309, 0.2965, 0.6900]])"
            ]
          },
          "metadata": {},
          "execution_count": 122
        }
      ]
    },
    {
      "cell_type": "code",
      "source": [
        "random_b = torch.rand(3,4)\n",
        "random_b"
      ],
      "metadata": {
        "colab": {
          "base_uri": "https://localhost:8080/"
        },
        "id": "acSqAql1FPAz",
        "outputId": "721c9d65-1e06-47b8-b9db-dba59eaa0515"
      },
      "execution_count": null,
      "outputs": [
        {
          "output_type": "execute_result",
          "data": {
            "text/plain": [
              "tensor([[0.7226, 0.7527, 0.4492, 0.2886],\n",
              "        [0.5041, 0.9606, 0.6831, 0.5812],\n",
              "        [0.0520, 0.7810, 0.0198, 0.4093]])"
            ]
          },
          "metadata": {},
          "execution_count": 123
        }
      ]
    },
    {
      "cell_type": "code",
      "source": [
        "random_seed = 42  #same result is reproduced using this\n",
        "torch.manual_seed(random_seed)\n",
        "random_c = torch.rand(3,4)\n",
        "random_c"
      ],
      "metadata": {
        "colab": {
          "base_uri": "https://localhost:8080/"
        },
        "id": "ZRLjuI7KFS3y",
        "outputId": "4a631f58-208a-4564-e7f6-f36be3b37bea"
      },
      "execution_count": null,
      "outputs": [
        {
          "output_type": "execute_result",
          "data": {
            "text/plain": [
              "tensor([[0.8823, 0.9150, 0.3829, 0.9593],\n",
              "        [0.3904, 0.6009, 0.2566, 0.7936],\n",
              "        [0.9408, 0.1332, 0.9346, 0.5936]])"
            ]
          },
          "metadata": {},
          "execution_count": 124
        }
      ]
    },
    {
      "cell_type": "code",
      "source": [
        "random_seed = 42\n",
        "torch.manual_seed(random_seed)\n",
        "random_d = torch.rand(3,4)\n",
        "random_d"
      ],
      "metadata": {
        "colab": {
          "base_uri": "https://localhost:8080/"
        },
        "id": "Sbanx-7kFsDM",
        "outputId": "e091c369-8ab8-410b-ff09-3a1879e83c36"
      },
      "execution_count": null,
      "outputs": [
        {
          "output_type": "execute_result",
          "data": {
            "text/plain": [
              "tensor([[0.8823, 0.9150, 0.3829, 0.9593],\n",
              "        [0.3904, 0.6009, 0.2566, 0.7936],\n",
              "        [0.9408, 0.1332, 0.9346, 0.5936]])"
            ]
          },
          "metadata": {},
          "execution_count": 125
        }
      ]
    },
    {
      "cell_type": "code",
      "source": [
        "random_seed = 50\n",
        "torch.manual_seed(random_seed)\n",
        "random_e = torch.rand(3,4)\n",
        "random_e"
      ],
      "metadata": {
        "colab": {
          "base_uri": "https://localhost:8080/"
        },
        "id": "6Q8zALBxF7l7",
        "outputId": "f734be79-665f-443b-d0dc-1e7eaee88506"
      },
      "execution_count": null,
      "outputs": [
        {
          "output_type": "execute_result",
          "data": {
            "text/plain": [
              "tensor([[0.6180, 0.0687, 0.3893, 0.0404],\n",
              "        [0.4013, 0.1442, 0.4605, 0.4877],\n",
              "        [0.5927, 0.9634, 0.1230, 0.4048]])"
            ]
          },
          "metadata": {},
          "execution_count": 126
        }
      ]
    },
    {
      "cell_type": "markdown",
      "source": [
        "## Running Tensors on GPU's"
      ],
      "metadata": {
        "id": "j_lxOsiUGGlM"
      }
    },
    {
      "cell_type": "code",
      "source": [
        "torch.cuda.is_available()"
      ],
      "metadata": {
        "colab": {
          "base_uri": "https://localhost:8080/"
        },
        "id": "3LnBoy_xGJoF",
        "outputId": "eb4446da-b05a-4555-f72f-f4747b8942a5"
      },
      "execution_count": null,
      "outputs": [
        {
          "output_type": "execute_result",
          "data": {
            "text/plain": [
              "True"
            ]
          },
          "metadata": {},
          "execution_count": 127
        }
      ]
    },
    {
      "cell_type": "code",
      "source": [
        "device =\"cuda\" if torch.cuda.is_available() else \"cpu\"\n",
        "device"
      ],
      "metadata": {
        "colab": {
          "base_uri": "https://localhost:8080/",
          "height": 35
        },
        "id": "vn-aDvXKG0PO",
        "outputId": "9ade5c43-3652-484d-f685-53f1543d9ee9"
      },
      "execution_count": null,
      "outputs": [
        {
          "output_type": "execute_result",
          "data": {
            "text/plain": [
              "'cuda'"
            ],
            "application/vnd.google.colaboratory.intrinsic+json": {
              "type": "string"
            }
          },
          "metadata": {},
          "execution_count": 128
        }
      ]
    },
    {
      "cell_type": "code",
      "source": [
        "torch.cuda.device_count()"
      ],
      "metadata": {
        "colab": {
          "base_uri": "https://localhost:8080/"
        },
        "id": "2-sNkW0NHeTo",
        "outputId": "94014cd7-5e01-4404-8092-c16479a75507"
      },
      "execution_count": null,
      "outputs": [
        {
          "output_type": "execute_result",
          "data": {
            "text/plain": [
              "1"
            ]
          },
          "metadata": {},
          "execution_count": 129
        }
      ]
    },
    {
      "cell_type": "code",
      "source": [
        "tensor = torch.tensor([1,2,3])\n",
        "tensor"
      ],
      "metadata": {
        "colab": {
          "base_uri": "https://localhost:8080/"
        },
        "id": "zip_3YlBHtqx",
        "outputId": "76cdf5f5-c98d-4983-8e65-bd207a3dbbb8"
      },
      "execution_count": null,
      "outputs": [
        {
          "output_type": "execute_result",
          "data": {
            "text/plain": [
              "tensor([1, 2, 3])"
            ]
          },
          "metadata": {},
          "execution_count": 130
        }
      ]
    },
    {
      "cell_type": "code",
      "source": [
        "print(tensor,tensor.device)"
      ],
      "metadata": {
        "colab": {
          "base_uri": "https://localhost:8080/"
        },
        "id": "jrBMKUBnH2bG",
        "outputId": "9310bdc6-6c19-4825-f149-5ee35defa559"
      },
      "execution_count": null,
      "outputs": [
        {
          "output_type": "stream",
          "name": "stdout",
          "text": [
            "tensor([1, 2, 3]) cpu\n"
          ]
        }
      ]
    },
    {
      "cell_type": "code",
      "source": [
        "tensor_on_gpu = tensor.to(device)\n",
        "tensor_on_gpu"
      ],
      "metadata": {
        "colab": {
          "base_uri": "https://localhost:8080/"
        },
        "id": "3pjaerbKH7qp",
        "outputId": "353eb133-097e-4666-d097-57ef5d940e4b"
      },
      "execution_count": null,
      "outputs": [
        {
          "output_type": "execute_result",
          "data": {
            "text/plain": [
              "tensor([1, 2, 3], device='cuda:0')"
            ]
          },
          "metadata": {},
          "execution_count": 132
        }
      ]
    },
    {
      "cell_type": "code",
      "source": [
        "tensor_on_gpu.device"
      ],
      "metadata": {
        "colab": {
          "base_uri": "https://localhost:8080/"
        },
        "id": "Trjvafx3IDZ8",
        "outputId": "7cb6ffb7-ccad-4635-dd3a-67af269d7a3a"
      },
      "execution_count": null,
      "outputs": [
        {
          "output_type": "execute_result",
          "data": {
            "text/plain": [
              "device(type='cuda', index=0)"
            ]
          },
          "metadata": {},
          "execution_count": 133
        }
      ]
    },
    {
      "cell_type": "code",
      "source": [
        "tensor_back_to_cpu = tensor_on_gpu.cpu()\n",
        "tensor_back_to_cpu"
      ],
      "metadata": {
        "colab": {
          "base_uri": "https://localhost:8080/"
        },
        "id": "b0zxQMmnIKhy",
        "outputId": "a1c8432b-0c87-481b-82f3-6b8877bf3a34"
      },
      "execution_count": null,
      "outputs": [
        {
          "output_type": "execute_result",
          "data": {
            "text/plain": [
              "tensor([1, 2, 3])"
            ]
          },
          "metadata": {},
          "execution_count": 134
        }
      ]
    },
    {
      "cell_type": "code",
      "source": [
        "tensor_back_to_cpu.device"
      ],
      "metadata": {
        "colab": {
          "base_uri": "https://localhost:8080/"
        },
        "id": "x_ZVi829IVv3",
        "outputId": "90057573-c1f3-415d-b8d2-ddd0e9498f47"
      },
      "execution_count": null,
      "outputs": [
        {
          "output_type": "execute_result",
          "data": {
            "text/plain": [
              "device(type='cpu')"
            ]
          },
          "metadata": {},
          "execution_count": 135
        }
      ]
    }
  ]
}