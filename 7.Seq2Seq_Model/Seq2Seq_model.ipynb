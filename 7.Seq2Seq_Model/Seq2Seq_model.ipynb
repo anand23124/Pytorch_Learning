{
  "nbformat": 4,
  "nbformat_minor": 0,
  "metadata": {
    "colab": {
      "provenance": []
    },
    "kernelspec": {
      "name": "python3",
      "display_name": "Python 3"
    },
    "language_info": {
      "name": "python"
    }
  },
  "cells": [
    {
      "cell_type": "code",
      "execution_count": null,
      "metadata": {
        "id": "FcZlgAyxGxo0"
      },
      "outputs": [],
      "source": [
        "import torch\n",
        "torch.__version__"
      ]
    },
    {
      "cell_type": "markdown",
      "source": [
        "#Seq2Seq model in Pytorch(Language Translation)\n",
        "\n"
      ],
      "metadata": {
        "id": "ibxS6AIk2kt-"
      }
    },
    {
      "cell_type": "markdown",
      "source": [
        "##Flow of Program\n",
        "0. import impoortant libraries\n",
        "1. prepare data\n",
        "2. build a model\n",
        "3. pick a loss function and optimizer\n",
        "4. training and evaluation loop function\n",
        "5. Starting Training loop\n",
        "6. Visualize your model\n",
        "7. Testing model with new sentence(Sentiment analysis)\n",
        "8. Save your model"
      ],
      "metadata": {
        "id": "vHAEcBmx2oiF"
      }
    },
    {
      "cell_type": "markdown",
      "source": [
        "### **0. import important libraries**"
      ],
      "metadata": {
        "id": "SkrUs7Se3cSD"
      }
    },
    {
      "cell_type": "code",
      "source": [
        "!pip install torchtext==0.15.0 --index-url https://download.pytorch.org/whl/cu118"
      ],
      "metadata": {
        "colab": {
          "base_uri": "https://localhost:8080/"
        },
        "id": "hj-wtrHBbIju",
        "outputId": "d29a83f2-5417-47f1-c1b4-d97a623e1729"
      },
      "execution_count": null,
      "outputs": [
        {
          "output_type": "stream",
          "name": "stdout",
          "text": [
            "Looking in indexes: https://download.pytorch.org/whl/cu118\n",
            "Collecting torchtext==0.15.0\n",
            "  Downloading https://download.pytorch.org/whl/torchtext-0.15.0%2Bcpu-cp310-cp310-linux_x86_64.whl (2.0 MB)\n",
            "\u001b[2K     \u001b[90m━━━━━━━━━━━━━━━━━━━━━━━━━━━━━━━━━━━━━━━━\u001b[0m \u001b[32m2.0/2.0 MB\u001b[0m \u001b[31m23.5 MB/s\u001b[0m eta \u001b[36m0:00:00\u001b[0m\n",
            "\u001b[?25hRequirement already satisfied: tqdm in /usr/local/lib/python3.10/dist-packages (from torchtext==0.15.0) (4.66.5)\n",
            "Requirement already satisfied: requests in /usr/local/lib/python3.10/dist-packages (from torchtext==0.15.0) (2.32.3)\n",
            "Collecting torch==2.0.0 (from torchtext==0.15.0)\n",
            "  Downloading https://download.pytorch.org/whl/cu118/torch-2.0.0%2Bcu118-cp310-cp310-linux_x86_64.whl (2267.3 MB)\n",
            "\u001b[2K     \u001b[90m━━━━━━━━━━━━━━━━━━━━━━━━━━━━━━━━━━━━━━━━\u001b[0m \u001b[32m2.3/2.3 GB\u001b[0m \u001b[31m600.4 kB/s\u001b[0m eta \u001b[36m0:00:00\u001b[0m\n",
            "\u001b[?25hRequirement already satisfied: numpy in /usr/local/lib/python3.10/dist-packages (from torchtext==0.15.0) (1.26.4)\n",
            "Collecting torchdata==0.6.0 (from torchtext==0.15.0)\n",
            "  Downloading https://download.pytorch.org/whl/torchdata-0.6.0-cp310-cp310-manylinux_2_17_x86_64.manylinux2014_x86_64.whl (4.6 MB)\n",
            "\u001b[2K     \u001b[90m━━━━━━━━━━━━━━━━━━━━━━━━━━━━━━━━━━━━━━━━\u001b[0m \u001b[32m4.6/4.6 MB\u001b[0m \u001b[31m68.7 MB/s\u001b[0m eta \u001b[36m0:00:00\u001b[0m\n",
            "\u001b[?25hRequirement already satisfied: filelock in /usr/local/lib/python3.10/dist-packages (from torch==2.0.0->torchtext==0.15.0) (3.16.1)\n",
            "Requirement already satisfied: typing-extensions in /usr/local/lib/python3.10/dist-packages (from torch==2.0.0->torchtext==0.15.0) (4.12.2)\n",
            "Requirement already satisfied: sympy in /usr/local/lib/python3.10/dist-packages (from torch==2.0.0->torchtext==0.15.0) (1.13.3)\n",
            "Requirement already satisfied: networkx in /usr/local/lib/python3.10/dist-packages (from torch==2.0.0->torchtext==0.15.0) (3.3)\n",
            "Requirement already satisfied: jinja2 in /usr/local/lib/python3.10/dist-packages (from torch==2.0.0->torchtext==0.15.0) (3.1.4)\n",
            "Collecting triton==2.0.0 (from torch==2.0.0->torchtext==0.15.0)\n",
            "  Downloading https://download.pytorch.org/whl/triton-2.0.0-1-cp310-cp310-manylinux2014_x86_64.manylinux_2_17_x86_64.whl (63.3 MB)\n",
            "\u001b[2K     \u001b[90m━━━━━━━━━━━━━━━━━━━━━━━━━━━━━━━━━━━━━━━━\u001b[0m \u001b[32m63.3/63.3 MB\u001b[0m \u001b[31m11.4 MB/s\u001b[0m eta \u001b[36m0:00:00\u001b[0m\n",
            "\u001b[?25hRequirement already satisfied: urllib3>=1.25 in /usr/local/lib/python3.10/dist-packages (from torchdata==0.6.0->torchtext==0.15.0) (2.2.3)\n",
            "Requirement already satisfied: cmake in /usr/local/lib/python3.10/dist-packages (from triton==2.0.0->torch==2.0.0->torchtext==0.15.0) (3.30.4)\n",
            "Collecting lit (from triton==2.0.0->torch==2.0.0->torchtext==0.15.0)\n",
            "  Downloading https://download.pytorch.org/whl/lit-15.0.7.tar.gz (132 kB)\n",
            "\u001b[2K     \u001b[90m━━━━━━━━━━━━━━━━━━━━━━━━━━━━━━━━━━━━━━━━\u001b[0m \u001b[32m132.3/132.3 kB\u001b[0m \u001b[31m13.0 MB/s\u001b[0m eta \u001b[36m0:00:00\u001b[0m\n",
            "\u001b[?25h  Preparing metadata (setup.py) ... \u001b[?25l\u001b[?25hdone\n",
            "Requirement already satisfied: charset-normalizer<4,>=2 in /usr/local/lib/python3.10/dist-packages (from requests->torchtext==0.15.0) (3.3.2)\n",
            "Requirement already satisfied: idna<4,>=2.5 in /usr/local/lib/python3.10/dist-packages (from requests->torchtext==0.15.0) (3.10)\n",
            "Requirement already satisfied: certifi>=2017.4.17 in /usr/local/lib/python3.10/dist-packages (from requests->torchtext==0.15.0) (2024.8.30)\n",
            "Requirement already satisfied: MarkupSafe>=2.0 in /usr/local/lib/python3.10/dist-packages (from jinja2->torch==2.0.0->torchtext==0.15.0) (2.1.5)\n",
            "Requirement already satisfied: mpmath<1.4,>=1.1.0 in /usr/local/lib/python3.10/dist-packages (from sympy->torch==2.0.0->torchtext==0.15.0) (1.3.0)\n",
            "Building wheels for collected packages: lit\n",
            "  Building wheel for lit (setup.py) ... \u001b[?25l\u001b[?25hdone\n",
            "  Created wheel for lit: filename=lit-15.0.7-py3-none-any.whl size=89990 sha256=14f9b0870951cbc7b71e1f4d9ed7420d454e9f498ff1cf315479a57eebc94ff4\n",
            "  Stored in directory: /root/.cache/pip/wheels/27/2c/b6/3ed2983b1b44fe0dea1bb35234b09f2c22fb8ebb308679c922\n",
            "Successfully built lit\n",
            "Installing collected packages: lit, triton, torch, torchdata, torchtext\n",
            "  Attempting uninstall: torch\n",
            "    Found existing installation: torch 2.4.1+cu121\n",
            "    Uninstalling torch-2.4.1+cu121:\n",
            "      Successfully uninstalled torch-2.4.1+cu121\n",
            "\u001b[31mERROR: pip's dependency resolver does not currently take into account all the packages that are installed. This behaviour is the source of the following dependency conflicts.\n",
            "torchaudio 2.4.1+cu121 requires torch==2.4.1, but you have torch 2.0.0+cu118 which is incompatible.\n",
            "torchvision 0.19.1+cu121 requires torch==2.4.1, but you have torch 2.0.0+cu118 which is incompatible.\u001b[0m\u001b[31m\n",
            "\u001b[0mSuccessfully installed lit-15.0.7 torch-2.0.0+cu118 torchdata-0.6.0 torchtext-0.15.0+cpu triton-2.0.0\n"
          ]
        }
      ]
    },
    {
      "cell_type": "code",
      "source": [
        "!pip install torch  --index-url https://download.pytorch.org/whl/cu118"
      ],
      "metadata": {
        "colab": {
          "base_uri": "https://localhost:8080/"
        },
        "id": "2NnFeUqRbXN5",
        "outputId": "ae20b42d-26e8-488d-a8bf-d134457618ca"
      },
      "execution_count": null,
      "outputs": [
        {
          "output_type": "stream",
          "name": "stdout",
          "text": [
            "Looking in indexes: https://download.pytorch.org/whl/cu118\n",
            "Requirement already satisfied: torch in /usr/local/lib/python3.10/dist-packages (2.0.0+cu118)\n",
            "Requirement already satisfied: filelock in /usr/local/lib/python3.10/dist-packages (from torch) (3.16.1)\n",
            "Requirement already satisfied: typing-extensions in /usr/local/lib/python3.10/dist-packages (from torch) (4.12.2)\n",
            "Requirement already satisfied: sympy in /usr/local/lib/python3.10/dist-packages (from torch) (1.13.3)\n",
            "Requirement already satisfied: networkx in /usr/local/lib/python3.10/dist-packages (from torch) (3.3)\n",
            "Requirement already satisfied: jinja2 in /usr/local/lib/python3.10/dist-packages (from torch) (3.1.4)\n",
            "Requirement already satisfied: triton==2.0.0 in /usr/local/lib/python3.10/dist-packages (from torch) (2.0.0)\n",
            "Requirement already satisfied: cmake in /usr/local/lib/python3.10/dist-packages (from triton==2.0.0->torch) (3.30.4)\n",
            "Requirement already satisfied: lit in /usr/local/lib/python3.10/dist-packages (from triton==2.0.0->torch) (15.0.7)\n",
            "Requirement already satisfied: MarkupSafe>=2.0 in /usr/local/lib/python3.10/dist-packages (from jinja2->torch) (2.1.5)\n",
            "Requirement already satisfied: mpmath<1.4,>=1.1.0 in /usr/local/lib/python3.10/dist-packages (from sympy->torch) (1.3.0)\n"
          ]
        }
      ]
    },
    {
      "cell_type": "code",
      "source": [
        "import torch\n",
        "import torchtext # import the installed library\n",
        "\n",
        "print(torch.__version__)\n",
        "print(torchtext.__version__)"
      ],
      "metadata": {
        "colab": {
          "base_uri": "https://localhost:8080/"
        },
        "id": "GvdUxIfebFl8",
        "outputId": "72415183-c2db-4afc-b6be-af95526f18b0"
      },
      "execution_count": null,
      "outputs": [
        {
          "output_type": "stream",
          "name": "stdout",
          "text": [
            "2.0.0+cu118\n",
            "0.15.0+cpu\n"
          ]
        }
      ]
    },
    {
      "cell_type": "code",
      "source": [
        "!pip install datasets evaluate --upgrade"
      ],
      "metadata": {
        "colab": {
          "base_uri": "https://localhost:8080/"
        },
        "id": "zXXPHnvr4BrO",
        "outputId": "7af6d23f-d9e3-44d2-d5f3-85f7a5560d02"
      },
      "execution_count": null,
      "outputs": [
        {
          "output_type": "stream",
          "name": "stdout",
          "text": [
            "Collecting datasets\n",
            "  Downloading datasets-3.0.1-py3-none-any.whl.metadata (20 kB)\n",
            "Collecting evaluate\n",
            "  Downloading evaluate-0.4.3-py3-none-any.whl.metadata (9.2 kB)\n",
            "Requirement already satisfied: filelock in /usr/local/lib/python3.10/dist-packages (from datasets) (3.16.1)\n",
            "Requirement already satisfied: numpy>=1.17 in /usr/local/lib/python3.10/dist-packages (from datasets) (1.26.4)\n",
            "Requirement already satisfied: pyarrow>=15.0.0 in /usr/local/lib/python3.10/dist-packages (from datasets) (16.1.0)\n",
            "Collecting dill<0.3.9,>=0.3.0 (from datasets)\n",
            "  Downloading dill-0.3.8-py3-none-any.whl.metadata (10 kB)\n",
            "Requirement already satisfied: pandas in /usr/local/lib/python3.10/dist-packages (from datasets) (2.2.2)\n",
            "Requirement already satisfied: requests>=2.32.2 in /usr/local/lib/python3.10/dist-packages (from datasets) (2.32.3)\n",
            "Requirement already satisfied: tqdm>=4.66.3 in /usr/local/lib/python3.10/dist-packages (from datasets) (4.66.5)\n",
            "Collecting xxhash (from datasets)\n",
            "  Downloading xxhash-3.5.0-cp310-cp310-manylinux_2_17_x86_64.manylinux2014_x86_64.whl.metadata (12 kB)\n",
            "Collecting multiprocess (from datasets)\n",
            "  Downloading multiprocess-0.70.17-py310-none-any.whl.metadata (7.2 kB)\n",
            "Requirement already satisfied: fsspec<=2024.6.1,>=2023.1.0 in /usr/local/lib/python3.10/dist-packages (from fsspec[http]<=2024.6.1,>=2023.1.0->datasets) (2024.6.1)\n",
            "Requirement already satisfied: aiohttp in /usr/local/lib/python3.10/dist-packages (from datasets) (3.10.8)\n",
            "Requirement already satisfied: huggingface-hub>=0.22.0 in /usr/local/lib/python3.10/dist-packages (from datasets) (0.24.7)\n",
            "Requirement already satisfied: packaging in /usr/local/lib/python3.10/dist-packages (from datasets) (24.1)\n",
            "Requirement already satisfied: pyyaml>=5.1 in /usr/local/lib/python3.10/dist-packages (from datasets) (6.0.2)\n",
            "Requirement already satisfied: aiohappyeyeballs>=2.3.0 in /usr/local/lib/python3.10/dist-packages (from aiohttp->datasets) (2.4.3)\n",
            "Requirement already satisfied: aiosignal>=1.1.2 in /usr/local/lib/python3.10/dist-packages (from aiohttp->datasets) (1.3.1)\n",
            "Requirement already satisfied: attrs>=17.3.0 in /usr/local/lib/python3.10/dist-packages (from aiohttp->datasets) (24.2.0)\n",
            "Requirement already satisfied: frozenlist>=1.1.1 in /usr/local/lib/python3.10/dist-packages (from aiohttp->datasets) (1.4.1)\n",
            "Requirement already satisfied: multidict<7.0,>=4.5 in /usr/local/lib/python3.10/dist-packages (from aiohttp->datasets) (6.1.0)\n",
            "Requirement already satisfied: yarl<2.0,>=1.12.0 in /usr/local/lib/python3.10/dist-packages (from aiohttp->datasets) (1.13.1)\n",
            "Requirement already satisfied: async-timeout<5.0,>=4.0 in /usr/local/lib/python3.10/dist-packages (from aiohttp->datasets) (4.0.3)\n",
            "Requirement already satisfied: typing-extensions>=3.7.4.3 in /usr/local/lib/python3.10/dist-packages (from huggingface-hub>=0.22.0->datasets) (4.12.2)\n",
            "Requirement already satisfied: charset-normalizer<4,>=2 in /usr/local/lib/python3.10/dist-packages (from requests>=2.32.2->datasets) (3.3.2)\n",
            "Requirement already satisfied: idna<4,>=2.5 in /usr/local/lib/python3.10/dist-packages (from requests>=2.32.2->datasets) (3.10)\n",
            "Requirement already satisfied: urllib3<3,>=1.21.1 in /usr/local/lib/python3.10/dist-packages (from requests>=2.32.2->datasets) (2.2.3)\n",
            "Requirement already satisfied: certifi>=2017.4.17 in /usr/local/lib/python3.10/dist-packages (from requests>=2.32.2->datasets) (2024.8.30)\n",
            "INFO: pip is looking at multiple versions of multiprocess to determine which version is compatible with other requirements. This could take a while.\n",
            "  Downloading multiprocess-0.70.16-py310-none-any.whl.metadata (7.2 kB)\n",
            "Requirement already satisfied: python-dateutil>=2.8.2 in /usr/local/lib/python3.10/dist-packages (from pandas->datasets) (2.8.2)\n",
            "Requirement already satisfied: pytz>=2020.1 in /usr/local/lib/python3.10/dist-packages (from pandas->datasets) (2024.2)\n",
            "Requirement already satisfied: tzdata>=2022.7 in /usr/local/lib/python3.10/dist-packages (from pandas->datasets) (2024.2)\n",
            "Requirement already satisfied: six>=1.5 in /usr/local/lib/python3.10/dist-packages (from python-dateutil>=2.8.2->pandas->datasets) (1.16.0)\n",
            "Downloading datasets-3.0.1-py3-none-any.whl (471 kB)\n",
            "\u001b[2K   \u001b[90m━━━━━━━━━━━━━━━━━━━━━━━━━━━━━━━━━━━━━━━━\u001b[0m \u001b[32m471.6/471.6 kB\u001b[0m \u001b[31m21.3 MB/s\u001b[0m eta \u001b[36m0:00:00\u001b[0m\n",
            "\u001b[?25hDownloading evaluate-0.4.3-py3-none-any.whl (84 kB)\n",
            "\u001b[2K   \u001b[90m━━━━━━━━━━━━━━━━━━━━━━━━━━━━━━━━━━━━━━━━\u001b[0m \u001b[32m84.0/84.0 kB\u001b[0m \u001b[31m7.5 MB/s\u001b[0m eta \u001b[36m0:00:00\u001b[0m\n",
            "\u001b[?25hDownloading dill-0.3.8-py3-none-any.whl (116 kB)\n",
            "\u001b[2K   \u001b[90m━━━━━━━━━━━━━━━━━━━━━━━━━━━━━━━━━━━━━━━━\u001b[0m \u001b[32m116.3/116.3 kB\u001b[0m \u001b[31m11.8 MB/s\u001b[0m eta \u001b[36m0:00:00\u001b[0m\n",
            "\u001b[?25hDownloading multiprocess-0.70.16-py310-none-any.whl (134 kB)\n",
            "\u001b[2K   \u001b[90m━━━━━━━━━━━━━━━━━━━━━━━━━━━━━━━━━━━━━━━━\u001b[0m \u001b[32m134.8/134.8 kB\u001b[0m \u001b[31m13.3 MB/s\u001b[0m eta \u001b[36m0:00:00\u001b[0m\n",
            "\u001b[?25hDownloading xxhash-3.5.0-cp310-cp310-manylinux_2_17_x86_64.manylinux2014_x86_64.whl (194 kB)\n",
            "\u001b[2K   \u001b[90m━━━━━━━━━━━━━━━━━━━━━━━━━━━━━━━━━━━━━━━━\u001b[0m \u001b[32m194.1/194.1 kB\u001b[0m \u001b[31m16.1 MB/s\u001b[0m eta \u001b[36m0:00:00\u001b[0m\n",
            "\u001b[?25hInstalling collected packages: xxhash, dill, multiprocess, datasets, evaluate\n",
            "Successfully installed datasets-3.0.1 dill-0.3.8 evaluate-0.4.3 multiprocess-0.70.16 xxhash-3.5.0\n"
          ]
        }
      ]
    },
    {
      "cell_type": "code",
      "source": [
        "import torch\n",
        "import torch.nn as nn\n",
        "import torch.optim as optim\n",
        "import tqdm\n",
        "import random\n",
        "import spacy\n",
        "import datasets\n",
        "import matplotlib.pyplot as plt\n",
        "import numpy as np"
      ],
      "metadata": {
        "id": "kaNHJfJh3aLY"
      },
      "execution_count": null,
      "outputs": []
    },
    {
      "cell_type": "code",
      "source": [
        "!pip install torch torchvision torchaudio --index-url https://download.pytorch.org/whl/cu113"
      ],
      "metadata": {
        "colab": {
          "base_uri": "https://localhost:8080/",
          "height": 964
        },
        "id": "RRyniWDImJMq",
        "outputId": "c0564a7b-a9a8-4ec3-af7e-c757c5104f88"
      },
      "execution_count": null,
      "outputs": [
        {
          "output_type": "stream",
          "name": "stdout",
          "text": [
            "Looking in indexes: https://download.pytorch.org/whl/cu113\n",
            "Requirement already satisfied: torch in /usr/local/lib/python3.10/dist-packages (2.0.0+cu118)\n",
            "Requirement already satisfied: torchvision in /usr/local/lib/python3.10/dist-packages (0.19.1+cu121)\n",
            "Requirement already satisfied: torchaudio in /usr/local/lib/python3.10/dist-packages (2.4.1+cu121)\n",
            "Requirement already satisfied: filelock in /usr/local/lib/python3.10/dist-packages (from torch) (3.16.1)\n",
            "Requirement already satisfied: typing-extensions in /usr/local/lib/python3.10/dist-packages (from torch) (4.12.2)\n",
            "Requirement already satisfied: sympy in /usr/local/lib/python3.10/dist-packages (from torch) (1.13.3)\n",
            "Requirement already satisfied: networkx in /usr/local/lib/python3.10/dist-packages (from torch) (3.3)\n",
            "Requirement already satisfied: jinja2 in /usr/local/lib/python3.10/dist-packages (from torch) (3.1.4)\n",
            "Requirement already satisfied: triton==2.0.0 in /usr/local/lib/python3.10/dist-packages (from torch) (2.0.0)\n",
            "Requirement already satisfied: cmake in /usr/local/lib/python3.10/dist-packages (from triton==2.0.0->torch) (3.30.4)\n",
            "Requirement already satisfied: lit in /usr/local/lib/python3.10/dist-packages (from triton==2.0.0->torch) (15.0.7)\n",
            "Requirement already satisfied: numpy in /usr/local/lib/python3.10/dist-packages (from torchvision) (1.26.4)\n",
            "INFO: pip is looking at multiple versions of torchvision to determine which version is compatible with other requirements. This could take a while.\n",
            "Collecting torchvision\n",
            "  Downloading https://download.pytorch.org/whl/cu113/torchvision-0.13.1%2Bcu113-cp310-cp310-linux_x86_64.whl (23.4 MB)\n",
            "\u001b[2K     \u001b[90m━━━━━━━━━━━━━━━━━━━━━━━━━━━━━━━━━━━━━━━━\u001b[0m \u001b[32m23.4/23.4 MB\u001b[0m \u001b[31m77.1 MB/s\u001b[0m eta \u001b[36m0:00:00\u001b[0m\n",
            "\u001b[?25hRequirement already satisfied: requests in /usr/local/lib/python3.10/dist-packages (from torchvision) (2.32.3)\n",
            "Collecting torch\n",
            "  Downloading https://download.pytorch.org/whl/cu113/torch-1.12.1%2Bcu113-cp310-cp310-linux_x86_64.whl (1837.7 MB)\n",
            "\u001b[2K     \u001b[90m━━━━━━━━━━━━━━━━━━━━━━━━━━━━━━━━━━━━━━━━\u001b[0m \u001b[32m1.8/1.8 GB\u001b[0m \u001b[31m1.0 MB/s\u001b[0m eta \u001b[36m0:00:00\u001b[0m\n",
            "\u001b[?25hRequirement already satisfied: pillow!=8.3.*,>=5.3.0 in /usr/local/lib/python3.10/dist-packages (from torchvision) (10.4.0)\n",
            "INFO: pip is looking at multiple versions of torchaudio to determine which version is compatible with other requirements. This could take a while.\n",
            "Collecting torchaudio\n",
            "  Downloading https://download.pytorch.org/whl/cu113/torchaudio-0.12.1%2Bcu113-cp310-cp310-linux_x86_64.whl (3.8 MB)\n",
            "\u001b[2K     \u001b[90m━━━━━━━━━━━━━━━━━━━━━━━━━━━━━━━━━━━━━━━━\u001b[0m \u001b[32m3.8/3.8 MB\u001b[0m \u001b[31m90.7 MB/s\u001b[0m eta \u001b[36m0:00:00\u001b[0m\n",
            "\u001b[?25hRequirement already satisfied: charset-normalizer<4,>=2 in /usr/local/lib/python3.10/dist-packages (from requests->torchvision) (3.3.2)\n",
            "Requirement already satisfied: idna<4,>=2.5 in /usr/local/lib/python3.10/dist-packages (from requests->torchvision) (3.10)\n",
            "Requirement already satisfied: urllib3<3,>=1.21.1 in /usr/local/lib/python3.10/dist-packages (from requests->torchvision) (2.2.3)\n",
            "Requirement already satisfied: certifi>=2017.4.17 in /usr/local/lib/python3.10/dist-packages (from requests->torchvision) (2024.8.30)\n",
            "Requirement already satisfied: MarkupSafe>=2.0 in /usr/local/lib/python3.10/dist-packages (from jinja2->torch) (2.1.5)\n",
            "Requirement already satisfied: mpmath<1.4,>=1.1.0 in /usr/local/lib/python3.10/dist-packages (from sympy->torch) (1.3.0)\n",
            "Installing collected packages: torch, torchvision, torchaudio\n",
            "  Attempting uninstall: torch\n",
            "    Found existing installation: torch 2.0.0+cu118\n",
            "    Uninstalling torch-2.0.0+cu118:\n",
            "      Successfully uninstalled torch-2.0.0+cu118\n",
            "  Attempting uninstall: torchvision\n",
            "    Found existing installation: torchvision 0.19.1+cu121\n",
            "    Uninstalling torchvision-0.19.1+cu121:\n",
            "      Successfully uninstalled torchvision-0.19.1+cu121\n",
            "  Attempting uninstall: torchaudio\n",
            "    Found existing installation: torchaudio 2.4.1+cu121\n",
            "    Uninstalling torchaudio-2.4.1+cu121:\n",
            "      Successfully uninstalled torchaudio-2.4.1+cu121\n",
            "\u001b[31mERROR: pip's dependency resolver does not currently take into account all the packages that are installed. This behaviour is the source of the following dependency conflicts.\n",
            "torchdata 0.6.0 requires torch==2.0.0, but you have torch 1.12.1+cu113 which is incompatible.\n",
            "torchtext 0.15.0+cpu requires torch==2.0.0, but you have torch 1.12.1+cu113 which is incompatible.\u001b[0m\u001b[31m\n",
            "\u001b[0mSuccessfully installed torch-1.12.1+cu113 torchaudio-0.12.1+cu113 torchvision-0.13.1+cu113\n"
          ]
        },
        {
          "output_type": "display_data",
          "data": {
            "application/vnd.colab-display-data+json": {
              "pip_warning": {
                "packages": [
                  "torch"
                ]
              },
              "id": "fbeab9733492410995efa862d44ebba5"
            }
          },
          "metadata": {}
        }
      ]
    },
    {
      "cell_type": "code",
      "source": [
        "import evaluate"
      ],
      "metadata": {
        "colab": {
          "base_uri": "https://localhost:8080/"
        },
        "id": "Vqq54xWek8BF",
        "outputId": "1bfa9bfd-00b7-4990-af8f-470bb11f36aa"
      },
      "execution_count": null,
      "outputs": [
        {
          "output_type": "stream",
          "name": "stderr",
          "text": [
            "/usr/local/lib/python3.10/dist-packages/torchvision/io/image.py:13: UserWarning: Failed to load image Python extension: libtorch_cuda_cu.so: cannot open shared object file: No such file or directory\n",
            "  warn(f\"Failed to load image Python extension: {e}\")\n"
          ]
        }
      ]
    },
    {
      "cell_type": "markdown",
      "source": [
        "###1. Prepare *data*"
      ],
      "metadata": {
        "id": "wM4eTgultRg7"
      }
    },
    {
      "cell_type": "markdown",
      "source": [
        "1. Loading your data\n",
        "2. Tokenize data with spacy\n",
        "3. Creating a vocab\n",
        "4. Numericalizing our data\n",
        "5. Converting data to tensors\n",
        "6. creating data loaders(Batches)"
      ],
      "metadata": {
        "id": "biO6TWsroNq2"
      }
    },
    {
      "cell_type": "markdown",
      "source": [
        "####1.1 Loading yor data"
      ],
      "metadata": {
        "id": "Qi_xqwsMt7d6"
      }
    },
    {
      "cell_type": "code",
      "source": [
        "dataset=datasets.load_dataset(\"bentrevett/multi30k\")"
      ],
      "metadata": {
        "id": "pkzweK3ft4R_",
        "colab": {
          "base_uri": "https://localhost:8080/",
          "height": 241,
          "referenced_widgets": [
            "1dc97defd36348238d133b91eeba7d49",
            "679b77a856d94bda88aa757bff913eaf",
            "890dea29381c469c8c2e7ff583b8131d",
            "49033940b5a644f4b582d9bfbed34b2b",
            "ab4deaefb8b648cfa5bd55e39958eb88",
            "94e5403155bf4dc9bde62538f6fe6a9e",
            "bd1ad9b11a9f43f19b3bdc1013435894",
            "8e8b3273bb7440bb8e28cd2fcd6bb279",
            "8ef85442dab04a358ec1ffa030364cb0",
            "19a1e39fac98482780834b1bb462ac8a",
            "67400cc3cfb047609d7a42dce806652c",
            "10c4d95283034514ab91d50411e080ca",
            "9313a68d6e8244cba7d89aad9d91b436",
            "ce90d2d6237b48d1b761cba5cf5be553",
            "8b7b3c007b0e4153a90bd1d83f45f6c7",
            "b83efc53c93e4d0a9381213bdce05e0f",
            "6d66e17cdcc243e4868074c6d84feed8",
            "111bd31603d7448d96ff9ce0906d2230",
            "1fef16021e47412594a389d6cbeadb94",
            "7c37c296f9df4eb8899fefc7f3b31b0e",
            "e772d6dac3854a289e092ff6ccb857e9",
            "b6528b61a463498ead6db1e4c98a8ba4",
            "c958b3b9f2904fd6977a883e04099923",
            "c897a22ba7d1489a9e080d1db3774e49",
            "9115d023e3d54e60be16f92a3ce8b09b",
            "6a3cc939c2a24794a2b5b22981601d76",
            "b3f656361d424960ac047b1fa8cc97fa",
            "d829f2d2490d4d1da2e62b3547fee73b",
            "ba65a769687f4a97888df7d1f2a024cc",
            "c105e6157397403d9aacbea4aef3cc9d",
            "bb05e230796b4c63bc4a6bf34ece2071",
            "97d7ac3af21b4f899e9327a0b49318e3",
            "73922950b4474504b52ccfdd718139b0",
            "5ec046973c1644cb85201a7279fd9fb1",
            "e1cf7f0caad64be095fc8488955661bd",
            "d583242ee9e54f12a56c2a50bf2a4326",
            "9f033d509d6b47abb38165f168dfdff6",
            "a6f31a6748a34aa8bb6e710a1b5cb9d9",
            "e8be371b0c7146fda47e30746cc2cf92",
            "f68819ed23da45f789d2ccdf7b22778b",
            "2f48d4c5452848a1a773304aea447e15",
            "666af5ab0ea04c2d9ad5a0240526a04c",
            "6b8a3f89955f422c806bb8ca55fb6eeb",
            "540323c115f442bb970d6a13e23b6cd4",
            "ac340341d0264687be7e6451e9d0843b",
            "844d8d2e40d549ad90489267304a8413",
            "a4b13d71f45847a0b69423a8a6485a7c",
            "8cd179f2cba24e9ab6018e7bddb94766",
            "1b0a64e7ff4045b3a2cb55445ca8a1dc",
            "902ae5a29e4b415795b30e3fad5a1249",
            "57acbf6d5eea4137a5a9d0a69a8d1ebe",
            "b9f012b8d0c44e25a1517436d45b35f3",
            "294ebc1446184abfbfc8de5970c92e28",
            "185939afbaf446ec861503c5d58f383c",
            "6d3853b3eeb7472a88a9872149761ce6",
            "ee9b7505e25d4b0e92020c95437db3b2",
            "44da4c1f7d5240daaa07ce4048a392d8",
            "2f07c4b9c88748d299818d51d49c6c94",
            "4aeb2bb4c5094d84aa70e042bb5056cf",
            "ba804e80ee344906a8cd147471185118",
            "28a6b7d630f44aa48274c8eb195b3827",
            "0dd21aa8ff1a48b5981641e2eb22d1dd",
            "5486a53ed0e647258c98a36da488b446",
            "d7da287f58fb46d9a2e77cfbcdc6ed53",
            "1ee8504e23a944c3bc8f414a42627f1f",
            "49b6a54e6ad24d6aaaf550ef339453e1",
            "b956ac8abf6e4e43861f333d55e03f87",
            "d084fb5c93bd49738d79f65aea5899b1",
            "762502e3001e4b2a950e77faddabe695",
            "0d83a79fc23f4965a385d56ca7b6a162",
            "435da543f9454cf69978023c7a2a7781",
            "727a04e4df114670bd790b66d8346abb",
            "11afd3e0b85847889c4d19ac523d66d4",
            "550f3f32472b46a19e0eb1e5f0044569",
            "03a2cdf02d6242feb5ad85bcc6c63e00",
            "ed72facea12a4e7eaf8cb6e66e576f4c",
            "b0e2e73db4e54e6ebe415dbd0dc1eeb9"
          ]
        },
        "outputId": "ec041732-6b3b-4d53-cec2-1a13a34e6a81"
      },
      "execution_count": null,
      "outputs": [
        {
          "output_type": "display_data",
          "data": {
            "text/plain": [
              "README.md:   0%|          | 0.00/1.15k [00:00<?, ?B/s]"
            ],
            "application/vnd.jupyter.widget-view+json": {
              "version_major": 2,
              "version_minor": 0,
              "model_id": "1dc97defd36348238d133b91eeba7d49"
            }
          },
          "metadata": {}
        },
        {
          "output_type": "display_data",
          "data": {
            "text/plain": [
              "train.jsonl:   0%|          | 0.00/4.60M [00:00<?, ?B/s]"
            ],
            "application/vnd.jupyter.widget-view+json": {
              "version_major": 2,
              "version_minor": 0,
              "model_id": "10c4d95283034514ab91d50411e080ca"
            }
          },
          "metadata": {}
        },
        {
          "output_type": "display_data",
          "data": {
            "text/plain": [
              "val.jsonl:   0%|          | 0.00/164k [00:00<?, ?B/s]"
            ],
            "application/vnd.jupyter.widget-view+json": {
              "version_major": 2,
              "version_minor": 0,
              "model_id": "c958b3b9f2904fd6977a883e04099923"
            }
          },
          "metadata": {}
        },
        {
          "output_type": "display_data",
          "data": {
            "text/plain": [
              "test.jsonl:   0%|          | 0.00/156k [00:00<?, ?B/s]"
            ],
            "application/vnd.jupyter.widget-view+json": {
              "version_major": 2,
              "version_minor": 0,
              "model_id": "5ec046973c1644cb85201a7279fd9fb1"
            }
          },
          "metadata": {}
        },
        {
          "output_type": "display_data",
          "data": {
            "text/plain": [
              "Generating train split:   0%|          | 0/29000 [00:00<?, ? examples/s]"
            ],
            "application/vnd.jupyter.widget-view+json": {
              "version_major": 2,
              "version_minor": 0,
              "model_id": "ac340341d0264687be7e6451e9d0843b"
            }
          },
          "metadata": {}
        },
        {
          "output_type": "display_data",
          "data": {
            "text/plain": [
              "Generating validation split:   0%|          | 0/1014 [00:00<?, ? examples/s]"
            ],
            "application/vnd.jupyter.widget-view+json": {
              "version_major": 2,
              "version_minor": 0,
              "model_id": "ee9b7505e25d4b0e92020c95437db3b2"
            }
          },
          "metadata": {}
        },
        {
          "output_type": "display_data",
          "data": {
            "text/plain": [
              "Generating test split:   0%|          | 0/1000 [00:00<?, ? examples/s]"
            ],
            "application/vnd.jupyter.widget-view+json": {
              "version_major": 2,
              "version_minor": 0,
              "model_id": "b956ac8abf6e4e43861f333d55e03f87"
            }
          },
          "metadata": {}
        }
      ]
    },
    {
      "cell_type": "code",
      "source": [
        "dataset"
      ],
      "metadata": {
        "colab": {
          "base_uri": "https://localhost:8080/"
        },
        "id": "uc0GtxqatpLW",
        "outputId": "a6ddd4fd-5347-4431-d93b-b825c2301ab8"
      },
      "execution_count": null,
      "outputs": [
        {
          "output_type": "execute_result",
          "data": {
            "text/plain": [
              "DatasetDict({\n",
              "    train: Dataset({\n",
              "        features: ['en', 'de'],\n",
              "        num_rows: 29000\n",
              "    })\n",
              "    validation: Dataset({\n",
              "        features: ['en', 'de'],\n",
              "        num_rows: 1014\n",
              "    })\n",
              "    test: Dataset({\n",
              "        features: ['en', 'de'],\n",
              "        num_rows: 1000\n",
              "    })\n",
              "})"
            ]
          },
          "metadata": {},
          "execution_count": 9
        }
      ]
    },
    {
      "cell_type": "code",
      "source": [
        "train_data,valid_data,test_data=(dataset['train'],dataset['validation'],dataset['test'])"
      ],
      "metadata": {
        "id": "kTb7XyjRuSsK"
      },
      "execution_count": null,
      "outputs": []
    },
    {
      "cell_type": "code",
      "source": [
        "train_data,test_data,valid_data"
      ],
      "metadata": {
        "colab": {
          "base_uri": "https://localhost:8080/"
        },
        "id": "HNUcG5dwvG0o",
        "outputId": "3fc36a85-fbdc-418f-ce93-ded8327b99a1"
      },
      "execution_count": null,
      "outputs": [
        {
          "output_type": "execute_result",
          "data": {
            "text/plain": [
              "(Dataset({\n",
              "     features: ['en', 'de'],\n",
              "     num_rows: 29000\n",
              " }),\n",
              " Dataset({\n",
              "     features: ['en', 'de'],\n",
              "     num_rows: 1000\n",
              " }),\n",
              " Dataset({\n",
              "     features: ['en', 'de'],\n",
              "     num_rows: 1014\n",
              " }))"
            ]
          },
          "metadata": {},
          "execution_count": 11
        }
      ]
    },
    {
      "cell_type": "code",
      "source": [
        "test_data[100],train_data[0]"
      ],
      "metadata": {
        "colab": {
          "base_uri": "https://localhost:8080/"
        },
        "id": "DBQJdRxgvcIc",
        "outputId": "8f0d2ad2-6e62-4d93-b63e-a0df04561167"
      },
      "execution_count": null,
      "outputs": [
        {
          "output_type": "execute_result",
          "data": {
            "text/plain": [
              "({'en': 'A happy woman is preparing a refreshment at a coffee shop.',\n",
              "  'de': 'Eine glückliche Frau bereitet in einem Coffee-Shop eine Erfrischung zu.'},\n",
              " {'en': 'Two young, White males are outside near many bushes.',\n",
              "  'de': 'Zwei junge weiße Männer sind im Freien in der Nähe vieler Büsche.'})"
            ]
          },
          "metadata": {},
          "execution_count": 12
        }
      ]
    },
    {
      "cell_type": "markdown",
      "source": [
        "####1.2 Tokenize data with  spacy"
      ],
      "metadata": {
        "id": "74GNBytOvUS-"
      }
    },
    {
      "cell_type": "markdown",
      "source": [
        "Two young, White males are outside near many bushes.<br>\n",
        "[Two ,young, ,White ,males ,are ,outside ,near ,many ,bushes,.]"
      ],
      "metadata": {
        "id": "Dh73ZROuvspl"
      }
    },
    {
      "cell_type": "code",
      "source": [
        "!python -m spacy download en_core_web_sm\n",
        "!python -m spacy download de_core_news_sm"
      ],
      "metadata": {
        "colab": {
          "base_uri": "https://localhost:8080/"
        },
        "id": "bl3yiTe2vI18",
        "outputId": "ae043c73-ad04-467b-de4a-8b391436b27d"
      },
      "execution_count": null,
      "outputs": [
        {
          "output_type": "stream",
          "name": "stdout",
          "text": [
            "Collecting en-core-web-sm==3.7.1\n",
            "  Downloading https://github.com/explosion/spacy-models/releases/download/en_core_web_sm-3.7.1/en_core_web_sm-3.7.1-py3-none-any.whl (12.8 MB)\n",
            "\u001b[2K     \u001b[90m━━━━━━━━━━━━━━━━━━━━━━━━━━━━━━━━━━━━━━━━\u001b[0m \u001b[32m12.8/12.8 MB\u001b[0m \u001b[31m96.7 MB/s\u001b[0m eta \u001b[36m0:00:00\u001b[0m\n",
            "\u001b[?25hRequirement already satisfied: spacy<3.8.0,>=3.7.2 in /usr/local/lib/python3.10/dist-packages (from en-core-web-sm==3.7.1) (3.7.5)\n",
            "Requirement already satisfied: spacy-legacy<3.1.0,>=3.0.11 in /usr/local/lib/python3.10/dist-packages (from spacy<3.8.0,>=3.7.2->en-core-web-sm==3.7.1) (3.0.12)\n",
            "Requirement already satisfied: spacy-loggers<2.0.0,>=1.0.0 in /usr/local/lib/python3.10/dist-packages (from spacy<3.8.0,>=3.7.2->en-core-web-sm==3.7.1) (1.0.5)\n",
            "Requirement already satisfied: murmurhash<1.1.0,>=0.28.0 in /usr/local/lib/python3.10/dist-packages (from spacy<3.8.0,>=3.7.2->en-core-web-sm==3.7.1) (1.0.10)\n",
            "Requirement already satisfied: cymem<2.1.0,>=2.0.2 in /usr/local/lib/python3.10/dist-packages (from spacy<3.8.0,>=3.7.2->en-core-web-sm==3.7.1) (2.0.8)\n",
            "Requirement already satisfied: preshed<3.1.0,>=3.0.2 in /usr/local/lib/python3.10/dist-packages (from spacy<3.8.0,>=3.7.2->en-core-web-sm==3.7.1) (3.0.9)\n",
            "Requirement already satisfied: thinc<8.3.0,>=8.2.2 in /usr/local/lib/python3.10/dist-packages (from spacy<3.8.0,>=3.7.2->en-core-web-sm==3.7.1) (8.2.5)\n",
            "Requirement already satisfied: wasabi<1.2.0,>=0.9.1 in /usr/local/lib/python3.10/dist-packages (from spacy<3.8.0,>=3.7.2->en-core-web-sm==3.7.1) (1.1.3)\n",
            "Requirement already satisfied: srsly<3.0.0,>=2.4.3 in /usr/local/lib/python3.10/dist-packages (from spacy<3.8.0,>=3.7.2->en-core-web-sm==3.7.1) (2.4.8)\n",
            "Requirement already satisfied: catalogue<2.1.0,>=2.0.6 in /usr/local/lib/python3.10/dist-packages (from spacy<3.8.0,>=3.7.2->en-core-web-sm==3.7.1) (2.0.10)\n",
            "Requirement already satisfied: weasel<0.5.0,>=0.1.0 in /usr/local/lib/python3.10/dist-packages (from spacy<3.8.0,>=3.7.2->en-core-web-sm==3.7.1) (0.4.1)\n",
            "Requirement already satisfied: typer<1.0.0,>=0.3.0 in /usr/local/lib/python3.10/dist-packages (from spacy<3.8.0,>=3.7.2->en-core-web-sm==3.7.1) (0.12.5)\n",
            "Requirement already satisfied: tqdm<5.0.0,>=4.38.0 in /usr/local/lib/python3.10/dist-packages (from spacy<3.8.0,>=3.7.2->en-core-web-sm==3.7.1) (4.66.5)\n",
            "Requirement already satisfied: requests<3.0.0,>=2.13.0 in /usr/local/lib/python3.10/dist-packages (from spacy<3.8.0,>=3.7.2->en-core-web-sm==3.7.1) (2.32.3)\n",
            "Requirement already satisfied: pydantic!=1.8,!=1.8.1,<3.0.0,>=1.7.4 in /usr/local/lib/python3.10/dist-packages (from spacy<3.8.0,>=3.7.2->en-core-web-sm==3.7.1) (2.9.2)\n",
            "Requirement already satisfied: jinja2 in /usr/local/lib/python3.10/dist-packages (from spacy<3.8.0,>=3.7.2->en-core-web-sm==3.7.1) (3.1.4)\n",
            "Requirement already satisfied: setuptools in /usr/local/lib/python3.10/dist-packages (from spacy<3.8.0,>=3.7.2->en-core-web-sm==3.7.1) (71.0.4)\n",
            "Requirement already satisfied: packaging>=20.0 in /usr/local/lib/python3.10/dist-packages (from spacy<3.8.0,>=3.7.2->en-core-web-sm==3.7.1) (24.1)\n",
            "Requirement already satisfied: langcodes<4.0.0,>=3.2.0 in /usr/local/lib/python3.10/dist-packages (from spacy<3.8.0,>=3.7.2->en-core-web-sm==3.7.1) (3.4.1)\n",
            "Requirement already satisfied: numpy>=1.19.0 in /usr/local/lib/python3.10/dist-packages (from spacy<3.8.0,>=3.7.2->en-core-web-sm==3.7.1) (1.26.4)\n",
            "Requirement already satisfied: language-data>=1.2 in /usr/local/lib/python3.10/dist-packages (from langcodes<4.0.0,>=3.2.0->spacy<3.8.0,>=3.7.2->en-core-web-sm==3.7.1) (1.2.0)\n",
            "Requirement already satisfied: annotated-types>=0.6.0 in /usr/local/lib/python3.10/dist-packages (from pydantic!=1.8,!=1.8.1,<3.0.0,>=1.7.4->spacy<3.8.0,>=3.7.2->en-core-web-sm==3.7.1) (0.7.0)\n",
            "Requirement already satisfied: pydantic-core==2.23.4 in /usr/local/lib/python3.10/dist-packages (from pydantic!=1.8,!=1.8.1,<3.0.0,>=1.7.4->spacy<3.8.0,>=3.7.2->en-core-web-sm==3.7.1) (2.23.4)\n",
            "Requirement already satisfied: typing-extensions>=4.6.1 in /usr/local/lib/python3.10/dist-packages (from pydantic!=1.8,!=1.8.1,<3.0.0,>=1.7.4->spacy<3.8.0,>=3.7.2->en-core-web-sm==3.7.1) (4.12.2)\n",
            "Requirement already satisfied: charset-normalizer<4,>=2 in /usr/local/lib/python3.10/dist-packages (from requests<3.0.0,>=2.13.0->spacy<3.8.0,>=3.7.2->en-core-web-sm==3.7.1) (3.3.2)\n",
            "Requirement already satisfied: idna<4,>=2.5 in /usr/local/lib/python3.10/dist-packages (from requests<3.0.0,>=2.13.0->spacy<3.8.0,>=3.7.2->en-core-web-sm==3.7.1) (3.10)\n",
            "Requirement already satisfied: urllib3<3,>=1.21.1 in /usr/local/lib/python3.10/dist-packages (from requests<3.0.0,>=2.13.0->spacy<3.8.0,>=3.7.2->en-core-web-sm==3.7.1) (2.2.3)\n",
            "Requirement already satisfied: certifi>=2017.4.17 in /usr/local/lib/python3.10/dist-packages (from requests<3.0.0,>=2.13.0->spacy<3.8.0,>=3.7.2->en-core-web-sm==3.7.1) (2024.8.30)\n",
            "Requirement already satisfied: blis<0.8.0,>=0.7.8 in /usr/local/lib/python3.10/dist-packages (from thinc<8.3.0,>=8.2.2->spacy<3.8.0,>=3.7.2->en-core-web-sm==3.7.1) (0.7.11)\n",
            "Requirement already satisfied: confection<1.0.0,>=0.0.1 in /usr/local/lib/python3.10/dist-packages (from thinc<8.3.0,>=8.2.2->spacy<3.8.0,>=3.7.2->en-core-web-sm==3.7.1) (0.1.5)\n",
            "Requirement already satisfied: click>=8.0.0 in /usr/local/lib/python3.10/dist-packages (from typer<1.0.0,>=0.3.0->spacy<3.8.0,>=3.7.2->en-core-web-sm==3.7.1) (8.1.7)\n",
            "Requirement already satisfied: shellingham>=1.3.0 in /usr/local/lib/python3.10/dist-packages (from typer<1.0.0,>=0.3.0->spacy<3.8.0,>=3.7.2->en-core-web-sm==3.7.1) (1.5.4)\n",
            "Requirement already satisfied: rich>=10.11.0 in /usr/local/lib/python3.10/dist-packages (from typer<1.0.0,>=0.3.0->spacy<3.8.0,>=3.7.2->en-core-web-sm==3.7.1) (13.9.1)\n",
            "Requirement already satisfied: cloudpathlib<1.0.0,>=0.7.0 in /usr/local/lib/python3.10/dist-packages (from weasel<0.5.0,>=0.1.0->spacy<3.8.0,>=3.7.2->en-core-web-sm==3.7.1) (0.19.0)\n",
            "Requirement already satisfied: smart-open<8.0.0,>=5.2.1 in /usr/local/lib/python3.10/dist-packages (from weasel<0.5.0,>=0.1.0->spacy<3.8.0,>=3.7.2->en-core-web-sm==3.7.1) (7.0.4)\n",
            "Requirement already satisfied: MarkupSafe>=2.0 in /usr/local/lib/python3.10/dist-packages (from jinja2->spacy<3.8.0,>=3.7.2->en-core-web-sm==3.7.1) (2.1.5)\n",
            "Requirement already satisfied: marisa-trie>=0.7.7 in /usr/local/lib/python3.10/dist-packages (from language-data>=1.2->langcodes<4.0.0,>=3.2.0->spacy<3.8.0,>=3.7.2->en-core-web-sm==3.7.1) (1.2.0)\n",
            "Requirement already satisfied: markdown-it-py>=2.2.0 in /usr/local/lib/python3.10/dist-packages (from rich>=10.11.0->typer<1.0.0,>=0.3.0->spacy<3.8.0,>=3.7.2->en-core-web-sm==3.7.1) (3.0.0)\n",
            "Requirement already satisfied: pygments<3.0.0,>=2.13.0 in /usr/local/lib/python3.10/dist-packages (from rich>=10.11.0->typer<1.0.0,>=0.3.0->spacy<3.8.0,>=3.7.2->en-core-web-sm==3.7.1) (2.18.0)\n",
            "Requirement already satisfied: wrapt in /usr/local/lib/python3.10/dist-packages (from smart-open<8.0.0,>=5.2.1->weasel<0.5.0,>=0.1.0->spacy<3.8.0,>=3.7.2->en-core-web-sm==3.7.1) (1.16.0)\n",
            "Requirement already satisfied: mdurl~=0.1 in /usr/local/lib/python3.10/dist-packages (from markdown-it-py>=2.2.0->rich>=10.11.0->typer<1.0.0,>=0.3.0->spacy<3.8.0,>=3.7.2->en-core-web-sm==3.7.1) (0.1.2)\n",
            "\u001b[38;5;2m✔ Download and installation successful\u001b[0m\n",
            "You can now load the package via spacy.load('en_core_web_sm')\n",
            "\u001b[38;5;3m⚠ Restart to reload dependencies\u001b[0m\n",
            "If you are in a Jupyter or Colab notebook, you may need to restart Python in\n",
            "order to load all the package's dependencies. You can do this by selecting the\n",
            "'Restart kernel' or 'Restart runtime' option.\n",
            "Collecting de-core-news-sm==3.7.0\n",
            "  Downloading https://github.com/explosion/spacy-models/releases/download/de_core_news_sm-3.7.0/de_core_news_sm-3.7.0-py3-none-any.whl (14.6 MB)\n",
            "\u001b[2K     \u001b[90m━━━━━━━━━━━━━━━━━━━━━━━━━━━━━━━━━━━━━━━━\u001b[0m \u001b[32m14.6/14.6 MB\u001b[0m \u001b[31m87.4 MB/s\u001b[0m eta \u001b[36m0:00:00\u001b[0m\n",
            "\u001b[?25hRequirement already satisfied: spacy<3.8.0,>=3.7.0 in /usr/local/lib/python3.10/dist-packages (from de-core-news-sm==3.7.0) (3.7.5)\n",
            "Requirement already satisfied: spacy-legacy<3.1.0,>=3.0.11 in /usr/local/lib/python3.10/dist-packages (from spacy<3.8.0,>=3.7.0->de-core-news-sm==3.7.0) (3.0.12)\n",
            "Requirement already satisfied: spacy-loggers<2.0.0,>=1.0.0 in /usr/local/lib/python3.10/dist-packages (from spacy<3.8.0,>=3.7.0->de-core-news-sm==3.7.0) (1.0.5)\n",
            "Requirement already satisfied: murmurhash<1.1.0,>=0.28.0 in /usr/local/lib/python3.10/dist-packages (from spacy<3.8.0,>=3.7.0->de-core-news-sm==3.7.0) (1.0.10)\n",
            "Requirement already satisfied: cymem<2.1.0,>=2.0.2 in /usr/local/lib/python3.10/dist-packages (from spacy<3.8.0,>=3.7.0->de-core-news-sm==3.7.0) (2.0.8)\n",
            "Requirement already satisfied: preshed<3.1.0,>=3.0.2 in /usr/local/lib/python3.10/dist-packages (from spacy<3.8.0,>=3.7.0->de-core-news-sm==3.7.0) (3.0.9)\n",
            "Requirement already satisfied: thinc<8.3.0,>=8.2.2 in /usr/local/lib/python3.10/dist-packages (from spacy<3.8.0,>=3.7.0->de-core-news-sm==3.7.0) (8.2.5)\n",
            "Requirement already satisfied: wasabi<1.2.0,>=0.9.1 in /usr/local/lib/python3.10/dist-packages (from spacy<3.8.0,>=3.7.0->de-core-news-sm==3.7.0) (1.1.3)\n",
            "Requirement already satisfied: srsly<3.0.0,>=2.4.3 in /usr/local/lib/python3.10/dist-packages (from spacy<3.8.0,>=3.7.0->de-core-news-sm==3.7.0) (2.4.8)\n",
            "Requirement already satisfied: catalogue<2.1.0,>=2.0.6 in /usr/local/lib/python3.10/dist-packages (from spacy<3.8.0,>=3.7.0->de-core-news-sm==3.7.0) (2.0.10)\n",
            "Requirement already satisfied: weasel<0.5.0,>=0.1.0 in /usr/local/lib/python3.10/dist-packages (from spacy<3.8.0,>=3.7.0->de-core-news-sm==3.7.0) (0.4.1)\n",
            "Requirement already satisfied: typer<1.0.0,>=0.3.0 in /usr/local/lib/python3.10/dist-packages (from spacy<3.8.0,>=3.7.0->de-core-news-sm==3.7.0) (0.12.5)\n",
            "Requirement already satisfied: tqdm<5.0.0,>=4.38.0 in /usr/local/lib/python3.10/dist-packages (from spacy<3.8.0,>=3.7.0->de-core-news-sm==3.7.0) (4.66.5)\n",
            "Requirement already satisfied: requests<3.0.0,>=2.13.0 in /usr/local/lib/python3.10/dist-packages (from spacy<3.8.0,>=3.7.0->de-core-news-sm==3.7.0) (2.32.3)\n",
            "Requirement already satisfied: pydantic!=1.8,!=1.8.1,<3.0.0,>=1.7.4 in /usr/local/lib/python3.10/dist-packages (from spacy<3.8.0,>=3.7.0->de-core-news-sm==3.7.0) (2.9.2)\n",
            "Requirement already satisfied: jinja2 in /usr/local/lib/python3.10/dist-packages (from spacy<3.8.0,>=3.7.0->de-core-news-sm==3.7.0) (3.1.4)\n",
            "Requirement already satisfied: setuptools in /usr/local/lib/python3.10/dist-packages (from spacy<3.8.0,>=3.7.0->de-core-news-sm==3.7.0) (71.0.4)\n",
            "Requirement already satisfied: packaging>=20.0 in /usr/local/lib/python3.10/dist-packages (from spacy<3.8.0,>=3.7.0->de-core-news-sm==3.7.0) (24.1)\n",
            "Requirement already satisfied: langcodes<4.0.0,>=3.2.0 in /usr/local/lib/python3.10/dist-packages (from spacy<3.8.0,>=3.7.0->de-core-news-sm==3.7.0) (3.4.1)\n",
            "Requirement already satisfied: numpy>=1.19.0 in /usr/local/lib/python3.10/dist-packages (from spacy<3.8.0,>=3.7.0->de-core-news-sm==3.7.0) (1.26.4)\n",
            "Requirement already satisfied: language-data>=1.2 in /usr/local/lib/python3.10/dist-packages (from langcodes<4.0.0,>=3.2.0->spacy<3.8.0,>=3.7.0->de-core-news-sm==3.7.0) (1.2.0)\n",
            "Requirement already satisfied: annotated-types>=0.6.0 in /usr/local/lib/python3.10/dist-packages (from pydantic!=1.8,!=1.8.1,<3.0.0,>=1.7.4->spacy<3.8.0,>=3.7.0->de-core-news-sm==3.7.0) (0.7.0)\n",
            "Requirement already satisfied: pydantic-core==2.23.4 in /usr/local/lib/python3.10/dist-packages (from pydantic!=1.8,!=1.8.1,<3.0.0,>=1.7.4->spacy<3.8.0,>=3.7.0->de-core-news-sm==3.7.0) (2.23.4)\n",
            "Requirement already satisfied: typing-extensions>=4.6.1 in /usr/local/lib/python3.10/dist-packages (from pydantic!=1.8,!=1.8.1,<3.0.0,>=1.7.4->spacy<3.8.0,>=3.7.0->de-core-news-sm==3.7.0) (4.12.2)\n",
            "Requirement already satisfied: charset-normalizer<4,>=2 in /usr/local/lib/python3.10/dist-packages (from requests<3.0.0,>=2.13.0->spacy<3.8.0,>=3.7.0->de-core-news-sm==3.7.0) (3.3.2)\n",
            "Requirement already satisfied: idna<4,>=2.5 in /usr/local/lib/python3.10/dist-packages (from requests<3.0.0,>=2.13.0->spacy<3.8.0,>=3.7.0->de-core-news-sm==3.7.0) (3.10)\n",
            "Requirement already satisfied: urllib3<3,>=1.21.1 in /usr/local/lib/python3.10/dist-packages (from requests<3.0.0,>=2.13.0->spacy<3.8.0,>=3.7.0->de-core-news-sm==3.7.0) (2.2.3)\n",
            "Requirement already satisfied: certifi>=2017.4.17 in /usr/local/lib/python3.10/dist-packages (from requests<3.0.0,>=2.13.0->spacy<3.8.0,>=3.7.0->de-core-news-sm==3.7.0) (2024.8.30)\n",
            "Requirement already satisfied: blis<0.8.0,>=0.7.8 in /usr/local/lib/python3.10/dist-packages (from thinc<8.3.0,>=8.2.2->spacy<3.8.0,>=3.7.0->de-core-news-sm==3.7.0) (0.7.11)\n",
            "Requirement already satisfied: confection<1.0.0,>=0.0.1 in /usr/local/lib/python3.10/dist-packages (from thinc<8.3.0,>=8.2.2->spacy<3.8.0,>=3.7.0->de-core-news-sm==3.7.0) (0.1.5)\n",
            "Requirement already satisfied: click>=8.0.0 in /usr/local/lib/python3.10/dist-packages (from typer<1.0.0,>=0.3.0->spacy<3.8.0,>=3.7.0->de-core-news-sm==3.7.0) (8.1.7)\n",
            "Requirement already satisfied: shellingham>=1.3.0 in /usr/local/lib/python3.10/dist-packages (from typer<1.0.0,>=0.3.0->spacy<3.8.0,>=3.7.0->de-core-news-sm==3.7.0) (1.5.4)\n",
            "Requirement already satisfied: rich>=10.11.0 in /usr/local/lib/python3.10/dist-packages (from typer<1.0.0,>=0.3.0->spacy<3.8.0,>=3.7.0->de-core-news-sm==3.7.0) (13.9.1)\n",
            "Requirement already satisfied: cloudpathlib<1.0.0,>=0.7.0 in /usr/local/lib/python3.10/dist-packages (from weasel<0.5.0,>=0.1.0->spacy<3.8.0,>=3.7.0->de-core-news-sm==3.7.0) (0.19.0)\n",
            "Requirement already satisfied: smart-open<8.0.0,>=5.2.1 in /usr/local/lib/python3.10/dist-packages (from weasel<0.5.0,>=0.1.0->spacy<3.8.0,>=3.7.0->de-core-news-sm==3.7.0) (7.0.4)\n",
            "Requirement already satisfied: MarkupSafe>=2.0 in /usr/local/lib/python3.10/dist-packages (from jinja2->spacy<3.8.0,>=3.7.0->de-core-news-sm==3.7.0) (2.1.5)\n",
            "Requirement already satisfied: marisa-trie>=0.7.7 in /usr/local/lib/python3.10/dist-packages (from language-data>=1.2->langcodes<4.0.0,>=3.2.0->spacy<3.8.0,>=3.7.0->de-core-news-sm==3.7.0) (1.2.0)\n",
            "Requirement already satisfied: markdown-it-py>=2.2.0 in /usr/local/lib/python3.10/dist-packages (from rich>=10.11.0->typer<1.0.0,>=0.3.0->spacy<3.8.0,>=3.7.0->de-core-news-sm==3.7.0) (3.0.0)\n",
            "Requirement already satisfied: pygments<3.0.0,>=2.13.0 in /usr/local/lib/python3.10/dist-packages (from rich>=10.11.0->typer<1.0.0,>=0.3.0->spacy<3.8.0,>=3.7.0->de-core-news-sm==3.7.0) (2.18.0)\n",
            "Requirement already satisfied: wrapt in /usr/local/lib/python3.10/dist-packages (from smart-open<8.0.0,>=5.2.1->weasel<0.5.0,>=0.1.0->spacy<3.8.0,>=3.7.0->de-core-news-sm==3.7.0) (1.16.0)\n",
            "Requirement already satisfied: mdurl~=0.1 in /usr/local/lib/python3.10/dist-packages (from markdown-it-py>=2.2.0->rich>=10.11.0->typer<1.0.0,>=0.3.0->spacy<3.8.0,>=3.7.0->de-core-news-sm==3.7.0) (0.1.2)\n",
            "Installing collected packages: de-core-news-sm\n",
            "Successfully installed de-core-news-sm-3.7.0\n",
            "\u001b[38;5;2m✔ Download and installation successful\u001b[0m\n",
            "You can now load the package via spacy.load('de_core_news_sm')\n",
            "\u001b[38;5;3m⚠ Restart to reload dependencies\u001b[0m\n",
            "If you are in a Jupyter or Colab notebook, you may need to restart Python in\n",
            "order to load all the package's dependencies. You can do this by selecting the\n",
            "'Restart kernel' or 'Restart runtime' option.\n"
          ]
        }
      ]
    },
    {
      "cell_type": "code",
      "source": [
        "en_nlp=spacy.load(\"en_core_web_sm\")\n",
        "de_nlp=spacy.load(\"de_core_news_sm\")"
      ],
      "metadata": {
        "id": "rEceJPGdwPXs"
      },
      "execution_count": null,
      "outputs": []
    },
    {
      "cell_type": "code",
      "source": [
        "string=\"Zwei junge weiße Männer sind im Freien in der Nähe vieler Büsche.\""
      ],
      "metadata": {
        "id": "_HCAXVYIwnla"
      },
      "execution_count": null,
      "outputs": []
    },
    {
      "cell_type": "code",
      "source": [
        "[token.text for token in de_nlp.tokenizer(string)]"
      ],
      "metadata": {
        "colab": {
          "base_uri": "https://localhost:8080/"
        },
        "id": "oNLZe_pEzka_",
        "outputId": "3c9a317a-7c78-416c-e0fd-892707747ddb"
      },
      "execution_count": null,
      "outputs": [
        {
          "output_type": "execute_result",
          "data": {
            "text/plain": [
              "['Zwei',\n",
              " 'junge',\n",
              " 'weiße',\n",
              " 'Männer',\n",
              " 'sind',\n",
              " 'im',\n",
              " 'Freien',\n",
              " 'in',\n",
              " 'der',\n",
              " 'Nähe',\n",
              " 'vieler',\n",
              " 'Büsche',\n",
              " '.']"
            ]
          },
          "metadata": {},
          "execution_count": 16
        }
      ]
    },
    {
      "cell_type": "code",
      "source": [
        "def tokenize_example(example,en_nlp,de_nlp,max_length,lower,sos_token,eos_token):\n",
        "  en_tokens=[token.text for token in en_nlp.tokenizer(example[\"en\"])][:max_length]\n",
        "  de_tokens=[token.text for token in de_nlp.tokenizer(example[\"de\"])][:max_length]\n",
        "  if lower:\n",
        "    en_tokens=[token.lower() for token in en_tokens]\n",
        "    de_tokens=[token.lower() for token in de_tokens]\n",
        "  en_tokens=[sos_token]+en_tokens+[eos_token]\n",
        "  de_tokens=[sos_token]+de_tokens+[eos_token]\n",
        "  return {\"en_token\":en_tokens,\"de_token\":de_tokens}"
      ],
      "metadata": {
        "id": "PdbnREbrzzJW"
      },
      "execution_count": null,
      "outputs": []
    },
    {
      "cell_type": "code",
      "source": [
        "max_length=1000\n",
        "lower=True\n",
        "sos_token=\"<sos>\"\n",
        "eos_token=\"<eos>\"\n",
        "fn_kwargs={\"en_nlp\":en_nlp,\n",
        "           \"de_nlp\":de_nlp,\n",
        "           \"max_length\":max_length,\n",
        "           \"lower\":lower,\n",
        "           \"sos_token\":sos_token,\n",
        "           \"eos_token\":eos_token}"
      ],
      "metadata": {
        "id": "6yxD3VN_1ae9"
      },
      "execution_count": null,
      "outputs": []
    },
    {
      "cell_type": "code",
      "source": [
        "train_data,test_data,valid_data"
      ],
      "metadata": {
        "colab": {
          "base_uri": "https://localhost:8080/"
        },
        "id": "r1tC9zQV3kYI",
        "outputId": "0cffcc2e-91a0-4c49-e3e2-0684a5e49832"
      },
      "execution_count": null,
      "outputs": [
        {
          "output_type": "execute_result",
          "data": {
            "text/plain": [
              "(Dataset({\n",
              "     features: ['en', 'de'],\n",
              "     num_rows: 29000\n",
              " }),\n",
              " Dataset({\n",
              "     features: ['en', 'de'],\n",
              "     num_rows: 1000\n",
              " }),\n",
              " Dataset({\n",
              "     features: ['en', 'de'],\n",
              "     num_rows: 1014\n",
              " }))"
            ]
          },
          "metadata": {},
          "execution_count": 19
        }
      ]
    },
    {
      "cell_type": "code",
      "source": [
        "train_data=train_data.map(tokenize_example,fn_kwargs=fn_kwargs)\n",
        "valid_data=valid_data.map(tokenize_example,fn_kwargs=fn_kwargs)\n",
        "test_data=test_data.map(tokenize_example,fn_kwargs=fn_kwargs)"
      ],
      "metadata": {
        "colab": {
          "base_uri": "https://localhost:8080/",
          "height": 113,
          "referenced_widgets": [
            "9575d8102b554660bfe01d1cf4ba34bc",
            "317b521eee5b4135b219d54404518a7c",
            "87c536c31c324de8b88a750ad9d92fc7",
            "12d5e718f41245ad8a6dacefa10fa384",
            "3713f5b35b8f4aa7be101998b1ba283e",
            "b684e0841bfc43fb910ad71c0efae7ce",
            "5621c4a175ce40f8a31dfe55a63b8526",
            "cde3acc9420b46d1ad3357ff8b4b6e98",
            "7ffdad7bfd2049109966ec3b724ebbb2",
            "18eb36fd52c34672b16996a95cb07157",
            "8b5dd8edeb97418aad83e9c10e6f6256",
            "392caf6d10334a8c8a502d6ab017a479",
            "24c52c37cd48486b998f20aff613500c",
            "3bd3a9ecb20243b4bb544560eb7ce018",
            "c479aabeb7d5451f924df3d54e41dd1f",
            "d127d9fc45c542b1b4380a8dae9f5d28",
            "ab744f1bf3d24cd88867cde65fa7edea",
            "90c562eb5f584d8eb6c37288bb90995f",
            "67a5c127fec848d58d12a53a826b20d7",
            "6ff56716d9814744887f4c61d03ed99b",
            "f92ec23749194a65a2080002ca66eeca",
            "f0b450f8b3ef489a96da73b42e0a1777",
            "9288db7b1db34d8d95ca1c61d89f2467",
            "e8c48cc80cf545658ad110ff9e01839e",
            "6b80843b4c9f4cde8be0996e36b9912a",
            "219f11bfdcf94517a5e955a4052f617a",
            "0c31ddb3a3db410d9d67809ec85ecc36",
            "e7e310f6bb834633aed7bdedf34ea4cc",
            "adc187ba60af431d9f0255f21c128511",
            "82f189644cdf406c872da4a31afa3d6e",
            "ec70c545ab0b44fe9092b1f6be377612",
            "93f0e4a2891d44f180c8fea748d9e58c",
            "b232cec807da4606a55270a679cd6822"
          ]
        },
        "id": "paHKb2kg3CRb",
        "outputId": "fc7d803d-39f3-4eb5-e9c8-679b8b413eff"
      },
      "execution_count": null,
      "outputs": [
        {
          "output_type": "display_data",
          "data": {
            "text/plain": [
              "Map:   0%|          | 0/29000 [00:00<?, ? examples/s]"
            ],
            "application/vnd.jupyter.widget-view+json": {
              "version_major": 2,
              "version_minor": 0,
              "model_id": "9575d8102b554660bfe01d1cf4ba34bc"
            }
          },
          "metadata": {}
        },
        {
          "output_type": "display_data",
          "data": {
            "text/plain": [
              "Map:   0%|          | 0/1014 [00:00<?, ? examples/s]"
            ],
            "application/vnd.jupyter.widget-view+json": {
              "version_major": 2,
              "version_minor": 0,
              "model_id": "392caf6d10334a8c8a502d6ab017a479"
            }
          },
          "metadata": {}
        },
        {
          "output_type": "display_data",
          "data": {
            "text/plain": [
              "Map:   0%|          | 0/1000 [00:00<?, ? examples/s]"
            ],
            "application/vnd.jupyter.widget-view+json": {
              "version_major": 2,
              "version_minor": 0,
              "model_id": "9288db7b1db34d8d95ca1c61d89f2467"
            }
          },
          "metadata": {}
        }
      ]
    },
    {
      "cell_type": "code",
      "source": [
        "train_data,test_data,valid_data"
      ],
      "metadata": {
        "colab": {
          "base_uri": "https://localhost:8080/"
        },
        "id": "HQGo-26b3pDe",
        "outputId": "2eccf234-bdd5-4e48-b225-62345e747ba5"
      },
      "execution_count": null,
      "outputs": [
        {
          "output_type": "execute_result",
          "data": {
            "text/plain": [
              "(Dataset({\n",
              "     features: ['en', 'de', 'en_token', 'de_token'],\n",
              "     num_rows: 29000\n",
              " }),\n",
              " Dataset({\n",
              "     features: ['en', 'de', 'en_token', 'de_token'],\n",
              "     num_rows: 1000\n",
              " }),\n",
              " Dataset({\n",
              "     features: ['en', 'de', 'en_token', 'de_token'],\n",
              "     num_rows: 1014\n",
              " }))"
            ]
          },
          "metadata": {},
          "execution_count": 21
        }
      ]
    },
    {
      "cell_type": "code",
      "source": [
        "train_data[0]"
      ],
      "metadata": {
        "colab": {
          "base_uri": "https://localhost:8080/"
        },
        "id": "uMOXEfvs3uw3",
        "outputId": "0e6bdc9a-94a3-4f48-fcd7-4f9a5a370a81"
      },
      "execution_count": null,
      "outputs": [
        {
          "output_type": "execute_result",
          "data": {
            "text/plain": [
              "{'en': 'Two young, White males are outside near many bushes.',\n",
              " 'de': 'Zwei junge weiße Männer sind im Freien in der Nähe vieler Büsche.',\n",
              " 'en_token': ['<sos>',\n",
              "  'two',\n",
              "  'young',\n",
              "  ',',\n",
              "  'white',\n",
              "  'males',\n",
              "  'are',\n",
              "  'outside',\n",
              "  'near',\n",
              "  'many',\n",
              "  'bushes',\n",
              "  '.',\n",
              "  '<eos>'],\n",
              " 'de_token': ['<sos>',\n",
              "  'zwei',\n",
              "  'junge',\n",
              "  'weiße',\n",
              "  'männer',\n",
              "  'sind',\n",
              "  'im',\n",
              "  'freien',\n",
              "  'in',\n",
              "  'der',\n",
              "  'nähe',\n",
              "  'vieler',\n",
              "  'büsche',\n",
              "  '.',\n",
              "  '<eos>']}"
            ]
          },
          "metadata": {},
          "execution_count": 22
        }
      ]
    },
    {
      "cell_type": "markdown",
      "source": [
        "####1.3 creating a vocab"
      ],
      "metadata": {
        "id": "QYIFl_Tg39JG"
      }
    },
    {
      "cell_type": "code",
      "source": [
        "min_freq=2\n",
        "unk_token=\"<unk>\"\n",
        "pad_token=\"<pad>\"\n",
        "special_token=[unk_token,pad_token,sos_token,eos_token]\n",
        "en_vocab=torchtext.vocab.build_vocab_from_iterator(\n",
        "    train_data[\"en_token\"],\n",
        "    min_freq=min_freq,\n",
        "    specials=special_token\n",
        ")\n",
        "de_vocab=torchtext.vocab.build_vocab_from_iterator(\n",
        "    train_data[\"de_token\"],\n",
        "    min_freq=min_freq,\n",
        "    specials=special_token\n",
        ")"
      ],
      "metadata": {
        "id": "naEcl3B034ca"
      },
      "execution_count": null,
      "outputs": []
    },
    {
      "cell_type": "code",
      "source": [
        "en_vocab.get_itos()[0:10],de_vocab.get_itos()[:10]"
      ],
      "metadata": {
        "colab": {
          "base_uri": "https://localhost:8080/"
        },
        "id": "_AaqEK59C-T7",
        "outputId": "ca6ea55d-73b6-446f-b05d-65c8bdf0341c"
      },
      "execution_count": null,
      "outputs": [
        {
          "output_type": "execute_result",
          "data": {
            "text/plain": [
              "(['<unk>', '<pad>', '<sos>', '<eos>', 'a', '.', 'in', 'the', 'on', 'man'],\n",
              " ['<unk>', '<pad>', '<sos>', '<eos>', '.', 'ein', 'einem', 'in', 'eine', ','])"
            ]
          },
          "metadata": {},
          "execution_count": 26
        }
      ]
    },
    {
      "cell_type": "code",
      "source": [
        "len(en_vocab),len(de_vocab)"
      ],
      "metadata": {
        "colab": {
          "base_uri": "https://localhost:8080/"
        },
        "id": "HSHCU3BUeGyz",
        "outputId": "03ffbbdb-0e08-4c4e-8494-d46e6a327b05"
      },
      "execution_count": null,
      "outputs": [
        {
          "output_type": "execute_result",
          "data": {
            "text/plain": [
              "(5893, 7853)"
            ]
          },
          "metadata": {},
          "execution_count": 27
        }
      ]
    },
    {
      "cell_type": "code",
      "source": [
        "en_vocab.get_itos()[9]"
      ],
      "metadata": {
        "colab": {
          "base_uri": "https://localhost:8080/",
          "height": 36
        },
        "id": "13s8IFZJhVem",
        "outputId": "63a82d17-3771-4cf1-a253-ec83442d6b2f"
      },
      "execution_count": null,
      "outputs": [
        {
          "output_type": "execute_result",
          "data": {
            "text/plain": [
              "'man'"
            ],
            "application/vnd.google.colaboratory.intrinsic+json": {
              "type": "string"
            }
          },
          "metadata": {},
          "execution_count": 28
        }
      ]
    },
    {
      "cell_type": "code",
      "source": [
        "en_vocab.get_stoi()[\"man\"],en_vocab[\"man\"]"
      ],
      "metadata": {
        "colab": {
          "base_uri": "https://localhost:8080/"
        },
        "id": "IHAOf9lcfeqL",
        "outputId": "81b1f438-1e06-43a5-8b40-4a767ca98554"
      },
      "execution_count": null,
      "outputs": [
        {
          "output_type": "execute_result",
          "data": {
            "text/plain": [
              "(9, 9)"
            ]
          },
          "metadata": {},
          "execution_count": 29
        }
      ]
    },
    {
      "cell_type": "code",
      "source": [
        "\"The\" in en_vocab"
      ],
      "metadata": {
        "colab": {
          "base_uri": "https://localhost:8080/"
        },
        "id": "xxqq63GcfgwM",
        "outputId": "d72ce43b-86bb-466f-80f8-c3f7481d496d"
      },
      "execution_count": null,
      "outputs": [
        {
          "output_type": "execute_result",
          "data": {
            "text/plain": [
              "False"
            ]
          },
          "metadata": {},
          "execution_count": 30
        }
      ]
    },
    {
      "cell_type": "code",
      "source": [
        "en_vocab[\"<unk>\"]"
      ],
      "metadata": {
        "colab": {
          "base_uri": "https://localhost:8080/"
        },
        "id": "tI_aowYhil4T",
        "outputId": "704b495c-e1f2-4cdf-cf2d-018b93f1615a"
      },
      "execution_count": null,
      "outputs": [
        {
          "output_type": "execute_result",
          "data": {
            "text/plain": [
              "0"
            ]
          },
          "metadata": {},
          "execution_count": 31
        }
      ]
    },
    {
      "cell_type": "code",
      "source": [
        "#en_vocab[\"dkahjdhfnoiniofnv\"] # for unknow word it is giving error we have to set <unk> as default to unknown code"
      ],
      "metadata": {
        "id": "9HmcyXfChsOk"
      },
      "execution_count": null,
      "outputs": []
    },
    {
      "cell_type": "code",
      "source": [
        "#setting the unknown word in vocab to <unk> token as 0 index\n",
        "assert en_vocab[unk_token]==de_vocab[unk_token]\n",
        "assert en_vocab[pad_token]==de_vocab[pad_token]\n",
        "unk_index=en_vocab[unk_token]\n",
        "pad_index=en_vocab[pad_token]"
      ],
      "metadata": {
        "id": "ThqLGAeZiSRK"
      },
      "execution_count": null,
      "outputs": []
    },
    {
      "cell_type": "code",
      "source": [
        "unk_index,pad_index"
      ],
      "metadata": {
        "colab": {
          "base_uri": "https://localhost:8080/"
        },
        "id": "1_dx2ODgi1zZ",
        "outputId": "ea720ea0-4325-45aa-b4b1-f2484078227c"
      },
      "execution_count": null,
      "outputs": [
        {
          "output_type": "execute_result",
          "data": {
            "text/plain": [
              "(0, 1)"
            ]
          },
          "metadata": {},
          "execution_count": 34
        }
      ]
    },
    {
      "cell_type": "code",
      "source": [
        "#using set default index\n",
        "en_vocab.set_default_index(unk_index)\n",
        "de_vocab.set_default_index(unk_index)"
      ],
      "metadata": {
        "id": "zUGyKlx1kiay"
      },
      "execution_count": null,
      "outputs": []
    },
    {
      "cell_type": "code",
      "source": [
        "en_vocab[\"dkahjdhfnoiniofnv\"] #now it is giving answer"
      ],
      "metadata": {
        "colab": {
          "base_uri": "https://localhost:8080/"
        },
        "id": "OFZ3wPyIk2cc",
        "outputId": "9890e128-b7ca-4585-fc87-56d340c529ba"
      },
      "execution_count": null,
      "outputs": [
        {
          "output_type": "execute_result",
          "data": {
            "text/plain": [
              "0"
            ]
          },
          "metadata": {},
          "execution_count": 36
        }
      ]
    },
    {
      "cell_type": "code",
      "source": [
        "de_vocab[\"knkjbfeq\"]"
      ],
      "metadata": {
        "colab": {
          "base_uri": "https://localhost:8080/"
        },
        "id": "74ADEQUVk5P_",
        "outputId": "61123766-73a7-4ca5-f42c-0f0ae0ad73d8"
      },
      "execution_count": null,
      "outputs": [
        {
          "output_type": "execute_result",
          "data": {
            "text/plain": [
              "0"
            ]
          },
          "metadata": {},
          "execution_count": 37
        }
      ]
    },
    {
      "cell_type": "code",
      "source": [
        "en_vocab.get_itos()[0]"
      ],
      "metadata": {
        "colab": {
          "base_uri": "https://localhost:8080/",
          "height": 36
        },
        "id": "ZbdVAYq-lBkl",
        "outputId": "dcd2fb6b-cb6b-42be-ade9-24374efae41f"
      },
      "execution_count": null,
      "outputs": [
        {
          "output_type": "execute_result",
          "data": {
            "text/plain": [
              "'<unk>'"
            ],
            "application/vnd.google.colaboratory.intrinsic+json": {
              "type": "string"
            }
          },
          "metadata": {},
          "execution_count": 38
        }
      ]
    },
    {
      "cell_type": "code",
      "source": [
        "tokens=['i','love','watching','crime','snjkbshvvcv']\n",
        "en_vocab.lookup_indices(tokens)"
      ],
      "metadata": {
        "colab": {
          "base_uri": "https://localhost:8080/"
        },
        "id": "FYqnHTS8lHIc",
        "outputId": "806d6021-bc77-4a0d-faf6-b30f51114c4b"
      },
      "execution_count": null,
      "outputs": [
        {
          "output_type": "execute_result",
          "data": {
            "text/plain": [
              "[956, 2169, 173, 0, 0]"
            ]
          },
          "metadata": {},
          "execution_count": 39
        }
      ]
    },
    {
      "cell_type": "code",
      "source": [
        "en_vocab.lookup_tokens([956, 2169, 173, 0, 0])"
      ],
      "metadata": {
        "colab": {
          "base_uri": "https://localhost:8080/"
        },
        "id": "cM4x7hQ7leTt",
        "outputId": "577eb526-3876-4a2c-a579-f7e6f35cfe8f"
      },
      "execution_count": null,
      "outputs": [
        {
          "output_type": "execute_result",
          "data": {
            "text/plain": [
              "['i', 'love', 'watching', '<unk>', '<unk>']"
            ]
          },
          "metadata": {},
          "execution_count": 40
        }
      ]
    },
    {
      "cell_type": "markdown",
      "source": [
        "####1.4 Numericalizing our data"
      ],
      "metadata": {
        "id": "5quzxu4kl3z6"
      }
    },
    {
      "cell_type": "code",
      "source": [
        "def numericalize_example(example,en_vocab,de_vocab,):\n",
        "  en_ids=en_vocab.lookup_indices(example['en_token'])\n",
        "  de_ids=de_vocab.lookup_indices(example['de_token'])\n",
        "  return {\"en_id\":en_ids,\"de_id\":de_ids}"
      ],
      "metadata": {
        "id": "nf2mDxKCluDC"
      },
      "execution_count": null,
      "outputs": []
    },
    {
      "cell_type": "code",
      "source": [
        "train_data,test_data,valid_data"
      ],
      "metadata": {
        "colab": {
          "base_uri": "https://localhost:8080/"
        },
        "id": "SaW8ChRhm2IF",
        "outputId": "0187a39a-9301-44e7-e760-030cd7766bc9"
      },
      "execution_count": null,
      "outputs": [
        {
          "output_type": "execute_result",
          "data": {
            "text/plain": [
              "(Dataset({\n",
              "     features: ['en', 'de', 'en_token', 'de_token'],\n",
              "     num_rows: 29000\n",
              " }),\n",
              " Dataset({\n",
              "     features: ['en', 'de', 'en_token', 'de_token'],\n",
              "     num_rows: 1000\n",
              " }),\n",
              " Dataset({\n",
              "     features: ['en', 'de', 'en_token', 'de_token'],\n",
              "     num_rows: 1014\n",
              " }))"
            ]
          },
          "metadata": {},
          "execution_count": 42
        }
      ]
    },
    {
      "cell_type": "code",
      "source": [
        "fn_kwargs={\"en_vocab\":en_vocab,\"de_vocab\":de_vocab}"
      ],
      "metadata": {
        "id": "xhW0HckwnLF4"
      },
      "execution_count": null,
      "outputs": []
    },
    {
      "cell_type": "code",
      "source": [
        "train_data=train_data.map(numericalize_example,fn_kwargs=fn_kwargs)\n",
        "test_data=test_data.map(numericalize_example,fn_kwargs=fn_kwargs)\n",
        "valid_data=valid_data.map(numericalize_example,fn_kwargs=fn_kwargs)"
      ],
      "metadata": {
        "colab": {
          "base_uri": "https://localhost:8080/",
          "height": 113,
          "referenced_widgets": [
            "e65b02ab3f58488a84c886aab1de52be",
            "6b03c27d06bc41a794c2d604aabf0d89",
            "7823c946c2fb4d01a0c6a904f876e300",
            "26f9276c14434da094e1dc91824f39c8",
            "15b3f10330c24a4d972f8e34a3ba83f7",
            "33d317da8e6649b4982e3676306a7edc",
            "8e169f21af7d4b1392f8eeb004307968",
            "d267959e44894d299b236ccbea3edba0",
            "96aace0df6ef4a45b615f7ac08ed6d15",
            "91f054c3cca749a9a37c4da248ad5eac",
            "bed801b710d84c789ae2c7cad9f4fc4c",
            "a6c9a21924844871b5576794cd6af367",
            "87dbc4343b3848c5afe09ce86e86e43f",
            "7e7d9d10c4dd44209ee80544cb0d47a2",
            "e96e23d8c1fe49669d8982571db04d44",
            "a27f554f8aeb4918a18c8becf22d6637",
            "8475fe76dea941caa6baa63d387d24bd",
            "5561cc2f26e64dbeb3a52ae04c6c34e3",
            "c2143bad285347d39d59ad352bbee464",
            "85f42239aa06415eaf5b297252ac2115",
            "f24de08149294bb8a819bef001718700",
            "3f793a7adc244c71abc65d30141be752",
            "997e071ecc484a08a07ebfc091dec593",
            "1ec19d17b2654cb7a26d936e4c869a03",
            "4d692138a7ef49ef996f469b4ac42695",
            "18af02bdb126410e96c3f7f3abad32d9",
            "f59354bbbbbe4044812c1e4aec431f3a",
            "e5e635b0e15c4e0995041d9ca1c9e5f2",
            "867ff4220cde408a93bd015b5b42213e",
            "da7944fae0464cad8f3747aa84587ae9",
            "2924672ee8fe436c88f378624594b41e",
            "585f1befdf91421da3ccd00ca11df2ba",
            "decc583ea09d472eb6a4281dbefaa93c"
          ]
        },
        "id": "TbdAffxOm7rf",
        "outputId": "d581f0ca-4736-41c5-ce2c-49156cf8b7fe"
      },
      "execution_count": null,
      "outputs": [
        {
          "output_type": "display_data",
          "data": {
            "text/plain": [
              "Map:   0%|          | 0/29000 [00:00<?, ? examples/s]"
            ],
            "application/vnd.jupyter.widget-view+json": {
              "version_major": 2,
              "version_minor": 0,
              "model_id": "e65b02ab3f58488a84c886aab1de52be"
            }
          },
          "metadata": {}
        },
        {
          "output_type": "display_data",
          "data": {
            "text/plain": [
              "Map:   0%|          | 0/1000 [00:00<?, ? examples/s]"
            ],
            "application/vnd.jupyter.widget-view+json": {
              "version_major": 2,
              "version_minor": 0,
              "model_id": "a6c9a21924844871b5576794cd6af367"
            }
          },
          "metadata": {}
        },
        {
          "output_type": "display_data",
          "data": {
            "text/plain": [
              "Map:   0%|          | 0/1014 [00:00<?, ? examples/s]"
            ],
            "application/vnd.jupyter.widget-view+json": {
              "version_major": 2,
              "version_minor": 0,
              "model_id": "997e071ecc484a08a07ebfc091dec593"
            }
          },
          "metadata": {}
        }
      ]
    },
    {
      "cell_type": "code",
      "source": [
        "train_data,test_data,valid_data"
      ],
      "metadata": {
        "colab": {
          "base_uri": "https://localhost:8080/"
        },
        "id": "-jbk5NionznX",
        "outputId": "bd891b88-5bb1-4845-8b8c-637380dedcfb"
      },
      "execution_count": null,
      "outputs": [
        {
          "output_type": "execute_result",
          "data": {
            "text/plain": [
              "(Dataset({\n",
              "     features: ['en', 'de', 'en_token', 'de_token', 'en_id', 'de_id'],\n",
              "     num_rows: 29000\n",
              " }),\n",
              " Dataset({\n",
              "     features: ['en', 'de', 'en_token', 'de_token', 'en_id', 'de_id'],\n",
              "     num_rows: 1000\n",
              " }),\n",
              " Dataset({\n",
              "     features: ['en', 'de', 'en_token', 'de_token', 'en_id', 'de_id'],\n",
              "     num_rows: 1014\n",
              " }))"
            ]
          },
          "metadata": {},
          "execution_count": 45
        }
      ]
    },
    {
      "cell_type": "code",
      "source": [
        "train_data[0]"
      ],
      "metadata": {
        "colab": {
          "base_uri": "https://localhost:8080/"
        },
        "id": "QdlM9luVn2Tx",
        "outputId": "4100d930-27f6-441f-a4d1-76325a35da0d"
      },
      "execution_count": null,
      "outputs": [
        {
          "output_type": "execute_result",
          "data": {
            "text/plain": [
              "{'en': 'Two young, White males are outside near many bushes.',\n",
              " 'de': 'Zwei junge weiße Männer sind im Freien in der Nähe vieler Büsche.',\n",
              " 'en_token': ['<sos>',\n",
              "  'two',\n",
              "  'young',\n",
              "  ',',\n",
              "  'white',\n",
              "  'males',\n",
              "  'are',\n",
              "  'outside',\n",
              "  'near',\n",
              "  'many',\n",
              "  'bushes',\n",
              "  '.',\n",
              "  '<eos>'],\n",
              " 'de_token': ['<sos>',\n",
              "  'zwei',\n",
              "  'junge',\n",
              "  'weiße',\n",
              "  'männer',\n",
              "  'sind',\n",
              "  'im',\n",
              "  'freien',\n",
              "  'in',\n",
              "  'der',\n",
              "  'nähe',\n",
              "  'vieler',\n",
              "  'büsche',\n",
              "  '.',\n",
              "  '<eos>'],\n",
              " 'en_id': [2, 16, 24, 15, 25, 778, 17, 57, 80, 202, 1312, 5, 3],\n",
              " 'de_id': [2, 18, 26, 253, 30, 84, 20, 88, 7, 15, 110, 7647, 3171, 4, 3]}"
            ]
          },
          "metadata": {},
          "execution_count": 46
        }
      ]
    },
    {
      "cell_type": "markdown",
      "source": [
        "###1.5 convert data to tensor"
      ],
      "metadata": {
        "id": "a91kWASqoFy6"
      }
    },
    {
      "cell_type": "code",
      "source": [
        "train_data"
      ],
      "metadata": {
        "colab": {
          "base_uri": "https://localhost:8080/"
        },
        "id": "EQIsN3osn6eC",
        "outputId": "f397c410-9135-43a6-ff8f-02e9303ce765"
      },
      "execution_count": null,
      "outputs": [
        {
          "output_type": "execute_result",
          "data": {
            "text/plain": [
              "Dataset({\n",
              "    features: ['en', 'de', 'en_token', 'de_token', 'en_id', 'de_id'],\n",
              "    num_rows: 29000\n",
              "})"
            ]
          },
          "metadata": {},
          "execution_count": 47
        }
      ]
    },
    {
      "cell_type": "code",
      "source": [
        "data_type='torch'\n",
        "format_columns=['en_id','de_id']"
      ],
      "metadata": {
        "id": "_O_W8A5oobjY"
      },
      "execution_count": null,
      "outputs": []
    },
    {
      "cell_type": "code",
      "source": [
        "train_data=train_data.with_format(type=data_type,columns=format_columns,output_all_columns=True)\n",
        "valid_data=valid_data.with_format(type=data_type,columns=format_columns,output_all_colums=True)\n",
        "test_data=test_data.with_format(type=data_type,columns=format_columns,output_all_columns=True)"
      ],
      "metadata": {
        "id": "0K6E7IMBoSfd"
      },
      "execution_count": null,
      "outputs": []
    },
    {
      "cell_type": "code",
      "source": [
        "train_data,test_data,valid_data"
      ],
      "metadata": {
        "colab": {
          "base_uri": "https://localhost:8080/"
        },
        "id": "sNITpDaspLqv",
        "outputId": "b29cb6ac-56a7-42e0-ea19-f78588de195e"
      },
      "execution_count": null,
      "outputs": [
        {
          "output_type": "execute_result",
          "data": {
            "text/plain": [
              "(Dataset({\n",
              "     features: ['en', 'de', 'en_token', 'de_token', 'en_id', 'de_id'],\n",
              "     num_rows: 29000\n",
              " }),\n",
              " Dataset({\n",
              "     features: ['en', 'de', 'en_token', 'de_token', 'en_id', 'de_id'],\n",
              "     num_rows: 1000\n",
              " }),\n",
              " Dataset({\n",
              "     features: ['en', 'de', 'en_token', 'de_token', 'en_id', 'de_id'],\n",
              "     num_rows: 1014\n",
              " }))"
            ]
          },
          "metadata": {},
          "execution_count": 50
        }
      ]
    },
    {
      "cell_type": "code",
      "source": [
        "train_data[0]"
      ],
      "metadata": {
        "colab": {
          "base_uri": "https://localhost:8080/"
        },
        "id": "3EE648Dcpccz",
        "outputId": "bcd55388-61e0-4987-a1e0-7589a470e412"
      },
      "execution_count": null,
      "outputs": [
        {
          "output_type": "execute_result",
          "data": {
            "text/plain": [
              "{'en_id': tensor([   2,   16,   24,   15,   25,  778,   17,   57,   80,  202, 1312,    5,\n",
              "            3]),\n",
              " 'de_id': tensor([   2,   18,   26,  253,   30,   84,   20,   88,    7,   15,  110, 7647,\n",
              "         3171,    4,    3]),\n",
              " 'en': 'Two young, White males are outside near many bushes.',\n",
              " 'de': 'Zwei junge weiße Männer sind im Freien in der Nähe vieler Büsche.',\n",
              " 'en_token': ['<sos>',\n",
              "  'two',\n",
              "  'young',\n",
              "  ',',\n",
              "  'white',\n",
              "  'males',\n",
              "  'are',\n",
              "  'outside',\n",
              "  'near',\n",
              "  'many',\n",
              "  'bushes',\n",
              "  '.',\n",
              "  '<eos>'],\n",
              " 'de_token': ['<sos>',\n",
              "  'zwei',\n",
              "  'junge',\n",
              "  'weiße',\n",
              "  'männer',\n",
              "  'sind',\n",
              "  'im',\n",
              "  'freien',\n",
              "  'in',\n",
              "  'der',\n",
              "  'nähe',\n",
              "  'vieler',\n",
              "  'büsche',\n",
              "  '.',\n",
              "  '<eos>']}"
            ]
          },
          "metadata": {},
          "execution_count": 51
        }
      ]
    },
    {
      "cell_type": "code",
      "source": [
        "type(train_data[0]['en_id'])"
      ],
      "metadata": {
        "colab": {
          "base_uri": "https://localhost:8080/"
        },
        "id": "RAxXox6tpeXK",
        "outputId": "5636bbe1-9e9d-47d5-8a1a-774f348043ee"
      },
      "execution_count": null,
      "outputs": [
        {
          "output_type": "execute_result",
          "data": {
            "text/plain": [
              "torch.Tensor"
            ]
          },
          "metadata": {},
          "execution_count": 52
        }
      ]
    },
    {
      "cell_type": "markdown",
      "source": [
        "####1.6 Create Data loaders(batch)"
      ],
      "metadata": {
        "id": "upOAmfI3prz4"
      }
    },
    {
      "cell_type": "code",
      "source": [
        "batch_size=128"
      ],
      "metadata": {
        "id": "8odhanKFpnZc"
      },
      "execution_count": null,
      "outputs": []
    },
    {
      "cell_type": "code",
      "source": [
        "def get_collate_fn(pad_index):\n",
        "  def collate_fn(batch):\n",
        "    batch_en_ids=[example['en_id'] for example in batch]\n",
        "    batch_de_ids=[example['de_id'] for example in batch]\n",
        "    batch_en_ids=nn.utils.rnn.pad_sequence(batch_en_ids,padding_value=pad_index)\n",
        "    batch_de_ids=nn.utils.rnn.pad_sequence(batch_de_ids,padding_value=pad_index)\n",
        "    return{\"batch_en_id\":batch_en_ids,\"batch_de_id\":batch_de_ids}\n",
        "  return collate_fn"
      ],
      "metadata": {
        "id": "2Yevg0fDrXTL"
      },
      "execution_count": null,
      "outputs": []
    },
    {
      "cell_type": "code",
      "source": [
        "def get_data_loader(dataset,batch_size,pad_index,shuffle=False):\n",
        "  collate_fn=get_collate_fn(pad_index)\n",
        "  data_loader=torch.utils.data.DataLoader(\n",
        "      dataset=dataset,\n",
        "      batch_size=batch_size,\n",
        "      collate_fn=collate_fn,\n",
        "      shuffle=shuffle\n",
        "  )\n",
        "  return data_loader"
      ],
      "metadata": {
        "id": "PlFmE35dqHsh"
      },
      "execution_count": null,
      "outputs": []
    },
    {
      "cell_type": "code",
      "source": [
        "train_batch_loader=get_data_loader(train_data,batch_size,pad_index,shuffle=True)\n",
        "valid_batch_loader=get_data_loader(valid_data,batch_size,pad_index)\n",
        "test_batch_loader=get_data_loader(test_data,batch_size,pad_index)"
      ],
      "metadata": {
        "id": "Iz75TjdZp_3H"
      },
      "execution_count": null,
      "outputs": []
    },
    {
      "cell_type": "code",
      "source": [
        "len(train_batch_loader),len(valid_batch_loader),len(test_batch_loader)"
      ],
      "metadata": {
        "colab": {
          "base_uri": "https://localhost:8080/"
        },
        "id": "BWnSejVZtCKS",
        "outputId": "8ea70eeb-99ea-430c-eac8-301efaaca508"
      },
      "execution_count": null,
      "outputs": [
        {
          "output_type": "execute_result",
          "data": {
            "text/plain": [
              "(227, 8, 8)"
            ]
          },
          "metadata": {},
          "execution_count": 57
        }
      ]
    },
    {
      "cell_type": "code",
      "source": [
        "train_data"
      ],
      "metadata": {
        "colab": {
          "base_uri": "https://localhost:8080/"
        },
        "id": "9KvBap7jtHTY",
        "outputId": "e1e75019-c217-48c4-c190-58a42d3136b4"
      },
      "execution_count": null,
      "outputs": [
        {
          "output_type": "execute_result",
          "data": {
            "text/plain": [
              "Dataset({\n",
              "    features: ['en', 'de', 'en_token', 'de_token', 'en_id', 'de_id'],\n",
              "    num_rows: 29000\n",
              "})"
            ]
          },
          "metadata": {},
          "execution_count": 58
        }
      ]
    },
    {
      "cell_type": "code",
      "source": [
        "test_data"
      ],
      "metadata": {
        "colab": {
          "base_uri": "https://localhost:8080/"
        },
        "id": "IkQYqSfbunVj",
        "outputId": "62b9fe84-b610-4145-fb58-4dd768a925d4"
      },
      "execution_count": null,
      "outputs": [
        {
          "output_type": "execute_result",
          "data": {
            "text/plain": [
              "Dataset({\n",
              "    features: ['en', 'de', 'en_token', 'de_token', 'en_id', 'de_id'],\n",
              "    num_rows: 1000\n",
              "})"
            ]
          },
          "metadata": {},
          "execution_count": 59
        }
      ]
    },
    {
      "cell_type": "markdown",
      "source": [
        "###2. Build the Seq2Seq model"
      ],
      "metadata": {
        "id": "woKBV4tkuqbN"
      }
    },
    {
      "cell_type": "markdown",
      "source": [
        "![image.png](data:image/png;base64,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)"
      ],
      "metadata": {
        "id": "dTBCM8ZbvvGx"
      }
    },
    {
      "cell_type": "markdown",
      "source": [
        "##### 2.1 Encoder"
      ],
      "metadata": {
        "id": "c_HCRQc2v83D"
      }
    },
    {
      "cell_type": "markdown",
      "source": [
        "Single LSTM which unfolds in time\n",
        "\n"
      ],
      "metadata": {
        "id": "V9VIL3fXwVM6"
      }
    },
    {
      "cell_type": "code",
      "source": [
        "class Encoder(nn.Module):\n",
        "  def __init__(self,input_dim,embedding_dim,hidden_dim,n_layers,dropout):\n",
        "    super().__init__()\n",
        "    self.hidden_dim=hidden_dim\n",
        "    self.n_layers=n_layers\n",
        "    self.embedding=nn.Embedding(input_dim,embedding_dim)\n",
        "    self.lstm=nn.LSTM(embedding_dim,hidden_dim,n_layers,dropout=dropout)\n",
        "    self.dropout=nn.Dropout(dropout)\n",
        "\n",
        "\n",
        "  def forward(self,src):\n",
        "    #src ->[src_length,batch_size]   #src_length is different for each batch depending upon the max_length of sequence of that batch\n",
        "    embedded=self.dropout(self.embedding(src))\n",
        "    #embedded -> [src_length,batch_size,embedding_dim]\n",
        "    outputs,(hidden,cell)=self.lstm(embedded)\n",
        "    #outputs -> [src_length,batch_size,hidden_dim*n_direction]\n",
        "    #hiddem -> [n_layers*n_directions,batch_size,hidden_dim]\n",
        "    #cell -> [n_layers*n_directions,batch_size,hidden_dim]\n",
        "    return hidden,cell"
      ],
      "metadata": {
        "id": "tJVj0DKxutwY"
      },
      "execution_count": null,
      "outputs": []
    },
    {
      "cell_type": "markdown",
      "source": [
        "##### 2.2 Decoder"
      ],
      "metadata": {
        "id": "gSUekYvI1QvB"
      }
    },
    {
      "cell_type": "markdown",
      "source": [
        "Single LSTM unfolds in time"
      ],
      "metadata": {
        "id": "XQd0auQF1rFQ"
      }
    },
    {
      "cell_type": "code",
      "source": [
        "class Decoder(nn.Module):\n",
        "  def __init__(self,output_dim,embedding_dim,hidden_dim,n_layers,dropout):\n",
        "    super().__init__()\n",
        "    self.output_dim=output_dim\n",
        "    self.hidden_dim=hidden_dim\n",
        "    self.n_layers=n_layers\n",
        "    self.embedding=nn.Embedding(output_dim,embedding_dim)\n",
        "    self.lstm=nn.LSTM(embedding_dim,hidden_dim,n_layers,dropout=dropout)\n",
        "    self.fc_out=nn.Linear(hidden_dim,output_dim)\n",
        "    self.dropout=nn.Dropout(dropout)\n",
        "\n",
        "  def forward(self,input,hidden,cell):\n",
        "    #input->[batch_size]\n",
        "    #hiddem -> [n_layers*n_directions,batch_size,hidden_dim]\n",
        "    #cell -> [n_layers*n_directions,batch_size,hidden_dim]\n",
        "    input=input.unsqueeze(0)\n",
        "    #input->[1,batch_size]\n",
        "    embedded=self.dropout(self.embedding(input))\n",
        "    #outputs -> [1,batch_size,embbeding_dim]\n",
        "    outputs,(hidden,cell)=self.lstm(embedded,(hidden,cell))\n",
        "    #outputs -> [1,batch_size,hidden_dim*n_direction]\n",
        "    #hiddem -> [n_layers*n_directions,batch_size,hidden_dim]\n",
        "    #cell -> [n_layers*n_directions,batch_size,hidden_dim]\n",
        "    prediction=self.fc_out(outputs.squeeze(0))    #outputs -> [batch_size, output_dim]\n",
        "    return prediction,hidden,cell"
      ],
      "metadata": {
        "id": "AKDSqIG81V6-"
      },
      "execution_count": null,
      "outputs": []
    },
    {
      "cell_type": "markdown",
      "source": [
        "#####2.3 Seq2Seq Model"
      ],
      "metadata": {
        "id": "JFa6doAC5EzR"
      }
    },
    {
      "cell_type": "code",
      "source": [
        "class Seq2Seq(nn.Module):\n",
        "  def __init__(self,encoder,decoder,device):\n",
        "    super().__init__()\n",
        "    self.encoder=encoder\n",
        "    self.decoder=decoder\n",
        "    self.device=device\n",
        "    assert(\n",
        "        encoder.hidden_dim == decoder.hidden_dim\n",
        "    ),\"Hidden Dimension of enocder and decoder must be same!!!\"\n",
        "    assert(\n",
        "        encoder.n_layers == decoder.n_layers\n",
        "    ),\"Layers of encodr and decoder must be same\"\n",
        "  def forward(self,src,trg,teacher_forcing_ratio):\n",
        "    #src=[src length,batch size] #src sentence\n",
        "    #trg=[trg length,batch size] #trg sentence\n",
        "    #teacher_forcing_ratio is probability to use teacher forcing\n",
        "    #eg if teacher_forcing_ratio is 0.5 we use ground-truth inputs 50% of the time\n",
        "    batch_size=trg.shape[1]\n",
        "    trg_length=trg.shape[0]\n",
        "    trg_vocab_size=self.decoder.output_dim\n",
        "    #tensor to store decoder outputs\n",
        "    outputs=torch.zeros(trg_length,batch_size,trg_vocab_size).to(self.device)\n",
        "    hidden,cell=self.encoder(src)\n",
        "    #hiddem -> [n_layers*n_directions,batch_size,hidden_dim]\n",
        "    #cell -> [n_layers*n_directions,batch_size,hidden_dim]\n",
        "    # first input to decoder is the <sos> tokens\n",
        "    input=trg[0,:]\n",
        "    # input[batch_size]\n",
        "    for t in range(1,trg_length):\n",
        "      # Insert input token embeddings , previous hidden state and previous cell states\n",
        "      # Recieve output tensor (predictions) and new hidden and cell states\n",
        "      output, hidden, cell = self.decoder(input, hidden, cell)\n",
        "      #output = [batch_size,output_dim]\n",
        "      #hiddem -> [n_layers*n_directions,batch_size,hidden_dim]\n",
        "      #cell -> [n_layers*n_directions,batch_size,hidden_dim]\n",
        "      #place predictions in a tensor holding predictions for each token\n",
        "      outputs[t]=output\n",
        "      #decide if we are going to use teacher forcing or not\n",
        "      teacher_force=random.random()<teacher_forcing_ratio\n",
        "      #get the highest prediction token as next input\n",
        "      top1=output.argmax(1)\n",
        "      # if techer_forcing, use actual next token as next input\n",
        "      # if not use predicted token as next input\n",
        "      input=trg[t] if teacher_force else top1\n",
        "    return outputs"
      ],
      "metadata": {
        "id": "Z2Umk2_D5NGV"
      },
      "execution_count": null,
      "outputs": []
    },
    {
      "cell_type": "code",
      "source": [
        "input_dim=len(de_vocab)\n",
        "output_dim=len(en_vocab)\n",
        "encoder_embedding_dim=256\n",
        "decoder_embedding_dim=256\n",
        "hidden_dim=512\n",
        "n_layers=2\n",
        "encoder_dropout=0.5\n",
        "decoder_dropout=0.5\n",
        "device=torch.device(\"cuda\" if torch.cuda.is_available() else \"cpu\")\n",
        "encoder=Encoder(input_dim,encoder_embedding_dim,hidden_dim,n_layers,encoder_dropout)\n",
        "decoder=Decoder(output_dim,decoder_embedding_dim,hidden_dim,n_layers,decoder_dropout)\n",
        "model=Seq2Seq(encoder,decoder,device).to(device)"
      ],
      "metadata": {
        "id": "xaVKFp5fw36x"
      },
      "execution_count": null,
      "outputs": []
    },
    {
      "cell_type": "markdown",
      "source": [
        "#### Weight initialization"
      ],
      "metadata": {
        "id": "AzWO7utr_6nb"
      }
    },
    {
      "cell_type": "markdown",
      "source": [
        "Uniform Distribution(-0.08 +0.08)"
      ],
      "metadata": {
        "id": "VmDt-MMwAENc"
      }
    },
    {
      "cell_type": "code",
      "source": [
        "def init_weights(m):\n",
        "  for name,param in m.named_parameters():\n",
        "    nn.init.uniform(param.data,-0.08,0.08)\n",
        "\n",
        "model.apply(init_weights)"
      ],
      "metadata": {
        "colab": {
          "base_uri": "https://localhost:8080/"
        },
        "id": "ujN63vMz_FQk",
        "outputId": "c476d012-68f8-4744-d209-d56dad2631b5"
      },
      "execution_count": null,
      "outputs": [
        {
          "output_type": "stream",
          "name": "stderr",
          "text": [
            "<ipython-input-64-ef05c4ed2f45>:3: UserWarning: nn.init.uniform is now deprecated in favor of nn.init.uniform_.\n",
            "  nn.init.uniform(param.data,-0.08,0.08)\n"
          ]
        },
        {
          "output_type": "execute_result",
          "data": {
            "text/plain": [
              "Seq2Seq(\n",
              "  (encoder): Encoder(\n",
              "    (embedding): Embedding(7853, 256)\n",
              "    (lstm): LSTM(256, 512, num_layers=2, dropout=0.5)\n",
              "    (dropout): Dropout(p=0.5, inplace=False)\n",
              "  )\n",
              "  (decoder): Decoder(\n",
              "    (embedding): Embedding(5893, 256)\n",
              "    (lstm): LSTM(256, 512, num_layers=2, dropout=0.5)\n",
              "    (fc_out): Linear(in_features=512, out_features=5893, bias=True)\n",
              "    (dropout): Dropout(p=0.5, inplace=False)\n",
              "  )\n",
              ")"
            ]
          },
          "metadata": {},
          "execution_count": 64
        }
      ]
    },
    {
      "cell_type": "code",
      "source": [
        "def count_parameters(model):\n",
        "  return sum(p.numel() for p in model.parameters() if p.requires_grad)\n",
        "print(f\"The model has {count_parameters(model):,} trainable parameters\")"
      ],
      "metadata": {
        "colab": {
          "base_uri": "https://localhost:8080/"
        },
        "id": "3ysmdrbBAsVD",
        "outputId": "1d425a94-128f-4630-dce9-1edff18f5564"
      },
      "execution_count": null,
      "outputs": [
        {
          "output_type": "stream",
          "name": "stdout",
          "text": [
            "The model has 13,898,501 trainable parameters\n"
          ]
        }
      ]
    },
    {
      "cell_type": "markdown",
      "source": [
        "###3. Pick a loss function and optimizer"
      ],
      "metadata": {
        "id": "uQ2jqyCJB_HH"
      }
    },
    {
      "cell_type": "code",
      "source": [
        "learning_rate=0.001"
      ],
      "metadata": {
        "id": "Loa3PBkcCKd1"
      },
      "execution_count": null,
      "outputs": []
    },
    {
      "cell_type": "code",
      "source": [
        "optimizer=optim.Adam(model.parameters())\n",
        "criterion=nn.CrossEntropyLoss(ignore_index=pad_index)"
      ],
      "metadata": {
        "id": "xRxtmfXmB3QW"
      },
      "execution_count": null,
      "outputs": []
    },
    {
      "cell_type": "markdown",
      "source": [
        "###4. Training and Evaluating Function"
      ],
      "metadata": {
        "id": "yRZZhXfiCew0"
      }
    },
    {
      "cell_type": "code",
      "source": [
        "def train_fun(model,data_loader,optimizer,criterion,clip,teacher_forcing_ratio,device):\n",
        "  model.train()\n",
        "  epoch_loss=0.0\n",
        "  for i,batch in enumerate(data_loader):\n",
        "    src=batch['batch_de_id'].to(device)\n",
        "    #src=[src length,batch_size]\n",
        "    trg=batch['batch_en_id'].to(device)\n",
        "    #trg=[trg length,batch_size]\n",
        "    optimizer.zero_grad()\n",
        "    output=model(src,trg,teacher_forcing_ratio)\n",
        "    # output = [trg_length,batch_size,trg_vocab_size]\n",
        "    output_dim=output.shape[-1]\n",
        "    # output_dim =[trg_vocab_size]\n",
        "    output=output[1:].view(-1,output_dim)\n",
        "    # output =[(trg_length-1) * batch_size, trg_vocab_size]\n",
        "    trg=trg[1:].view(-1)\n",
        "    # trg =[(trg_length-1) * batch_size]\n",
        "    loss=criterion(output,trg)\n",
        "    loss.backward()\n",
        "    torch.nn.utils.clip_grad_norm_(model.parameters(),clip)\n",
        "    optimizer.step()\n",
        "    epoch_loss+=loss.item()\n",
        "  return epoch_loss/len(data_loader)"
      ],
      "metadata": {
        "id": "M3c719OtCd--"
      },
      "execution_count": null,
      "outputs": []
    },
    {
      "cell_type": "markdown",
      "source": [
        "Evaluate Function"
      ],
      "metadata": {
        "id": "TDf4OkFBD1bi"
      }
    },
    {
      "cell_type": "code",
      "source": [
        "def evaluate_fn(model,data_loader,criterion,device):\n",
        "  model.eval()\n",
        "  epoch_loss=0.0\n",
        "  with torch.no_grad():\n",
        "    for i,batch in enumerate(data_loader):\n",
        "      src=batch[\"batch_de_id\"].to(device)\n",
        "      trg=batch[\"batch_en_id\"].to(device)\n",
        "      output=model(src,trg,0)\n",
        "      output_dim=output.shape[-1]\n",
        "      output=output[1:].view(-1,output_dim)\n",
        "      trg=trg[1:].view(-1)\n",
        "      loss=criterion(output,trg)\n",
        "      epoch_loss+=loss.item()\n",
        "    return epoch_loss/len(data_loader)"
      ],
      "metadata": {
        "id": "Qd9R0rrFD5M8"
      },
      "execution_count": null,
      "outputs": []
    },
    {
      "cell_type": "markdown",
      "source": [
        "###5. Start Training loop/save the model"
      ],
      "metadata": {
        "id": "PM3ZBLB9HQvU"
      }
    },
    {
      "cell_type": "code",
      "source": [
        "n_epochs=10\n",
        "clip=1.0\n",
        "teacher_forcing_ratio=0.5\n",
        "best_valid_loss=float(\"inf\")\n",
        "for epoch in tqdm.tqdm(range(n_epochs)):\n",
        "  train_loss=train_fun(model,train_batch_loader,optimizer,criterion,clip,teacher_forcing_ratio,device)\n",
        "  valid_loss=evaluate_fn(model,test_batch_loader,criterion,device)\n",
        "  if valid_loss < best_valid_loss:\n",
        "    best_valid_loss=valid_loss\n",
        "    torch.save(model.state_dict(),'./seq2seq_model.pt')\n",
        "  print(f\"\\t Train Loss:{train_loss:7.3f} | Train PPL:{np.exp(train_loss):7.3f}\")\n",
        "  print(f\"\\t Valid Loss:{valid_loss:7.3f} | Valid PPL:{np.exp(valid_loss):7.3f}\")"
      ],
      "metadata": {
        "id": "itaSNO1RDbtv",
        "colab": {
          "base_uri": "https://localhost:8080/"
        },
        "outputId": "00f4e97a-231e-491c-f224-6545f3f36e59"
      },
      "execution_count": null,
      "outputs": [
        {
          "output_type": "stream",
          "name": "stderr",
          "text": [
            " 10%|█         | 1/10 [00:51<07:41, 51.27s/it]"
          ]
        },
        {
          "output_type": "stream",
          "name": "stdout",
          "text": [
            "\t Train Loss:  4.197 | Train PPL: 66.505\n",
            "\t Valid Loss:  4.664 | Valid PPL:106.108\n"
          ]
        },
        {
          "output_type": "stream",
          "name": "stderr",
          "text": [
            "\r 20%|██        | 2/10 [01:37<06:28, 48.56s/it]"
          ]
        },
        {
          "output_type": "stream",
          "name": "stdout",
          "text": [
            "\t Train Loss:  4.021 | Train PPL: 55.737\n",
            "\t Valid Loss:  4.458 | Valid PPL: 86.291\n"
          ]
        },
        {
          "output_type": "stream",
          "name": "stderr",
          "text": [
            "\r 30%|███       | 3/10 [02:26<05:39, 48.52s/it]"
          ]
        },
        {
          "output_type": "stream",
          "name": "stdout",
          "text": [
            "\t Train Loss:  3.853 | Train PPL: 47.125\n",
            "\t Valid Loss:  4.338 | Valid PPL: 76.572\n"
          ]
        },
        {
          "output_type": "stream",
          "name": "stderr",
          "text": [
            "\r 40%|████      | 4/10 [03:13<04:48, 48.02s/it]"
          ]
        },
        {
          "output_type": "stream",
          "name": "stdout",
          "text": [
            "\t Train Loss:  3.682 | Train PPL: 39.728\n",
            "\t Valid Loss:  4.284 | Valid PPL: 72.517\n"
          ]
        },
        {
          "output_type": "stream",
          "name": "stderr",
          "text": [
            "\r 50%|█████     | 5/10 [04:00<03:58, 47.62s/it]"
          ]
        },
        {
          "output_type": "stream",
          "name": "stdout",
          "text": [
            "\t Train Loss:  3.566 | Train PPL: 35.362\n",
            "\t Valid Loss:  4.155 | Valid PPL: 63.735\n"
          ]
        },
        {
          "output_type": "stream",
          "name": "stderr",
          "text": [
            "\r 60%|██████    | 6/10 [04:47<03:10, 47.54s/it]"
          ]
        },
        {
          "output_type": "stream",
          "name": "stdout",
          "text": [
            "\t Train Loss:  3.434 | Train PPL: 31.013\n",
            "\t Valid Loss:  4.052 | Valid PPL: 57.517\n"
          ]
        },
        {
          "output_type": "stream",
          "name": "stderr",
          "text": [
            "\r 70%|███████   | 7/10 [05:36<02:23, 47.74s/it]"
          ]
        },
        {
          "output_type": "stream",
          "name": "stdout",
          "text": [
            "\t Train Loss:  3.291 | Train PPL: 26.860\n",
            "\t Valid Loss:  3.963 | Valid PPL: 52.625\n"
          ]
        },
        {
          "output_type": "stream",
          "name": "stderr",
          "text": [
            "\r 80%|████████  | 8/10 [06:24<01:35, 47.90s/it]"
          ]
        },
        {
          "output_type": "stream",
          "name": "stdout",
          "text": [
            "\t Train Loss:  3.155 | Train PPL: 23.461\n",
            "\t Valid Loss:  3.858 | Valid PPL: 47.374\n"
          ]
        },
        {
          "output_type": "stream",
          "name": "stderr",
          "text": [
            "\r 90%|█████████ | 9/10 [07:12<00:48, 48.10s/it]"
          ]
        },
        {
          "output_type": "stream",
          "name": "stdout",
          "text": [
            "\t Train Loss:  2.996 | Train PPL: 20.000\n",
            "\t Valid Loss:  3.878 | Valid PPL: 48.321\n"
          ]
        },
        {
          "output_type": "stream",
          "name": "stderr",
          "text": [
            "100%|██████████| 10/10 [08:01<00:00, 48.12s/it]"
          ]
        },
        {
          "output_type": "stream",
          "name": "stdout",
          "text": [
            "\t Train Loss:  2.911 | Train PPL: 18.371\n",
            "\t Valid Loss:  3.888 | Valid PPL: 48.800\n"
          ]
        },
        {
          "output_type": "stream",
          "name": "stderr",
          "text": [
            "\n"
          ]
        }
      ]
    },
    {
      "cell_type": "markdown",
      "source": [
        "###7. Testing model with Test sentences"
      ],
      "metadata": {
        "id": "4kVIkRCUHhFK"
      }
    },
    {
      "cell_type": "code",
      "source": [
        "model.load_state_dict(torch.load(\"seq2seq_model.pt\"))\n",
        "test_loss = evaluate_fn(model,test_batch_loader,criterion,device)\n",
        "print(f\"Test Loss:{test_loss:.3f} | Test PPL:{np.exp(test_loss):7.3f}\")"
      ],
      "metadata": {
        "colab": {
          "base_uri": "https://localhost:8080/"
        },
        "id": "gE1h_xAkHm9N",
        "outputId": "d63273e5-7953-41f3-cadd-6ff4869d3f10"
      },
      "execution_count": null,
      "outputs": [
        {
          "output_type": "stream",
          "name": "stdout",
          "text": [
            "Test Loss:3.858 | Test PPL: 47.374\n"
          ]
        }
      ]
    },
    {
      "cell_type": "markdown",
      "source": [
        "###Blue Score for showing model performance"
      ],
      "metadata": {
        "id": "_vulRUMeIUFp"
      }
    },
    {
      "cell_type": "code",
      "source": [
        "def translate_sentence(\n",
        "    sentence,\n",
        "    model,\n",
        "    en_nlp,\n",
        "    de_nlp,\n",
        "    en_vocab,\n",
        "    de_vocab,\n",
        "    lower,\n",
        "    sos_token,\n",
        "    eos_token,\n",
        "    device,\n",
        "    max_output_length=25,\n",
        "):\n",
        "    model.eval()\n",
        "    with torch.no_grad():\n",
        "        if isinstance(sentence, str):\n",
        "            tokens = [token.text for token in de_nlp.tokenizer(sentence)]\n",
        "        else:\n",
        "            tokens = [token for token in sentence]\n",
        "        if lower:\n",
        "            tokens = [token.lower() for token in tokens]\n",
        "        tokens = [sos_token] + tokens + [eos_token]\n",
        "        ids = de_vocab.lookup_indices(tokens)\n",
        "        tensor = torch.LongTensor(ids).unsqueeze(-1).to(device)\n",
        "        hidden, cell = model.encoder(tensor)\n",
        "        inputs = en_vocab.lookup_indices([sos_token])\n",
        "        for _ in range(max_output_length):\n",
        "            inputs_tensor = torch.LongTensor([inputs[-1]]).to(device)\n",
        "            output, hidden, cell = model.decoder(inputs_tensor, hidden, cell)\n",
        "            predicted_token = output.argmax(-1).item()\n",
        "            inputs.append(predicted_token)\n",
        "            if predicted_token == en_vocab[eos_token]:\n",
        "                break\n",
        "        tokens = en_vocab.lookup_tokens(inputs)\n",
        "    return tokens"
      ],
      "metadata": {
        "id": "OcFT1gAAIYs4"
      },
      "execution_count": null,
      "outputs": []
    },
    {
      "cell_type": "code",
      "source": [
        "sentence = test_data[0][\"de\"]\n",
        "expected_translation = test_data[0][\"en\"]\n",
        "sentence,expected_translation"
      ],
      "metadata": {
        "colab": {
          "base_uri": "https://localhost:8080/"
        },
        "id": "xfzsf-7mIceK",
        "outputId": "460ec910-2d6f-4f96-f3a5-537ec942dd9b"
      },
      "execution_count": null,
      "outputs": [
        {
          "output_type": "execute_result",
          "data": {
            "text/plain": [
              "('Ein Mann mit einem orangefarbenen Hut, der etwas anstarrt.',\n",
              " 'A man in an orange hat starring at something.')"
            ]
          },
          "metadata": {},
          "execution_count": 141
        }
      ]
    },
    {
      "cell_type": "code",
      "source": [
        "sentence = \"Leute Reparieren das Dach eines Hauses.\""
      ],
      "metadata": {
        "id": "ekQHC2tG-ymv"
      },
      "execution_count": null,
      "outputs": []
    },
    {
      "cell_type": "code",
      "source": [
        "translation = translate_sentence(\n",
        "    sentence,\n",
        "    model,\n",
        "    en_nlp,\n",
        "    de_nlp,\n",
        "    en_vocab,\n",
        "    de_vocab,\n",
        "    lower,\n",
        "    sos_token,\n",
        "    eos_token,\n",
        "    device,\n",
        ")"
      ],
      "metadata": {
        "id": "oWQkopYeLom4"
      },
      "execution_count": null,
      "outputs": []
    },
    {
      "cell_type": "code",
      "source": [
        "translation"
      ],
      "metadata": {
        "colab": {
          "base_uri": "https://localhost:8080/"
        },
        "id": "_7JQWCbiL881",
        "outputId": "e5b7393d-6807-4914-8453-4fe74216fe3a"
      },
      "execution_count": null,
      "outputs": [
        {
          "output_type": "execute_result",
          "data": {
            "text/plain": [
              "['<sos>', 'people', 'are', 'walking', 'a', 'a', 'a', 'a', '.', '<eos>']"
            ]
          },
          "metadata": {},
          "execution_count": 144
        }
      ]
    },
    {
      "cell_type": "code",
      "source": [
        "translations = [\n",
        "    translate_sentence(\n",
        "        example[\"de\"],\n",
        "        model,\n",
        "        en_nlp,\n",
        "        de_nlp,\n",
        "        en_vocab,\n",
        "        de_vocab,\n",
        "        lower,\n",
        "        sos_token,\n",
        "        eos_token,\n",
        "        device,\n",
        "    )\n",
        "    for example in tqdm.tqdm(test_data)\n",
        "]"
      ],
      "metadata": {
        "colab": {
          "base_uri": "https://localhost:8080/"
        },
        "id": "IrsjhyYAxCPo",
        "outputId": "f55e48fd-28dd-499e-9150-9b885ffd22e2"
      },
      "execution_count": null,
      "outputs": [
        {
          "output_type": "stream",
          "name": "stderr",
          "text": [
            "100%|██████████| 1000/1000 [00:09<00:00, 102.01it/s]\n"
          ]
        }
      ]
    },
    {
      "cell_type": "code",
      "source": [
        "bleu = evaluate.load(\"bleu\")"
      ],
      "metadata": {
        "id": "r8264ECO--ow"
      },
      "execution_count": null,
      "outputs": []
    },
    {
      "cell_type": "code",
      "source": [
        "predictions = [\" \".join(translation[1:-1]) for translation in translations]\n",
        "\n",
        "references = [[example[\"en\"]] for example in test_data]"
      ],
      "metadata": {
        "id": "1FIxmteg_BX_"
      },
      "execution_count": null,
      "outputs": []
    },
    {
      "cell_type": "code",
      "source": [
        "predictions[0], references[0]\n"
      ],
      "metadata": {
        "colab": {
          "base_uri": "https://localhost:8080/"
        },
        "id": "UK29tUNq_E_E",
        "outputId": "7140168c-b75d-47e6-f677-6ab5818d1814"
      },
      "execution_count": null,
      "outputs": [
        {
          "output_type": "execute_result",
          "data": {
            "text/plain": [
              "('a man in a black jacket is a . .',\n",
              " ['A man in an orange hat starring at something.'])"
            ]
          },
          "metadata": {},
          "execution_count": 148
        }
      ]
    },
    {
      "cell_type": "code",
      "source": [
        "\n",
        "def get_tokenizer_fn(nlp, lower):\n",
        "    def tokenizer_fn(s):\n",
        "        tokens = [token.text for token in nlp.tokenizer(s)]\n",
        "        if lower:\n",
        "            tokens = [token.lower() for token in tokens]\n",
        "        return tokens\n",
        "\n",
        "    return tokenizer_fn"
      ],
      "metadata": {
        "id": "m0ryffE__HRy"
      },
      "execution_count": null,
      "outputs": []
    },
    {
      "cell_type": "code",
      "source": [
        "tokenizer_fn = get_tokenizer_fn(en_nlp, lower)"
      ],
      "metadata": {
        "id": "u0FQZ0EW_NYp"
      },
      "execution_count": null,
      "outputs": []
    },
    {
      "cell_type": "code",
      "source": [
        "tokenizer_fn(predictions[0]), tokenizer_fn(references[0][0])\n"
      ],
      "metadata": {
        "colab": {
          "base_uri": "https://localhost:8080/"
        },
        "id": "yldiqaEG_P5M",
        "outputId": "b94362e1-bec0-4405-9666-e0563ed30c7f"
      },
      "execution_count": null,
      "outputs": [
        {
          "output_type": "execute_result",
          "data": {
            "text/plain": [
              "(['a', 'man', 'in', 'a', 'black', 'jacket', 'is', 'a', '.', '.'],\n",
              " ['a', 'man', 'in', 'an', 'orange', 'hat', 'starring', 'at', 'something', '.'])"
            ]
          },
          "metadata": {},
          "execution_count": 151
        }
      ]
    },
    {
      "cell_type": "code",
      "source": [
        "results = bleu.compute(\n",
        "    predictions=predictions, references=references, tokenizer=tokenizer_fn\n",
        ")"
      ],
      "metadata": {
        "id": "E_lC1WHq_RaW"
      },
      "execution_count": null,
      "outputs": []
    },
    {
      "cell_type": "code",
      "source": [
        "results"
      ],
      "metadata": {
        "colab": {
          "base_uri": "https://localhost:8080/"
        },
        "id": "FNeQ5Btu_dQ8",
        "outputId": "bdfb57d6-24f2-49f4-8082-a7472a88a88c"
      },
      "execution_count": null,
      "outputs": [
        {
          "output_type": "execute_result",
          "data": {
            "text/plain": [
              "{'bleu': 0.12146214011402653,\n",
              " 'precisions': [0.4639661233620965,\n",
              "  0.17375824939215007,\n",
              "  0.08168505135032332,\n",
              "  0.03930222782681799],\n",
              " 'brevity_penalty': 0.9576196832759178,\n",
              " 'length_ratio': 0.9584928779292388,\n",
              " 'translation_length': 12516,\n",
              " 'reference_length': 13058}"
            ]
          },
          "metadata": {},
          "execution_count": 153
        }
      ]
    }
  ]
}