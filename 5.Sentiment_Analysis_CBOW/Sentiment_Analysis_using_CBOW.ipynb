{
  "nbformat": 4,
  "nbformat_minor": 0,
  "metadata": {
    "colab": {
      "provenance": []
    },
    "kernelspec": {
      "name": "python3",
      "display_name": "Python 3"
    },
    "language_info": {
      "name": "python"
    }
  },
  "cells": [
    {
      "cell_type": "code",
      "execution_count": null,
      "metadata": {
        "id": "FcZlgAyxGxo0"
      },
      "outputs": [],
      "source": [
        "import torch\n",
        "torch.__version__"
      ]
    },
    {
      "cell_type": "markdown",
      "source": [
        "#Sentiment Analysis using Countinous BOW"
      ],
      "metadata": {
        "id": "HJ0WrcSz1WGJ"
      }
    },
    {
      "cell_type": "markdown",
      "source": [
        "##Flow of Program\n",
        "0. Import important Libraries\n",
        "1. Prepare Data (Convert into Tensor,Batches)\n",
        "2. Build a model\n",
        "3. Pick a loss function and Optimizer\n",
        "4. Make Train and Evaluation Loop function\n",
        "5. Start Training Loop\n",
        "6. visualize your model\n",
        "7. Testing Model with New Sentences (Sentiment Analysis)"
      ],
      "metadata": {
        "id": "BOjiTy5A1bJe"
      }
    },
    {
      "cell_type": "markdown",
      "source": [
        "###0. Import important Libraries"
      ],
      "metadata": {
        "id": "oqShBzwp28gh"
      }
    },
    {
      "cell_type": "code",
      "source": [
        "!pip install datasets"
      ],
      "metadata": {
        "colab": {
          "base_uri": "https://localhost:8080/"
        },
        "id": "FAVvjTzw3adh",
        "outputId": "de62e448-b3e0-41ff-d68d-90f04817481b"
      },
      "execution_count": null,
      "outputs": [
        {
          "output_type": "stream",
          "name": "stdout",
          "text": [
            "Requirement already satisfied: datasets in /usr/local/lib/python3.10/dist-packages (3.0.1)\n",
            "Requirement already satisfied: filelock in /usr/local/lib/python3.10/dist-packages (from datasets) (3.16.1)\n",
            "Requirement already satisfied: numpy>=1.17 in /usr/local/lib/python3.10/dist-packages (from datasets) (1.26.4)\n",
            "Requirement already satisfied: pyarrow>=15.0.0 in /usr/local/lib/python3.10/dist-packages (from datasets) (16.1.0)\n",
            "Requirement already satisfied: dill<0.3.9,>=0.3.0 in /usr/local/lib/python3.10/dist-packages (from datasets) (0.3.8)\n",
            "Requirement already satisfied: pandas in /usr/local/lib/python3.10/dist-packages (from datasets) (2.2.2)\n",
            "Requirement already satisfied: requests>=2.32.2 in /usr/local/lib/python3.10/dist-packages (from datasets) (2.32.3)\n",
            "Requirement already satisfied: tqdm>=4.66.3 in /usr/local/lib/python3.10/dist-packages (from datasets) (4.66.5)\n",
            "Requirement already satisfied: xxhash in /usr/local/lib/python3.10/dist-packages (from datasets) (3.5.0)\n",
            "Requirement already satisfied: multiprocess in /usr/local/lib/python3.10/dist-packages (from datasets) (0.70.16)\n",
            "Requirement already satisfied: fsspec<=2024.6.1,>=2023.1.0 in /usr/local/lib/python3.10/dist-packages (from fsspec[http]<=2024.6.1,>=2023.1.0->datasets) (2024.6.1)\n",
            "Requirement already satisfied: aiohttp in /usr/local/lib/python3.10/dist-packages (from datasets) (3.10.8)\n",
            "Requirement already satisfied: huggingface-hub>=0.22.0 in /usr/local/lib/python3.10/dist-packages (from datasets) (0.24.7)\n",
            "Requirement already satisfied: packaging in /usr/local/lib/python3.10/dist-packages (from datasets) (24.1)\n",
            "Requirement already satisfied: pyyaml>=5.1 in /usr/local/lib/python3.10/dist-packages (from datasets) (6.0.2)\n",
            "Requirement already satisfied: aiohappyeyeballs>=2.3.0 in /usr/local/lib/python3.10/dist-packages (from aiohttp->datasets) (2.4.3)\n",
            "Requirement already satisfied: aiosignal>=1.1.2 in /usr/local/lib/python3.10/dist-packages (from aiohttp->datasets) (1.3.1)\n",
            "Requirement already satisfied: attrs>=17.3.0 in /usr/local/lib/python3.10/dist-packages (from aiohttp->datasets) (24.2.0)\n",
            "Requirement already satisfied: frozenlist>=1.1.1 in /usr/local/lib/python3.10/dist-packages (from aiohttp->datasets) (1.4.1)\n",
            "Requirement already satisfied: multidict<7.0,>=4.5 in /usr/local/lib/python3.10/dist-packages (from aiohttp->datasets) (6.1.0)\n",
            "Requirement already satisfied: yarl<2.0,>=1.12.0 in /usr/local/lib/python3.10/dist-packages (from aiohttp->datasets) (1.13.1)\n",
            "Requirement already satisfied: async-timeout<5.0,>=4.0 in /usr/local/lib/python3.10/dist-packages (from aiohttp->datasets) (4.0.3)\n",
            "Requirement already satisfied: typing-extensions>=3.7.4.3 in /usr/local/lib/python3.10/dist-packages (from huggingface-hub>=0.22.0->datasets) (4.12.2)\n",
            "Requirement already satisfied: charset-normalizer<4,>=2 in /usr/local/lib/python3.10/dist-packages (from requests>=2.32.2->datasets) (3.3.2)\n",
            "Requirement already satisfied: idna<4,>=2.5 in /usr/local/lib/python3.10/dist-packages (from requests>=2.32.2->datasets) (3.10)\n",
            "Requirement already satisfied: urllib3<3,>=1.21.1 in /usr/local/lib/python3.10/dist-packages (from requests>=2.32.2->datasets) (2.2.3)\n",
            "Requirement already satisfied: certifi>=2017.4.17 in /usr/local/lib/python3.10/dist-packages (from requests>=2.32.2->datasets) (2024.8.30)\n",
            "Requirement already satisfied: python-dateutil>=2.8.2 in /usr/local/lib/python3.10/dist-packages (from pandas->datasets) (2.8.2)\n",
            "Requirement already satisfied: pytz>=2020.1 in /usr/local/lib/python3.10/dist-packages (from pandas->datasets) (2024.2)\n",
            "Requirement already satisfied: tzdata>=2022.7 in /usr/local/lib/python3.10/dist-packages (from pandas->datasets) (2024.2)\n",
            "Requirement already satisfied: six>=1.5 in /usr/local/lib/python3.10/dist-packages (from python-dateutil>=2.8.2->pandas->datasets) (1.16.0)\n"
          ]
        }
      ]
    },
    {
      "cell_type": "code",
      "source": [
        "!pip install torchtext==0.15.0 --index-url https://download.pytorch.org/whl/cu118"
      ],
      "metadata": {
        "colab": {
          "base_uri": "https://localhost:8080/"
        },
        "id": "g_TuwXfI3tll",
        "outputId": "1afbd7a7-4045-4b9b-8c97-8152caa98337"
      },
      "execution_count": null,
      "outputs": [
        {
          "output_type": "stream",
          "name": "stdout",
          "text": [
            "Looking in indexes: https://download.pytorch.org/whl/cu118\n",
            "Requirement already satisfied: torchtext==0.15.0 in /usr/local/lib/python3.10/dist-packages (0.15.0+cpu)\n",
            "Requirement already satisfied: tqdm in /usr/local/lib/python3.10/dist-packages (from torchtext==0.15.0) (4.66.5)\n",
            "Requirement already satisfied: requests in /usr/local/lib/python3.10/dist-packages (from torchtext==0.15.0) (2.32.3)\n",
            "Requirement already satisfied: torch==2.0.0 in /usr/local/lib/python3.10/dist-packages (from torchtext==0.15.0) (2.0.0+cu118)\n",
            "Requirement already satisfied: numpy in /usr/local/lib/python3.10/dist-packages (from torchtext==0.15.0) (1.26.4)\n",
            "Requirement already satisfied: torchdata==0.6.0 in /usr/local/lib/python3.10/dist-packages (from torchtext==0.15.0) (0.6.0)\n",
            "Requirement already satisfied: filelock in /usr/local/lib/python3.10/dist-packages (from torch==2.0.0->torchtext==0.15.0) (3.16.1)\n",
            "Requirement already satisfied: typing-extensions in /usr/local/lib/python3.10/dist-packages (from torch==2.0.0->torchtext==0.15.0) (4.12.2)\n",
            "Requirement already satisfied: sympy in /usr/local/lib/python3.10/dist-packages (from torch==2.0.0->torchtext==0.15.0) (1.13.3)\n",
            "Requirement already satisfied: networkx in /usr/local/lib/python3.10/dist-packages (from torch==2.0.0->torchtext==0.15.0) (3.3)\n",
            "Requirement already satisfied: jinja2 in /usr/local/lib/python3.10/dist-packages (from torch==2.0.0->torchtext==0.15.0) (3.1.4)\n",
            "Requirement already satisfied: triton==2.0.0 in /usr/local/lib/python3.10/dist-packages (from torch==2.0.0->torchtext==0.15.0) (2.0.0)\n",
            "Requirement already satisfied: urllib3>=1.25 in /usr/local/lib/python3.10/dist-packages (from torchdata==0.6.0->torchtext==0.15.0) (2.2.3)\n",
            "Requirement already satisfied: cmake in /usr/local/lib/python3.10/dist-packages (from triton==2.0.0->torch==2.0.0->torchtext==0.15.0) (3.30.4)\n",
            "Requirement already satisfied: lit in /usr/local/lib/python3.10/dist-packages (from triton==2.0.0->torch==2.0.0->torchtext==0.15.0) (15.0.7)\n",
            "Requirement already satisfied: charset-normalizer<4,>=2 in /usr/local/lib/python3.10/dist-packages (from requests->torchtext==0.15.0) (3.3.2)\n",
            "Requirement already satisfied: idna<4,>=2.5 in /usr/local/lib/python3.10/dist-packages (from requests->torchtext==0.15.0) (3.10)\n",
            "Requirement already satisfied: certifi>=2017.4.17 in /usr/local/lib/python3.10/dist-packages (from requests->torchtext==0.15.0) (2024.8.30)\n",
            "Requirement already satisfied: MarkupSafe>=2.0 in /usr/local/lib/python3.10/dist-packages (from jinja2->torch==2.0.0->torchtext==0.15.0) (2.1.5)\n",
            "Requirement already satisfied: mpmath<1.4,>=1.1.0 in /usr/local/lib/python3.10/dist-packages (from sympy->torch==2.0.0->torchtext==0.15.0) (1.3.0)\n"
          ]
        }
      ]
    },
    {
      "cell_type": "code",
      "source": [
        "!pip install torch  --index-url https://download.pytorch.org/whl/cu118"
      ],
      "metadata": {
        "colab": {
          "base_uri": "https://localhost:8080/"
        },
        "id": "SZy_xaWN4odO",
        "outputId": "e0add1b5-d922-41ab-f829-3f2f8e3405a2"
      },
      "execution_count": null,
      "outputs": [
        {
          "output_type": "stream",
          "name": "stdout",
          "text": [
            "Looking in indexes: https://download.pytorch.org/whl/cu118\n",
            "Requirement already satisfied: torch in /usr/local/lib/python3.10/dist-packages (2.0.0+cu118)\n",
            "Requirement already satisfied: filelock in /usr/local/lib/python3.10/dist-packages (from torch) (3.16.1)\n",
            "Requirement already satisfied: typing-extensions in /usr/local/lib/python3.10/dist-packages (from torch) (4.12.2)\n",
            "Requirement already satisfied: sympy in /usr/local/lib/python3.10/dist-packages (from torch) (1.13.3)\n",
            "Requirement already satisfied: networkx in /usr/local/lib/python3.10/dist-packages (from torch) (3.3)\n",
            "Requirement already satisfied: jinja2 in /usr/local/lib/python3.10/dist-packages (from torch) (3.1.4)\n",
            "Requirement already satisfied: triton==2.0.0 in /usr/local/lib/python3.10/dist-packages (from torch) (2.0.0)\n",
            "Requirement already satisfied: cmake in /usr/local/lib/python3.10/dist-packages (from triton==2.0.0->torch) (3.30.4)\n",
            "Requirement already satisfied: lit in /usr/local/lib/python3.10/dist-packages (from triton==2.0.0->torch) (15.0.7)\n",
            "Requirement already satisfied: MarkupSafe>=2.0 in /usr/local/lib/python3.10/dist-packages (from jinja2->torch) (2.1.5)\n",
            "Requirement already satisfied: mpmath<1.4,>=1.1.0 in /usr/local/lib/python3.10/dist-packages (from sympy->torch) (1.3.0)\n"
          ]
        }
      ]
    },
    {
      "cell_type": "code",
      "source": [
        "import torch\n",
        "import torchtext # import the installed library\n",
        "\n",
        "print(torch.__version__)\n",
        "print(torchtext.__version__)"
      ],
      "metadata": {
        "colab": {
          "base_uri": "https://localhost:8080/"
        },
        "id": "48hAitsQ4tpe",
        "outputId": "03c3b95f-14c6-4b45-9e73-5e9f580e89c2"
      },
      "execution_count": null,
      "outputs": [
        {
          "output_type": "stream",
          "name": "stdout",
          "text": [
            "2.0.0+cu118\n",
            "0.15.0+cpu\n"
          ]
        }
      ]
    },
    {
      "cell_type": "code",
      "source": [
        "import collections\n",
        "import datasets\n",
        "import matplotlib.pyplot as plt\n",
        "import numpy as np\n",
        "import torch\n",
        "import torch.nn as nn\n",
        "import torch.optim as optim\n",
        "import torchtext\n",
        "import tqdm"
      ],
      "metadata": {
        "id": "MLGfLYjF28Ol"
      },
      "execution_count": null,
      "outputs": []
    },
    {
      "cell_type": "markdown",
      "source": [
        "###1. Prepare your data"
      ],
      "metadata": {
        "id": "o_n0VFdA4eUr"
      }
    },
    {
      "cell_type": "markdown",
      "source": [
        "1.1 Loading Datasets<br>\n",
        "1.2 Tokenize your data<br>\n",
        "1.3 Creating Validation Data splits<br>\n",
        "1.4 creating Vocabulary<br>\n",
        "1.5 Numericalizing Data<br>\n",
        "1.6 Converting into Tensor<br>\n",
        "1.7 Creating data Batch Loader"
      ],
      "metadata": {
        "id": "Dyse7kLW4_dH"
      }
    },
    {
      "cell_type": "markdown",
      "source": [
        "####1.1 Loading Dataset"
      ],
      "metadata": {
        "id": "zn4eJdnJ5bRe"
      }
    },
    {
      "cell_type": "code",
      "execution_count": null,
      "metadata": {
        "id": "waINEkY61FUv"
      },
      "outputs": [],
      "source": [
        "train_data,test_data=datasets.load_dataset(\"imdb\",split=[\"train\",\"test\"])"
      ]
    },
    {
      "cell_type": "code",
      "source": [
        "train_data,test_data"
      ],
      "metadata": {
        "colab": {
          "base_uri": "https://localhost:8080/"
        },
        "id": "_r3RUyHw5r5R",
        "outputId": "8ec52d13-bab6-4185-9ab7-6ee33be556e5"
      },
      "execution_count": null,
      "outputs": [
        {
          "output_type": "execute_result",
          "data": {
            "text/plain": [
              "(Dataset({\n",
              "     features: ['text', 'label'],\n",
              "     num_rows: 25000\n",
              " }),\n",
              " Dataset({\n",
              "     features: ['text', 'label'],\n",
              "     num_rows: 25000\n",
              " }))"
            ]
          },
          "metadata": {},
          "execution_count": 130
        }
      ]
    },
    {
      "cell_type": "code",
      "source": [
        "train_data.features"
      ],
      "metadata": {
        "colab": {
          "base_uri": "https://localhost:8080/"
        },
        "id": "hSdIPHdz53j8",
        "outputId": "3359d3ac-ba77-4ef6-8c4e-d5c15bef8ede"
      },
      "execution_count": null,
      "outputs": [
        {
          "output_type": "execute_result",
          "data": {
            "text/plain": [
              "{'text': Value(dtype='string', id=None),\n",
              " 'label': ClassLabel(names=['neg', 'pos'], id=None)}"
            ]
          },
          "metadata": {},
          "execution_count": 131
        }
      ]
    },
    {
      "cell_type": "code",
      "source": [
        "train_data[0]"
      ],
      "metadata": {
        "colab": {
          "base_uri": "https://localhost:8080/"
        },
        "id": "rQpF5xVP6eRN",
        "outputId": "a032f357-9f12-400f-8fed-8fc996ae7637"
      },
      "execution_count": null,
      "outputs": [
        {
          "output_type": "execute_result",
          "data": {
            "text/plain": [
              "{'text': 'I rented I AM CURIOUS-YELLOW from my video store because of all the controversy that surrounded it when it was first released in 1967. I also heard that at first it was seized by U.S. customs if it ever tried to enter this country, therefore being a fan of films considered \"controversial\" I really had to see this for myself.<br /><br />The plot is centered around a young Swedish drama student named Lena who wants to learn everything she can about life. In particular she wants to focus her attentions to making some sort of documentary on what the average Swede thought about certain political issues such as the Vietnam War and race issues in the United States. In between asking politicians and ordinary denizens of Stockholm about their opinions on politics, she has sex with her drama teacher, classmates, and married men.<br /><br />What kills me about I AM CURIOUS-YELLOW is that 40 years ago, this was considered pornographic. Really, the sex and nudity scenes are few and far between, even then it\\'s not shot like some cheaply made porno. While my countrymen mind find it shocking, in reality sex and nudity are a major staple in Swedish cinema. Even Ingmar Bergman, arguably their answer to good old boy John Ford, had sex scenes in his films.<br /><br />I do commend the filmmakers for the fact that any sex shown in the film is shown for artistic purposes rather than just to shock people and make money to be shown in pornographic theaters in America. I AM CURIOUS-YELLOW is a good film for anyone wanting to study the meat and potatoes (no pun intended) of Swedish cinema. But really, this film doesn\\'t have much of a plot.',\n",
              " 'label': 0}"
            ]
          },
          "metadata": {},
          "execution_count": 132
        }
      ]
    },
    {
      "cell_type": "code",
      "source": [
        "test_data[24000]"
      ],
      "metadata": {
        "colab": {
          "base_uri": "https://localhost:8080/"
        },
        "id": "BaT2QKPb6jan",
        "outputId": "55b50ff2-ffe8-40b2-a2a4-0a16774b12b1"
      },
      "execution_count": null,
      "outputs": [
        {
          "output_type": "execute_result",
          "data": {
            "text/plain": [
              "{'text': \"The movie is about a girl who's not going to a bonfire only because she's baby-sitting that night. Nothing weird about that, right? Until ... The phone rings. Until ... The phone rings again. And again ... And again. Those are not some stupid prank calls. This is for real. If you wanna see how the girl reacts, just watch the movie.<br /><br />Great atmosphere filled with scary sounds. Very well performed by young Camilla Belle who got the lead role. I see in her some great potential to become a good actress. This is more than only a decent thriller, I have no idea why it's so underrated. Anyway, on my opinion this movie deserves more than only 4/10. 24% of all voters rated the movie with 1. Get serious, people. You couldn't get a better thriller for a title like this.\",\n",
              " 'label': 1}"
            ]
          },
          "metadata": {},
          "execution_count": 133
        }
      ]
    },
    {
      "cell_type": "markdown",
      "source": [
        "####1.2 Tokenize your data(Tokeization)"
      ],
      "metadata": {
        "id": "wJegsK9A67PX"
      }
    },
    {
      "cell_type": "code",
      "source": [
        "tokenizer = torchtext.data.utils.get_tokenizer(\"basic_english\")"
      ],
      "metadata": {
        "id": "7IxsOo9e6ng2"
      },
      "execution_count": null,
      "outputs": []
    },
    {
      "cell_type": "code",
      "source": [
        "tokenizer(\"Hello world my name is anand,How are you doing?\")"
      ],
      "metadata": {
        "colab": {
          "base_uri": "https://localhost:8080/"
        },
        "id": "VD3dI95c7Lm9",
        "outputId": "2f0c4804-bdb7-41f7-880f-70530170a9c3"
      },
      "execution_count": null,
      "outputs": [
        {
          "output_type": "execute_result",
          "data": {
            "text/plain": [
              "['hello',\n",
              " 'world',\n",
              " 'my',\n",
              " 'name',\n",
              " 'is',\n",
              " 'anand',\n",
              " ',',\n",
              " 'how',\n",
              " 'are',\n",
              " 'you',\n",
              " 'doing',\n",
              " '?']"
            ]
          },
          "metadata": {},
          "execution_count": 135
        }
      ]
    },
    {
      "cell_type": "code",
      "source": [
        "def tokenize_example(example,tokenizer,max_length):\n",
        "  tokens=tokenizer(example['text'])[:max_length]\n",
        "  return {\"tokens\":tokens}"
      ],
      "metadata": {
        "id": "n7eLvDB-7Rym"
      },
      "execution_count": null,
      "outputs": []
    },
    {
      "cell_type": "code",
      "source": [
        "max_length=256\n",
        "\n",
        "train_data=train_data.map(\n",
        "    tokenize_example,\n",
        "    fn_kwargs={\"tokenizer\":tokenizer,\"max_length\":max_length}\n",
        ")\n",
        "test_data=test_data.map(\n",
        "    tokenize_example,\n",
        "    fn_kwargs={\"tokenizer\":tokenizer,\"max_length\":max_length}\n",
        ")"
      ],
      "metadata": {
        "id": "QlW2N3yr75xH"
      },
      "execution_count": null,
      "outputs": []
    },
    {
      "cell_type": "code",
      "source": [
        "train_data,test_data"
      ],
      "metadata": {
        "colab": {
          "base_uri": "https://localhost:8080/"
        },
        "id": "eiEkq9d58hlf",
        "outputId": "72b3a9a5-7a89-4433-b3e7-179b1284bee7"
      },
      "execution_count": null,
      "outputs": [
        {
          "output_type": "execute_result",
          "data": {
            "text/plain": [
              "(Dataset({\n",
              "     features: ['text', 'label', 'tokens'],\n",
              "     num_rows: 25000\n",
              " }),\n",
              " Dataset({\n",
              "     features: ['text', 'label', 'tokens'],\n",
              "     num_rows: 25000\n",
              " }))"
            ]
          },
          "metadata": {},
          "execution_count": 138
        }
      ]
    },
    {
      "cell_type": "code",
      "source": [
        "train_data[0]"
      ],
      "metadata": {
        "colab": {
          "base_uri": "https://localhost:8080/"
        },
        "id": "vLiRNN2a8m4V",
        "outputId": "806bec60-9d79-4926-df87-17a20b109811"
      },
      "execution_count": null,
      "outputs": [
        {
          "output_type": "execute_result",
          "data": {
            "text/plain": [
              "{'text': 'I rented I AM CURIOUS-YELLOW from my video store because of all the controversy that surrounded it when it was first released in 1967. I also heard that at first it was seized by U.S. customs if it ever tried to enter this country, therefore being a fan of films considered \"controversial\" I really had to see this for myself.<br /><br />The plot is centered around a young Swedish drama student named Lena who wants to learn everything she can about life. In particular she wants to focus her attentions to making some sort of documentary on what the average Swede thought about certain political issues such as the Vietnam War and race issues in the United States. In between asking politicians and ordinary denizens of Stockholm about their opinions on politics, she has sex with her drama teacher, classmates, and married men.<br /><br />What kills me about I AM CURIOUS-YELLOW is that 40 years ago, this was considered pornographic. Really, the sex and nudity scenes are few and far between, even then it\\'s not shot like some cheaply made porno. While my countrymen mind find it shocking, in reality sex and nudity are a major staple in Swedish cinema. Even Ingmar Bergman, arguably their answer to good old boy John Ford, had sex scenes in his films.<br /><br />I do commend the filmmakers for the fact that any sex shown in the film is shown for artistic purposes rather than just to shock people and make money to be shown in pornographic theaters in America. I AM CURIOUS-YELLOW is a good film for anyone wanting to study the meat and potatoes (no pun intended) of Swedish cinema. But really, this film doesn\\'t have much of a plot.',\n",
              " 'label': 0,\n",
              " 'tokens': ['i',\n",
              "  'rented',\n",
              "  'i',\n",
              "  'am',\n",
              "  'curious-yellow',\n",
              "  'from',\n",
              "  'my',\n",
              "  'video',\n",
              "  'store',\n",
              "  'because',\n",
              "  'of',\n",
              "  'all',\n",
              "  'the',\n",
              "  'controversy',\n",
              "  'that',\n",
              "  'surrounded',\n",
              "  'it',\n",
              "  'when',\n",
              "  'it',\n",
              "  'was',\n",
              "  'first',\n",
              "  'released',\n",
              "  'in',\n",
              "  '1967',\n",
              "  '.',\n",
              "  'i',\n",
              "  'also',\n",
              "  'heard',\n",
              "  'that',\n",
              "  'at',\n",
              "  'first',\n",
              "  'it',\n",
              "  'was',\n",
              "  'seized',\n",
              "  'by',\n",
              "  'u',\n",
              "  '.',\n",
              "  's',\n",
              "  '.',\n",
              "  'customs',\n",
              "  'if',\n",
              "  'it',\n",
              "  'ever',\n",
              "  'tried',\n",
              "  'to',\n",
              "  'enter',\n",
              "  'this',\n",
              "  'country',\n",
              "  ',',\n",
              "  'therefore',\n",
              "  'being',\n",
              "  'a',\n",
              "  'fan',\n",
              "  'of',\n",
              "  'films',\n",
              "  'considered',\n",
              "  'controversial',\n",
              "  'i',\n",
              "  'really',\n",
              "  'had',\n",
              "  'to',\n",
              "  'see',\n",
              "  'this',\n",
              "  'for',\n",
              "  'myself',\n",
              "  '.',\n",
              "  'the',\n",
              "  'plot',\n",
              "  'is',\n",
              "  'centered',\n",
              "  'around',\n",
              "  'a',\n",
              "  'young',\n",
              "  'swedish',\n",
              "  'drama',\n",
              "  'student',\n",
              "  'named',\n",
              "  'lena',\n",
              "  'who',\n",
              "  'wants',\n",
              "  'to',\n",
              "  'learn',\n",
              "  'everything',\n",
              "  'she',\n",
              "  'can',\n",
              "  'about',\n",
              "  'life',\n",
              "  '.',\n",
              "  'in',\n",
              "  'particular',\n",
              "  'she',\n",
              "  'wants',\n",
              "  'to',\n",
              "  'focus',\n",
              "  'her',\n",
              "  'attentions',\n",
              "  'to',\n",
              "  'making',\n",
              "  'some',\n",
              "  'sort',\n",
              "  'of',\n",
              "  'documentary',\n",
              "  'on',\n",
              "  'what',\n",
              "  'the',\n",
              "  'average',\n",
              "  'swede',\n",
              "  'thought',\n",
              "  'about',\n",
              "  'certain',\n",
              "  'political',\n",
              "  'issues',\n",
              "  'such',\n",
              "  'as',\n",
              "  'the',\n",
              "  'vietnam',\n",
              "  'war',\n",
              "  'and',\n",
              "  'race',\n",
              "  'issues',\n",
              "  'in',\n",
              "  'the',\n",
              "  'united',\n",
              "  'states',\n",
              "  '.',\n",
              "  'in',\n",
              "  'between',\n",
              "  'asking',\n",
              "  'politicians',\n",
              "  'and',\n",
              "  'ordinary',\n",
              "  'denizens',\n",
              "  'of',\n",
              "  'stockholm',\n",
              "  'about',\n",
              "  'their',\n",
              "  'opinions',\n",
              "  'on',\n",
              "  'politics',\n",
              "  ',',\n",
              "  'she',\n",
              "  'has',\n",
              "  'sex',\n",
              "  'with',\n",
              "  'her',\n",
              "  'drama',\n",
              "  'teacher',\n",
              "  ',',\n",
              "  'classmates',\n",
              "  ',',\n",
              "  'and',\n",
              "  'married',\n",
              "  'men',\n",
              "  '.',\n",
              "  'what',\n",
              "  'kills',\n",
              "  'me',\n",
              "  'about',\n",
              "  'i',\n",
              "  'am',\n",
              "  'curious-yellow',\n",
              "  'is',\n",
              "  'that',\n",
              "  '40',\n",
              "  'years',\n",
              "  'ago',\n",
              "  ',',\n",
              "  'this',\n",
              "  'was',\n",
              "  'considered',\n",
              "  'pornographic',\n",
              "  '.',\n",
              "  'really',\n",
              "  ',',\n",
              "  'the',\n",
              "  'sex',\n",
              "  'and',\n",
              "  'nudity',\n",
              "  'scenes',\n",
              "  'are',\n",
              "  'few',\n",
              "  'and',\n",
              "  'far',\n",
              "  'between',\n",
              "  ',',\n",
              "  'even',\n",
              "  'then',\n",
              "  'it',\n",
              "  \"'\",\n",
              "  's',\n",
              "  'not',\n",
              "  'shot',\n",
              "  'like',\n",
              "  'some',\n",
              "  'cheaply',\n",
              "  'made',\n",
              "  'porno',\n",
              "  '.',\n",
              "  'while',\n",
              "  'my',\n",
              "  'countrymen',\n",
              "  'mind',\n",
              "  'find',\n",
              "  'it',\n",
              "  'shocking',\n",
              "  ',',\n",
              "  'in',\n",
              "  'reality',\n",
              "  'sex',\n",
              "  'and',\n",
              "  'nudity',\n",
              "  'are',\n",
              "  'a',\n",
              "  'major',\n",
              "  'staple',\n",
              "  'in',\n",
              "  'swedish',\n",
              "  'cinema',\n",
              "  '.',\n",
              "  'even',\n",
              "  'ingmar',\n",
              "  'bergman',\n",
              "  ',',\n",
              "  'arguably',\n",
              "  'their',\n",
              "  'answer',\n",
              "  'to',\n",
              "  'good',\n",
              "  'old',\n",
              "  'boy',\n",
              "  'john',\n",
              "  'ford',\n",
              "  ',',\n",
              "  'had',\n",
              "  'sex',\n",
              "  'scenes',\n",
              "  'in',\n",
              "  'his',\n",
              "  'films',\n",
              "  '.',\n",
              "  'i',\n",
              "  'do',\n",
              "  'commend',\n",
              "  'the',\n",
              "  'filmmakers',\n",
              "  'for',\n",
              "  'the',\n",
              "  'fact',\n",
              "  'that',\n",
              "  'any',\n",
              "  'sex',\n",
              "  'shown',\n",
              "  'in',\n",
              "  'the',\n",
              "  'film',\n",
              "  'is']}"
            ]
          },
          "metadata": {},
          "execution_count": 139
        }
      ]
    },
    {
      "cell_type": "code",
      "source": [
        "train_data.features"
      ],
      "metadata": {
        "colab": {
          "base_uri": "https://localhost:8080/"
        },
        "id": "LLGgeVMD_DOt",
        "outputId": "8629bb35-6c97-409e-87d6-df982371ad8c"
      },
      "execution_count": null,
      "outputs": [
        {
          "output_type": "execute_result",
          "data": {
            "text/plain": [
              "{'text': Value(dtype='string', id=None),\n",
              " 'label': ClassLabel(names=['neg', 'pos'], id=None),\n",
              " 'tokens': Sequence(feature=Value(dtype='string', id=None), length=-1, id=None)}"
            ]
          },
          "metadata": {},
          "execution_count": 140
        }
      ]
    },
    {
      "cell_type": "markdown",
      "source": [
        "####1.3 Creating Validation Data Splits"
      ],
      "metadata": {
        "id": "jqEJTrpJ-4zO"
      }
    },
    {
      "cell_type": "markdown",
      "source": [
        "**train,test,valid**"
      ],
      "metadata": {
        "id": "2Qc266NZAPrB"
      }
    },
    {
      "cell_type": "code",
      "source": [
        "test_size=0.25\n",
        "train_valid_data=train_data.train_test_split(test_size=test_size)\n",
        "train_data=train_valid_data[\"train\"]\n",
        "valid_data=train_valid_data[\"test\"]"
      ],
      "metadata": {
        "id": "1mmYLRoH8pe1"
      },
      "execution_count": null,
      "outputs": []
    },
    {
      "cell_type": "code",
      "source": [
        "train_data,valid_data,test_data"
      ],
      "metadata": {
        "colab": {
          "base_uri": "https://localhost:8080/"
        },
        "id": "mGRWX4Wq_ko3",
        "outputId": "0713dc85-d52f-40e2-e7fe-1e6b075e0e9d"
      },
      "execution_count": null,
      "outputs": [
        {
          "output_type": "execute_result",
          "data": {
            "text/plain": [
              "(Dataset({\n",
              "     features: ['text', 'label', 'tokens'],\n",
              "     num_rows: 18750\n",
              " }),\n",
              " Dataset({\n",
              "     features: ['text', 'label', 'tokens'],\n",
              "     num_rows: 6250\n",
              " }),\n",
              " Dataset({\n",
              "     features: ['text', 'label', 'tokens'],\n",
              "     num_rows: 25000\n",
              " }))"
            ]
          },
          "metadata": {},
          "execution_count": 142
        }
      ]
    },
    {
      "cell_type": "markdown",
      "source": [
        "#### 1.4 Creating Vocabulary from train_data"
      ],
      "metadata": {
        "id": "Nd6HOj5f_uuq"
      }
    },
    {
      "cell_type": "code",
      "source": [
        "min_freq=5\n",
        "special_tokens=[\"<unk>\",\"<pad>\"]\n",
        "vocab=torchtext.vocab.build_vocab_from_iterator(\n",
        "    train_data[\"tokens\"],\n",
        "    min_freq=min_freq,\n",
        "    specials=special_tokens,\n",
        ")"
      ],
      "metadata": {
        "id": "kpfH1Jc1_nPI"
      },
      "execution_count": null,
      "outputs": []
    },
    {
      "cell_type": "code",
      "source": [
        "len(vocab)"
      ],
      "metadata": {
        "colab": {
          "base_uri": "https://localhost:8080/"
        },
        "id": "GXGnLQrNA8T4",
        "outputId": "30550b2c-932b-46cd-aaca-760857e2e550"
      },
      "execution_count": null,
      "outputs": [
        {
          "output_type": "execute_result",
          "data": {
            "text/plain": [
              "21578"
            ]
          },
          "metadata": {},
          "execution_count": 144
        }
      ]
    },
    {
      "cell_type": "code",
      "source": [
        "vocab.get_itos()[:10]"
      ],
      "metadata": {
        "colab": {
          "base_uri": "https://localhost:8080/"
        },
        "id": "AH-oXEVlECSw",
        "outputId": "1b5aedac-7946-490f-e54c-983ead8537a4"
      },
      "execution_count": null,
      "outputs": [
        {
          "output_type": "execute_result",
          "data": {
            "text/plain": [
              "['<unk>', '<pad>', 'the', '.', ',', 'a', 'and', 'of', 'to', \"'\"]"
            ]
          },
          "metadata": {},
          "execution_count": 145
        }
      ]
    },
    {
      "cell_type": "code",
      "source": [
        "vocab[\"and\"]"
      ],
      "metadata": {
        "colab": {
          "base_uri": "https://localhost:8080/"
        },
        "id": "ewdEKldcENyW",
        "outputId": "5cef756f-6267-4c3f-b1c3-4a4b6c5ae457"
      },
      "execution_count": null,
      "outputs": [
        {
          "output_type": "execute_result",
          "data": {
            "text/plain": [
              "6"
            ]
          },
          "metadata": {},
          "execution_count": 146
        }
      ]
    },
    {
      "cell_type": "code",
      "source": [
        "unk_index=vocab[\"<unk>\"]\n",
        "pad_index=vocab[\"<pad>\"]"
      ],
      "metadata": {
        "id": "ZoM-qIKjEV4L"
      },
      "execution_count": null,
      "outputs": []
    },
    {
      "cell_type": "code",
      "source": [
        "unk_index,pad_index"
      ],
      "metadata": {
        "colab": {
          "base_uri": "https://localhost:8080/"
        },
        "id": "jU78V99HEeYj",
        "outputId": "3dd2b5e3-3cf1-49b8-e602-f8eacad755fb"
      },
      "execution_count": null,
      "outputs": [
        {
          "output_type": "execute_result",
          "data": {
            "text/plain": [
              "(0, 1)"
            ]
          },
          "metadata": {},
          "execution_count": 148
        }
      ]
    },
    {
      "cell_type": "code",
      "source": [
        "\"Chache\" in vocab"
      ],
      "metadata": {
        "colab": {
          "base_uri": "https://localhost:8080/"
        },
        "id": "hNO_glmuHHXq",
        "outputId": "e452d555-5cc5-429a-eabb-94ff6ab895c0"
      },
      "execution_count": null,
      "outputs": [
        {
          "output_type": "execute_result",
          "data": {
            "text/plain": [
              "False"
            ]
          },
          "metadata": {},
          "execution_count": 149
        }
      ]
    },
    {
      "cell_type": "code",
      "source": [
        "vocab[\"chache\"] #Getting eror because this word is not in vocab but we dont want error we want it as <unk> token index as 0"
      ],
      "metadata": {
        "id": "0C_35L2fHOZQ"
      },
      "execution_count": null,
      "outputs": []
    },
    {
      "cell_type": "code",
      "source": [
        "vocab.set_default_index(\n",
        "    unk_index\n",
        ")"
      ],
      "metadata": {
        "id": "UWHC2Fj8Hf5B"
      },
      "execution_count": null,
      "outputs": []
    },
    {
      "cell_type": "code",
      "source": [
        "vocab[\"chache\"]"
      ],
      "metadata": {
        "colab": {
          "base_uri": "https://localhost:8080/"
        },
        "id": "uGo574DSHppK",
        "outputId": "b9a0988c-0e8d-41f8-dd67-561480cbca94"
      },
      "execution_count": null,
      "outputs": [
        {
          "output_type": "execute_result",
          "data": {
            "text/plain": [
              "0"
            ]
          },
          "metadata": {},
          "execution_count": 152
        }
      ]
    },
    {
      "cell_type": "markdown",
      "source": [
        "####1.5 Numericalizing Data"
      ],
      "metadata": {
        "id": "95cC7be6BwBs"
      }
    },
    {
      "cell_type": "code",
      "source": [
        "vocab.lookup_indices([\"hello\",\"world\",\"jkbabduibuobd\",\"<pad>\",\"<unk>\"])"
      ],
      "metadata": {
        "colab": {
          "base_uri": "https://localhost:8080/"
        },
        "id": "ALXGdP5lH0pi",
        "outputId": "22fd4899-4c72-43d0-effe-d18e77ecafa7"
      },
      "execution_count": null,
      "outputs": [
        {
          "output_type": "execute_result",
          "data": {
            "text/plain": [
              "[5028, 191, 0, 1, 0]"
            ]
          },
          "metadata": {},
          "execution_count": 153
        }
      ]
    },
    {
      "cell_type": "code",
      "source": [
        "def numericalize_example(example,vocab):\n",
        "  id=vocab.lookup_indices(example[\"tokens\"])\n",
        "  return{\"id\":id}"
      ],
      "metadata": {
        "id": "jJgdxBnRBD8S"
      },
      "execution_count": null,
      "outputs": []
    },
    {
      "cell_type": "code",
      "source": [
        "train_data=train_data.map(numericalize_example,fn_kwargs={\"vocab\":vocab})\n",
        "valid_data=valid_data.map(numericalize_example,fn_kwargs={\"vocab\":vocab})\n",
        "test_data=test_data.map(numericalize_example,fn_kwargs={\"vocab\":vocab})"
      ],
      "metadata": {
        "colab": {
          "base_uri": "https://localhost:8080/",
          "height": 113,
          "referenced_widgets": [
            "206775c961114b0b9044a3a9bcc0a2c0",
            "19481257a6c7491095d6d9f816e9de03",
            "fb19ba4ec5684376a382bfd16465d126",
            "04115e40a0f9415c9ecea3cb9d8fb11c",
            "85f8ed7bc11f44bdb6e9bd76b195e360",
            "d5211987ba904ab990a88b371264404e",
            "3586cbb65c304cb3a68f7211f840505f",
            "89c227e54ad04cbbb2215ae7c1ab4f3c",
            "17eadccc18ab4eb89fa1939b848deada",
            "bf4d8786cdf34304b2674c7db2437369",
            "3b36daad7e064128aab23b812ac6628a",
            "c895752992f24a9fbf3584cf3758f713",
            "75dae355c12744459a4caf63afa7d526",
            "eb304b04b36640d98d55cb9d91f45709",
            "3e04640b0b9c431d8924df0a966823f5",
            "137fec414e654f9f9a6815ac67d3146b",
            "d47f58a770694361aad923a99186cf48",
            "e3ec9dda0d3d428f9ba5c3a3dae49c08",
            "fc80291018f24c2aa3dab96b42c5992d",
            "8af8eb7bf1f94bc0a6edb0ef22a4f4ca",
            "fab8f3f55cb547c397ea6e1d2b799d8c",
            "0ff76e3b204541b18b8f1165a562a0e4",
            "430fb30d01204e9dafa09e48986ccaa3",
            "f76dd833c5b74cd289d79331b0e2323e",
            "e1926dfbef854eaea4d96035c677b2e1",
            "50f7d4b5bf14425288a9d89b6bf64cf8",
            "a53b0e3809f8466c8b8cd3b5a33560c2",
            "eae6f0a171e441859f8efc395845622b",
            "b378b41d784e4829837081ed532e6fa8",
            "0ff4a08c03b148e5983e9aa4ad5a3c1f",
            "98426316fba24c28827c674f3e5de526",
            "7352dc91330e4140ad5530337224aecc",
            "2fa7a14076c94dcf8443c90971cf0101"
          ]
        },
        "id": "uvaP6OEdBRMl",
        "outputId": "2aad6b26-b587-4e61-fa39-d5915d48722b"
      },
      "execution_count": null,
      "outputs": [
        {
          "output_type": "display_data",
          "data": {
            "text/plain": [
              "Map:   0%|          | 0/18750 [00:00<?, ? examples/s]"
            ],
            "application/vnd.jupyter.widget-view+json": {
              "version_major": 2,
              "version_minor": 0,
              "model_id": "206775c961114b0b9044a3a9bcc0a2c0"
            }
          },
          "metadata": {}
        },
        {
          "output_type": "display_data",
          "data": {
            "text/plain": [
              "Map:   0%|          | 0/6250 [00:00<?, ? examples/s]"
            ],
            "application/vnd.jupyter.widget-view+json": {
              "version_major": 2,
              "version_minor": 0,
              "model_id": "c895752992f24a9fbf3584cf3758f713"
            }
          },
          "metadata": {}
        },
        {
          "output_type": "display_data",
          "data": {
            "text/plain": [
              "Map:   0%|          | 0/25000 [00:00<?, ? examples/s]"
            ],
            "application/vnd.jupyter.widget-view+json": {
              "version_major": 2,
              "version_minor": 0,
              "model_id": "430fb30d01204e9dafa09e48986ccaa3"
            }
          },
          "metadata": {}
        }
      ]
    },
    {
      "cell_type": "code",
      "source": [
        "train_data,valid_data,test_data"
      ],
      "metadata": {
        "colab": {
          "base_uri": "https://localhost:8080/"
        },
        "id": "B4wurDFzBW_M",
        "outputId": "054e763b-11ef-4714-a957-a2d095a1203b"
      },
      "execution_count": null,
      "outputs": [
        {
          "output_type": "execute_result",
          "data": {
            "text/plain": [
              "(Dataset({\n",
              "     features: ['text', 'label', 'tokens', 'id'],\n",
              "     num_rows: 18750\n",
              " }),\n",
              " Dataset({\n",
              "     features: ['text', 'label', 'tokens', 'id'],\n",
              "     num_rows: 6250\n",
              " }),\n",
              " Dataset({\n",
              "     features: ['text', 'label', 'tokens', 'id'],\n",
              "     num_rows: 25000\n",
              " }))"
            ]
          },
          "metadata": {},
          "execution_count": 156
        }
      ]
    },
    {
      "cell_type": "code",
      "source": [
        "train_data[0][\"id\"][0:10]"
      ],
      "metadata": {
        "colab": {
          "base_uri": "https://localhost:8080/"
        },
        "id": "VAK3Iz5YI2RZ",
        "outputId": "d62616f6-1c94-4273-8b16-21517af57a1d"
      },
      "execution_count": null,
      "outputs": [
        {
          "output_type": "execute_result",
          "data": {
            "text/plain": [
              "[52, 170, 1679, 122, 11814, 4, 11, 95, 35, 1267]"
            ]
          },
          "metadata": {},
          "execution_count": 157
        }
      ]
    },
    {
      "cell_type": "code",
      "source": [
        "train_data[0][\"tokens\"][0:10]"
      ],
      "metadata": {
        "colab": {
          "base_uri": "https://localhost:8080/"
        },
        "id": "edbjAdsXLGtP",
        "outputId": "a76b89bb-eabd-4d87-f2d0-29f5dc3c226d"
      },
      "execution_count": null,
      "outputs": [
        {
          "output_type": "execute_result",
          "data": {
            "text/plain": [
              "['if',\n",
              " 'another',\n",
              " 'hitler',\n",
              " 'ever',\n",
              " 'arises',\n",
              " ',',\n",
              " 'it',\n",
              " 'will',\n",
              " 'be',\n",
              " 'thanks']"
            ]
          },
          "metadata": {},
          "execution_count": 158
        }
      ]
    },
    {
      "cell_type": "code",
      "source": [
        "vocab[\"i\"],vocab[\"seen\"]"
      ],
      "metadata": {
        "colab": {
          "base_uri": "https://localhost:8080/"
        },
        "id": "v-Bg7BdBLWxx",
        "outputId": "f1a2b6cf-3c6d-4102-9f6c-007d02eb5088"
      },
      "execution_count": null,
      "outputs": [
        {
          "output_type": "execute_result",
          "data": {
            "text/plain": [
              "(12, 112)"
            ]
          },
          "metadata": {},
          "execution_count": 159
        }
      ]
    },
    {
      "cell_type": "code",
      "source": [
        "vocab.lookup_indices(['i', \"'\", 've', 'seen', 'all', 'kinds', 'of', 'hamlets', '.', 'kenneth'])"
      ],
      "metadata": {
        "colab": {
          "base_uri": "https://localhost:8080/"
        },
        "id": "4FXVKLAiMEgF",
        "outputId": "6307015e-ec90-47ea-fb8f-8868e9e6ac90"
      },
      "execution_count": null,
      "outputs": [
        {
          "output_type": "execute_result",
          "data": {
            "text/plain": [
              "[12, 9, 141, 112, 37, 2603, 7, 0, 3, 3225]"
            ]
          },
          "metadata": {},
          "execution_count": 160
        }
      ]
    },
    {
      "cell_type": "code",
      "source": [
        "vocab.lookup_tokens([12, 9, 140, 110, 38, 2397, 7, 0, 3, 3581])"
      ],
      "metadata": {
        "colab": {
          "base_uri": "https://localhost:8080/"
        },
        "id": "uwj0KnSeMfBw",
        "outputId": "95e67de1-1fd6-4019-ebbe-6b80da9e967c"
      },
      "execution_count": null,
      "outputs": [
        {
          "output_type": "execute_result",
          "data": {
            "text/plain": [
              "['i', \"'\", 'watching', 'watch', 'at', 'china', 'of', '<unk>', '.', 'existed']"
            ]
          },
          "metadata": {},
          "execution_count": 161
        }
      ]
    },
    {
      "cell_type": "code",
      "source": [
        "vocab.get_itos()[0:10]"
      ],
      "metadata": {
        "colab": {
          "base_uri": "https://localhost:8080/"
        },
        "id": "9y4Thls0MnRm",
        "outputId": "99639932-5440-4238-cb54-5fbb42218ea5"
      },
      "execution_count": null,
      "outputs": [
        {
          "output_type": "execute_result",
          "data": {
            "text/plain": [
              "['<unk>', '<pad>', 'the', '.', ',', 'a', 'and', 'of', 'to', \"'\"]"
            ]
          },
          "metadata": {},
          "execution_count": 162
        }
      ]
    },
    {
      "cell_type": "code",
      "source": [
        "vocab[',']"
      ],
      "metadata": {
        "colab": {
          "base_uri": "https://localhost:8080/"
        },
        "id": "iaQl2Nm_MrkC",
        "outputId": "bb0e7210-7a64-4896-d95c-a337d063e17c"
      },
      "execution_count": null,
      "outputs": [
        {
          "output_type": "execute_result",
          "data": {
            "text/plain": [
              "4"
            ]
          },
          "metadata": {},
          "execution_count": 163
        }
      ]
    },
    {
      "cell_type": "markdown",
      "source": [
        "####1.6 Convert it to Tensor"
      ],
      "metadata": {
        "id": "pKnrtth4Logh"
      }
    },
    {
      "cell_type": "code",
      "source": [
        "train_data=train_data.with_format(type='torch',columns=[\"id\",'label'])\n",
        "valid_data=valid_data.with_format(type='torch',columns=[\"id\",'label'])\n",
        "test_data=test_data.with_format(type='torch',columns=[\"id\",'label'])"
      ],
      "metadata": {
        "id": "D8tmGWORLedq"
      },
      "execution_count": null,
      "outputs": []
    },
    {
      "cell_type": "code",
      "source": [
        "train_data,valid_data,test_data"
      ],
      "metadata": {
        "colab": {
          "base_uri": "https://localhost:8080/"
        },
        "id": "5bdnKpFmQKYo",
        "outputId": "962b89d1-3d22-42ac-ebea-b2a5abf8a931"
      },
      "execution_count": null,
      "outputs": [
        {
          "output_type": "execute_result",
          "data": {
            "text/plain": [
              "(Dataset({\n",
              "     features: ['text', 'label', 'tokens', 'id'],\n",
              "     num_rows: 18750\n",
              " }),\n",
              " Dataset({\n",
              "     features: ['text', 'label', 'tokens', 'id'],\n",
              "     num_rows: 6250\n",
              " }),\n",
              " Dataset({\n",
              "     features: ['text', 'label', 'tokens', 'id'],\n",
              "     num_rows: 25000\n",
              " }))"
            ]
          },
          "metadata": {},
          "execution_count": 165
        }
      ]
    },
    {
      "cell_type": "code",
      "source": [
        "train_data[0]['label']"
      ],
      "metadata": {
        "colab": {
          "base_uri": "https://localhost:8080/"
        },
        "id": "4BhjMaD6QOj4",
        "outputId": "ff7a8428-6232-484f-c85f-40402e0316b4"
      },
      "execution_count": null,
      "outputs": [
        {
          "output_type": "execute_result",
          "data": {
            "text/plain": [
              "tensor(0)"
            ]
          },
          "metadata": {},
          "execution_count": 166
        }
      ]
    },
    {
      "cell_type": "code",
      "source": [
        "train_data[0]['id']"
      ],
      "metadata": {
        "colab": {
          "base_uri": "https://localhost:8080/"
        },
        "id": "QQHmNiM9QRlb",
        "outputId": "e9972a79-2dbc-4899-9d6f-84b5cbce96e2"
      },
      "execution_count": null,
      "outputs": [
        {
          "output_type": "execute_result",
          "data": {
            "text/plain": [
              "tensor([   52,   170,  1679,   122, 11814,     4,    11,    95,    35,  1267,\n",
              "           13,   187,     8,  1960,    45,    14,    23,     4,    73,     0,\n",
              "            2,  1765,  5138,    15,    33,    17,     5, 14993,  5494,  6575,\n",
              "           44,     2,   348,     3,   247,    44,   936,   145,     5,   429,\n",
              "            6, 19989,   102,     8,     2,  4328,  1113,    13,     2,  1527,\n",
              "            4,  7944,    82,    68,  1905,     2,   857,     8,   811,   102,\n",
              "            4,     6,    33,    68,    31,  1093,    13,     5, 14271,     4,\n",
              "        15731,     6,  1809,     3,   256,    42,  3847,     2,  5719,     7,\n",
              "         1679,     9,    16,   552,  8281,    86,     2,  9140,     7,    32,\n",
              "         3316,     0, 20444,    21,  1892,    86,    95,    35,  3286,    39,\n",
              "            2,   203,    15,    82,   258,   102,     5,  8361,     4,  1062,\n",
              "            4,  3527,   133,     3,    33,    17,    99,     5,   493,     0,\n",
              "            4,     6,     2,   203,    15,    32,  5459,   321,  6766,     6,\n",
              "        12239,     8,   689,  4249,  8090,     2,   206,    13,    73,    40,\n",
              "           76,    98,     4,    60, 17417,     0,    17,  1175,    13,  1089,\n",
              "         5459,     3, 10374,     2, 17098, 17718,     4,    73,    17,  1104,\n",
              "            5,  1344, 20840,     7,     2,   405,  5329,    86,    42,    76,\n",
              "         3969,     0,    86,   875, 14964,    51,  1700,    21,     2,   206,\n",
              "            3,     2,    23,   176,    11,   182,    19,   167,  1679,     9,\n",
              "           16,  4289,  5723,    44,     2,   348,    17,     2,  7278,     3,\n",
              "           52,    27,   195,     8,  3403,     2,   385,   429,    42,    95,\n",
              "         1024,     2,   366,     7, 13915,     7,  3258,     4,    27,    58,\n",
              "         2791,     0,     0,   123,     2,    34,   989,   139,     3,   182,\n",
              "          324,    21,     5,  1131,     4,  3040,   133,   661,  1362,  5459,\n",
              "         6110,     2,   458,  2605,     4,     6,   661,  1089,   174, 14993,\n",
              "            6,     0,  7210,     2,   674,     3])"
            ]
          },
          "metadata": {},
          "execution_count": 167
        }
      ]
    },
    {
      "cell_type": "code",
      "source": [
        "train_data[0].keys()"
      ],
      "metadata": {
        "colab": {
          "base_uri": "https://localhost:8080/"
        },
        "id": "KScvdBmoQZn6",
        "outputId": "b1754355-9b8a-4e71-b56b-1ee6932694cd"
      },
      "execution_count": null,
      "outputs": [
        {
          "output_type": "execute_result",
          "data": {
            "text/plain": [
              "dict_keys(['label', 'id'])"
            ]
          },
          "metadata": {},
          "execution_count": 168
        }
      ]
    },
    {
      "cell_type": "code",
      "source": [
        "vocab.lookup_tokens(train_data[0][\"id\"][:10].tolist())"
      ],
      "metadata": {
        "colab": {
          "base_uri": "https://localhost:8080/"
        },
        "id": "zITMgvQ5QdTy",
        "outputId": "bca2b852-0934-43d5-9b33-cfd695c4b7fe"
      },
      "execution_count": null,
      "outputs": [
        {
          "output_type": "execute_result",
          "data": {
            "text/plain": [
              "['if',\n",
              " 'another',\n",
              " 'hitler',\n",
              " 'ever',\n",
              " 'arises',\n",
              " ',',\n",
              " 'it',\n",
              " 'will',\n",
              " 'be',\n",
              " 'thanks']"
            ]
          },
          "metadata": {},
          "execution_count": 169
        }
      ]
    },
    {
      "cell_type": "markdown",
      "source": [
        "####1.7 Creating Data Batch loader"
      ],
      "metadata": {
        "id": "ITZvyqhlQ7ek"
      }
    },
    {
      "cell_type": "code",
      "source": [
        "def get_collate_fn(pad_index):\n",
        "  def collate_fn(batch):\n",
        "    batch_ids=[i[\"id\"] for i in batch]#[batch_size,length] ->[512,]\n",
        "    batch_ids=nn.utils.rnn.pad_sequence(\n",
        "        batch_ids,padding_value=pad_index,batch_first=True\n",
        "    )\n",
        "    batch_label=[i[\"label\"] for i in batch]\n",
        "    batch_label=torch.stack(batch_label)\n",
        "    batch={\"batch_ids\":batch_ids,\"batch_labels\":batch_label}\n",
        "    return batch\n",
        "  return collate_fn"
      ],
      "metadata": {
        "id": "GlTwPOSBQpwN"
      },
      "execution_count": null,
      "outputs": []
    },
    {
      "cell_type": "code",
      "source": [
        "def get_data_loader(dataset,batch_size,pad_index,shuffle=False):\n",
        "  collate_fn=get_collate_fn(pad_index)\n",
        "  data_loader=torch.utils.data.DataLoader(\n",
        "      dataset=dataset,\n",
        "      batch_size=batch_size,\n",
        "      collate_fn=collate_fn,\n",
        "      shuffle=shuffle\n",
        "  )\n",
        "  return data_loader"
      ],
      "metadata": {
        "id": "VYk50cO_SPsi"
      },
      "execution_count": null,
      "outputs": []
    },
    {
      "cell_type": "code",
      "source": [
        "batch_size=512"
      ],
      "metadata": {
        "id": "nMr5LNAoTK9y"
      },
      "execution_count": null,
      "outputs": []
    },
    {
      "cell_type": "code",
      "source": [
        "train_batch_loader=get_data_loader(train_data,batch_size,pad_index,shuffle=True)\n",
        "valid_batch_loader=get_data_loader(valid_data,batch_size,pad_index)\n",
        "test_batch_loader=get_data_loader(test_data,batch_size,pad_index)"
      ],
      "metadata": {
        "id": "2TXpV3q6TNV9"
      },
      "execution_count": null,
      "outputs": []
    },
    {
      "cell_type": "code",
      "source": [
        "len(train_batch_loader),len(valid_batch_loader),len(test_batch_loader)"
      ],
      "metadata": {
        "colab": {
          "base_uri": "https://localhost:8080/"
        },
        "id": "wuxdw9fzTODr",
        "outputId": "8b1032f6-8079-421d-8fdf-fe9d8bd5f3f6"
      },
      "execution_count": null,
      "outputs": [
        {
          "output_type": "execute_result",
          "data": {
            "text/plain": [
              "(37, 13, 49)"
            ]
          },
          "metadata": {},
          "execution_count": 174
        }
      ]
    },
    {
      "cell_type": "code",
      "source": [
        "len(vocab)"
      ],
      "metadata": {
        "colab": {
          "base_uri": "https://localhost:8080/"
        },
        "id": "KxLZqs0Hu1m8",
        "outputId": "2f28b987-2c2d-4464-9ae6-c20cc9965fd6"
      },
      "execution_count": null,
      "outputs": [
        {
          "output_type": "execute_result",
          "data": {
            "text/plain": [
              "21578"
            ]
          },
          "metadata": {},
          "execution_count": 175
        }
      ]
    },
    {
      "cell_type": "markdown",
      "source": [
        "###2. Build a Model"
      ],
      "metadata": {
        "id": "H5Q7p_T1UIbT"
      }
    },
    {
      "cell_type": "code",
      "source": [
        "class CBOW(nn.Module):\n",
        "  def __init__(self,vocab_size,embedding_dim,output_dim,pad_index):\n",
        "    super().__init__()\n",
        "    self.embeddings=nn.Embedding(vocab_size,embedding_dim,pad_index)\n",
        "    self.fc=nn.Linear(embedding_dim,output_dim)\n",
        "\n",
        "  def forward(self,id):\n",
        "    #id=[batch_size,seq_length]\n",
        "    embedded=self.embeddings(id)\n",
        "    #embedded=[batch_size,seq_length,embedding_dim]\n",
        "    pooled=embedded.mean(dim=1)\n",
        "    #pooled=[batch_size,embedding_dim]\n",
        "    prediction=self.fc(pooled)\n",
        "    #prediction=[batch_size,output_dim]\n",
        "    return prediction"
      ],
      "metadata": {
        "id": "FMj0BqPXULL0"
      },
      "execution_count": null,
      "outputs": []
    },
    {
      "cell_type": "code",
      "source": [
        "vocab_size=len(vocab)\n",
        "embedding_dim=300\n",
        "output_dim=len(train_data.unique(\"label\"))\n",
        "model=CBOW(vocab_size,embedding_dim,output_dim,pad_index)"
      ],
      "metadata": {
        "id": "PvvSba9Tv5Ce"
      },
      "execution_count": null,
      "outputs": []
    },
    {
      "cell_type": "code",
      "source": [
        "pad_index"
      ],
      "metadata": {
        "colab": {
          "base_uri": "https://localhost:8080/"
        },
        "id": "a7gK--36wwR5",
        "outputId": "d4e57f2f-2c30-4ab4-9b8c-6d38adaa16e1"
      },
      "execution_count": null,
      "outputs": [
        {
          "output_type": "execute_result",
          "data": {
            "text/plain": [
              "1"
            ]
          },
          "metadata": {},
          "execution_count": 247
        }
      ]
    },
    {
      "cell_type": "code",
      "source": [
        "model"
      ],
      "metadata": {
        "colab": {
          "base_uri": "https://localhost:8080/"
        },
        "id": "mQT135SawmTm",
        "outputId": "1d966f97-d39f-45a2-c7e8-1cff0ba97128"
      },
      "execution_count": null,
      "outputs": [
        {
          "output_type": "execute_result",
          "data": {
            "text/plain": [
              "CBOW(\n",
              "  (embeddings): Embedding(21578, 300, padding_idx=1)\n",
              "  (fc): Linear(in_features=300, out_features=2, bias=True)\n",
              ")"
            ]
          },
          "metadata": {},
          "execution_count": 248
        }
      ]
    },
    {
      "cell_type": "code",
      "source": [
        "def count_parameters(model):\n",
        "  return sum(p.numel() for p in model.parameters() if p.requires_grad)\n",
        "print(f\"The model has {count_parameters(model):,} trainable parameters\")"
      ],
      "metadata": {
        "colab": {
          "base_uri": "https://localhost:8080/"
        },
        "id": "z3b5GvIrwnUo",
        "outputId": "a53dc8d9-ee9b-4692-dd91-b2f7bccc6095"
      },
      "execution_count": null,
      "outputs": [
        {
          "output_type": "stream",
          "name": "stdout",
          "text": [
            "The model has 6,474,002 trainable parameters\n"
          ]
        }
      ]
    },
    {
      "cell_type": "markdown",
      "source": [
        "**Used Pretrained model CloVe for getting embeddings of words**"
      ],
      "metadata": {
        "id": "pRJMYBh27XkV"
      }
    },
    {
      "cell_type": "code",
      "source": [
        "vectore=torchtext.vocab.GloVe()"
      ],
      "metadata": {
        "id": "nEOimtLixV08"
      },
      "execution_count": null,
      "outputs": []
    },
    {
      "cell_type": "code",
      "source": [
        "hello_vector=vectore.get_vecs_by_tokens(\"India\")"
      ],
      "metadata": {
        "id": "bSj-nO0dyweA"
      },
      "execution_count": null,
      "outputs": []
    },
    {
      "cell_type": "code",
      "source": [
        "hello_vector.shape"
      ],
      "metadata": {
        "colab": {
          "base_uri": "https://localhost:8080/"
        },
        "id": "O85UHghK7JX0",
        "outputId": "bf783b4e-57e8-42cf-9ccf-413af2b27f60"
      },
      "execution_count": null,
      "outputs": [
        {
          "output_type": "execute_result",
          "data": {
            "text/plain": [
              "torch.Size([300])"
            ]
          },
          "metadata": {},
          "execution_count": 252
        }
      ]
    },
    {
      "cell_type": "code",
      "source": [
        "len(vocab)"
      ],
      "metadata": {
        "colab": {
          "base_uri": "https://localhost:8080/"
        },
        "id": "ctqhfkrY7uut",
        "outputId": "dfdae6f5-6620-4a78-9547-f9aee6157efb"
      },
      "execution_count": null,
      "outputs": [
        {
          "output_type": "execute_result",
          "data": {
            "text/plain": [
              "21578"
            ]
          },
          "metadata": {},
          "execution_count": 253
        }
      ]
    },
    {
      "cell_type": "code",
      "source": [
        "pretrained_embedding=vectore.get_vecs_by_tokens(vocab.get_itos())"
      ],
      "metadata": {
        "id": "GYJxd9HS7LJQ"
      },
      "execution_count": null,
      "outputs": []
    },
    {
      "cell_type": "code",
      "source": [
        "pretrained_embedding.shape"
      ],
      "metadata": {
        "colab": {
          "base_uri": "https://localhost:8080/"
        },
        "id": "fadRSDZx71yo",
        "outputId": "e25f5cf2-a433-443c-c94c-86920040a7ed"
      },
      "execution_count": null,
      "outputs": [
        {
          "output_type": "execute_result",
          "data": {
            "text/plain": [
              "torch.Size([21578, 300])"
            ]
          },
          "metadata": {},
          "execution_count": 255
        }
      ]
    },
    {
      "cell_type": "code",
      "source": [
        "model.embeddings.weight"
      ],
      "metadata": {
        "colab": {
          "base_uri": "https://localhost:8080/"
        },
        "id": "3GLmhPx775j0",
        "outputId": "ef154e12-ad0d-47fa-bf9b-37a0237d6241"
      },
      "execution_count": null,
      "outputs": [
        {
          "output_type": "execute_result",
          "data": {
            "text/plain": [
              "Parameter containing:\n",
              "tensor([[ 0.3144,  0.1946,  1.9772,  ..., -0.6090,  0.6658,  0.7183],\n",
              "        [ 0.0000,  0.0000,  0.0000,  ...,  0.0000,  0.0000,  0.0000],\n",
              "        [-1.4046,  0.2845, -0.0905,  ..., -0.4161,  1.5363,  0.6279],\n",
              "        ...,\n",
              "        [-0.5448, -0.0029, -0.3887,  ..., -0.7553,  1.1514, -0.2577],\n",
              "        [-0.2990,  0.3731,  1.2487,  ...,  0.2754, -0.7335, -0.5250],\n",
              "        [ 0.4719,  1.6890,  1.2817,  ..., -2.2351, -0.7168,  0.3489]],\n",
              "       requires_grad=True)"
            ]
          },
          "metadata": {},
          "execution_count": 257
        }
      ]
    },
    {
      "cell_type": "code",
      "source": [
        "pretrained_embedding"
      ],
      "metadata": {
        "colab": {
          "base_uri": "https://localhost:8080/"
        },
        "id": "sD5lDajT8NeJ",
        "outputId": "febde1d1-d455-49a2-ccde-ee8b98d96ecd"
      },
      "execution_count": null,
      "outputs": [
        {
          "output_type": "execute_result",
          "data": {
            "text/plain": [
              "tensor([[ 0.0000,  0.0000,  0.0000,  ...,  0.0000,  0.0000,  0.0000],\n",
              "        [ 0.0000,  0.0000,  0.0000,  ...,  0.0000,  0.0000,  0.0000],\n",
              "        [ 0.2720, -0.0620, -0.1884,  ...,  0.1302, -0.1832,  0.1323],\n",
              "        ...,\n",
              "        [ 0.1187, -0.5503, -0.4848,  ...,  0.2006,  0.0301,  0.3918],\n",
              "        [-0.1503,  0.5624, -0.5622,  ..., -0.4224, -0.6836,  0.0726],\n",
              "        [ 1.1741, -0.4386,  0.3310,  ...,  0.3193, -0.2292, -0.0887]])"
            ]
          },
          "metadata": {},
          "execution_count": 258
        }
      ]
    },
    {
      "cell_type": "markdown",
      "source": [
        "**Replacing the Model embeddings parameters with the GloVe parameters so that training take less time**"
      ],
      "metadata": {
        "id": "rQdQx0uZ8S2G"
      }
    },
    {
      "cell_type": "code",
      "source": [
        "model.embeddings.weight.data=pretrained_embedding"
      ],
      "metadata": {
        "id": "Vr51V0cc8etR"
      },
      "execution_count": null,
      "outputs": []
    },
    {
      "cell_type": "code",
      "source": [
        "model.embeddings.weight"
      ],
      "metadata": {
        "colab": {
          "base_uri": "https://localhost:8080/"
        },
        "id": "yI9W1QBH8oGl",
        "outputId": "a2ee956a-d756-4db1-e9e3-c682e4b5c851"
      },
      "execution_count": null,
      "outputs": [
        {
          "output_type": "execute_result",
          "data": {
            "text/plain": [
              "Parameter containing:\n",
              "tensor([[ 0.0000,  0.0000,  0.0000,  ...,  0.0000,  0.0000,  0.0000],\n",
              "        [ 0.0000,  0.0000,  0.0000,  ...,  0.0000,  0.0000,  0.0000],\n",
              "        [ 0.2720, -0.0620, -0.1884,  ...,  0.1302, -0.1832,  0.1323],\n",
              "        ...,\n",
              "        [ 0.1187, -0.5503, -0.4848,  ...,  0.2006,  0.0301,  0.3918],\n",
              "        [-0.1503,  0.5624, -0.5622,  ..., -0.4224, -0.6836,  0.0726],\n",
              "        [ 1.1741, -0.4386,  0.3310,  ...,  0.3193, -0.2292, -0.0887]],\n",
              "       requires_grad=True)"
            ]
          },
          "metadata": {},
          "execution_count": 260
        }
      ]
    },
    {
      "cell_type": "markdown",
      "source": [
        "###3. Loss Function and Optimizer"
      ],
      "metadata": {
        "id": "BDm4N9518ydh"
      }
    },
    {
      "cell_type": "code",
      "source": [
        "criterion=nn.CrossEntropyLoss()\n",
        "optimizer=optim.Adam(model.parameters())"
      ],
      "metadata": {
        "id": "NdGdNtCi8ptQ"
      },
      "execution_count": null,
      "outputs": []
    },
    {
      "cell_type": "code",
      "source": [
        "device=\"cuda\" if torch.cuda.is_available() else \"cpu\"\n",
        "device"
      ],
      "metadata": {
        "colab": {
          "base_uri": "https://localhost:8080/",
          "height": 36
        },
        "id": "pzsouHVB9Lpf",
        "outputId": "98b87843-d4e3-438b-dacf-a88dcdbd64f0"
      },
      "execution_count": null,
      "outputs": [
        {
          "output_type": "execute_result",
          "data": {
            "text/plain": [
              "'cpu'"
            ],
            "application/vnd.google.colaboratory.intrinsic+json": {
              "type": "string"
            }
          },
          "metadata": {},
          "execution_count": 262
        }
      ]
    },
    {
      "cell_type": "code",
      "source": [
        "model=model.to(device)"
      ],
      "metadata": {
        "id": "gF99E4w59XaK"
      },
      "execution_count": null,
      "outputs": []
    },
    {
      "cell_type": "code",
      "source": [
        "criterion=criterion.to(device)"
      ],
      "metadata": {
        "id": "N8_qC4bh9kD0"
      },
      "execution_count": null,
      "outputs": []
    },
    {
      "cell_type": "markdown",
      "source": [
        "###4 Build Training and Evaluation Function\n"
      ],
      "metadata": {
        "id": "BTLXG8ft9qDZ"
      }
    },
    {
      "cell_type": "code",
      "source": [
        "def train(data_loader,model,criterion,optimizer,device):\n",
        "  model.train()\n",
        "  epoch_loss=[]\n",
        "  epoch_acc=[]\n",
        "  for batch in tqdm.tqdm(data_loader,desc=\"trainig....\"):\n",
        "    batch_ids=batch[\"batch_ids\"].to(device)\n",
        "    batch_labels=batch[\"batch_labels\"].to(device)\n",
        "    prediction=model(batch_ids)\n",
        "    loss=criterion(prediction,batch_labels)\n",
        "    accuracy=get_accuracy(prediction,batch_labels)\n",
        "    optimizer.zero_grad()\n",
        "    loss.backward()\n",
        "    optimizer.step()\n",
        "    epoch_loss.append(loss.item())\n",
        "    epoch_acc.append(accuracy.item())\n",
        "  return np.mean(epoch_loss),np.mean(epoch_acc)"
      ],
      "metadata": {
        "id": "7vIoaMEy9pSi"
      },
      "execution_count": null,
      "outputs": []
    },
    {
      "cell_type": "code",
      "source": [
        "def evaluate(data_loader,model,criterion,device):\n",
        "  model.eval()\n",
        "  epoch_loss=[]\n",
        "  epoch_acc=[]\n",
        "  with torch.no_grad():\n",
        "      for batch in tqdm.tqdm(data_loader,desc='Evaluating....'):\n",
        "            batch_ids=batch[\"batch_ids\"].to(device)\n",
        "            batch_labels=batch[\"batch_labels\"].to(device)\n",
        "            prediction=model(batch_ids)\n",
        "            loss=criterion(prediction,batch_labels)\n",
        "            accuracy=get_accuracy(prediction,batch_labels)\n",
        "            epoch_loss.append(loss.item())\n",
        "            epoch_acc.append(accuracy.item())\n",
        "      return np.mean(epoch_loss),np.mean(epoch_acc)"
      ],
      "metadata": {
        "id": "O6l8V96L__-S"
      },
      "execution_count": null,
      "outputs": []
    },
    {
      "cell_type": "code",
      "source": [
        "def get_accuracy(prediction,batch_labels):\n",
        "  batch_size,_ = prediction.shape\n",
        "  predicted_class=prediction.argmax(dim=-1)\n",
        "  corrected_prediction=predicted_class.eq(batch_labels).sum()\n",
        "  accuracy=corrected_prediction / batch_size\n",
        "  return accuracy"
      ],
      "metadata": {
        "id": "rz6nY4yU_RUf"
      },
      "execution_count": null,
      "outputs": []
    },
    {
      "cell_type": "markdown",
      "source": [
        "5. Starting Training Loop"
      ],
      "metadata": {
        "id": "O03BRoheB--9"
      }
    },
    {
      "cell_type": "code",
      "source": [
        "n_epochs=10\n",
        "best_valid_loss=float(\"inf\")\n",
        "metrics=collections.defaultdict(list)\n",
        "for epoch in range(n_epochs):\n",
        "  train_loss,train_acc=train(\n",
        "      train_batch_loader,\n",
        "      model,\n",
        "      criterion,\n",
        "      optimizer,\n",
        "      device)\n",
        "  valid_loss,valid_acc=evaluate(\n",
        "      valid_batch_loader,\n",
        "      model,\n",
        "      criterion,\n",
        "      device\n",
        "  )\n",
        "  metrics[\"train_loss\"].append(train_loss)\n",
        "  metrics[\"train_acc\"].append(train_acc)\n",
        "  metrics[\"valid_loss\"].append(valid_loss)\n",
        "  metrics[\"valid_acc\"].append(valid_acc)\n",
        "  if valid_loss < best_valid_loss:\n",
        "    best_valid_loss=valid_loss\n",
        "    torch.save(model.state_dict(),\"CBOW.pt\")\n",
        "  print(f\"Epoch:{epoch}\")\n",
        "  print(f\"train loss:{train_loss:.3f},train_acc:{train_acc:.3f}\")\n",
        "  print(f\"Valid_loss:{valid_loss:.3f},Valid_Acc:{valid_acc:.3f}\")\n"
      ],
      "metadata": {
        "colab": {
          "base_uri": "https://localhost:8080/"
        },
        "id": "Jqst76mxB-D1",
        "outputId": "bc1cda45-9281-498d-eb43-2a087d2ef12e"
      },
      "execution_count": null,
      "outputs": [
        {
          "output_type": "stream",
          "name": "stderr",
          "text": [
            "trainig....: 100%|██████████| 37/37 [00:15<00:00,  2.45it/s]\n",
            "Evaluating....: 100%|██████████| 13/13 [00:02<00:00,  4.57it/s]\n"
          ]
        },
        {
          "output_type": "stream",
          "name": "stdout",
          "text": [
            "Epoch:0\n",
            "train loss:0.206,train_acc:0.936\n",
            "Valid_loss:0.299,Valid_Acc:0.881\n"
          ]
        },
        {
          "output_type": "stream",
          "name": "stderr",
          "text": [
            "trainig....: 100%|██████████| 37/37 [00:16<00:00,  2.30it/s]\n",
            "Evaluating....: 100%|██████████| 13/13 [00:03<00:00,  4.22it/s]\n"
          ]
        },
        {
          "output_type": "stream",
          "name": "stdout",
          "text": [
            "Epoch:1\n",
            "train loss:0.193,train_acc:0.941\n",
            "Valid_loss:0.295,Valid_Acc:0.883\n"
          ]
        },
        {
          "output_type": "stream",
          "name": "stderr",
          "text": [
            "trainig....: 100%|██████████| 37/37 [00:15<00:00,  2.41it/s]\n",
            "Evaluating....: 100%|██████████| 13/13 [00:02<00:00,  5.79it/s]\n"
          ]
        },
        {
          "output_type": "stream",
          "name": "stdout",
          "text": [
            "Epoch:2\n",
            "train loss:0.180,train_acc:0.946\n",
            "Valid_loss:0.292,Valid_Acc:0.885\n"
          ]
        },
        {
          "output_type": "stream",
          "name": "stderr",
          "text": [
            "trainig....: 100%|██████████| 37/37 [00:17<00:00,  2.11it/s]\n",
            "Evaluating....: 100%|██████████| 13/13 [00:04<00:00,  2.78it/s]\n"
          ]
        },
        {
          "output_type": "stream",
          "name": "stdout",
          "text": [
            "Epoch:3\n",
            "train loss:0.169,train_acc:0.951\n",
            "Valid_loss:0.289,Valid_Acc:0.884\n"
          ]
        },
        {
          "output_type": "stream",
          "name": "stderr",
          "text": [
            "trainig....: 100%|██████████| 37/37 [00:27<00:00,  1.35it/s]\n",
            "Evaluating....: 100%|██████████| 13/13 [00:02<00:00,  5.81it/s]\n"
          ]
        },
        {
          "output_type": "stream",
          "name": "stdout",
          "text": [
            "Epoch:4\n",
            "train loss:0.159,train_acc:0.955\n",
            "Valid_loss:0.287,Valid_Acc:0.886\n"
          ]
        },
        {
          "output_type": "stream",
          "name": "stderr",
          "text": [
            "trainig....: 100%|██████████| 37/37 [00:20<00:00,  1.77it/s]\n",
            "Evaluating....: 100%|██████████| 13/13 [00:03<00:00,  3.33it/s]\n"
          ]
        },
        {
          "output_type": "stream",
          "name": "stdout",
          "text": [
            "Epoch:5\n",
            "train loss:0.150,train_acc:0.959\n",
            "Valid_loss:0.288,Valid_Acc:0.885\n"
          ]
        },
        {
          "output_type": "stream",
          "name": "stderr",
          "text": [
            "trainig....: 100%|██████████| 37/37 [00:20<00:00,  1.77it/s]\n",
            "Evaluating....: 100%|██████████| 13/13 [00:03<00:00,  3.71it/s]\n"
          ]
        },
        {
          "output_type": "stream",
          "name": "stdout",
          "text": [
            "Epoch:6\n",
            "train loss:0.141,train_acc:0.962\n",
            "Valid_loss:0.286,Valid_Acc:0.886\n"
          ]
        },
        {
          "output_type": "stream",
          "name": "stderr",
          "text": [
            "trainig....: 100%|██████████| 37/37 [00:19<00:00,  1.94it/s]\n",
            "Evaluating....: 100%|██████████| 13/13 [00:03<00:00,  4.31it/s]\n"
          ]
        },
        {
          "output_type": "stream",
          "name": "stdout",
          "text": [
            "Epoch:7\n",
            "train loss:0.133,train_acc:0.965\n",
            "Valid_loss:0.285,Valid_Acc:0.886\n"
          ]
        },
        {
          "output_type": "stream",
          "name": "stderr",
          "text": [
            "trainig....: 100%|██████████| 37/37 [00:23<00:00,  1.54it/s]\n",
            "Evaluating....: 100%|██████████| 13/13 [00:02<00:00,  5.82it/s]\n"
          ]
        },
        {
          "output_type": "stream",
          "name": "stdout",
          "text": [
            "Epoch:8\n",
            "train loss:0.125,train_acc:0.968\n",
            "Valid_loss:0.286,Valid_Acc:0.885\n"
          ]
        },
        {
          "output_type": "stream",
          "name": "stderr",
          "text": [
            "trainig....: 100%|██████████| 37/37 [00:15<00:00,  2.34it/s]\n",
            "Evaluating....: 100%|██████████| 13/13 [00:02<00:00,  5.04it/s]"
          ]
        },
        {
          "output_type": "stream",
          "name": "stdout",
          "text": [
            "Epoch:9\n",
            "train loss:0.118,train_acc:0.970\n",
            "Valid_loss:0.287,Valid_Acc:0.886\n"
          ]
        },
        {
          "output_type": "stream",
          "name": "stderr",
          "text": [
            "\n"
          ]
        }
      ]
    },
    {
      "cell_type": "markdown",
      "source": [
        "###6. Visualization our model"
      ],
      "metadata": {
        "id": "XDJiQ_1uIGZX"
      }
    },
    {
      "cell_type": "code",
      "source": [
        "fig = plt.figure(figsize=(10,6))\n",
        "ax = fig.add_subplot(1,1,1)\n",
        "ax.plot(metrics['train_loss'],label='train_loss')\n",
        "ax.plot(metrics['valid_loss'],label='valid_loss')\n",
        "ax.set_xlabel('Epochs')\n",
        "ax.set_ylabel('Loss')\n",
        "ax.set_xticks(range(n_epochs))\n",
        "ax.legend()\n",
        "ax.grid()"
      ],
      "metadata": {
        "colab": {
          "base_uri": "https://localhost:8080/",
          "height": 542
        },
        "id": "sqvkRO2jEp-0",
        "outputId": "d40fccb5-215a-4449-d1ca-371a9b93df68"
      },
      "execution_count": null,
      "outputs": [
        {
          "output_type": "display_data",
          "data": {
            "text/plain": [
              "<Figure size 1000x600 with 1 Axes>"
            ],
            "image/png": "[encoded data removed]"
          },
          "metadata": {}
        }
      ]
    },
    {
      "cell_type": "code",
      "source": [
        "fig=plt.figure(figsize=(10,6))\n",
        "ax=fig.add_subplot(1,1,1)\n",
        "ax.plot(metrics['train_acc'],label=\"train accuracy\")\n",
        "ax.plot(metrics['valid_acc'],label=\"valid accuracy\")\n",
        "ax.set_xlabel(\"Epochs\")\n",
        "ax.set_ylabel(\"Accuracy\")\n",
        "ax.set_xticks(range(n_epochs))\n",
        "ax.legend()\n",
        "ax.grid()"
      ],
      "metadata": {
        "colab": {
          "base_uri": "https://localhost:8080/",
          "height": 542
        },
        "id": "KMvGS3syJ0Qf",
        "outputId": "e35a3adc-802b-47ca-8b32-874e9b2c8965"
      },
      "execution_count": null,
      "outputs": [
        {
          "output_type": "display_data",
          "data": {
            "text/plain": [
              "<Figure size 1000x600 with 1 Axes>"
            ],
            "image/png": "[encoded data removed]"
          },
          "metadata": {}
        }
      ]
    },
    {
      "cell_type": "markdown",
      "source": [
        "Testing model with test data"
      ],
      "metadata": {
        "id": "1I7YY_IFJsSL"
      }
    },
    {
      "cell_type": "code",
      "source": [
        "model.load_state_dict(torch.load(\"CBOW.pt\"))\n",
        "test_loss,test_acc=evaluate(\n",
        "    test_batch_loader,\n",
        "    model,\n",
        "    criterion,\n",
        "    device\n",
        ")"
      ],
      "metadata": {
        "colab": {
          "base_uri": "https://localhost:8080/"
        },
        "id": "i0sS8wOHK0vW",
        "outputId": "73893373-0365-4a46-e277-e99c5f733cc5"
      },
      "execution_count": null,
      "outputs": [
        {
          "output_type": "stream",
          "name": "stderr",
          "text": [
            "Evaluating....: 100%|██████████| 49/49 [00:10<00:00,  4.82it/s]\n"
          ]
        }
      ]
    },
    {
      "cell_type": "code",
      "source": [
        "print(f\"Test Loss:{test_loss:.3f},Test Accuracy:{test_acc:.3f}\")"
      ],
      "metadata": {
        "colab": {
          "base_uri": "https://localhost:8080/"
        },
        "id": "pjzA7y3_LYER",
        "outputId": "d2ed00b8-a9ef-4103-cb79-b3df87d636e2"
      },
      "execution_count": null,
      "outputs": [
        {
          "output_type": "stream",
          "name": "stdout",
          "text": [
            "Test Loss:0.330,Test Accuracy:0.864\n"
          ]
        }
      ]
    },
    {
      "cell_type": "markdown",
      "source": [
        "###7.  Testing model with new Sentence(Sentiment Analysis)"
      ],
      "metadata": {
        "id": "BxxKPd-ZLsoN"
      }
    },
    {
      "cell_type": "code",
      "source": [
        "def predict_sentiment(test,model,tokenizer,vocab,device):\n",
        "    tokens=tokenizer(test)\n",
        "    ids=vocab.lookup_indices(tokens)\n",
        "    tensor=torch.LongTensor(ids).unsqueeze(dim=0).to(device)\n",
        "    prediction=model(tensor).squeeze(dim=0)\n",
        "    probability=torch.softmax(prediction,dim=-1)\n",
        "    predicted_classes=prediction.argmax(dim=-1).item()\n",
        "    predicted_probability=probability[predicted_classes].item()\n",
        "    return predicted_classes,predicted_probability"
      ],
      "metadata": {
        "id": "HYRtrM0KL3Y8"
      },
      "execution_count": null,
      "outputs": []
    },
    {
      "cell_type": "code",
      "source": [
        "text=\"This movie is very good\""
      ],
      "metadata": {
        "id": "Y9eeHjqjJw4n"
      },
      "execution_count": null,
      "outputs": []
    },
    {
      "cell_type": "code",
      "source": [
        "predict_sentiment(text,model,tokenizer,vocab,device)"
      ],
      "metadata": {
        "colab": {
          "base_uri": "https://localhost:8080/"
        },
        "id": "hfHJ25vgLzcP",
        "outputId": "2eb52748-8875-49d3-f648-9e53e9eb9b57"
      },
      "execution_count": null,
      "outputs": [
        {
          "output_type": "execute_result",
          "data": {
            "text/plain": [
              "(1, 0.9999998807907104)"
            ]
          },
          "metadata": {},
          "execution_count": 291
        }
      ]
    },
    {
      "cell_type": "code",
      "source": [
        "text=\"This movie is terrible\"\n",
        "predict_sentiment(text,model,tokenizer,vocab,device)"
      ],
      "metadata": {
        "colab": {
          "base_uri": "https://localhost:8080/"
        },
        "id": "6Z3acO_sOWLS",
        "outputId": "a561ae35-d6e1-4591-cd94-634c5eb5996c"
      },
      "execution_count": null,
      "outputs": [
        {
          "output_type": "execute_result",
          "data": {
            "text/plain": [
              "(0, 1.0)"
            ]
          },
          "metadata": {},
          "execution_count": 292
        }
      ]
    }
  ]
}