{
  "nbformat": 4,
  "nbformat_minor": 0,
  "metadata": {
    "colab": {
      "provenance": []
    },
    "kernelspec": {
      "name": "python3",
      "display_name": "Python 3"
    },
    "language_info": {
      "name": "python"
    }
  },
  "cells": [
    {
      "cell_type": "code",
      "execution_count": null,
      "metadata": {
        "id": "FcZlgAyxGxo0"
      },
      "outputs": [],
      "source": [
        "import torch\n",
        "torch.__version__"
      ]
    },
    {
      "cell_type": "markdown",
      "source": [
        "#Logistic Regression Using Pytorch"
      ],
      "metadata": {
        "id": "R7kMgjBhnFlF"
      }
    },
    {
      "cell_type": "markdown",
      "source": [
        "## Flow of Program\n",
        "0. Import Important libraries\n",
        "1. Get Data Ready (Turn into tensor , Batches)\n",
        "2. Build a Logistic Regression Model\n",
        "3. pick a loss function and Optimizer\n",
        "4. Build a training loop\n",
        "5. evaluate your model\n",
        "6. How to improve our model\n",
        "7. Save your Model"
      ],
      "metadata": {
        "id": "pql0k43SnTq8"
      }
    },
    {
      "cell_type": "markdown",
      "source": [
        "###**0. import Important Libraries**"
      ],
      "metadata": {
        "id": "yzIcoRUMn9Bm"
      }
    },
    {
      "cell_type": "code",
      "source": [
        "import time\n",
        "import torch\n",
        "import torch.nn as nn\n",
        "import torch.nn.functional as F\n",
        "from torch.utils.data import DataLoader\n",
        "from torchvision import datasets,transforms\n",
        "import matplotlib.pyplot as plt"
      ],
      "metadata": {
        "id": "uxMJvLwAnInB"
      },
      "execution_count": null,
      "outputs": []
    },
    {
      "cell_type": "markdown",
      "source": [
        "###**1. Get Data Ready(Turn into tensor , batch)**"
      ],
      "metadata": {
        "id": "xYWJHslqom4q"
      }
    },
    {
      "cell_type": "code",
      "source": [
        "train_dataset = datasets.FashionMNIST(root='./dataset',train=True,transform=transforms.ToTensor(),download=True)\n",
        "test_dataset = datasets.FashionMNIST(root='./dataset',train=False,transform=transforms.ToTensor())"
      ],
      "metadata": {
        "colab": {
          "base_uri": "https://localhost:8080/"
        },
        "id": "F3qUl8Fiolz2",
        "outputId": "d4095cb9-1332-4228-c8fd-3b3373b812bc"
      },
      "execution_count": null,
      "outputs": [
        {
          "output_type": "stream",
          "name": "stdout",
          "text": [
            "Downloading http://fashion-mnist.s3-website.eu-central-1.amazonaws.com/train-images-idx3-ubyte.gz\n",
            "Downloading http://fashion-mnist.s3-website.eu-central-1.amazonaws.com/train-images-idx3-ubyte.gz to ./dataset/FashionMNIST/raw/train-images-idx3-ubyte.gz\n"
          ]
        },
        {
          "output_type": "stream",
          "name": "stderr",
          "text": [
            "100%|██████████| 26421880/26421880 [00:02<00:00, 12916882.04it/s]\n"
          ]
        },
        {
          "output_type": "stream",
          "name": "stdout",
          "text": [
            "Extracting ./dataset/FashionMNIST/raw/train-images-idx3-ubyte.gz to ./dataset/FashionMNIST/raw\n",
            "\n",
            "Downloading http://fashion-mnist.s3-website.eu-central-1.amazonaws.com/train-labels-idx1-ubyte.gz\n",
            "Downloading http://fashion-mnist.s3-website.eu-central-1.amazonaws.com/train-labels-idx1-ubyte.gz to ./dataset/FashionMNIST/raw/train-labels-idx1-ubyte.gz\n"
          ]
        },
        {
          "output_type": "stream",
          "name": "stderr",
          "text": [
            "100%|██████████| 29515/29515 [00:00<00:00, 196892.97it/s]\n"
          ]
        },
        {
          "output_type": "stream",
          "name": "stdout",
          "text": [
            "Extracting ./dataset/FashionMNIST/raw/train-labels-idx1-ubyte.gz to ./dataset/FashionMNIST/raw\n",
            "\n",
            "Downloading http://fashion-mnist.s3-website.eu-central-1.amazonaws.com/t10k-images-idx3-ubyte.gz\n",
            "Downloading http://fashion-mnist.s3-website.eu-central-1.amazonaws.com/t10k-images-idx3-ubyte.gz to ./dataset/FashionMNIST/raw/t10k-images-idx3-ubyte.gz\n"
          ]
        },
        {
          "output_type": "stream",
          "name": "stderr",
          "text": [
            "100%|██████████| 4422102/4422102 [00:01<00:00, 3760454.35it/s]\n"
          ]
        },
        {
          "output_type": "stream",
          "name": "stdout",
          "text": [
            "Extracting ./dataset/FashionMNIST/raw/t10k-images-idx3-ubyte.gz to ./dataset/FashionMNIST/raw\n",
            "\n",
            "Downloading http://fashion-mnist.s3-website.eu-central-1.amazonaws.com/t10k-labels-idx1-ubyte.gz\n",
            "Downloading http://fashion-mnist.s3-website.eu-central-1.amazonaws.com/t10k-labels-idx1-ubyte.gz to ./dataset/FashionMNIST/raw/t10k-labels-idx1-ubyte.gz\n"
          ]
        },
        {
          "output_type": "stream",
          "name": "stderr",
          "text": [
            "100%|██████████| 5148/5148 [00:00<00:00, 4188608.53it/s]"
          ]
        },
        {
          "output_type": "stream",
          "name": "stdout",
          "text": [
            "Extracting ./dataset/FashionMNIST/raw/t10k-labels-idx1-ubyte.gz to ./dataset/FashionMNIST/raw\n",
            "\n"
          ]
        },
        {
          "output_type": "stream",
          "name": "stderr",
          "text": [
            "\n"
          ]
        }
      ]
    },
    {
      "cell_type": "code",
      "source": [
        "train_dataset"
      ],
      "metadata": {
        "colab": {
          "base_uri": "https://localhost:8080/"
        },
        "id": "6vZhaprTppCR",
        "outputId": "646ef758-5449-4d97-d5d3-02c498ce4408"
      },
      "execution_count": null,
      "outputs": [
        {
          "output_type": "execute_result",
          "data": {
            "text/plain": [
              "Dataset FashionMNIST\n",
              "    Number of datapoints: 60000\n",
              "    Root location: ./dataset\n",
              "    Split: Train\n",
              "    StandardTransform\n",
              "Transform: ToTensor()"
            ]
          },
          "metadata": {},
          "execution_count": 4
        }
      ]
    },
    {
      "cell_type": "code",
      "source": [
        "test_dataset"
      ],
      "metadata": {
        "colab": {
          "base_uri": "https://localhost:8080/"
        },
        "id": "_d0MzL7Op1wf",
        "outputId": "21309374-5a54-45fc-ef6b-21b30f71b97f"
      },
      "execution_count": null,
      "outputs": [
        {
          "output_type": "execute_result",
          "data": {
            "text/plain": [
              "Dataset FashionMNIST\n",
              "    Number of datapoints: 10000\n",
              "    Root location: ./dataset\n",
              "    Split: Test\n",
              "    StandardTransform\n",
              "Transform: ToTensor()"
            ]
          },
          "metadata": {},
          "execution_count": 5
        }
      ]
    },
    {
      "cell_type": "code",
      "source": [
        "len(train_dataset),len(test_dataset)"
      ],
      "metadata": {
        "colab": {
          "base_uri": "https://localhost:8080/"
        },
        "id": "jYcQGX7lp3Xf",
        "outputId": "7c224e6c-de0f-429e-9f3f-0398ccc03c00"
      },
      "execution_count": null,
      "outputs": [
        {
          "output_type": "execute_result",
          "data": {
            "text/plain": [
              "(60000, 10000)"
            ]
          },
          "metadata": {},
          "execution_count": 6
        }
      ]
    },
    {
      "cell_type": "markdown",
      "source": [
        "####1.2 converting Data to batches"
      ],
      "metadata": {
        "id": "tAjU3vkIqQmb"
      }
    },
    {
      "cell_type": "code",
      "source": [
        "batch_size=64"
      ],
      "metadata": {
        "id": "9tdmQcrwqWQd"
      },
      "execution_count": null,
      "outputs": []
    },
    {
      "cell_type": "code",
      "source": [
        "train_batch_loader = DataLoader(train_dataset,batch_size=batch_size,shuffle=True)\n",
        "test_batch_loader = DataLoader(test_dataset,batch_size=batch_size,shuffle=False)"
      ],
      "metadata": {
        "id": "-z02-9OOqclI"
      },
      "execution_count": null,
      "outputs": []
    },
    {
      "cell_type": "code",
      "source": [
        "len(train_batch_loader),len(test_batch_loader)"
      ],
      "metadata": {
        "colab": {
          "base_uri": "https://localhost:8080/"
        },
        "id": "GAf5oJdPqz6q",
        "outputId": "3ae9e724-9918-4e63-b99c-13b1b345394b"
      },
      "execution_count": null,
      "outputs": [
        {
          "output_type": "execute_result",
          "data": {
            "text/plain": [
              "(938, 157)"
            ]
          },
          "metadata": {},
          "execution_count": 9
        }
      ]
    },
    {
      "cell_type": "markdown",
      "source": [
        "###**2. Build a Logistic Regression Model**"
      ],
      "metadata": {
        "id": "UWN-qdDDreEJ"
      }
    },
    {
      "cell_type": "code",
      "source": [
        "class LogisticRegression(nn.Module):\n",
        "  def __init__(self,in_dim,n_class):\n",
        "    super().__init__()\n",
        "    self.linear=nn.Linear(in_dim,n_class)\n",
        "\n",
        "  def forward(self,x):\n",
        "    x=self.linear(x)\n",
        "    return x"
      ],
      "metadata": {
        "id": "k1COW7rHq6Ej"
      },
      "execution_count": null,
      "outputs": []
    },
    {
      "cell_type": "code",
      "source": [
        "model = LogisticRegression(28*28,10)"
      ],
      "metadata": {
        "id": "Imd1rzMosihj"
      },
      "execution_count": null,
      "outputs": []
    },
    {
      "cell_type": "code",
      "source": [
        "model"
      ],
      "metadata": {
        "colab": {
          "base_uri": "https://localhost:8080/"
        },
        "id": "YJuKf-1Usosg",
        "outputId": "30c1cd3f-a615-4998-c764-e4cf9f5d946f"
      },
      "execution_count": null,
      "outputs": [
        {
          "output_type": "execute_result",
          "data": {
            "text/plain": [
              "LogisticRegression(\n",
              "  (linear): Linear(in_features=784, out_features=10, bias=True)\n",
              ")"
            ]
          },
          "metadata": {},
          "execution_count": 12
        }
      ]
    },
    {
      "cell_type": "code",
      "source": [
        "model.state_dict()"
      ],
      "metadata": {
        "colab": {
          "base_uri": "https://localhost:8080/"
        },
        "id": "gbIUtCrEsp8z",
        "outputId": "44dcc2f9-b8fc-4970-bcf2-e28570059ada"
      },
      "execution_count": null,
      "outputs": [
        {
          "output_type": "execute_result",
          "data": {
            "text/plain": [
              "OrderedDict([('linear.weight',\n",
              "              tensor([[ 0.0004, -0.0173,  0.0131,  ..., -0.0292,  0.0100, -0.0128],\n",
              "                      [ 0.0353,  0.0262, -0.0305,  ...,  0.0139, -0.0182,  0.0187],\n",
              "                      [-0.0085,  0.0061,  0.0324,  ...,  0.0214, -0.0172,  0.0124],\n",
              "                      ...,\n",
              "                      [-0.0201,  0.0256, -0.0053,  ..., -0.0017,  0.0090, -0.0131],\n",
              "                      [ 0.0140, -0.0317,  0.0133,  ..., -0.0068,  0.0255, -0.0355],\n",
              "                      [ 0.0093,  0.0079, -0.0155,  ..., -0.0193, -0.0300,  0.0002]])),\n",
              "             ('linear.bias',\n",
              "              tensor([-0.0135, -0.0009, -0.0089,  0.0223, -0.0335,  0.0278,  0.0286, -0.0337,\n",
              "                      -0.0200,  0.0205]))])"
            ]
          },
          "metadata": {},
          "execution_count": 13
        }
      ]
    },
    {
      "cell_type": "code",
      "source": [
        "device = \"cuda\" if torch.cuda.is_available() else \"cpu\""
      ],
      "metadata": {
        "id": "YZq0QekotrCo"
      },
      "execution_count": null,
      "outputs": []
    },
    {
      "cell_type": "code",
      "source": [
        "device"
      ],
      "metadata": {
        "colab": {
          "base_uri": "https://localhost:8080/"
        },
        "id": "nGLFnXTZt-nM",
        "outputId": "7e11c35b-9bba-4d15-95d9-c7c4d8eb99f2"
      },
      "execution_count": null,
      "outputs": [
        {
          "output_type": "execute_result",
          "data": {
            "text/plain": [
              "'cuda'"
            ],
            "application/vnd.google.colaboratory.intrinsic+json": {
              "type": "string"
            }
          },
          "metadata": {},
          "execution_count": 15
        }
      ]
    },
    {
      "cell_type": "code",
      "source": [
        "model = model.to(device)"
      ],
      "metadata": {
        "id": "hDoEzTJsuBmR"
      },
      "execution_count": null,
      "outputs": []
    },
    {
      "cell_type": "markdown",
      "source": [
        "###**3. Pick a loss Function and Optimizer**"
      ],
      "metadata": {
        "id": "Zha7ifsvtCbl"
      }
    },
    {
      "cell_type": "code",
      "source": [
        "learning_rate=0.001"
      ],
      "metadata": {
        "id": "99N-joUruSbb"
      },
      "execution_count": null,
      "outputs": []
    },
    {
      "cell_type": "code",
      "source": [
        "criterion = nn.CrossEntropyLoss()\n",
        "optimizer = torch.optim.SGD(model.parameters(),lr=learning_rate)"
      ],
      "metadata": {
        "id": "cGEaFf9FssZT"
      },
      "execution_count": null,
      "outputs": []
    },
    {
      "cell_type": "code",
      "source": [
        "model.state_dict()"
      ],
      "metadata": {
        "colab": {
          "base_uri": "https://localhost:8080/"
        },
        "id": "-dzljpfOukHl",
        "outputId": "33540cb1-feb4-4ae3-a789-2f963a1999eb"
      },
      "execution_count": null,
      "outputs": [
        {
          "output_type": "execute_result",
          "data": {
            "text/plain": [
              "OrderedDict([('linear.weight',\n",
              "              tensor([[ 0.0004, -0.0173,  0.0131,  ..., -0.0292,  0.0100, -0.0128],\n",
              "                      [ 0.0353,  0.0262, -0.0305,  ...,  0.0139, -0.0182,  0.0187],\n",
              "                      [-0.0085,  0.0061,  0.0324,  ...,  0.0214, -0.0172,  0.0124],\n",
              "                      ...,\n",
              "                      [-0.0201,  0.0256, -0.0053,  ..., -0.0017,  0.0090, -0.0131],\n",
              "                      [ 0.0140, -0.0317,  0.0133,  ..., -0.0068,  0.0255, -0.0355],\n",
              "                      [ 0.0093,  0.0079, -0.0155,  ..., -0.0193, -0.0300,  0.0002]],\n",
              "                     device='cuda:0')),\n",
              "             ('linear.bias',\n",
              "              tensor([-0.0135, -0.0009, -0.0089,  0.0223, -0.0335,  0.0278,  0.0286, -0.0337,\n",
              "                      -0.0200,  0.0205], device='cuda:0'))])"
            ]
          },
          "metadata": {},
          "execution_count": 19
        }
      ]
    },
    {
      "cell_type": "code",
      "source": [
        "list(model.parameters())"
      ],
      "metadata": {
        "colab": {
          "base_uri": "https://localhost:8080/"
        },
        "id": "oPFUpdR2vCG8",
        "outputId": "d76c2adc-5453-4ad3-e040-795f39cce63f"
      },
      "execution_count": null,
      "outputs": [
        {
          "output_type": "execute_result",
          "data": {
            "text/plain": [
              "[Parameter containing:\n",
              " tensor([[ 0.0004, -0.0173,  0.0131,  ..., -0.0292,  0.0100, -0.0128],\n",
              "         [ 0.0353,  0.0262, -0.0305,  ...,  0.0139, -0.0182,  0.0187],\n",
              "         [-0.0085,  0.0061,  0.0324,  ...,  0.0214, -0.0172,  0.0124],\n",
              "         ...,\n",
              "         [-0.0201,  0.0256, -0.0053,  ..., -0.0017,  0.0090, -0.0131],\n",
              "         [ 0.0140, -0.0317,  0.0133,  ..., -0.0068,  0.0255, -0.0355],\n",
              "         [ 0.0093,  0.0079, -0.0155,  ..., -0.0193, -0.0300,  0.0002]],\n",
              "        device='cuda:0', requires_grad=True),\n",
              " Parameter containing:\n",
              " tensor([-0.0135, -0.0009, -0.0089,  0.0223, -0.0335,  0.0278,  0.0286, -0.0337,\n",
              "         -0.0200,  0.0205], device='cuda:0', requires_grad=True)]"
            ]
          },
          "metadata": {},
          "execution_count": 20
        }
      ]
    },
    {
      "cell_type": "markdown",
      "source": [
        "###**4. Build a training loop**"
      ],
      "metadata": {
        "id": "PPnvta7mup4U"
      }
    },
    {
      "cell_type": "code",
      "source": [
        "epochs=6"
      ],
      "metadata": {
        "id": "T7WwOLK3uv2c"
      },
      "execution_count": null,
      "outputs": []
    },
    {
      "cell_type": "code",
      "source": [
        "#Shape of Image inputs and how it is changing\n",
        "# image [64,1,28,28] -> [64,784] using img.view(img.size(0),-1)\n",
        "# out [64,10] -> [64]  using _,pred = torch.max(out,1) so the pred size [64]\n",
        "# label [64]"
      ],
      "metadata": {
        "id": "vFtlG3gqzYDB"
      },
      "execution_count": null,
      "outputs": []
    },
    {
      "cell_type": "code",
      "source": [
        "for epoch in range(epochs):\n",
        "  print('*'*10)\n",
        "  print(f'Epoch:{epoch+1}')\n",
        "  since=time.time()\n",
        "  running_loss=0.0\n",
        "  running_acc=0.0\n",
        "  model.train()\n",
        "  for i , data in enumerate(train_batch_loader,1):\n",
        "    img,label=data\n",
        "    img=img.view(img.size(0),-1)\n",
        "    img=img.to(device)\n",
        "    label=label.to(device)\n",
        "    out=model(img)#Forward Pass\n",
        "    loss=criterion(out,label)\n",
        "    running_loss+=loss.item()\n",
        "    _,pred=torch.max(out,1)\n",
        "    running_acc+=(pred==label).float().mean()\n",
        "    optimizer.zero_grad()\n",
        "    loss.backward()#Backward loss\n",
        "    optimizer.step()\n",
        "    if i % 300 == 0:\n",
        "      print(f\"[{epoch+1}/{epochs}] loss:{running_loss/i:.6f},Accuracy:{running_acc/i:.6f}\")\n",
        "\n",
        "  print(f\"Epochs:{epoch+1},loss:{running_loss/i:.6f},Accuracy:{running_acc/i:.6f}\")\n",
        "\n",
        "  model.eval()\n",
        "  eval_loss=0.0\n",
        "  eval_acc=0.0\n",
        "  for data in test_batch_loader:\n",
        "    img,label=data\n",
        "    img=img.view(img.size(0),-1)\n",
        "    img=img.to(device)\n",
        "    label=label.to(device)\n",
        "    with torch.no_grad():\n",
        "      out=model(img)\n",
        "      loss=criterion(out,label)\n",
        "    eval_loss+=loss.item()\n",
        "    _,pred=torch.max(out,1)\n",
        "    eval_acc+=(pred==label).float().mean()\n",
        "\n",
        "  print(f\"test loss: {eval_loss/len(test_batch_loader):.6f} test Accuracy:{eval_acc/len(test_batch_loader):.6f}\")"
      ],
      "metadata": {
        "colab": {
          "base_uri": "https://localhost:8080/"
        },
        "id": "M7BCIl74uyoJ",
        "outputId": "bc8ff06e-f651-4a61-c22b-d7ed8d232f89"
      },
      "execution_count": null,
      "outputs": [
        {
          "output_type": "stream",
          "name": "stdout",
          "text": [
            "**********\n",
            "Epoch:1\n",
            "[1/6] loss:0.799571,Accuracy:0.749844\n",
            "[1/6] loss:0.794974,Accuracy:0.753594\n",
            "[1/6] loss:0.792010,Accuracy:0.753941\n",
            "Epochs:1,loss:0.790974,Accuracy:0.754414\n",
            "test loss: 0.792432 test Accuracy:0.742735\n",
            "**********\n",
            "Epoch:2\n",
            "[2/6] loss:0.774431,Accuracy:0.760260\n",
            "[2/6] loss:0.772465,Accuracy:0.758776\n",
            "[2/6] loss:0.766136,Accuracy:0.761354\n",
            "Epochs:2,loss:0.765598,Accuracy:0.761344\n",
            "test loss: 0.770007 test Accuracy:0.750498\n",
            "**********\n",
            "Epoch:3\n",
            "[3/6] loss:0.748728,Accuracy:0.764896\n",
            "[3/6] loss:0.749174,Accuracy:0.765208\n",
            "[3/6] loss:0.745605,Accuracy:0.766580\n",
            "Epochs:3,loss:0.744732,Accuracy:0.766625\n",
            "test loss: 0.751589 test Accuracy:0.757166\n",
            "**********\n",
            "Epoch:4\n",
            "[4/6] loss:0.729042,Accuracy:0.773542\n",
            "[4/6] loss:0.732451,Accuracy:0.771432\n",
            "[4/6] loss:0.727650,Accuracy:0.772969\n",
            "Epochs:4,loss:0.726909,Accuracy:0.773071\n",
            "test loss: 0.735600 test Accuracy:0.760947\n",
            "**********\n",
            "Epoch:5\n",
            "[5/6] loss:0.720598,Accuracy:0.775208\n",
            "[5/6] loss:0.715916,Accuracy:0.776224\n",
            "[5/6] loss:0.711930,Accuracy:0.777153\n",
            "Epochs:5,loss:0.711530,Accuracy:0.777452\n",
            "test loss: 0.721656 test Accuracy:0.765924\n",
            "**********\n",
            "Epoch:6\n",
            "[6/6] loss:0.699816,Accuracy:0.783333\n",
            "[6/6] loss:0.700018,Accuracy:0.780937\n",
            "[6/6] loss:0.698207,Accuracy:0.781788\n",
            "Epochs:6,loss:0.698167,Accuracy:0.781533\n",
            "test loss: 0.709354 test Accuracy:0.767615\n"
          ]
        }
      ]
    },
    {
      "cell_type": "markdown",
      "source": [
        "###**5. Evaluate Model**"
      ],
      "metadata": {
        "id": "bsOH4oHnz0LC"
      }
    },
    {
      "cell_type": "code",
      "source": [
        "test_dataset"
      ],
      "metadata": {
        "colab": {
          "base_uri": "https://localhost:8080/"
        },
        "id": "MyzxYGeO1hfl",
        "outputId": "30d975c8-20f0-4108-e7b8-5e19fcd32f9f"
      },
      "execution_count": null,
      "outputs": [
        {
          "output_type": "execute_result",
          "data": {
            "text/plain": [
              "Dataset FashionMNIST\n",
              "    Number of datapoints: 10000\n",
              "    Root location: ./dataset\n",
              "    Split: Test\n",
              "    StandardTransform\n",
              "Transform: ToTensor()"
            ]
          },
          "metadata": {},
          "execution_count": 24
        }
      ]
    },
    {
      "cell_type": "code",
      "source": [
        "len(test_batch_loader)"
      ],
      "metadata": {
        "colab": {
          "base_uri": "https://localhost:8080/"
        },
        "id": "TsYwZZ_C4NIg",
        "outputId": "43ab6410-7515-48ce-dc43-70327902016a"
      },
      "execution_count": null,
      "outputs": [
        {
          "output_type": "execute_result",
          "data": {
            "text/plain": [
              "157"
            ]
          },
          "metadata": {},
          "execution_count": 26
        }
      ]
    },
    {
      "cell_type": "code",
      "source": [
        "model.eval()\n",
        "eval_loss=0.0\n",
        "eval_acc=0.0\n",
        "for data in test_batch_loader:\n",
        "  img,label=data\n",
        "  img=img.view(img.size(0),-1)\n",
        "  img=img.to(device)\n",
        "  label=label.to(device)\n",
        "  with torch.no_grad():\n",
        "    out=model(img)\n",
        "    loss=criterion(out,label)\n",
        "  eval_loss+=loss.item()\n",
        "  _,pred=torch.max(out,1)\n",
        "  eval_acc+=(pred==label).float().mean()\n",
        "\n",
        "print(f\"test loss: {eval_loss/len(test_batch_loader):.6f} test Accuracy:{eval_acc/len(test_batch_loader):.6f}\")"
      ],
      "metadata": {
        "colab": {
          "base_uri": "https://localhost:8080/"
        },
        "id": "ITHd2oEm4PeX",
        "outputId": "4ca35051-5933-436b-9671-a98b5dd9c49e"
      },
      "execution_count": null,
      "outputs": [
        {
          "output_type": "stream",
          "name": "stdout",
          "text": [
            "test loss: 0.820248 test Accuracy:0.737062\n"
          ]
        }
      ]
    },
    {
      "cell_type": "markdown",
      "source": [
        "5.1 Visualize how model is doing"
      ],
      "metadata": {
        "id": "eF_e7E1463Qb"
      }
    },
    {
      "cell_type": "code",
      "source": [
        "images,labels=next(iter(test_batch_loader))\n",
        "images=images.reshape(-1,28*28).to(device)\n",
        "labels=labels.to(device)\n",
        "outputs=model(images)\n",
        "_,predicted=torch.max(outputs,1)\n",
        "fig,ax=plt.subplots(1,5,figsize=(15,3))\n",
        "for i in range(5):\n",
        "  ax[i].imshow(images[i].reshape(28,28).cpu(),cmap='gray')\n",
        "  ax[i].set_title(f\"True:{labels[i].item()},pred{predicted[i].item()}\")\n",
        "  ax[i].axis('off')"
      ],
      "metadata": {
        "colab": {
          "base_uri": "https://localhost:8080/"
        },
        "id": "LOe8BJap6QWG",
        "outputId": "6b01d36a-b369-45e5-8bbb-84e27beb509b"
      },
      "execution_count": null,
      "outputs": [
        {
          "output_type": "display_data",
          "data": {
            "text/plain": [
              "<Figure size 1500x300 with 5 Axes>"
            ],
            "image/png": "[encoded data removed]"
          },
          "metadata": {}
        }
      ]
    },
    {
      "cell_type": "markdown",
      "source": [
        "###**6. How to improve your model**"
      ],
      "metadata": {
        "id": "tUU-od-i8YMw"
      }
    },
    {
      "cell_type": "markdown",
      "source": [
        "change Learninhg rate<br>\n",
        "add layers <br>\n",
        "change activation function<br>"
      ],
      "metadata": {
        "id": "OHJKVkhM8e2Y"
      }
    },
    {
      "cell_type": "markdown",
      "source": [
        "###**7. Save the model**"
      ],
      "metadata": {
        "id": "KpeG8Wi-8r8e"
      }
    },
    {
      "cell_type": "code",
      "source": [
        "torch.save(model.state_dict(),'./LogisticRegression.pth')"
      ],
      "metadata": {
        "id": "ySjtX0mg8vfu"
      },
      "execution_count": null,
      "outputs": []
    },
    {
      "cell_type": "code",
      "source": [],
      "metadata": {
        "id": "syzWdZX287RN"
      },
      "execution_count": null,
      "outputs": []
    }
  ]
}